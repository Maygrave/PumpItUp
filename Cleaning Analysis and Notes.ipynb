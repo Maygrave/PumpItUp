{
 "cells": [
  {
   "cell_type": "markdown",
   "metadata": {
    "toc": true
   },
   "source": [
    "<h1>Table of Contents<span class=\"tocSkip\"></span></h1>\n",
    "<div class=\"toc\"><ul class=\"toc-item\"><li><span><a href=\"#Challenge-Explanation\" data-toc-modified-id=\"Challenge-Explanation-1\"><span class=\"toc-item-num\">1&nbsp;&nbsp;</span>Challenge Explanation</a></span></li><li><span><a href=\"#Data\" data-toc-modified-id=\"Data-2\"><span class=\"toc-item-num\">2&nbsp;&nbsp;</span>Data</a></span></li><li><span><a href=\"#Reviewing-Training-Labels\" data-toc-modified-id=\"Reviewing-Training-Labels-3\"><span class=\"toc-item-num\">3&nbsp;&nbsp;</span>Reviewing Training Labels</a></span></li><li><span><a href=\"#Reviewing-the-Training-Features\" data-toc-modified-id=\"Reviewing-the-Training-Features-4\"><span class=\"toc-item-num\">4&nbsp;&nbsp;</span>Reviewing the Training Features</a></span><ul class=\"toc-item\"><li><span><a href=\"#Reviewing-the-Numerical-Features\" data-toc-modified-id=\"Reviewing-the-Numerical-Features-4.1\"><span class=\"toc-item-num\">4.1&nbsp;&nbsp;</span>Reviewing the Numerical Features</a></span><ul class=\"toc-item\"><li><span><a href=\"#amount_tsh\" data-toc-modified-id=\"amount_tsh-4.1.1\"><span class=\"toc-item-num\">4.1.1&nbsp;&nbsp;</span>amount_tsh</a></span></li><li><span><a href=\"#gps_height\" data-toc-modified-id=\"gps_height-4.1.2\"><span class=\"toc-item-num\">4.1.2&nbsp;&nbsp;</span>gps_height</a></span></li><li><span><a href=\"#num_private\" data-toc-modified-id=\"num_private-4.1.3\"><span class=\"toc-item-num\">4.1.3&nbsp;&nbsp;</span>num_private</a></span></li><li><span><a href=\"#population\" data-toc-modified-id=\"population-4.1.4\"><span class=\"toc-item-num\">4.1.4&nbsp;&nbsp;</span>population</a></span></li><li><span><a href=\"#latitude-and-longitude\" data-toc-modified-id=\"latitude-and-longitude-4.1.5\"><span class=\"toc-item-num\">4.1.5&nbsp;&nbsp;</span>latitude and longitude</a></span></li><li><span><a href=\"#construction_year\" data-toc-modified-id=\"construction_year-4.1.6\"><span class=\"toc-item-num\">4.1.6&nbsp;&nbsp;</span>construction_year</a></span></li></ul></li><li><span><a href=\"#Reviewing-the-Categorical-Features\" data-toc-modified-id=\"Reviewing-the-Categorical-Features-4.2\"><span class=\"toc-item-num\">4.2&nbsp;&nbsp;</span>Reviewing the Categorical Features</a></span><ul class=\"toc-item\"><li><span><a href=\"#Individual-Categorical-Features\" data-toc-modified-id=\"Individual-Categorical-Features-4.2.1\"><span class=\"toc-item-num\">4.2.1&nbsp;&nbsp;</span>Individual Categorical Features</a></span></li><li><span><a href=\"#Location-Features\" data-toc-modified-id=\"Location-Features-4.2.2\"><span class=\"toc-item-num\">4.2.2&nbsp;&nbsp;</span>Location Features</a></span></li><li><span><a href=\"#Management-Features\" data-toc-modified-id=\"Management-Features-4.2.3\"><span class=\"toc-item-num\">4.2.3&nbsp;&nbsp;</span>Management Features</a></span></li><li><span><a href=\"#Extraction-Features\" data-toc-modified-id=\"Extraction-Features-4.2.4\"><span class=\"toc-item-num\">4.2.4&nbsp;&nbsp;</span>Extraction Features</a></span></li><li><span><a href=\"#Source-Features\" data-toc-modified-id=\"Source-Features-4.2.5\"><span class=\"toc-item-num\">4.2.5&nbsp;&nbsp;</span>Source Features</a></span></li><li><span><a href=\"#Payment-Features\" data-toc-modified-id=\"Payment-Features-4.2.6\"><span class=\"toc-item-num\">4.2.6&nbsp;&nbsp;</span>Payment Features</a></span></li><li><span><a href=\"#Quality-Features\" data-toc-modified-id=\"Quality-Features-4.2.7\"><span class=\"toc-item-num\">4.2.7&nbsp;&nbsp;</span>Quality Features</a></span></li><li><span><a href=\"#Quantity-Features\" data-toc-modified-id=\"Quantity-Features-4.2.8\"><span class=\"toc-item-num\">4.2.8&nbsp;&nbsp;</span>Quantity Features</a></span></li><li><span><a href=\"#Waterpoint-Type-Features\" data-toc-modified-id=\"Waterpoint-Type-Features-4.2.9\"><span class=\"toc-item-num\">4.2.9&nbsp;&nbsp;</span>Waterpoint Type Features</a></span></li></ul></li><li><span><a href=\"#Comments-on-Missing-Data-and-Handling\" data-toc-modified-id=\"Comments-on-Missing-Data-and-Handling-4.3\"><span class=\"toc-item-num\">4.3&nbsp;&nbsp;</span>Comments on Missing Data and Handling</a></span></li></ul></li><li><span><a href=\"#Reviewing-the-Testing-Set\" data-toc-modified-id=\"Reviewing-the-Testing-Set-5\"><span class=\"toc-item-num\">5&nbsp;&nbsp;</span>Reviewing the Testing Set</a></span></li><li><span><a href=\"#References\" data-toc-modified-id=\"References-6\"><span class=\"toc-item-num\">6&nbsp;&nbsp;</span>References</a></span></li></ul></div>"
   ]
  },
  {
   "cell_type": "markdown",
   "metadata": {},
   "source": [
    "# Pump It Up Challenge"
   ]
  },
  {
   "cell_type": "markdown",
   "metadata": {},
   "source": [
    "## Challenge Explanation"
   ]
  },
  {
   "cell_type": "markdown",
   "metadata": {},
   "source": []
  },
  {
   "cell_type": "markdown",
   "metadata": {},
   "source": [
    "## Data "
   ]
  },
  {
   "cell_type": "code",
   "execution_count": 1,
   "metadata": {},
   "outputs": [],
   "source": [
    "# %load ../Imports.py\n",
    "#Imports\n",
    "##General\n",
    "import pandas as pd\n",
    "import numpy as np\n",
    "\n",
    "##Visualizations\n",
    "import matplotlib.pyplot as plt\n",
    "import seaborn as sns\n",
    "%matplotlib inline\n",
    "\n",
    "#Default Settings\n",
    "sns.set(rc={'figure.figsize':(10,8)})\n",
    "sns.set_style(\"whitegrid\")\n",
    "plt.rcParams['figure.figsize'] = (10, 8)"
   ]
  },
  {
   "cell_type": "code",
   "execution_count": 2,
   "metadata": {},
   "outputs": [],
   "source": [
    "#Training Data\n",
    "X_train = pd.read_csv(\"Data/Raw/Train.csv\")\n",
    "y_train = pd.read_csv(\"Data/Raw/Train_Labels.csv\")\n",
    "merged_df = pd.merge(X_train, y_train, on = 'id')\n",
    "\n",
    "#Test Data\n",
    "X_test = pd.read_csv(\"Data/Raw/Test.csv\")"
   ]
  },
  {
   "cell_type": "markdown",
   "metadata": {},
   "source": [
    "## Reviewing Training Labels"
   ]
  },
  {
   "cell_type": "code",
   "execution_count": 3,
   "metadata": {},
   "outputs": [
    {
     "data": {
      "text/html": [
       "<div>\n",
       "<style scoped>\n",
       "    .dataframe tbody tr th:only-of-type {\n",
       "        vertical-align: middle;\n",
       "    }\n",
       "\n",
       "    .dataframe tbody tr th {\n",
       "        vertical-align: top;\n",
       "    }\n",
       "\n",
       "    .dataframe thead th {\n",
       "        text-align: right;\n",
       "    }\n",
       "</style>\n",
       "<table border=\"1\" class=\"dataframe\">\n",
       "  <thead>\n",
       "    <tr style=\"text-align: right;\">\n",
       "      <th></th>\n",
       "      <th>id</th>\n",
       "      <th>status_group</th>\n",
       "    </tr>\n",
       "  </thead>\n",
       "  <tbody>\n",
       "    <tr>\n",
       "      <th>0</th>\n",
       "      <td>69572</td>\n",
       "      <td>functional</td>\n",
       "    </tr>\n",
       "    <tr>\n",
       "      <th>1</th>\n",
       "      <td>8776</td>\n",
       "      <td>functional</td>\n",
       "    </tr>\n",
       "    <tr>\n",
       "      <th>2</th>\n",
       "      <td>34310</td>\n",
       "      <td>functional</td>\n",
       "    </tr>\n",
       "    <tr>\n",
       "      <th>3</th>\n",
       "      <td>67743</td>\n",
       "      <td>non functional</td>\n",
       "    </tr>\n",
       "    <tr>\n",
       "      <th>4</th>\n",
       "      <td>19728</td>\n",
       "      <td>functional</td>\n",
       "    </tr>\n",
       "  </tbody>\n",
       "</table>\n",
       "</div>"
      ],
      "text/plain": [
       "      id    status_group\n",
       "0  69572      functional\n",
       "1   8776      functional\n",
       "2  34310      functional\n",
       "3  67743  non functional\n",
       "4  19728      functional"
      ]
     },
     "execution_count": 3,
     "metadata": {},
     "output_type": "execute_result"
    }
   ],
   "source": [
    "y_train.head()"
   ]
  },
  {
   "cell_type": "code",
   "execution_count": 4,
   "metadata": {},
   "outputs": [
    {
     "data": {
      "text/plain": [
       "id              0\n",
       "status_group    0\n",
       "dtype: int64"
      ]
     },
     "execution_count": 4,
     "metadata": {},
     "output_type": "execute_result"
    }
   ],
   "source": [
    "y_train.isna().sum()"
   ]
  },
  {
   "cell_type": "code",
   "execution_count": 5,
   "metadata": {},
   "outputs": [
    {
     "name": "stdout",
     "output_type": "stream",
     "text": [
      "54.3080808080808% of the labels are functional.\n"
     ]
    }
   ],
   "source": [
    "txt = '{percent}% of the labels are functional.'\n",
    "percent = sum(y_train['status_group'] == 'functional')/y_train.shape[0]*100\n",
    "print(txt.format(percent = percent))"
   ]
  },
  {
   "cell_type": "code",
   "execution_count": 6,
   "metadata": {},
   "outputs": [
    {
     "name": "stdout",
     "output_type": "stream",
     "text": [
      " 38.42% of the labels are non-functional.\n"
     ]
    }
   ],
   "source": [
    "txt = '{percent: .2f}% of the labels are non-functional.'\n",
    "percent = sum(y_train['status_group'] == 'non functional')/y_train.shape[0]*100\n",
    "print(txt.format(percent = percent))"
   ]
  },
  {
   "cell_type": "code",
   "execution_count": 7,
   "metadata": {},
   "outputs": [
    {
     "name": "stdout",
     "output_type": "stream",
     "text": [
      " 7.27% of the labels are functional, but in need of repair.\n"
     ]
    }
   ],
   "source": [
    "txt = '{percent: .2f}% of the labels are functional, but in need of repair.'\n",
    "percent = sum(y_train['status_group'] == 'functional needs repair')/y_train.shape[0]*100\n",
    "print(txt.format(percent = percent))"
   ]
  },
  {
   "cell_type": "code",
   "execution_count": 106,
   "metadata": {},
   "outputs": [
    {
     "data": {
      "image/png": "[encoded data removed]",
      "text/plain": [
       "<Figure size 720x360 with 1 Axes>"
      ]
     },
     "metadata": {
      "needs_background": "light"
     },
     "output_type": "display_data"
    }
   ],
   "source": [
    "sns.catplot(x = 'status_group', kind = 'count', data = y_train, aspect = 2)\n",
    "plt.title(\"Count Plot of the Target Labels\")\n",
    "plt.ylabel(\"Number of Records\")\n",
    "plt.xlabel(\"Functionality of the Well\")\n",
    "plt.savefig(\"Images/CountPlotTargetLabels.png\")"
   ]
  },
  {
   "cell_type": "markdown",
   "metadata": {},
   "source": [
    "## Reviewing the Training Features"
   ]
  },
  {
   "cell_type": "code",
   "execution_count": 9,
   "metadata": {},
   "outputs": [
    {
     "data": {
      "text/plain": [
       "(59400, 40)"
      ]
     },
     "execution_count": 9,
     "metadata": {},
     "output_type": "execute_result"
    }
   ],
   "source": [
    "X_train.shape"
   ]
  },
  {
   "cell_type": "code",
   "execution_count": 10,
   "metadata": {
    "scrolled": false
   },
   "outputs": [
    {
     "data": {
      "text/html": [
       "<div>\n",
       "<style scoped>\n",
       "    .dataframe tbody tr th:only-of-type {\n",
       "        vertical-align: middle;\n",
       "    }\n",
       "\n",
       "    .dataframe tbody tr th {\n",
       "        vertical-align: top;\n",
       "    }\n",
       "\n",
       "    .dataframe thead th {\n",
       "        text-align: right;\n",
       "    }\n",
       "</style>\n",
       "<table border=\"1\" class=\"dataframe\">\n",
       "  <thead>\n",
       "    <tr style=\"text-align: right;\">\n",
       "      <th></th>\n",
       "      <th>id</th>\n",
       "      <th>amount_tsh</th>\n",
       "      <th>date_recorded</th>\n",
       "      <th>funder</th>\n",
       "      <th>gps_height</th>\n",
       "      <th>installer</th>\n",
       "      <th>longitude</th>\n",
       "      <th>latitude</th>\n",
       "      <th>wpt_name</th>\n",
       "      <th>num_private</th>\n",
       "      <th>basin</th>\n",
       "      <th>subvillage</th>\n",
       "      <th>region</th>\n",
       "      <th>region_code</th>\n",
       "      <th>district_code</th>\n",
       "      <th>lga</th>\n",
       "      <th>ward</th>\n",
       "      <th>population</th>\n",
       "      <th>public_meeting</th>\n",
       "      <th>recorded_by</th>\n",
       "      <th>scheme_management</th>\n",
       "      <th>scheme_name</th>\n",
       "      <th>permit</th>\n",
       "      <th>construction_year</th>\n",
       "      <th>extraction_type</th>\n",
       "      <th>extraction_type_group</th>\n",
       "      <th>extraction_type_class</th>\n",
       "      <th>management</th>\n",
       "      <th>management_group</th>\n",
       "      <th>payment</th>\n",
       "      <th>payment_type</th>\n",
       "      <th>water_quality</th>\n",
       "      <th>quality_group</th>\n",
       "      <th>quantity</th>\n",
       "      <th>quantity_group</th>\n",
       "      <th>source</th>\n",
       "      <th>source_type</th>\n",
       "      <th>source_class</th>\n",
       "      <th>waterpoint_type</th>\n",
       "      <th>waterpoint_type_group</th>\n",
       "    </tr>\n",
       "  </thead>\n",
       "  <tbody>\n",
       "    <tr>\n",
       "      <th>0</th>\n",
       "      <td>69572</td>\n",
       "      <td>6000.0</td>\n",
       "      <td>2011-03-14</td>\n",
       "      <td>Roman</td>\n",
       "      <td>1390</td>\n",
       "      <td>Roman</td>\n",
       "      <td>34.938093</td>\n",
       "      <td>-9.856322</td>\n",
       "      <td>none</td>\n",
       "      <td>0</td>\n",
       "      <td>Lake Nyasa</td>\n",
       "      <td>Mnyusi B</td>\n",
       "      <td>Iringa</td>\n",
       "      <td>11</td>\n",
       "      <td>5</td>\n",
       "      <td>Ludewa</td>\n",
       "      <td>Mundindi</td>\n",
       "      <td>109</td>\n",
       "      <td>True</td>\n",
       "      <td>GeoData Consultants Ltd</td>\n",
       "      <td>VWC</td>\n",
       "      <td>Roman</td>\n",
       "      <td>False</td>\n",
       "      <td>1999</td>\n",
       "      <td>gravity</td>\n",
       "      <td>gravity</td>\n",
       "      <td>gravity</td>\n",
       "      <td>vwc</td>\n",
       "      <td>user-group</td>\n",
       "      <td>pay annually</td>\n",
       "      <td>annually</td>\n",
       "      <td>soft</td>\n",
       "      <td>good</td>\n",
       "      <td>enough</td>\n",
       "      <td>enough</td>\n",
       "      <td>spring</td>\n",
       "      <td>spring</td>\n",
       "      <td>groundwater</td>\n",
       "      <td>communal standpipe</td>\n",
       "      <td>communal standpipe</td>\n",
       "    </tr>\n",
       "    <tr>\n",
       "      <th>1</th>\n",
       "      <td>8776</td>\n",
       "      <td>0.0</td>\n",
       "      <td>2013-03-06</td>\n",
       "      <td>Grumeti</td>\n",
       "      <td>1399</td>\n",
       "      <td>GRUMETI</td>\n",
       "      <td>34.698766</td>\n",
       "      <td>-2.147466</td>\n",
       "      <td>Zahanati</td>\n",
       "      <td>0</td>\n",
       "      <td>Lake Victoria</td>\n",
       "      <td>Nyamara</td>\n",
       "      <td>Mara</td>\n",
       "      <td>20</td>\n",
       "      <td>2</td>\n",
       "      <td>Serengeti</td>\n",
       "      <td>Natta</td>\n",
       "      <td>280</td>\n",
       "      <td>NaN</td>\n",
       "      <td>GeoData Consultants Ltd</td>\n",
       "      <td>Other</td>\n",
       "      <td>NaN</td>\n",
       "      <td>True</td>\n",
       "      <td>2010</td>\n",
       "      <td>gravity</td>\n",
       "      <td>gravity</td>\n",
       "      <td>gravity</td>\n",
       "      <td>wug</td>\n",
       "      <td>user-group</td>\n",
       "      <td>never pay</td>\n",
       "      <td>never pay</td>\n",
       "      <td>soft</td>\n",
       "      <td>good</td>\n",
       "      <td>insufficient</td>\n",
       "      <td>insufficient</td>\n",
       "      <td>rainwater harvesting</td>\n",
       "      <td>rainwater harvesting</td>\n",
       "      <td>surface</td>\n",
       "      <td>communal standpipe</td>\n",
       "      <td>communal standpipe</td>\n",
       "    </tr>\n",
       "    <tr>\n",
       "      <th>2</th>\n",
       "      <td>34310</td>\n",
       "      <td>25.0</td>\n",
       "      <td>2013-02-25</td>\n",
       "      <td>Lottery Club</td>\n",
       "      <td>686</td>\n",
       "      <td>World vision</td>\n",
       "      <td>37.460664</td>\n",
       "      <td>-3.821329</td>\n",
       "      <td>Kwa Mahundi</td>\n",
       "      <td>0</td>\n",
       "      <td>Pangani</td>\n",
       "      <td>Majengo</td>\n",
       "      <td>Manyara</td>\n",
       "      <td>21</td>\n",
       "      <td>4</td>\n",
       "      <td>Simanjiro</td>\n",
       "      <td>Ngorika</td>\n",
       "      <td>250</td>\n",
       "      <td>True</td>\n",
       "      <td>GeoData Consultants Ltd</td>\n",
       "      <td>VWC</td>\n",
       "      <td>Nyumba ya mungu pipe scheme</td>\n",
       "      <td>True</td>\n",
       "      <td>2009</td>\n",
       "      <td>gravity</td>\n",
       "      <td>gravity</td>\n",
       "      <td>gravity</td>\n",
       "      <td>vwc</td>\n",
       "      <td>user-group</td>\n",
       "      <td>pay per bucket</td>\n",
       "      <td>per bucket</td>\n",
       "      <td>soft</td>\n",
       "      <td>good</td>\n",
       "      <td>enough</td>\n",
       "      <td>enough</td>\n",
       "      <td>dam</td>\n",
       "      <td>dam</td>\n",
       "      <td>surface</td>\n",
       "      <td>communal standpipe multiple</td>\n",
       "      <td>communal standpipe</td>\n",
       "    </tr>\n",
       "    <tr>\n",
       "      <th>3</th>\n",
       "      <td>67743</td>\n",
       "      <td>0.0</td>\n",
       "      <td>2013-01-28</td>\n",
       "      <td>Unicef</td>\n",
       "      <td>263</td>\n",
       "      <td>UNICEF</td>\n",
       "      <td>38.486161</td>\n",
       "      <td>-11.155298</td>\n",
       "      <td>Zahanati Ya Nanyumbu</td>\n",
       "      <td>0</td>\n",
       "      <td>Ruvuma / Southern Coast</td>\n",
       "      <td>Mahakamani</td>\n",
       "      <td>Mtwara</td>\n",
       "      <td>90</td>\n",
       "      <td>63</td>\n",
       "      <td>Nanyumbu</td>\n",
       "      <td>Nanyumbu</td>\n",
       "      <td>58</td>\n",
       "      <td>True</td>\n",
       "      <td>GeoData Consultants Ltd</td>\n",
       "      <td>VWC</td>\n",
       "      <td>NaN</td>\n",
       "      <td>True</td>\n",
       "      <td>1986</td>\n",
       "      <td>submersible</td>\n",
       "      <td>submersible</td>\n",
       "      <td>submersible</td>\n",
       "      <td>vwc</td>\n",
       "      <td>user-group</td>\n",
       "      <td>never pay</td>\n",
       "      <td>never pay</td>\n",
       "      <td>soft</td>\n",
       "      <td>good</td>\n",
       "      <td>dry</td>\n",
       "      <td>dry</td>\n",
       "      <td>machine dbh</td>\n",
       "      <td>borehole</td>\n",
       "      <td>groundwater</td>\n",
       "      <td>communal standpipe multiple</td>\n",
       "      <td>communal standpipe</td>\n",
       "    </tr>\n",
       "    <tr>\n",
       "      <th>4</th>\n",
       "      <td>19728</td>\n",
       "      <td>0.0</td>\n",
       "      <td>2011-07-13</td>\n",
       "      <td>Action In A</td>\n",
       "      <td>0</td>\n",
       "      <td>Artisan</td>\n",
       "      <td>31.130847</td>\n",
       "      <td>-1.825359</td>\n",
       "      <td>Shuleni</td>\n",
       "      <td>0</td>\n",
       "      <td>Lake Victoria</td>\n",
       "      <td>Kyanyamisa</td>\n",
       "      <td>Kagera</td>\n",
       "      <td>18</td>\n",
       "      <td>1</td>\n",
       "      <td>Karagwe</td>\n",
       "      <td>Nyakasimbi</td>\n",
       "      <td>0</td>\n",
       "      <td>True</td>\n",
       "      <td>GeoData Consultants Ltd</td>\n",
       "      <td>NaN</td>\n",
       "      <td>NaN</td>\n",
       "      <td>True</td>\n",
       "      <td>0</td>\n",
       "      <td>gravity</td>\n",
       "      <td>gravity</td>\n",
       "      <td>gravity</td>\n",
       "      <td>other</td>\n",
       "      <td>other</td>\n",
       "      <td>never pay</td>\n",
       "      <td>never pay</td>\n",
       "      <td>soft</td>\n",
       "      <td>good</td>\n",
       "      <td>seasonal</td>\n",
       "      <td>seasonal</td>\n",
       "      <td>rainwater harvesting</td>\n",
       "      <td>rainwater harvesting</td>\n",
       "      <td>surface</td>\n",
       "      <td>communal standpipe</td>\n",
       "      <td>communal standpipe</td>\n",
       "    </tr>\n",
       "  </tbody>\n",
       "</table>\n",
       "</div>"
      ],
      "text/plain": [
       "      id  amount_tsh date_recorded        funder  gps_height     installer  \\\n",
       "0  69572      6000.0    2011-03-14         Roman        1390         Roman   \n",
       "1   8776         0.0    2013-03-06       Grumeti        1399       GRUMETI   \n",
       "2  34310        25.0    2013-02-25  Lottery Club         686  World vision   \n",
       "3  67743         0.0    2013-01-28        Unicef         263        UNICEF   \n",
       "4  19728         0.0    2011-07-13   Action In A           0       Artisan   \n",
       "\n",
       "   longitude   latitude              wpt_name  num_private  \\\n",
       "0  34.938093  -9.856322                  none            0   \n",
       "1  34.698766  -2.147466              Zahanati            0   \n",
       "2  37.460664  -3.821329           Kwa Mahundi            0   \n",
       "3  38.486161 -11.155298  Zahanati Ya Nanyumbu            0   \n",
       "4  31.130847  -1.825359               Shuleni            0   \n",
       "\n",
       "                     basin  subvillage   region  region_code  district_code  \\\n",
       "0               Lake Nyasa    Mnyusi B   Iringa           11              5   \n",
       "1            Lake Victoria     Nyamara     Mara           20              2   \n",
       "2                  Pangani     Majengo  Manyara           21              4   \n",
       "3  Ruvuma / Southern Coast  Mahakamani   Mtwara           90             63   \n",
       "4            Lake Victoria  Kyanyamisa   Kagera           18              1   \n",
       "\n",
       "         lga        ward  population public_meeting              recorded_by  \\\n",
       "0     Ludewa    Mundindi         109           True  GeoData Consultants Ltd   \n",
       "1  Serengeti       Natta         280            NaN  GeoData Consultants Ltd   \n",
       "2  Simanjiro     Ngorika         250           True  GeoData Consultants Ltd   \n",
       "3   Nanyumbu    Nanyumbu          58           True  GeoData Consultants Ltd   \n",
       "4    Karagwe  Nyakasimbi           0           True  GeoData Consultants Ltd   \n",
       "\n",
       "  scheme_management                  scheme_name permit  construction_year  \\\n",
       "0               VWC                        Roman  False               1999   \n",
       "1             Other                          NaN   True               2010   \n",
       "2               VWC  Nyumba ya mungu pipe scheme   True               2009   \n",
       "3               VWC                          NaN   True               1986   \n",
       "4               NaN                          NaN   True                  0   \n",
       "\n",
       "  extraction_type extraction_type_group extraction_type_class management  \\\n",
       "0         gravity               gravity               gravity        vwc   \n",
       "1         gravity               gravity               gravity        wug   \n",
       "2         gravity               gravity               gravity        vwc   \n",
       "3     submersible           submersible           submersible        vwc   \n",
       "4         gravity               gravity               gravity      other   \n",
       "\n",
       "  management_group         payment payment_type water_quality quality_group  \\\n",
       "0       user-group    pay annually     annually          soft          good   \n",
       "1       user-group       never pay    never pay          soft          good   \n",
       "2       user-group  pay per bucket   per bucket          soft          good   \n",
       "3       user-group       never pay    never pay          soft          good   \n",
       "4            other       never pay    never pay          soft          good   \n",
       "\n",
       "       quantity quantity_group                source           source_type  \\\n",
       "0        enough         enough                spring                spring   \n",
       "1  insufficient   insufficient  rainwater harvesting  rainwater harvesting   \n",
       "2        enough         enough                   dam                   dam   \n",
       "3           dry            dry           machine dbh              borehole   \n",
       "4      seasonal       seasonal  rainwater harvesting  rainwater harvesting   \n",
       "\n",
       "  source_class              waterpoint_type waterpoint_type_group  \n",
       "0  groundwater           communal standpipe    communal standpipe  \n",
       "1      surface           communal standpipe    communal standpipe  \n",
       "2      surface  communal standpipe multiple    communal standpipe  \n",
       "3  groundwater  communal standpipe multiple    communal standpipe  \n",
       "4      surface           communal standpipe    communal standpipe  "
      ]
     },
     "execution_count": 10,
     "metadata": {},
     "output_type": "execute_result"
    }
   ],
   "source": [
    "pd.set_option('display.max_columns', 40)\n",
    "X_train.head()"
   ]
  },
  {
   "cell_type": "code",
   "execution_count": 11,
   "metadata": {},
   "outputs": [],
   "source": [
    "#X_train.dtypes"
   ]
  },
  {
   "cell_type": "markdown",
   "metadata": {},
   "source": [
    "**Date_recorded**"
   ]
  },
  {
   "cell_type": "markdown",
   "metadata": {},
   "source": [
    "The `date_recorded` feature was parsed as an object, so I'll convert this to `datetime` below, and review the dates."
   ]
  },
  {
   "cell_type": "code",
   "execution_count": 12,
   "metadata": {},
   "outputs": [],
   "source": [
    "X_train.date_recorded = pd.to_datetime(X_train.date_recorded)"
   ]
  },
  {
   "cell_type": "code",
   "execution_count": 13,
   "metadata": {
    "scrolled": true
   },
   "outputs": [
    {
     "data": {
      "text/plain": [
       "count                   59400\n",
       "unique                    356\n",
       "top       2011-03-15 00:00:00\n",
       "freq                      572\n",
       "first     2002-10-14 00:00:00\n",
       "last      2013-12-03 00:00:00\n",
       "Name: date_recorded, dtype: object"
      ]
     },
     "execution_count": 13,
     "metadata": {},
     "output_type": "execute_result"
    }
   ],
   "source": [
    "X_train.date_recorded.describe()"
   ]
  },
  {
   "cell_type": "markdown",
   "metadata": {},
   "source": [
    "**Missing Values**"
   ]
  },
  {
   "cell_type": "markdown",
   "metadata": {},
   "source": [
    "In reviewing the number of missing records below, it is clear that the only features given a specific NaN value are the categorical features. All numerical features have simply been given the 0 value to mark any missing information."
   ]
  },
  {
   "cell_type": "code",
   "execution_count": 14,
   "metadata": {
    "cell_style": "center",
    "scrolled": false
   },
   "outputs": [
    {
     "data": {
      "text/plain": [
       "id                           0\n",
       "amount_tsh                   0\n",
       "date_recorded                0\n",
       "funder                    3635\n",
       "gps_height                   0\n",
       "installer                 3655\n",
       "longitude                    0\n",
       "latitude                     0\n",
       "wpt_name                     0\n",
       "num_private                  0\n",
       "basin                        0\n",
       "subvillage                 371\n",
       "region                       0\n",
       "region_code                  0\n",
       "district_code                0\n",
       "lga                          0\n",
       "ward                         0\n",
       "population                   0\n",
       "public_meeting            3334\n",
       "recorded_by                  0\n",
       "scheme_management         3877\n",
       "scheme_name              28166\n",
       "permit                    3056\n",
       "construction_year            0\n",
       "extraction_type              0\n",
       "extraction_type_group        0\n",
       "extraction_type_class        0\n",
       "management                   0\n",
       "management_group             0\n",
       "payment                      0\n",
       "payment_type                 0\n",
       "water_quality                0\n",
       "quality_group                0\n",
       "quantity                     0\n",
       "quantity_group               0\n",
       "source                       0\n",
       "source_type                  0\n",
       "source_class                 0\n",
       "waterpoint_type              0\n",
       "waterpoint_type_group        0\n",
       "dtype: int64"
      ]
     },
     "execution_count": 14,
     "metadata": {},
     "output_type": "execute_result"
    }
   ],
   "source": [
    "X_train.isna().sum()"
   ]
  },
  {
   "cell_type": "markdown",
   "metadata": {},
   "source": [
    "With regard to the categorical features, `scheme_name` is almost 50% missing, by far the greatest percentage in the categorical features. Since `scheme_name` refers to the specific name of who manages the maintenance of the well, this will be notably difficult to fill. Tanzania is highly decentralized when it comes to their water management, so even within highly granular locations, the differences in the scheme name can be unpredictable."
   ]
  },
  {
   "cell_type": "code",
   "execution_count": 113,
   "metadata": {
    "cell_style": "center",
    "scrolled": false
   },
   "outputs": [
    {
     "data": {
      "image/png": "[encoded data removed]",
      "text/plain": [
       "<Figure size 720x576 with 2 Axes>"
      ]
     },
     "metadata": {
      "needs_background": "light"
     },
     "output_type": "display_data"
    }
   ],
   "source": [
    "plt.figure(figsize=(10,8))\n",
    "sns.heatmap(X_train.isna(), cmap = 'magma_r')\n",
    "plt.title(\"Heatmap of Missing Categorical Values in the Training Set\")\n",
    "plt.savefig(\"Images/CategoricalMissings_Heatmap.png\")"
   ]
  },
  {
   "cell_type": "markdown",
   "metadata": {},
   "source": [
    "### Reviewing the Numerical Features"
   ]
  },
  {
   "cell_type": "code",
   "execution_count": 16,
   "metadata": {
    "cell_style": "center"
   },
   "outputs": [],
   "source": [
    "#Creating lists of the categorical and numerical features\n",
    "train_num = []\n",
    "train_cat = []\n",
    "for feat in X_train.dtypes.index:\n",
    "    if X_train[feat].dtype == \"int64\" or X_train[feat].dtype == \"float64\":\n",
    "        train_num.append(feat)\n",
    "    elif X_train[feat].dtype == \"object\":\n",
    "        train_cat.append(feat)"
   ]
  },
  {
   "cell_type": "code",
   "execution_count": 17,
   "metadata": {
    "scrolled": false
   },
   "outputs": [
    {
     "data": {
      "text/html": [
       "<div>\n",
       "<style scoped>\n",
       "    .dataframe tbody tr th:only-of-type {\n",
       "        vertical-align: middle;\n",
       "    }\n",
       "\n",
       "    .dataframe tbody tr th {\n",
       "        vertical-align: top;\n",
       "    }\n",
       "\n",
       "    .dataframe thead th {\n",
       "        text-align: right;\n",
       "    }\n",
       "</style>\n",
       "<table border=\"1\" class=\"dataframe\">\n",
       "  <thead>\n",
       "    <tr style=\"text-align: right;\">\n",
       "      <th></th>\n",
       "      <th>id</th>\n",
       "      <th>amount_tsh</th>\n",
       "      <th>gps_height</th>\n",
       "      <th>longitude</th>\n",
       "      <th>latitude</th>\n",
       "      <th>num_private</th>\n",
       "      <th>region_code</th>\n",
       "      <th>district_code</th>\n",
       "      <th>population</th>\n",
       "      <th>construction_year</th>\n",
       "    </tr>\n",
       "  </thead>\n",
       "  <tbody>\n",
       "    <tr>\n",
       "      <th>count</th>\n",
       "      <td>59400.000000</td>\n",
       "      <td>59400.000000</td>\n",
       "      <td>59400.000000</td>\n",
       "      <td>59400.000000</td>\n",
       "      <td>5.940000e+04</td>\n",
       "      <td>59400.000000</td>\n",
       "      <td>59400.000000</td>\n",
       "      <td>59400.000000</td>\n",
       "      <td>59400.000000</td>\n",
       "      <td>59400.000000</td>\n",
       "    </tr>\n",
       "    <tr>\n",
       "      <th>mean</th>\n",
       "      <td>37115.131768</td>\n",
       "      <td>317.650385</td>\n",
       "      <td>668.297239</td>\n",
       "      <td>34.077427</td>\n",
       "      <td>-5.706033e+00</td>\n",
       "      <td>0.474141</td>\n",
       "      <td>15.297003</td>\n",
       "      <td>5.629747</td>\n",
       "      <td>179.909983</td>\n",
       "      <td>1300.652475</td>\n",
       "    </tr>\n",
       "    <tr>\n",
       "      <th>std</th>\n",
       "      <td>21453.128371</td>\n",
       "      <td>2997.574558</td>\n",
       "      <td>693.116350</td>\n",
       "      <td>6.567432</td>\n",
       "      <td>2.946019e+00</td>\n",
       "      <td>12.236230</td>\n",
       "      <td>17.587406</td>\n",
       "      <td>9.633649</td>\n",
       "      <td>471.482176</td>\n",
       "      <td>951.620547</td>\n",
       "    </tr>\n",
       "    <tr>\n",
       "      <th>min</th>\n",
       "      <td>0.000000</td>\n",
       "      <td>0.000000</td>\n",
       "      <td>-90.000000</td>\n",
       "      <td>0.000000</td>\n",
       "      <td>-1.164944e+01</td>\n",
       "      <td>0.000000</td>\n",
       "      <td>1.000000</td>\n",
       "      <td>0.000000</td>\n",
       "      <td>0.000000</td>\n",
       "      <td>0.000000</td>\n",
       "    </tr>\n",
       "    <tr>\n",
       "      <th>25%</th>\n",
       "      <td>18519.750000</td>\n",
       "      <td>0.000000</td>\n",
       "      <td>0.000000</td>\n",
       "      <td>33.090347</td>\n",
       "      <td>-8.540621e+00</td>\n",
       "      <td>0.000000</td>\n",
       "      <td>5.000000</td>\n",
       "      <td>2.000000</td>\n",
       "      <td>0.000000</td>\n",
       "      <td>0.000000</td>\n",
       "    </tr>\n",
       "    <tr>\n",
       "      <th>50%</th>\n",
       "      <td>37061.500000</td>\n",
       "      <td>0.000000</td>\n",
       "      <td>369.000000</td>\n",
       "      <td>34.908743</td>\n",
       "      <td>-5.021597e+00</td>\n",
       "      <td>0.000000</td>\n",
       "      <td>12.000000</td>\n",
       "      <td>3.000000</td>\n",
       "      <td>25.000000</td>\n",
       "      <td>1986.000000</td>\n",
       "    </tr>\n",
       "    <tr>\n",
       "      <th>75%</th>\n",
       "      <td>55656.500000</td>\n",
       "      <td>20.000000</td>\n",
       "      <td>1319.250000</td>\n",
       "      <td>37.178387</td>\n",
       "      <td>-3.326156e+00</td>\n",
       "      <td>0.000000</td>\n",
       "      <td>17.000000</td>\n",
       "      <td>5.000000</td>\n",
       "      <td>215.000000</td>\n",
       "      <td>2004.000000</td>\n",
       "    </tr>\n",
       "    <tr>\n",
       "      <th>max</th>\n",
       "      <td>74247.000000</td>\n",
       "      <td>350000.000000</td>\n",
       "      <td>2770.000000</td>\n",
       "      <td>40.345193</td>\n",
       "      <td>-2.000000e-08</td>\n",
       "      <td>1776.000000</td>\n",
       "      <td>99.000000</td>\n",
       "      <td>80.000000</td>\n",
       "      <td>30500.000000</td>\n",
       "      <td>2013.000000</td>\n",
       "    </tr>\n",
       "  </tbody>\n",
       "</table>\n",
       "</div>"
      ],
      "text/plain": [
       "                 id     amount_tsh    gps_height     longitude      latitude  \\\n",
       "count  59400.000000   59400.000000  59400.000000  59400.000000  5.940000e+04   \n",
       "mean   37115.131768     317.650385    668.297239     34.077427 -5.706033e+00   \n",
       "std    21453.128371    2997.574558    693.116350      6.567432  2.946019e+00   \n",
       "min        0.000000       0.000000    -90.000000      0.000000 -1.164944e+01   \n",
       "25%    18519.750000       0.000000      0.000000     33.090347 -8.540621e+00   \n",
       "50%    37061.500000       0.000000    369.000000     34.908743 -5.021597e+00   \n",
       "75%    55656.500000      20.000000   1319.250000     37.178387 -3.326156e+00   \n",
       "max    74247.000000  350000.000000   2770.000000     40.345193 -2.000000e-08   \n",
       "\n",
       "        num_private   region_code  district_code    population  \\\n",
       "count  59400.000000  59400.000000   59400.000000  59400.000000   \n",
       "mean       0.474141     15.297003       5.629747    179.909983   \n",
       "std       12.236230     17.587406       9.633649    471.482176   \n",
       "min        0.000000      1.000000       0.000000      0.000000   \n",
       "25%        0.000000      5.000000       2.000000      0.000000   \n",
       "50%        0.000000     12.000000       3.000000     25.000000   \n",
       "75%        0.000000     17.000000       5.000000    215.000000   \n",
       "max     1776.000000     99.000000      80.000000  30500.000000   \n",
       "\n",
       "       construction_year  \n",
       "count       59400.000000  \n",
       "mean         1300.652475  \n",
       "std           951.620547  \n",
       "min             0.000000  \n",
       "25%             0.000000  \n",
       "50%          1986.000000  \n",
       "75%          2004.000000  \n",
       "max          2013.000000  "
      ]
     },
     "execution_count": 17,
     "metadata": {},
     "output_type": "execute_result"
    }
   ],
   "source": [
    "X_train[train_num].describe()"
   ]
  },
  {
   "cell_type": "markdown",
   "metadata": {},
   "source": [
    "There are a couple of variables in the \"numeric\" set which are clearly coded categorical variables. These are,\n",
    "+ region_code\n",
    "+ district_code\n",
    "\n",
    "For the variables that are truly numeric, 0 has been used for the missing value flag. It is also highly likely that multiple of these features take on 0 as a valid observation. When I move on to data imputation, I'll most likely fill all missing values as if they are flags."
   ]
  },
  {
   "cell_type": "markdown",
   "metadata": {
    "heading_collapsed": true
   },
   "source": [
    "#### amount_tsh\n",
    "This feature refers to the amount of water available to the well."
   ]
  },
  {
   "cell_type": "markdown",
   "metadata": {
    "hidden": true
   },
   "source": [
    "Lets begin by reviewing the potential missing values in the data set, then we can more closely examine the relationship this feature has with the target, and perhaps other features as well. This will be the methodology for all feature review."
   ]
  },
  {
   "cell_type": "code",
   "execution_count": 18,
   "metadata": {
    "hidden": true
   },
   "outputs": [
    {
     "data": {
      "text/plain": [
       "41639"
      ]
     },
     "execution_count": 18,
     "metadata": {},
     "output_type": "execute_result"
    }
   ],
   "source": [
    "sum(X_train['amount_tsh'] == 0)"
   ]
  },
  {
   "cell_type": "code",
   "execution_count": 19,
   "metadata": {
    "hidden": true
   },
   "outputs": [
    {
     "name": "stdout",
     "output_type": "stream",
     "text": [
      " 70.10% of the 'amount_tsh' observations are missing or 0.\n"
     ]
    }
   ],
   "source": [
    "txt = \"{percent: .2f}% of the 'amount_tsh' observations are missing or 0.\"\n",
    "percent = sum(X_train['amount_tsh'] == 0)/X_train.shape[0]*100\n",
    "print(txt.format(percent = percent))"
   ]
  },
  {
   "cell_type": "code",
   "execution_count": 20,
   "metadata": {
    "hidden": true
   },
   "outputs": [
    {
     "data": {
      "text/plain": [
       "count     59400.000000\n",
       "mean        317.650385\n",
       "std        2997.574558\n",
       "min           0.000000\n",
       "25%           0.000000\n",
       "50%           0.000000\n",
       "75%          20.000000\n",
       "max      350000.000000\n",
       "Name: amount_tsh, dtype: float64"
      ]
     },
     "execution_count": 20,
     "metadata": {},
     "output_type": "execute_result"
    }
   ],
   "source": [
    "#Descriptives including the 0 values\n",
    "X_train['amount_tsh'].describe()"
   ]
  },
  {
   "cell_type": "markdown",
   "metadata": {
    "hidden": true
   },
   "source": [
    "An incredibly high number of the observations are marked as having no available water in the well. Although there may be many wells which have no water available to them, I highly doubt that it's truly 70% of the observed wells.\n",
    "\n",
    "Additionally, The maximum value seen in the descriptives above is somewhat worrisome. I won't be able to fill these values based on the mean of the entire data set, as I believe there may be a handful of high outliers which would strongly effect the mean after I remove the zero values."
   ]
  },
  {
   "cell_type": "code",
   "execution_count": 21,
   "metadata": {
    "hidden": true,
    "scrolled": false
   },
   "outputs": [
    {
     "data": {
      "text/html": [
       "<div>\n",
       "<style scoped>\n",
       "    .dataframe tbody tr th:only-of-type {\n",
       "        vertical-align: middle;\n",
       "    }\n",
       "\n",
       "    .dataframe tbody tr th {\n",
       "        vertical-align: top;\n",
       "    }\n",
       "\n",
       "    .dataframe thead th {\n",
       "        text-align: right;\n",
       "    }\n",
       "</style>\n",
       "<table border=\"1\" class=\"dataframe\">\n",
       "  <thead>\n",
       "    <tr style=\"text-align: right;\">\n",
       "      <th></th>\n",
       "      <th>count</th>\n",
       "      <th>mean</th>\n",
       "      <th>std</th>\n",
       "      <th>min</th>\n",
       "      <th>25%</th>\n",
       "      <th>50%</th>\n",
       "      <th>75%</th>\n",
       "      <th>max</th>\n",
       "    </tr>\n",
       "    <tr>\n",
       "      <th>region</th>\n",
       "      <th></th>\n",
       "      <th></th>\n",
       "      <th></th>\n",
       "      <th></th>\n",
       "      <th></th>\n",
       "      <th></th>\n",
       "      <th></th>\n",
       "      <th></th>\n",
       "    </tr>\n",
       "  </thead>\n",
       "  <tbody>\n",
       "    <tr>\n",
       "      <th>Arusha</th>\n",
       "      <td>3350.0</td>\n",
       "      <td>360.923881</td>\n",
       "      <td>2274.915820</td>\n",
       "      <td>0.0</td>\n",
       "      <td>0.0</td>\n",
       "      <td>0.0</td>\n",
       "      <td>10.0</td>\n",
       "      <td>20000.0</td>\n",
       "    </tr>\n",
       "    <tr>\n",
       "      <th>Dar es Salaam</th>\n",
       "      <td>805.0</td>\n",
       "      <td>236.706832</td>\n",
       "      <td>2612.250698</td>\n",
       "      <td>0.0</td>\n",
       "      <td>0.0</td>\n",
       "      <td>50.0</td>\n",
       "      <td>50.0</td>\n",
       "      <td>45000.0</td>\n",
       "    </tr>\n",
       "    <tr>\n",
       "      <th>Dodoma</th>\n",
       "      <td>2201.0</td>\n",
       "      <td>0.000000</td>\n",
       "      <td>0.000000</td>\n",
       "      <td>0.0</td>\n",
       "      <td>0.0</td>\n",
       "      <td>0.0</td>\n",
       "      <td>0.0</td>\n",
       "      <td>0.0</td>\n",
       "    </tr>\n",
       "    <tr>\n",
       "      <th>Iringa</th>\n",
       "      <td>5294.0</td>\n",
       "      <td>1206.347752</td>\n",
       "      <td>4782.562343</td>\n",
       "      <td>0.0</td>\n",
       "      <td>0.0</td>\n",
       "      <td>500.0</td>\n",
       "      <td>1000.0</td>\n",
       "      <td>117000.0</td>\n",
       "    </tr>\n",
       "    <tr>\n",
       "      <th>Kagera</th>\n",
       "      <td>3316.0</td>\n",
       "      <td>0.000000</td>\n",
       "      <td>0.000000</td>\n",
       "      <td>0.0</td>\n",
       "      <td>0.0</td>\n",
       "      <td>0.0</td>\n",
       "      <td>0.0</td>\n",
       "      <td>0.0</td>\n",
       "    </tr>\n",
       "    <tr>\n",
       "      <th>Kigoma</th>\n",
       "      <td>2816.0</td>\n",
       "      <td>347.658026</td>\n",
       "      <td>851.803578</td>\n",
       "      <td>0.0</td>\n",
       "      <td>0.0</td>\n",
       "      <td>150.0</td>\n",
       "      <td>300.0</td>\n",
       "      <td>26000.0</td>\n",
       "    </tr>\n",
       "    <tr>\n",
       "      <th>Kilimanjaro</th>\n",
       "      <td>4379.0</td>\n",
       "      <td>256.826821</td>\n",
       "      <td>2184.879625</td>\n",
       "      <td>0.0</td>\n",
       "      <td>0.0</td>\n",
       "      <td>0.0</td>\n",
       "      <td>20.0</td>\n",
       "      <td>120000.0</td>\n",
       "    </tr>\n",
       "    <tr>\n",
       "      <th>Lindi</th>\n",
       "      <td>1546.0</td>\n",
       "      <td>28.405563</td>\n",
       "      <td>171.470406</td>\n",
       "      <td>0.0</td>\n",
       "      <td>0.0</td>\n",
       "      <td>0.0</td>\n",
       "      <td>20.0</td>\n",
       "      <td>5400.0</td>\n",
       "    </tr>\n",
       "    <tr>\n",
       "      <th>Manyara</th>\n",
       "      <td>1583.0</td>\n",
       "      <td>262.463677</td>\n",
       "      <td>1675.603743</td>\n",
       "      <td>0.0</td>\n",
       "      <td>0.0</td>\n",
       "      <td>0.0</td>\n",
       "      <td>20.0</td>\n",
       "      <td>50000.0</td>\n",
       "    </tr>\n",
       "    <tr>\n",
       "      <th>Mara</th>\n",
       "      <td>1969.0</td>\n",
       "      <td>108.880650</td>\n",
       "      <td>1422.520225</td>\n",
       "      <td>0.0</td>\n",
       "      <td>0.0</td>\n",
       "      <td>0.0</td>\n",
       "      <td>0.0</td>\n",
       "      <td>60000.0</td>\n",
       "    </tr>\n",
       "    <tr>\n",
       "      <th>Mbeya</th>\n",
       "      <td>4639.0</td>\n",
       "      <td>0.000000</td>\n",
       "      <td>0.000000</td>\n",
       "      <td>0.0</td>\n",
       "      <td>0.0</td>\n",
       "      <td>0.0</td>\n",
       "      <td>0.0</td>\n",
       "      <td>0.0</td>\n",
       "    </tr>\n",
       "    <tr>\n",
       "      <th>Morogoro</th>\n",
       "      <td>4006.0</td>\n",
       "      <td>210.126560</td>\n",
       "      <td>460.435449</td>\n",
       "      <td>0.0</td>\n",
       "      <td>0.0</td>\n",
       "      <td>0.0</td>\n",
       "      <td>300.0</td>\n",
       "      <td>15000.0</td>\n",
       "    </tr>\n",
       "    <tr>\n",
       "      <th>Mtwara</th>\n",
       "      <td>1730.0</td>\n",
       "      <td>59.564162</td>\n",
       "      <td>399.002941</td>\n",
       "      <td>0.0</td>\n",
       "      <td>0.0</td>\n",
       "      <td>0.0</td>\n",
       "      <td>50.0</td>\n",
       "      <td>6000.0</td>\n",
       "    </tr>\n",
       "    <tr>\n",
       "      <th>Mwanza</th>\n",
       "      <td>3102.0</td>\n",
       "      <td>15.490006</td>\n",
       "      <td>247.423489</td>\n",
       "      <td>0.0</td>\n",
       "      <td>0.0</td>\n",
       "      <td>0.0</td>\n",
       "      <td>0.0</td>\n",
       "      <td>10000.0</td>\n",
       "    </tr>\n",
       "    <tr>\n",
       "      <th>Pwani</th>\n",
       "      <td>2635.0</td>\n",
       "      <td>656.108159</td>\n",
       "      <td>7338.366671</td>\n",
       "      <td>0.0</td>\n",
       "      <td>0.0</td>\n",
       "      <td>20.0</td>\n",
       "      <td>50.0</td>\n",
       "      <td>250000.0</td>\n",
       "    </tr>\n",
       "    <tr>\n",
       "      <th>Rukwa</th>\n",
       "      <td>1808.0</td>\n",
       "      <td>821.811394</td>\n",
       "      <td>2904.344383</td>\n",
       "      <td>0.0</td>\n",
       "      <td>0.0</td>\n",
       "      <td>0.0</td>\n",
       "      <td>500.0</td>\n",
       "      <td>100000.0</td>\n",
       "    </tr>\n",
       "    <tr>\n",
       "      <th>Ruvuma</th>\n",
       "      <td>2640.0</td>\n",
       "      <td>897.084091</td>\n",
       "      <td>2788.043739</td>\n",
       "      <td>0.0</td>\n",
       "      <td>0.0</td>\n",
       "      <td>50.0</td>\n",
       "      <td>1000.0</td>\n",
       "      <td>100000.0</td>\n",
       "    </tr>\n",
       "    <tr>\n",
       "      <th>Shinyanga</th>\n",
       "      <td>4982.0</td>\n",
       "      <td>11.280610</td>\n",
       "      <td>708.964882</td>\n",
       "      <td>0.0</td>\n",
       "      <td>0.0</td>\n",
       "      <td>0.0</td>\n",
       "      <td>0.0</td>\n",
       "      <td>50000.0</td>\n",
       "    </tr>\n",
       "    <tr>\n",
       "      <th>Singida</th>\n",
       "      <td>2093.0</td>\n",
       "      <td>451.232776</td>\n",
       "      <td>7720.844020</td>\n",
       "      <td>0.0</td>\n",
       "      <td>0.0</td>\n",
       "      <td>0.0</td>\n",
       "      <td>50.0</td>\n",
       "      <td>350000.0</td>\n",
       "    </tr>\n",
       "    <tr>\n",
       "      <th>Tabora</th>\n",
       "      <td>1959.0</td>\n",
       "      <td>0.000000</td>\n",
       "      <td>0.000000</td>\n",
       "      <td>0.0</td>\n",
       "      <td>0.0</td>\n",
       "      <td>0.0</td>\n",
       "      <td>0.0</td>\n",
       "      <td>0.0</td>\n",
       "    </tr>\n",
       "    <tr>\n",
       "      <th>Tanga</th>\n",
       "      <td>2547.0</td>\n",
       "      <td>286.014134</td>\n",
       "      <td>4159.589957</td>\n",
       "      <td>0.0</td>\n",
       "      <td>0.0</td>\n",
       "      <td>0.0</td>\n",
       "      <td>30.0</td>\n",
       "      <td>200000.0</td>\n",
       "    </tr>\n",
       "  </tbody>\n",
       "</table>\n",
       "</div>"
      ],
      "text/plain": [
       "                count         mean          std  min  25%    50%     75%  \\\n",
       "region                                                                     \n",
       "Arusha         3350.0   360.923881  2274.915820  0.0  0.0    0.0    10.0   \n",
       "Dar es Salaam   805.0   236.706832  2612.250698  0.0  0.0   50.0    50.0   \n",
       "Dodoma         2201.0     0.000000     0.000000  0.0  0.0    0.0     0.0   \n",
       "Iringa         5294.0  1206.347752  4782.562343  0.0  0.0  500.0  1000.0   \n",
       "Kagera         3316.0     0.000000     0.000000  0.0  0.0    0.0     0.0   \n",
       "Kigoma         2816.0   347.658026   851.803578  0.0  0.0  150.0   300.0   \n",
       "Kilimanjaro    4379.0   256.826821  2184.879625  0.0  0.0    0.0    20.0   \n",
       "Lindi          1546.0    28.405563   171.470406  0.0  0.0    0.0    20.0   \n",
       "Manyara        1583.0   262.463677  1675.603743  0.0  0.0    0.0    20.0   \n",
       "Mara           1969.0   108.880650  1422.520225  0.0  0.0    0.0     0.0   \n",
       "Mbeya          4639.0     0.000000     0.000000  0.0  0.0    0.0     0.0   \n",
       "Morogoro       4006.0   210.126560   460.435449  0.0  0.0    0.0   300.0   \n",
       "Mtwara         1730.0    59.564162   399.002941  0.0  0.0    0.0    50.0   \n",
       "Mwanza         3102.0    15.490006   247.423489  0.0  0.0    0.0     0.0   \n",
       "Pwani          2635.0   656.108159  7338.366671  0.0  0.0   20.0    50.0   \n",
       "Rukwa          1808.0   821.811394  2904.344383  0.0  0.0    0.0   500.0   \n",
       "Ruvuma         2640.0   897.084091  2788.043739  0.0  0.0   50.0  1000.0   \n",
       "Shinyanga      4982.0    11.280610   708.964882  0.0  0.0    0.0     0.0   \n",
       "Singida        2093.0   451.232776  7720.844020  0.0  0.0    0.0    50.0   \n",
       "Tabora         1959.0     0.000000     0.000000  0.0  0.0    0.0     0.0   \n",
       "Tanga          2547.0   286.014134  4159.589957  0.0  0.0    0.0    30.0   \n",
       "\n",
       "                    max  \n",
       "region                   \n",
       "Arusha          20000.0  \n",
       "Dar es Salaam   45000.0  \n",
       "Dodoma              0.0  \n",
       "Iringa         117000.0  \n",
       "Kagera              0.0  \n",
       "Kigoma          26000.0  \n",
       "Kilimanjaro    120000.0  \n",
       "Lindi            5400.0  \n",
       "Manyara         50000.0  \n",
       "Mara            60000.0  \n",
       "Mbeya               0.0  \n",
       "Morogoro        15000.0  \n",
       "Mtwara           6000.0  \n",
       "Mwanza          10000.0  \n",
       "Pwani          250000.0  \n",
       "Rukwa          100000.0  \n",
       "Ruvuma         100000.0  \n",
       "Shinyanga       50000.0  \n",
       "Singida        350000.0  \n",
       "Tabora              0.0  \n",
       "Tanga          200000.0  "
      ]
     },
     "execution_count": 21,
     "metadata": {},
     "output_type": "execute_result"
    }
   ],
   "source": [
    "#Descriptives grouped over regions\n",
    "#Includes zero values\n",
    "X_train['amount_tsh'].groupby(X_train['region']).describe()"
   ]
  },
  {
   "cell_type": "markdown",
   "metadata": {
    "hidden": true
   },
   "source": [
    "Although I'm glad to be able to pull more region specific mean values, and am not immediately surprised by the variance from region to region, I do notice something much more worrying. There are 4 regions in the above grouped descriptives which are exclusively 0, ie they have no observations for the entirety of the data."
   ]
  },
  {
   "cell_type": "code",
   "execution_count": 115,
   "metadata": {
    "hidden": true
   },
   "outputs": [
    {
     "name": "stdout",
     "output_type": "stream",
     "text": [
      "There are 12115 observations in the training data, in the four regions shown above, which have only 0 observations.\n"
     ]
    }
   ],
   "source": [
    "print(\"There are {} observations in the training data, in the four regions shown above, which have only 0 observations.\".format(len(X_train[X_train['region'].isin(['Dodoma', 'Tabora', 'Mbeya', 'Kagera'])])))"
   ]
  },
  {
   "cell_type": "code",
   "execution_count": 117,
   "metadata": {
    "hidden": true
   },
   "outputs": [
    {
     "name": "stdout",
     "output_type": "stream",
     "text": [
      "There are 3062 observations in the testing data in these four all 0 regions.\n"
     ]
    }
   ],
   "source": [
    "print(\"There are {} observations in the testing data in these four all 0 regions.\".format(len(X_test[X_test['region'].isin(['Dodoma', 'Tabora', 'Mbeya', 'Kagera'])])))"
   ]
  },
  {
   "cell_type": "code",
   "execution_count": 24,
   "metadata": {
    "hidden": true
   },
   "outputs": [
    {
     "data": {
      "text/html": [
       "<div>\n",
       "<style scoped>\n",
       "    .dataframe tbody tr th:only-of-type {\n",
       "        vertical-align: middle;\n",
       "    }\n",
       "\n",
       "    .dataframe tbody tr th {\n",
       "        vertical-align: top;\n",
       "    }\n",
       "\n",
       "    .dataframe thead th {\n",
       "        text-align: right;\n",
       "    }\n",
       "</style>\n",
       "<table border=\"1\" class=\"dataframe\">\n",
       "  <thead>\n",
       "    <tr style=\"text-align: right;\">\n",
       "      <th></th>\n",
       "      <th>count</th>\n",
       "      <th>mean</th>\n",
       "      <th>std</th>\n",
       "      <th>min</th>\n",
       "      <th>25%</th>\n",
       "      <th>50%</th>\n",
       "      <th>75%</th>\n",
       "      <th>max</th>\n",
       "    </tr>\n",
       "    <tr>\n",
       "      <th>status_group</th>\n",
       "      <th></th>\n",
       "      <th></th>\n",
       "      <th></th>\n",
       "      <th></th>\n",
       "      <th></th>\n",
       "      <th></th>\n",
       "      <th></th>\n",
       "      <th></th>\n",
       "    </tr>\n",
       "  </thead>\n",
       "  <tbody>\n",
       "    <tr>\n",
       "      <th>functional</th>\n",
       "      <td>12553.0</td>\n",
       "      <td>1186.740162</td>\n",
       "      <td>6166.283045</td>\n",
       "      <td>0.25</td>\n",
       "      <td>50.0</td>\n",
       "      <td>250.0</td>\n",
       "      <td>1000.0</td>\n",
       "      <td>350000.0</td>\n",
       "    </tr>\n",
       "    <tr>\n",
       "      <th>functional needs repair</th>\n",
       "      <td>1269.0</td>\n",
       "      <td>908.548463</td>\n",
       "      <td>3468.461671</td>\n",
       "      <td>6.00</td>\n",
       "      <td>100.0</td>\n",
       "      <td>300.0</td>\n",
       "      <td>600.0</td>\n",
       "      <td>100000.0</td>\n",
       "    </tr>\n",
       "    <tr>\n",
       "      <th>non functional</th>\n",
       "      <td>3939.0</td>\n",
       "      <td>715.495202</td>\n",
       "      <td>2592.025587</td>\n",
       "      <td>0.20</td>\n",
       "      <td>50.0</td>\n",
       "      <td>200.0</td>\n",
       "      <td>500.0</td>\n",
       "      <td>117000.0</td>\n",
       "    </tr>\n",
       "  </tbody>\n",
       "</table>\n",
       "</div>"
      ],
      "text/plain": [
       "                           count         mean          std   min    25%  \\\n",
       "status_group                                                              \n",
       "functional               12553.0  1186.740162  6166.283045  0.25   50.0   \n",
       "functional needs repair   1269.0   908.548463  3468.461671  6.00  100.0   \n",
       "non functional            3939.0   715.495202  2592.025587  0.20   50.0   \n",
       "\n",
       "                           50%     75%       max  \n",
       "status_group                                      \n",
       "functional               250.0  1000.0  350000.0  \n",
       "functional needs repair  300.0   600.0  100000.0  \n",
       "non functional           200.0   500.0  117000.0  "
      ]
     },
     "execution_count": 24,
     "metadata": {},
     "output_type": "execute_result"
    }
   ],
   "source": [
    "merged_df[merged_df['amount_tsh'] > 0]['amount_tsh'].groupby(merged_df['status_group']).describe()"
   ]
  },
  {
   "cell_type": "code",
   "execution_count": 25,
   "metadata": {
    "hidden": true,
    "scrolled": false
   },
   "outputs": [
    {
     "data": {
      "text/html": [
       "<div>\n",
       "<style scoped>\n",
       "    .dataframe tbody tr th:only-of-type {\n",
       "        vertical-align: middle;\n",
       "    }\n",
       "\n",
       "    .dataframe tbody tr th {\n",
       "        vertical-align: top;\n",
       "    }\n",
       "\n",
       "    .dataframe thead th {\n",
       "        text-align: right;\n",
       "    }\n",
       "</style>\n",
       "<table border=\"1\" class=\"dataframe\">\n",
       "  <thead>\n",
       "    <tr style=\"text-align: right;\">\n",
       "      <th></th>\n",
       "      <th>count</th>\n",
       "      <th>mean</th>\n",
       "      <th>std</th>\n",
       "      <th>min</th>\n",
       "      <th>25%</th>\n",
       "      <th>50%</th>\n",
       "      <th>75%</th>\n",
       "      <th>max</th>\n",
       "    </tr>\n",
       "    <tr>\n",
       "      <th>region</th>\n",
       "      <th></th>\n",
       "      <th></th>\n",
       "      <th></th>\n",
       "      <th></th>\n",
       "      <th></th>\n",
       "      <th></th>\n",
       "      <th></th>\n",
       "      <th></th>\n",
       "    </tr>\n",
       "  </thead>\n",
       "  <tbody>\n",
       "    <tr>\n",
       "      <th>Arusha</th>\n",
       "      <td>915.0</td>\n",
       "      <td>1321.415301</td>\n",
       "      <td>4206.195290</td>\n",
       "      <td>5.0</td>\n",
       "      <td>10.0</td>\n",
       "      <td>20.0</td>\n",
       "      <td>50.0</td>\n",
       "      <td>20000.0</td>\n",
       "    </tr>\n",
       "    <tr>\n",
       "      <th>Dar es Salaam</th>\n",
       "      <td>535.0</td>\n",
       "      <td>356.166355</td>\n",
       "      <td>3198.669986</td>\n",
       "      <td>20.0</td>\n",
       "      <td>50.0</td>\n",
       "      <td>50.0</td>\n",
       "      <td>100.0</td>\n",
       "      <td>45000.0</td>\n",
       "    </tr>\n",
       "    <tr>\n",
       "      <th>Iringa</th>\n",
       "      <td>3442.0</td>\n",
       "      <td>1855.434340</td>\n",
       "      <td>5829.131050</td>\n",
       "      <td>20.0</td>\n",
       "      <td>500.0</td>\n",
       "      <td>1000.0</td>\n",
       "      <td>2000.0</td>\n",
       "      <td>117000.0</td>\n",
       "    </tr>\n",
       "    <tr>\n",
       "      <th>Kigoma</th>\n",
       "      <td>1497.0</td>\n",
       "      <td>653.977956</td>\n",
       "      <td>1079.273912</td>\n",
       "      <td>10.0</td>\n",
       "      <td>250.0</td>\n",
       "      <td>250.0</td>\n",
       "      <td>600.0</td>\n",
       "      <td>26000.0</td>\n",
       "    </tr>\n",
       "    <tr>\n",
       "      <th>Kilimanjaro</th>\n",
       "      <td>2025.0</td>\n",
       "      <td>555.380074</td>\n",
       "      <td>3187.448193</td>\n",
       "      <td>0.2</td>\n",
       "      <td>6.0</td>\n",
       "      <td>20.0</td>\n",
       "      <td>450.0</td>\n",
       "      <td>120000.0</td>\n",
       "    </tr>\n",
       "    <tr>\n",
       "      <th>Lindi</th>\n",
       "      <td>462.0</td>\n",
       "      <td>95.054113</td>\n",
       "      <td>303.627289</td>\n",
       "      <td>10.0</td>\n",
       "      <td>25.0</td>\n",
       "      <td>50.0</td>\n",
       "      <td>50.0</td>\n",
       "      <td>5400.0</td>\n",
       "    </tr>\n",
       "    <tr>\n",
       "      <th>Manyara</th>\n",
       "      <td>573.0</td>\n",
       "      <td>725.095986</td>\n",
       "      <td>2725.650147</td>\n",
       "      <td>2.0</td>\n",
       "      <td>20.0</td>\n",
       "      <td>50.0</td>\n",
       "      <td>100.0</td>\n",
       "      <td>50000.0</td>\n",
       "    </tr>\n",
       "    <tr>\n",
       "      <th>Mara</th>\n",
       "      <td>367.0</td>\n",
       "      <td>584.158038</td>\n",
       "      <td>3256.133649</td>\n",
       "      <td>10.0</td>\n",
       "      <td>50.0</td>\n",
       "      <td>100.0</td>\n",
       "      <td>500.0</td>\n",
       "      <td>60000.0</td>\n",
       "    </tr>\n",
       "    <tr>\n",
       "      <th>Morogoro</th>\n",
       "      <td>1965.0</td>\n",
       "      <td>428.380153</td>\n",
       "      <td>582.039633</td>\n",
       "      <td>10.0</td>\n",
       "      <td>200.0</td>\n",
       "      <td>300.0</td>\n",
       "      <td>500.0</td>\n",
       "      <td>15000.0</td>\n",
       "    </tr>\n",
       "    <tr>\n",
       "      <th>Mtwara</th>\n",
       "      <td>694.0</td>\n",
       "      <td>148.481268</td>\n",
       "      <td>619.663404</td>\n",
       "      <td>5.0</td>\n",
       "      <td>30.0</td>\n",
       "      <td>50.0</td>\n",
       "      <td>50.0</td>\n",
       "      <td>6000.0</td>\n",
       "    </tr>\n",
       "    <tr>\n",
       "      <th>Mwanza</th>\n",
       "      <td>43.0</td>\n",
       "      <td>1117.441860</td>\n",
       "      <td>1805.345361</td>\n",
       "      <td>50.0</td>\n",
       "      <td>200.0</td>\n",
       "      <td>500.0</td>\n",
       "      <td>1000.0</td>\n",
       "      <td>10000.0</td>\n",
       "    </tr>\n",
       "    <tr>\n",
       "      <th>Pwani</th>\n",
       "      <td>1415.0</td>\n",
       "      <td>1221.798587</td>\n",
       "      <td>9981.141704</td>\n",
       "      <td>5.0</td>\n",
       "      <td>20.0</td>\n",
       "      <td>50.0</td>\n",
       "      <td>50.0</td>\n",
       "      <td>250000.0</td>\n",
       "    </tr>\n",
       "    <tr>\n",
       "      <th>Rukwa</th>\n",
       "      <td>667.0</td>\n",
       "      <td>2227.638681</td>\n",
       "      <td>4444.115530</td>\n",
       "      <td>10.0</td>\n",
       "      <td>500.0</td>\n",
       "      <td>1000.0</td>\n",
       "      <td>3000.0</td>\n",
       "      <td>100000.0</td>\n",
       "    </tr>\n",
       "    <tr>\n",
       "      <th>Ruvuma</th>\n",
       "      <td>1432.0</td>\n",
       "      <td>1653.842179</td>\n",
       "      <td>3616.988716</td>\n",
       "      <td>9.0</td>\n",
       "      <td>500.0</td>\n",
       "      <td>550.0</td>\n",
       "      <td>1500.0</td>\n",
       "      <td>100000.0</td>\n",
       "    </tr>\n",
       "    <tr>\n",
       "      <th>Shinyanga</th>\n",
       "      <td>15.0</td>\n",
       "      <td>3746.666667</td>\n",
       "      <td>12799.769343</td>\n",
       "      <td>100.0</td>\n",
       "      <td>200.0</td>\n",
       "      <td>500.0</td>\n",
       "      <td>750.0</td>\n",
       "      <td>50000.0</td>\n",
       "    </tr>\n",
       "    <tr>\n",
       "      <th>Singida</th>\n",
       "      <td>828.0</td>\n",
       "      <td>1140.616184</td>\n",
       "      <td>12247.746975</td>\n",
       "      <td>0.2</td>\n",
       "      <td>30.0</td>\n",
       "      <td>50.0</td>\n",
       "      <td>500.0</td>\n",
       "      <td>350000.0</td>\n",
       "    </tr>\n",
       "    <tr>\n",
       "      <th>Tanga</th>\n",
       "      <td>886.0</td>\n",
       "      <td>822.209932</td>\n",
       "      <td>7023.830731</td>\n",
       "      <td>1.0</td>\n",
       "      <td>30.0</td>\n",
       "      <td>50.0</td>\n",
       "      <td>650.0</td>\n",
       "      <td>200000.0</td>\n",
       "    </tr>\n",
       "  </tbody>\n",
       "</table>\n",
       "</div>"
      ],
      "text/plain": [
       "                count         mean           std    min    25%     50%  \\\n",
       "region                                                                   \n",
       "Arusha          915.0  1321.415301   4206.195290    5.0   10.0    20.0   \n",
       "Dar es Salaam   535.0   356.166355   3198.669986   20.0   50.0    50.0   \n",
       "Iringa         3442.0  1855.434340   5829.131050   20.0  500.0  1000.0   \n",
       "Kigoma         1497.0   653.977956   1079.273912   10.0  250.0   250.0   \n",
       "Kilimanjaro    2025.0   555.380074   3187.448193    0.2    6.0    20.0   \n",
       "Lindi           462.0    95.054113    303.627289   10.0   25.0    50.0   \n",
       "Manyara         573.0   725.095986   2725.650147    2.0   20.0    50.0   \n",
       "Mara            367.0   584.158038   3256.133649   10.0   50.0   100.0   \n",
       "Morogoro       1965.0   428.380153    582.039633   10.0  200.0   300.0   \n",
       "Mtwara          694.0   148.481268    619.663404    5.0   30.0    50.0   \n",
       "Mwanza           43.0  1117.441860   1805.345361   50.0  200.0   500.0   \n",
       "Pwani          1415.0  1221.798587   9981.141704    5.0   20.0    50.0   \n",
       "Rukwa           667.0  2227.638681   4444.115530   10.0  500.0  1000.0   \n",
       "Ruvuma         1432.0  1653.842179   3616.988716    9.0  500.0   550.0   \n",
       "Shinyanga        15.0  3746.666667  12799.769343  100.0  200.0   500.0   \n",
       "Singida         828.0  1140.616184  12247.746975    0.2   30.0    50.0   \n",
       "Tanga           886.0   822.209932   7023.830731    1.0   30.0    50.0   \n",
       "\n",
       "                  75%       max  \n",
       "region                           \n",
       "Arusha           50.0   20000.0  \n",
       "Dar es Salaam   100.0   45000.0  \n",
       "Iringa         2000.0  117000.0  \n",
       "Kigoma          600.0   26000.0  \n",
       "Kilimanjaro     450.0  120000.0  \n",
       "Lindi            50.0    5400.0  \n",
       "Manyara         100.0   50000.0  \n",
       "Mara            500.0   60000.0  \n",
       "Morogoro        500.0   15000.0  \n",
       "Mtwara           50.0    6000.0  \n",
       "Mwanza         1000.0   10000.0  \n",
       "Pwani            50.0  250000.0  \n",
       "Rukwa          3000.0  100000.0  \n",
       "Ruvuma         1500.0  100000.0  \n",
       "Shinyanga       750.0   50000.0  \n",
       "Singida         500.0  350000.0  \n",
       "Tanga           650.0  200000.0  "
      ]
     },
     "execution_count": 25,
     "metadata": {},
     "output_type": "execute_result"
    }
   ],
   "source": [
    "#Descriptives grouped over regions\n",
    "#Excludes zero values\n",
    "X_train[X_train['amount_tsh'] > 0]['amount_tsh'].groupby(X_train['region']).describe()"
   ]
  },
  {
   "cell_type": "code",
   "execution_count": 26,
   "metadata": {
    "hidden": true,
    "scrolled": false
   },
   "outputs": [
    {
     "data": {
      "text/plain": [
       "<seaborn.axisgrid.FacetGrid at 0x7f8408917eb8>"
      ]
     },
     "execution_count": 26,
     "metadata": {},
     "output_type": "execute_result"
    },
    {
     "data": {
      "image/png": "[encoded data removed]",
      "text/plain": [
       "<Figure size 360x360 with 1 Axes>"
      ]
     },
     "metadata": {
      "needs_background": "light"
     },
     "output_type": "display_data"
    }
   ],
   "source": [
    "sns.catplot(x = 'status_group', y = 'amount_tsh', kind = 'box', showmeans = True, data = merged_df)"
   ]
  },
  {
   "cell_type": "markdown",
   "metadata": {
    "hidden": true
   },
   "source": [
    "The 0 values notwithstanding, there are at least 4 clearly high values in the `amount_tsh` feature. I'll be adding these to a list of outliers to look at throughout the cleaning analysis."
   ]
  },
  {
   "cell_type": "code",
   "execution_count": 27,
   "metadata": {
    "hidden": true
   },
   "outputs": [
    {
     "data": {
      "text/html": [
       "<div>\n",
       "<style scoped>\n",
       "    .dataframe tbody tr th:only-of-type {\n",
       "        vertical-align: middle;\n",
       "    }\n",
       "\n",
       "    .dataframe tbody tr th {\n",
       "        vertical-align: top;\n",
       "    }\n",
       "\n",
       "    .dataframe thead th {\n",
       "        text-align: right;\n",
       "    }\n",
       "</style>\n",
       "<table border=\"1\" class=\"dataframe\">\n",
       "  <thead>\n",
       "    <tr style=\"text-align: right;\">\n",
       "      <th></th>\n",
       "      <th>id</th>\n",
       "      <th>amount_tsh</th>\n",
       "      <th>date_recorded</th>\n",
       "      <th>funder</th>\n",
       "      <th>gps_height</th>\n",
       "      <th>installer</th>\n",
       "      <th>longitude</th>\n",
       "      <th>latitude</th>\n",
       "      <th>wpt_name</th>\n",
       "      <th>num_private</th>\n",
       "      <th>basin</th>\n",
       "      <th>subvillage</th>\n",
       "      <th>region</th>\n",
       "      <th>region_code</th>\n",
       "      <th>district_code</th>\n",
       "      <th>lga</th>\n",
       "      <th>ward</th>\n",
       "      <th>population</th>\n",
       "      <th>public_meeting</th>\n",
       "      <th>recorded_by</th>\n",
       "      <th>scheme_management</th>\n",
       "      <th>scheme_name</th>\n",
       "      <th>permit</th>\n",
       "      <th>construction_year</th>\n",
       "      <th>extraction_type</th>\n",
       "      <th>extraction_type_group</th>\n",
       "      <th>extraction_type_class</th>\n",
       "      <th>management</th>\n",
       "      <th>management_group</th>\n",
       "      <th>payment</th>\n",
       "      <th>payment_type</th>\n",
       "      <th>water_quality</th>\n",
       "      <th>quality_group</th>\n",
       "      <th>quantity</th>\n",
       "      <th>quantity_group</th>\n",
       "      <th>source</th>\n",
       "      <th>source_type</th>\n",
       "      <th>source_class</th>\n",
       "      <th>waterpoint_type</th>\n",
       "      <th>waterpoint_type_group</th>\n",
       "    </tr>\n",
       "  </thead>\n",
       "  <tbody>\n",
       "    <tr>\n",
       "      <th>10812</th>\n",
       "      <td>41564</td>\n",
       "      <td>350000.0</td>\n",
       "      <td>2013-03-01</td>\n",
       "      <td>NaN</td>\n",
       "      <td>1558</td>\n",
       "      <td>NaN</td>\n",
       "      <td>34.840029</td>\n",
       "      <td>-4.542934</td>\n",
       "      <td>Mtinko Primary</td>\n",
       "      <td>0</td>\n",
       "      <td>Internal</td>\n",
       "      <td>Mlimani</td>\n",
       "      <td>Singida</td>\n",
       "      <td>13</td>\n",
       "      <td>2</td>\n",
       "      <td>Singida Rural</td>\n",
       "      <td>Mtinko</td>\n",
       "      <td>886</td>\n",
       "      <td>True</td>\n",
       "      <td>GeoData Consultants Ltd</td>\n",
       "      <td>VWC</td>\n",
       "      <td>K</td>\n",
       "      <td>NaN</td>\n",
       "      <td>1990</td>\n",
       "      <td>mono</td>\n",
       "      <td>mono</td>\n",
       "      <td>motorpump</td>\n",
       "      <td>vwc</td>\n",
       "      <td>user-group</td>\n",
       "      <td>pay annually</td>\n",
       "      <td>annually</td>\n",
       "      <td>soft</td>\n",
       "      <td>good</td>\n",
       "      <td>insufficient</td>\n",
       "      <td>insufficient</td>\n",
       "      <td>machine dbh</td>\n",
       "      <td>borehole</td>\n",
       "      <td>groundwater</td>\n",
       "      <td>communal standpipe</td>\n",
       "      <td>communal standpipe</td>\n",
       "    </tr>\n",
       "    <tr>\n",
       "      <th>22191</th>\n",
       "      <td>4128</td>\n",
       "      <td>250000.0</td>\n",
       "      <td>2011-03-04</td>\n",
       "      <td>Ded</td>\n",
       "      <td>285</td>\n",
       "      <td>WU</td>\n",
       "      <td>38.410852</td>\n",
       "      <td>-6.117538</td>\n",
       "      <td>Miono Dispensary</td>\n",
       "      <td>0</td>\n",
       "      <td>Wami / Ruvu</td>\n",
       "      <td>Kipera B</td>\n",
       "      <td>Pwani</td>\n",
       "      <td>6</td>\n",
       "      <td>1</td>\n",
       "      <td>Bagamoyo</td>\n",
       "      <td>Miono</td>\n",
       "      <td>80</td>\n",
       "      <td>True</td>\n",
       "      <td>GeoData Consultants Ltd</td>\n",
       "      <td>WUA</td>\n",
       "      <td>Chalinze wate</td>\n",
       "      <td>True</td>\n",
       "      <td>2003</td>\n",
       "      <td>ksb</td>\n",
       "      <td>submersible</td>\n",
       "      <td>submersible</td>\n",
       "      <td>parastatal</td>\n",
       "      <td>parastatal</td>\n",
       "      <td>pay monthly</td>\n",
       "      <td>monthly</td>\n",
       "      <td>soft</td>\n",
       "      <td>good</td>\n",
       "      <td>enough</td>\n",
       "      <td>enough</td>\n",
       "      <td>river</td>\n",
       "      <td>river/lake</td>\n",
       "      <td>surface</td>\n",
       "      <td>communal standpipe</td>\n",
       "      <td>communal standpipe</td>\n",
       "    </tr>\n",
       "    <tr>\n",
       "      <th>22817</th>\n",
       "      <td>7860</td>\n",
       "      <td>200000.0</td>\n",
       "      <td>2011-08-08</td>\n",
       "      <td>Government Of Tanzania</td>\n",
       "      <td>98</td>\n",
       "      <td>Government</td>\n",
       "      <td>38.978067</td>\n",
       "      <td>-5.122702</td>\n",
       "      <td>Shuleni</td>\n",
       "      <td>0</td>\n",
       "      <td>Pangani</td>\n",
       "      <td>Pongwe Kaskazini</td>\n",
       "      <td>Tanga</td>\n",
       "      <td>4</td>\n",
       "      <td>4</td>\n",
       "      <td>Tanga</td>\n",
       "      <td>Pongwe</td>\n",
       "      <td>800</td>\n",
       "      <td>True</td>\n",
       "      <td>GeoData Consultants Ltd</td>\n",
       "      <td>VWC</td>\n",
       "      <td>Pongwe Water Supply</td>\n",
       "      <td>True</td>\n",
       "      <td>0</td>\n",
       "      <td>submersible</td>\n",
       "      <td>submersible</td>\n",
       "      <td>submersible</td>\n",
       "      <td>vwc</td>\n",
       "      <td>user-group</td>\n",
       "      <td>pay monthly</td>\n",
       "      <td>monthly</td>\n",
       "      <td>soft</td>\n",
       "      <td>good</td>\n",
       "      <td>enough</td>\n",
       "      <td>enough</td>\n",
       "      <td>river</td>\n",
       "      <td>river/lake</td>\n",
       "      <td>surface</td>\n",
       "      <td>communal standpipe</td>\n",
       "      <td>communal standpipe</td>\n",
       "    </tr>\n",
       "    <tr>\n",
       "      <th>45067</th>\n",
       "      <td>70107</td>\n",
       "      <td>170000.0</td>\n",
       "      <td>2011-03-16</td>\n",
       "      <td>Owner Pingo C</td>\n",
       "      <td>127</td>\n",
       "      <td>WU</td>\n",
       "      <td>38.420467</td>\n",
       "      <td>-6.640090</td>\n",
       "      <td>Chuo Cha Ualimu</td>\n",
       "      <td>0</td>\n",
       "      <td>Wami / Ruvu</td>\n",
       "      <td>Madukani</td>\n",
       "      <td>Pwani</td>\n",
       "      <td>6</td>\n",
       "      <td>1</td>\n",
       "      <td>Bagamoyo</td>\n",
       "      <td>Chalinze</td>\n",
       "      <td>150</td>\n",
       "      <td>False</td>\n",
       "      <td>GeoData Consultants Ltd</td>\n",
       "      <td>WUA</td>\n",
       "      <td>Chalinze wate</td>\n",
       "      <td>True</td>\n",
       "      <td>2008</td>\n",
       "      <td>ksb</td>\n",
       "      <td>submersible</td>\n",
       "      <td>submersible</td>\n",
       "      <td>parastatal</td>\n",
       "      <td>parastatal</td>\n",
       "      <td>pay monthly</td>\n",
       "      <td>monthly</td>\n",
       "      <td>soft</td>\n",
       "      <td>good</td>\n",
       "      <td>enough</td>\n",
       "      <td>enough</td>\n",
       "      <td>river</td>\n",
       "      <td>river/lake</td>\n",
       "      <td>surface</td>\n",
       "      <td>communal standpipe</td>\n",
       "      <td>communal standpipe</td>\n",
       "    </tr>\n",
       "  </tbody>\n",
       "</table>\n",
       "</div>"
      ],
      "text/plain": [
       "          id  amount_tsh date_recorded                  funder  gps_height  \\\n",
       "10812  41564    350000.0    2013-03-01                     NaN        1558   \n",
       "22191   4128    250000.0    2011-03-04                     Ded         285   \n",
       "22817   7860    200000.0    2011-08-08  Government Of Tanzania          98   \n",
       "45067  70107    170000.0    2011-03-16           Owner Pingo C         127   \n",
       "\n",
       "        installer  longitude  latitude          wpt_name  num_private  \\\n",
       "10812         NaN  34.840029 -4.542934    Mtinko Primary            0   \n",
       "22191          WU  38.410852 -6.117538  Miono Dispensary            0   \n",
       "22817  Government  38.978067 -5.122702           Shuleni            0   \n",
       "45067          WU  38.420467 -6.640090   Chuo Cha Ualimu            0   \n",
       "\n",
       "             basin        subvillage   region  region_code  district_code  \\\n",
       "10812     Internal           Mlimani  Singida           13              2   \n",
       "22191  Wami / Ruvu          Kipera B    Pwani            6              1   \n",
       "22817      Pangani  Pongwe Kaskazini    Tanga            4              4   \n",
       "45067  Wami / Ruvu          Madukani    Pwani            6              1   \n",
       "\n",
       "                 lga      ward  population public_meeting  \\\n",
       "10812  Singida Rural    Mtinko         886           True   \n",
       "22191       Bagamoyo     Miono          80           True   \n",
       "22817          Tanga    Pongwe         800           True   \n",
       "45067       Bagamoyo  Chalinze         150          False   \n",
       "\n",
       "                   recorded_by scheme_management          scheme_name permit  \\\n",
       "10812  GeoData Consultants Ltd               VWC                    K    NaN   \n",
       "22191  GeoData Consultants Ltd               WUA        Chalinze wate   True   \n",
       "22817  GeoData Consultants Ltd               VWC  Pongwe Water Supply   True   \n",
       "45067  GeoData Consultants Ltd               WUA        Chalinze wate   True   \n",
       "\n",
       "       construction_year extraction_type extraction_type_group  \\\n",
       "10812               1990            mono                  mono   \n",
       "22191               2003             ksb           submersible   \n",
       "22817                  0     submersible           submersible   \n",
       "45067               2008             ksb           submersible   \n",
       "\n",
       "      extraction_type_class  management management_group       payment  \\\n",
       "10812             motorpump         vwc       user-group  pay annually   \n",
       "22191           submersible  parastatal       parastatal   pay monthly   \n",
       "22817           submersible         vwc       user-group   pay monthly   \n",
       "45067           submersible  parastatal       parastatal   pay monthly   \n",
       "\n",
       "      payment_type water_quality quality_group      quantity quantity_group  \\\n",
       "10812     annually          soft          good  insufficient   insufficient   \n",
       "22191      monthly          soft          good        enough         enough   \n",
       "22817      monthly          soft          good        enough         enough   \n",
       "45067      monthly          soft          good        enough         enough   \n",
       "\n",
       "            source source_type source_class     waterpoint_type  \\\n",
       "10812  machine dbh    borehole  groundwater  communal standpipe   \n",
       "22191        river  river/lake      surface  communal standpipe   \n",
       "22817        river  river/lake      surface  communal standpipe   \n",
       "45067        river  river/lake      surface  communal standpipe   \n",
       "\n",
       "      waterpoint_type_group  \n",
       "10812    communal standpipe  \n",
       "22191    communal standpipe  \n",
       "22817    communal standpipe  \n",
       "45067    communal standpipe  "
      ]
     },
     "execution_count": 27,
     "metadata": {},
     "output_type": "execute_result"
    }
   ],
   "source": [
    "X_train[X_train['amount_tsh'] > 150000]"
   ]
  },
  {
   "cell_type": "code",
   "execution_count": 28,
   "metadata": {
    "hidden": true
   },
   "outputs": [],
   "source": [
    "outlier_index = [x for x in X_train[X_train['amount_tsh'] > 150000].index]"
   ]
  },
  {
   "cell_type": "code",
   "execution_count": 29,
   "metadata": {
    "hidden": true
   },
   "outputs": [
    {
     "data": {
      "text/plain": [
       "(0, 5000)"
      ]
     },
     "execution_count": 29,
     "metadata": {},
     "output_type": "execute_result"
    },
    {
     "data": {
      "image/png": "[encoded data removed]",
      "text/plain": [
       "<Figure size 360x360 with 1 Axes>"
      ]
     },
     "metadata": {
      "needs_background": "light"
     },
     "output_type": "display_data"
    }
   ],
   "source": [
    "sns.catplot(x = 'status_group', y = 'amount_tsh', kind = 'box', showmeans = True, data = merged_df[(merged_df['amount_tsh'] > 0)])\n",
    "plt.ylim(top = 5000, bottom = 0)"
   ]
  },
  {
   "cell_type": "markdown",
   "metadata": {
    "hidden": true
   },
   "source": [
    "This is notably worrying, as more than 50% of the wells in the data set are listed as being functional, but well over 70% are marked as having no water available (or missing). Additionally, the spread of the non-zero observations is very large. I believe this feature is plagued by both a high rate of missing values, and by a handful of outliers.\n",
    "\n",
    "I'm going to pursue two methods for now. First, I'll fill the `amount_tsh` values, using mean imputation over the most granular location information I can manage, and then model the data with these imputations. Then I'm going to drop the feature and model with out it. As much as I feel that this feature will be highly influential in predicting the functionality of the wells, the rate of missing values is simply to high. I strongly believe that any imputation method I use will erode the natural relationship between the functionality and the `amount_tsh` and there is very little chance, given the spread of the data, that I'll be able to capture this relationship through imputation."
   ]
  },
  {
   "cell_type": "markdown",
   "metadata": {
    "heading_collapsed": true
   },
   "source": [
    "#### gps_height\n",
    "This feature refers to the elevation of the well, with respect to sea level, as acquired by gps readings."
   ]
  },
  {
   "cell_type": "code",
   "execution_count": 121,
   "metadata": {
    "hidden": true
   },
   "outputs": [
    {
     "name": "stdout",
     "output_type": "stream",
     "text": [
      "34.41% of the `gps_height` observations are missing or 0.\n"
     ]
    }
   ],
   "source": [
    "print(\"{}% of the `gps_height` observations are missing or 0.\".format(round(sum(X_train['gps_height'] == 0)/X_train.shape[0]*100, 2)))"
   ]
  },
  {
   "cell_type": "markdown",
   "metadata": {
    "hidden": true
   },
   "source": [
    "Since the majority of Tanzania is not located at sea level, a large proportion of these 0 observations are definitely missing flags.\n",
    "\n",
    "For the challenge, I'm only allowed to use data provided on the challenge website. If I was to imput this feature, I would use the [Jawgmaps Elevation API](https://www.jawg.io/docs/apidocs/elevation/) to generate the altitude of the well using the given latitude and longitude values in the data. I'd need to fill any missing lat/long values before creating my new elevation feature."
   ]
  },
  {
   "cell_type": "code",
   "execution_count": 31,
   "metadata": {
    "hidden": true
   },
   "outputs": [
    {
     "data": {
      "text/html": [
       "<div>\n",
       "<style scoped>\n",
       "    .dataframe tbody tr th:only-of-type {\n",
       "        vertical-align: middle;\n",
       "    }\n",
       "\n",
       "    .dataframe tbody tr th {\n",
       "        vertical-align: top;\n",
       "    }\n",
       "\n",
       "    .dataframe thead th {\n",
       "        text-align: right;\n",
       "    }\n",
       "</style>\n",
       "<table border=\"1\" class=\"dataframe\">\n",
       "  <thead>\n",
       "    <tr style=\"text-align: right;\">\n",
       "      <th></th>\n",
       "      <th>count</th>\n",
       "      <th>mean</th>\n",
       "      <th>std</th>\n",
       "      <th>min</th>\n",
       "      <th>25%</th>\n",
       "      <th>50%</th>\n",
       "      <th>75%</th>\n",
       "      <th>max</th>\n",
       "    </tr>\n",
       "    <tr>\n",
       "      <th>region</th>\n",
       "      <th></th>\n",
       "      <th></th>\n",
       "      <th></th>\n",
       "      <th></th>\n",
       "      <th></th>\n",
       "      <th></th>\n",
       "      <th></th>\n",
       "      <th></th>\n",
       "    </tr>\n",
       "  </thead>\n",
       "  <tbody>\n",
       "    <tr>\n",
       "      <th>Arusha</th>\n",
       "      <td>3350.0</td>\n",
       "      <td>1401.144179</td>\n",
       "      <td>299.840596</td>\n",
       "      <td>594.0</td>\n",
       "      <td>1182.25</td>\n",
       "      <td>1401.0</td>\n",
       "      <td>1568.75</td>\n",
       "      <td>2770.0</td>\n",
       "    </tr>\n",
       "    <tr>\n",
       "      <th>Dar es Salaam</th>\n",
       "      <td>805.0</td>\n",
       "      <td>31.105590</td>\n",
       "      <td>38.325135</td>\n",
       "      <td>-63.0</td>\n",
       "      <td>5.00</td>\n",
       "      <td>29.0</td>\n",
       "      <td>60.00</td>\n",
       "      <td>151.0</td>\n",
       "    </tr>\n",
       "    <tr>\n",
       "      <th>Dodoma</th>\n",
       "      <td>2201.0</td>\n",
       "      <td>0.000000</td>\n",
       "      <td>0.000000</td>\n",
       "      <td>0.0</td>\n",
       "      <td>0.00</td>\n",
       "      <td>0.0</td>\n",
       "      <td>0.00</td>\n",
       "      <td>0.0</td>\n",
       "    </tr>\n",
       "    <tr>\n",
       "      <th>Iringa</th>\n",
       "      <td>5294.0</td>\n",
       "      <td>1697.442010</td>\n",
       "      <td>357.935649</td>\n",
       "      <td>443.0</td>\n",
       "      <td>1517.00</td>\n",
       "      <td>1719.0</td>\n",
       "      <td>1945.00</td>\n",
       "      <td>2568.0</td>\n",
       "    </tr>\n",
       "    <tr>\n",
       "      <th>Kagera</th>\n",
       "      <td>3316.0</td>\n",
       "      <td>0.000000</td>\n",
       "      <td>0.000000</td>\n",
       "      <td>0.0</td>\n",
       "      <td>0.00</td>\n",
       "      <td>0.0</td>\n",
       "      <td>0.00</td>\n",
       "      <td>0.0</td>\n",
       "    </tr>\n",
       "    <tr>\n",
       "      <th>Kigoma</th>\n",
       "      <td>2816.0</td>\n",
       "      <td>1235.562145</td>\n",
       "      <td>212.025702</td>\n",
       "      <td>768.0</td>\n",
       "      <td>1082.75</td>\n",
       "      <td>1274.0</td>\n",
       "      <td>1361.00</td>\n",
       "      <td>1760.0</td>\n",
       "    </tr>\n",
       "    <tr>\n",
       "      <th>Kilimanjaro</th>\n",
       "      <td>4379.0</td>\n",
       "      <td>1180.891528</td>\n",
       "      <td>332.544259</td>\n",
       "      <td>337.0</td>\n",
       "      <td>908.00</td>\n",
       "      <td>1241.0</td>\n",
       "      <td>1435.00</td>\n",
       "      <td>1888.0</td>\n",
       "    </tr>\n",
       "    <tr>\n",
       "      <th>Lindi</th>\n",
       "      <td>1546.0</td>\n",
       "      <td>212.866106</td>\n",
       "      <td>173.013974</td>\n",
       "      <td>-51.0</td>\n",
       "      <td>54.00</td>\n",
       "      <td>233.0</td>\n",
       "      <td>347.75</td>\n",
       "      <td>851.0</td>\n",
       "    </tr>\n",
       "    <tr>\n",
       "      <th>Manyara</th>\n",
       "      <td>1583.0</td>\n",
       "      <td>1426.077701</td>\n",
       "      <td>352.826622</td>\n",
       "      <td>561.0</td>\n",
       "      <td>1183.00</td>\n",
       "      <td>1474.0</td>\n",
       "      <td>1674.00</td>\n",
       "      <td>2253.0</td>\n",
       "    </tr>\n",
       "    <tr>\n",
       "      <th>Mara</th>\n",
       "      <td>1969.0</td>\n",
       "      <td>1341.625190</td>\n",
       "      <td>157.456723</td>\n",
       "      <td>1127.0</td>\n",
       "      <td>1214.00</td>\n",
       "      <td>1295.0</td>\n",
       "      <td>1434.00</td>\n",
       "      <td>1854.0</td>\n",
       "    </tr>\n",
       "    <tr>\n",
       "      <th>Mbeya</th>\n",
       "      <td>4639.0</td>\n",
       "      <td>0.000000</td>\n",
       "      <td>0.000000</td>\n",
       "      <td>0.0</td>\n",
       "      <td>0.00</td>\n",
       "      <td>0.0</td>\n",
       "      <td>0.00</td>\n",
       "      <td>0.0</td>\n",
       "    </tr>\n",
       "    <tr>\n",
       "      <th>Morogoro</th>\n",
       "      <td>4006.0</td>\n",
       "      <td>380.567399</td>\n",
       "      <td>245.183334</td>\n",
       "      <td>0.0</td>\n",
       "      <td>269.00</td>\n",
       "      <td>325.0</td>\n",
       "      <td>440.00</td>\n",
       "      <td>1665.0</td>\n",
       "    </tr>\n",
       "    <tr>\n",
       "      <th>Mtwara</th>\n",
       "      <td>1730.0</td>\n",
       "      <td>258.111561</td>\n",
       "      <td>183.093372</td>\n",
       "      <td>-90.0</td>\n",
       "      <td>118.25</td>\n",
       "      <td>285.5</td>\n",
       "      <td>366.00</td>\n",
       "      <td>879.0</td>\n",
       "    </tr>\n",
       "    <tr>\n",
       "      <th>Mwanza</th>\n",
       "      <td>3102.0</td>\n",
       "      <td>141.930690</td>\n",
       "      <td>387.846628</td>\n",
       "      <td>0.0</td>\n",
       "      <td>0.00</td>\n",
       "      <td>0.0</td>\n",
       "      <td>0.00</td>\n",
       "      <td>1328.0</td>\n",
       "    </tr>\n",
       "    <tr>\n",
       "      <th>Pwani</th>\n",
       "      <td>2635.0</td>\n",
       "      <td>82.576471</td>\n",
       "      <td>106.083214</td>\n",
       "      <td>-57.0</td>\n",
       "      <td>-3.00</td>\n",
       "      <td>45.0</td>\n",
       "      <td>140.00</td>\n",
       "      <td>399.0</td>\n",
       "    </tr>\n",
       "    <tr>\n",
       "      <th>Rukwa</th>\n",
       "      <td>1808.0</td>\n",
       "      <td>1404.461283</td>\n",
       "      <td>373.466501</td>\n",
       "      <td>743.0</td>\n",
       "      <td>1134.00</td>\n",
       "      <td>1484.5</td>\n",
       "      <td>1730.00</td>\n",
       "      <td>2222.0</td>\n",
       "    </tr>\n",
       "    <tr>\n",
       "      <th>Ruvuma</th>\n",
       "      <td>2640.0</td>\n",
       "      <td>903.740530</td>\n",
       "      <td>305.828440</td>\n",
       "      <td>294.0</td>\n",
       "      <td>683.00</td>\n",
       "      <td>924.5</td>\n",
       "      <td>1038.00</td>\n",
       "      <td>1840.0</td>\n",
       "    </tr>\n",
       "    <tr>\n",
       "      <th>Shinyanga</th>\n",
       "      <td>4982.0</td>\n",
       "      <td>44.472300</td>\n",
       "      <td>241.123411</td>\n",
       "      <td>0.0</td>\n",
       "      <td>0.00</td>\n",
       "      <td>0.0</td>\n",
       "      <td>0.00</td>\n",
       "      <td>1434.0</td>\n",
       "    </tr>\n",
       "    <tr>\n",
       "      <th>Singida</th>\n",
       "      <td>2093.0</td>\n",
       "      <td>1416.857621</td>\n",
       "      <td>200.435474</td>\n",
       "      <td>830.0</td>\n",
       "      <td>1314.00</td>\n",
       "      <td>1481.0</td>\n",
       "      <td>1558.00</td>\n",
       "      <td>1754.0</td>\n",
       "    </tr>\n",
       "    <tr>\n",
       "      <th>Tabora</th>\n",
       "      <td>1959.0</td>\n",
       "      <td>0.000000</td>\n",
       "      <td>0.000000</td>\n",
       "      <td>0.0</td>\n",
       "      <td>0.00</td>\n",
       "      <td>0.0</td>\n",
       "      <td>0.00</td>\n",
       "      <td>0.0</td>\n",
       "    </tr>\n",
       "    <tr>\n",
       "      <th>Tanga</th>\n",
       "      <td>2547.0</td>\n",
       "      <td>538.632509</td>\n",
       "      <td>625.377602</td>\n",
       "      <td>-39.0</td>\n",
       "      <td>0.00</td>\n",
       "      <td>293.0</td>\n",
       "      <td>1150.50</td>\n",
       "      <td>2024.0</td>\n",
       "    </tr>\n",
       "  </tbody>\n",
       "</table>\n",
       "</div>"
      ],
      "text/plain": [
       "                count         mean         std     min      25%     50%  \\\n",
       "region                                                                    \n",
       "Arusha         3350.0  1401.144179  299.840596   594.0  1182.25  1401.0   \n",
       "Dar es Salaam   805.0    31.105590   38.325135   -63.0     5.00    29.0   \n",
       "Dodoma         2201.0     0.000000    0.000000     0.0     0.00     0.0   \n",
       "Iringa         5294.0  1697.442010  357.935649   443.0  1517.00  1719.0   \n",
       "Kagera         3316.0     0.000000    0.000000     0.0     0.00     0.0   \n",
       "Kigoma         2816.0  1235.562145  212.025702   768.0  1082.75  1274.0   \n",
       "Kilimanjaro    4379.0  1180.891528  332.544259   337.0   908.00  1241.0   \n",
       "Lindi          1546.0   212.866106  173.013974   -51.0    54.00   233.0   \n",
       "Manyara        1583.0  1426.077701  352.826622   561.0  1183.00  1474.0   \n",
       "Mara           1969.0  1341.625190  157.456723  1127.0  1214.00  1295.0   \n",
       "Mbeya          4639.0     0.000000    0.000000     0.0     0.00     0.0   \n",
       "Morogoro       4006.0   380.567399  245.183334     0.0   269.00   325.0   \n",
       "Mtwara         1730.0   258.111561  183.093372   -90.0   118.25   285.5   \n",
       "Mwanza         3102.0   141.930690  387.846628     0.0     0.00     0.0   \n",
       "Pwani          2635.0    82.576471  106.083214   -57.0    -3.00    45.0   \n",
       "Rukwa          1808.0  1404.461283  373.466501   743.0  1134.00  1484.5   \n",
       "Ruvuma         2640.0   903.740530  305.828440   294.0   683.00   924.5   \n",
       "Shinyanga      4982.0    44.472300  241.123411     0.0     0.00     0.0   \n",
       "Singida        2093.0  1416.857621  200.435474   830.0  1314.00  1481.0   \n",
       "Tabora         1959.0     0.000000    0.000000     0.0     0.00     0.0   \n",
       "Tanga          2547.0   538.632509  625.377602   -39.0     0.00   293.0   \n",
       "\n",
       "                   75%     max  \n",
       "region                          \n",
       "Arusha         1568.75  2770.0  \n",
       "Dar es Salaam    60.00   151.0  \n",
       "Dodoma            0.00     0.0  \n",
       "Iringa         1945.00  2568.0  \n",
       "Kagera            0.00     0.0  \n",
       "Kigoma         1361.00  1760.0  \n",
       "Kilimanjaro    1435.00  1888.0  \n",
       "Lindi           347.75   851.0  \n",
       "Manyara        1674.00  2253.0  \n",
       "Mara           1434.00  1854.0  \n",
       "Mbeya             0.00     0.0  \n",
       "Morogoro        440.00  1665.0  \n",
       "Mtwara          366.00   879.0  \n",
       "Mwanza            0.00  1328.0  \n",
       "Pwani           140.00   399.0  \n",
       "Rukwa          1730.00  2222.0  \n",
       "Ruvuma         1038.00  1840.0  \n",
       "Shinyanga         0.00  1434.0  \n",
       "Singida        1558.00  1754.0  \n",
       "Tabora            0.00     0.0  \n",
       "Tanga          1150.50  2024.0  "
      ]
     },
     "execution_count": 31,
     "metadata": {},
     "output_type": "execute_result"
    }
   ],
   "source": [
    "X_train['gps_height'].groupby(X_train['region']).describe()"
   ]
  },
  {
   "cell_type": "markdown",
   "metadata": {
    "hidden": true
   },
   "source": [
    "Those same four regions are totally missing once again, and I suspect that they may be entirely missing for all numeric features."
   ]
  },
  {
   "cell_type": "markdown",
   "metadata": {
    "heading_collapsed": true
   },
   "source": [
    "#### num_private\n",
    "I'm not actually certain what this feature refers to, as, after fully reviewing the data set and the data documentation provided by the competition, I haven't found any logical explanation for what this could be conveying. \n",
    "Additionally, if 0 is used a a missing flag, it's possible that a incredibly large amount of the observations are missing.\n",
    "I'll most likely drop this from the working data before modeling."
   ]
  },
  {
   "cell_type": "code",
   "execution_count": 123,
   "metadata": {
    "hidden": true
   },
   "outputs": [
    {
     "name": "stdout",
     "output_type": "stream",
     "text": [
      "98.73% of the `num_private` observations are missing or 0.\n"
     ]
    }
   ],
   "source": [
    "print(\"{}% of the `num_private` observations are missing or 0.\".format(round(sum(X_train['num_private'] == 0)/X_train.shape[0]*100, 2)))"
   ]
  },
  {
   "cell_type": "markdown",
   "metadata": {
    "hidden": true
   },
   "source": [
    "I have two issues with the `num_private` feature. First, more than 98% of the observations are missing or 0, and I don't have an understanding of what it would mean for this feature to take on a zero value. Second, there is no description of this feature in the provided data information. Due to the incredibly high rate of missing values in this feature, I'll be dropping it from the working set."
   ]
  },
  {
   "cell_type": "markdown",
   "metadata": {},
   "source": [
    "#### population\n",
    "This feature lists the population found around the well."
   ]
  },
  {
   "cell_type": "code",
   "execution_count": 34,
   "metadata": {},
   "outputs": [
    {
     "data": {
      "text/plain": [
       "21381"
      ]
     },
     "execution_count": 34,
     "metadata": {},
     "output_type": "execute_result"
    }
   ],
   "source": [
    "sum(X_train['population'] == 0)"
   ]
  },
  {
   "cell_type": "code",
   "execution_count": 35,
   "metadata": {},
   "outputs": [
    {
     "name": "stdout",
     "output_type": "stream",
     "text": [
      " 35.99% of the 'population' observations are missing or 0.\n"
     ]
    }
   ],
   "source": [
    "txt = \"{percent: .2f}% of the 'population' observations are missing or 0.\"\n",
    "percent = sum(X_train['population'] == 0)/X_train.shape[0]*100\n",
    "print(txt.format(percent = percent))"
   ]
  },
  {
   "cell_type": "code",
   "execution_count": 36,
   "metadata": {
    "scrolled": true
   },
   "outputs": [
    {
     "data": {
      "text/plain": [
       "count    59400.000000\n",
       "mean       179.909983\n",
       "std        471.482176\n",
       "min          0.000000\n",
       "25%          0.000000\n",
       "50%         25.000000\n",
       "75%        215.000000\n",
       "max      30500.000000\n",
       "Name: population, dtype: float64"
      ]
     },
     "execution_count": 36,
     "metadata": {},
     "output_type": "execute_result"
    }
   ],
   "source": [
    "X_train['population'].describe()"
   ]
  },
  {
   "cell_type": "markdown",
   "metadata": {},
   "source": [
    "Again we see a very large number of 0 or missing values, and then a notably high maximum value. I'll want to review this feature for outliers as well."
   ]
  },
  {
   "cell_type": "code",
   "execution_count": 37,
   "metadata": {},
   "outputs": [],
   "source": [
    "#X_train[X_train['population'] == 0][train_cat].describe()\n",
    "#X_train[X_train['population'] == 0][train_num].describe()"
   ]
  },
  {
   "cell_type": "code",
   "execution_count": 286,
   "metadata": {
    "scrolled": false
   },
   "outputs": [
    {
     "data": {
      "text/plain": [
       "<seaborn.axisgrid.FacetGrid at 0x7f83c9be0860>"
      ]
     },
     "execution_count": 286,
     "metadata": {},
     "output_type": "execute_result"
    },
    {
     "data": {
      "image/png": "[encoded data removed]",
      "text/plain": [
       "<Figure size 360x360 with 1 Axes>"
      ]
     },
     "metadata": {
      "needs_background": "light"
     },
     "output_type": "display_data"
    }
   ],
   "source": [
    "sns.catplot(x = 'status_group', y = 'population', data = merged_df)"
   ]
  },
  {
   "cell_type": "code",
   "execution_count": 39,
   "metadata": {},
   "outputs": [
    {
     "data": {
      "text/plain": [
       "<matplotlib.axes._subplots.AxesSubplot at 0x7f84086c5b00>"
      ]
     },
     "execution_count": 39,
     "metadata": {},
     "output_type": "execute_result"
    },
    {
     "data": {
      "image/png": "[encoded data removed]",
      "text/plain": [
       "<Figure size 432x288 with 1 Axes>"
      ]
     },
     "metadata": {
      "needs_background": "light"
     },
     "output_type": "display_data"
    }
   ],
   "source": [
    "sns.boxplot(x = 'status_group', y = 'population', data = merged_df)"
   ]
  },
  {
   "cell_type": "code",
   "execution_count": 40,
   "metadata": {},
   "outputs": [
    {
     "data": {
      "text/plain": [
       "<matplotlib.axes._subplots.AxesSubplot at 0x7f84087401d0>"
      ]
     },
     "execution_count": 40,
     "metadata": {},
     "output_type": "execute_result"
    },
    {
     "data": {
      "image/png": "[encoded data removed]",
      "text/plain": [
       "<Figure size 432x288 with 1 Axes>"
      ]
     },
     "metadata": {
      "needs_background": "light"
     },
     "output_type": "display_data"
    }
   ],
   "source": [
    "sns.boxplot(x = 'status_group', y = 'population', data = merged_df[(merged_df['population'] < 12000) & (merged_df['population'] > 0)])"
   ]
  },
  {
   "cell_type": "code",
   "execution_count": 41,
   "metadata": {},
   "outputs": [
    {
     "data": {
      "text/html": [
       "<div>\n",
       "<style scoped>\n",
       "    .dataframe tbody tr th:only-of-type {\n",
       "        vertical-align: middle;\n",
       "    }\n",
       "\n",
       "    .dataframe tbody tr th {\n",
       "        vertical-align: top;\n",
       "    }\n",
       "\n",
       "    .dataframe thead th {\n",
       "        text-align: right;\n",
       "    }\n",
       "</style>\n",
       "<table border=\"1\" class=\"dataframe\">\n",
       "  <thead>\n",
       "    <tr style=\"text-align: right;\">\n",
       "      <th></th>\n",
       "      <th>id</th>\n",
       "      <th>amount_tsh</th>\n",
       "      <th>date_recorded</th>\n",
       "      <th>funder</th>\n",
       "      <th>gps_height</th>\n",
       "      <th>installer</th>\n",
       "      <th>longitude</th>\n",
       "      <th>latitude</th>\n",
       "      <th>wpt_name</th>\n",
       "      <th>num_private</th>\n",
       "      <th>basin</th>\n",
       "      <th>subvillage</th>\n",
       "      <th>region</th>\n",
       "      <th>region_code</th>\n",
       "      <th>district_code</th>\n",
       "      <th>lga</th>\n",
       "      <th>ward</th>\n",
       "      <th>population</th>\n",
       "      <th>public_meeting</th>\n",
       "      <th>recorded_by</th>\n",
       "      <th>scheme_management</th>\n",
       "      <th>scheme_name</th>\n",
       "      <th>permit</th>\n",
       "      <th>construction_year</th>\n",
       "      <th>extraction_type</th>\n",
       "      <th>extraction_type_group</th>\n",
       "      <th>extraction_type_class</th>\n",
       "      <th>management</th>\n",
       "      <th>management_group</th>\n",
       "      <th>payment</th>\n",
       "      <th>payment_type</th>\n",
       "      <th>water_quality</th>\n",
       "      <th>quality_group</th>\n",
       "      <th>quantity</th>\n",
       "      <th>quantity_group</th>\n",
       "      <th>source</th>\n",
       "      <th>source_type</th>\n",
       "      <th>source_class</th>\n",
       "      <th>waterpoint_type</th>\n",
       "      <th>waterpoint_type_group</th>\n",
       "    </tr>\n",
       "  </thead>\n",
       "  <tbody>\n",
       "    <tr>\n",
       "      <th>14308</th>\n",
       "      <td>49354</td>\n",
       "      <td>0.0</td>\n",
       "      <td>2013-02-21</td>\n",
       "      <td>Water Board</td>\n",
       "      <td>1084</td>\n",
       "      <td>Water board</td>\n",
       "      <td>36.386050</td>\n",
       "      <td>-4.787678</td>\n",
       "      <td>Mashineni</td>\n",
       "      <td>0</td>\n",
       "      <td>Internal</td>\n",
       "      <td>Engarakashi</td>\n",
       "      <td>Manyara</td>\n",
       "      <td>21</td>\n",
       "      <td>5</td>\n",
       "      <td>Kiteto</td>\n",
       "      <td>Makame</td>\n",
       "      <td>15300</td>\n",
       "      <td>True</td>\n",
       "      <td>GeoData Consultants Ltd</td>\n",
       "      <td>VWC</td>\n",
       "      <td>Water board</td>\n",
       "      <td>False</td>\n",
       "      <td>1983</td>\n",
       "      <td>submersible</td>\n",
       "      <td>submersible</td>\n",
       "      <td>submersible</td>\n",
       "      <td>vwc</td>\n",
       "      <td>user-group</td>\n",
       "      <td>never pay</td>\n",
       "      <td>never pay</td>\n",
       "      <td>soft</td>\n",
       "      <td>good</td>\n",
       "      <td>insufficient</td>\n",
       "      <td>insufficient</td>\n",
       "      <td>machine dbh</td>\n",
       "      <td>borehole</td>\n",
       "      <td>groundwater</td>\n",
       "      <td>communal standpipe</td>\n",
       "      <td>communal standpipe</td>\n",
       "    </tr>\n",
       "    <tr>\n",
       "      <th>30537</th>\n",
       "      <td>12169</td>\n",
       "      <td>0.0</td>\n",
       "      <td>2011-03-12</td>\n",
       "      <td>Government Of Tanzania</td>\n",
       "      <td>184</td>\n",
       "      <td>DWE</td>\n",
       "      <td>38.783756</td>\n",
       "      <td>-5.181904</td>\n",
       "      <td>Mkwajuni</td>\n",
       "      <td>0</td>\n",
       "      <td>Pangani</td>\n",
       "      <td>Mkwajuni</td>\n",
       "      <td>Tanga</td>\n",
       "      <td>4</td>\n",
       "      <td>3</td>\n",
       "      <td>Muheza</td>\n",
       "      <td>Masuguru</td>\n",
       "      <td>30500</td>\n",
       "      <td>True</td>\n",
       "      <td>GeoData Consultants Ltd</td>\n",
       "      <td>VWC</td>\n",
       "      <td>NaN</td>\n",
       "      <td>False</td>\n",
       "      <td>2008</td>\n",
       "      <td>nira/tanira</td>\n",
       "      <td>nira/tanira</td>\n",
       "      <td>handpump</td>\n",
       "      <td>vwc</td>\n",
       "      <td>user-group</td>\n",
       "      <td>never pay</td>\n",
       "      <td>never pay</td>\n",
       "      <td>salty</td>\n",
       "      <td>salty</td>\n",
       "      <td>insufficient</td>\n",
       "      <td>insufficient</td>\n",
       "      <td>shallow well</td>\n",
       "      <td>shallow well</td>\n",
       "      <td>groundwater</td>\n",
       "      <td>hand pump</td>\n",
       "      <td>hand pump</td>\n",
       "    </tr>\n",
       "  </tbody>\n",
       "</table>\n",
       "</div>"
      ],
      "text/plain": [
       "          id  amount_tsh date_recorded                  funder  gps_height  \\\n",
       "14308  49354         0.0    2013-02-21             Water Board        1084   \n",
       "30537  12169         0.0    2011-03-12  Government Of Tanzania         184   \n",
       "\n",
       "         installer  longitude  latitude   wpt_name  num_private     basin  \\\n",
       "14308  Water board  36.386050 -4.787678  Mashineni            0  Internal   \n",
       "30537          DWE  38.783756 -5.181904   Mkwajuni            0   Pangani   \n",
       "\n",
       "        subvillage   region  region_code  district_code     lga      ward  \\\n",
       "14308  Engarakashi  Manyara           21              5  Kiteto    Makame   \n",
       "30537     Mkwajuni    Tanga            4              3  Muheza  Masuguru   \n",
       "\n",
       "       population public_meeting              recorded_by scheme_management  \\\n",
       "14308       15300           True  GeoData Consultants Ltd               VWC   \n",
       "30537       30500           True  GeoData Consultants Ltd               VWC   \n",
       "\n",
       "       scheme_name permit  construction_year extraction_type  \\\n",
       "14308  Water board  False               1983     submersible   \n",
       "30537          NaN  False               2008     nira/tanira   \n",
       "\n",
       "      extraction_type_group extraction_type_class management management_group  \\\n",
       "14308           submersible           submersible        vwc       user-group   \n",
       "30537           nira/tanira              handpump        vwc       user-group   \n",
       "\n",
       "         payment payment_type water_quality quality_group      quantity  \\\n",
       "14308  never pay    never pay          soft          good  insufficient   \n",
       "30537  never pay    never pay         salty         salty  insufficient   \n",
       "\n",
       "      quantity_group        source   source_type source_class  \\\n",
       "14308   insufficient   machine dbh      borehole  groundwater   \n",
       "30537   insufficient  shallow well  shallow well  groundwater   \n",
       "\n",
       "          waterpoint_type waterpoint_type_group  \n",
       "14308  communal standpipe    communal standpipe  \n",
       "30537           hand pump             hand pump  "
      ]
     },
     "execution_count": 41,
     "metadata": {},
     "output_type": "execute_result"
    }
   ],
   "source": [
    "X_train[X_train['population'] > 12000]"
   ]
  },
  {
   "cell_type": "code",
   "execution_count": 42,
   "metadata": {},
   "outputs": [],
   "source": [
    "for x in X_train[X_train['population'] > 12000].index:\n",
    "    outlier_index.append(x)"
   ]
  },
  {
   "cell_type": "markdown",
   "metadata": {},
   "source": [
    "There are two incredibly high population values. I'll be marking these values and reviewing them when I go to look at outliers throughout the data set. I believe I'll most likely drop these two point before modeling, especially if I find that they represent additional inconsistencies."
   ]
  },
  {
   "cell_type": "code",
   "execution_count": 43,
   "metadata": {
    "scrolled": false
   },
   "outputs": [
    {
     "data": {
      "text/html": [
       "<div>\n",
       "<style scoped>\n",
       "    .dataframe tbody tr th:only-of-type {\n",
       "        vertical-align: middle;\n",
       "    }\n",
       "\n",
       "    .dataframe tbody tr th {\n",
       "        vertical-align: top;\n",
       "    }\n",
       "\n",
       "    .dataframe thead th {\n",
       "        text-align: right;\n",
       "    }\n",
       "</style>\n",
       "<table border=\"1\" class=\"dataframe\">\n",
       "  <thead>\n",
       "    <tr style=\"text-align: right;\">\n",
       "      <th></th>\n",
       "      <th>count</th>\n",
       "      <th>mean</th>\n",
       "      <th>std</th>\n",
       "      <th>min</th>\n",
       "      <th>25%</th>\n",
       "      <th>50%</th>\n",
       "      <th>75%</th>\n",
       "      <th>max</th>\n",
       "    </tr>\n",
       "    <tr>\n",
       "      <th>region</th>\n",
       "      <th></th>\n",
       "      <th></th>\n",
       "      <th></th>\n",
       "      <th></th>\n",
       "      <th></th>\n",
       "      <th></th>\n",
       "      <th></th>\n",
       "      <th></th>\n",
       "    </tr>\n",
       "  </thead>\n",
       "  <tbody>\n",
       "    <tr>\n",
       "      <th>Arusha</th>\n",
       "      <td>3350.0</td>\n",
       "      <td>262.239104</td>\n",
       "      <td>442.690742</td>\n",
       "      <td>0.0</td>\n",
       "      <td>120.0</td>\n",
       "      <td>150.0</td>\n",
       "      <td>253.00</td>\n",
       "      <td>9500.0</td>\n",
       "    </tr>\n",
       "    <tr>\n",
       "      <th>Dar es Salaam</th>\n",
       "      <td>805.0</td>\n",
       "      <td>240.843478</td>\n",
       "      <td>534.198421</td>\n",
       "      <td>1.0</td>\n",
       "      <td>90.0</td>\n",
       "      <td>150.0</td>\n",
       "      <td>250.00</td>\n",
       "      <td>9865.0</td>\n",
       "    </tr>\n",
       "    <tr>\n",
       "      <th>Dodoma</th>\n",
       "      <td>2201.0</td>\n",
       "      <td>0.000000</td>\n",
       "      <td>0.000000</td>\n",
       "      <td>0.0</td>\n",
       "      <td>0.0</td>\n",
       "      <td>0.0</td>\n",
       "      <td>0.00</td>\n",
       "      <td>0.0</td>\n",
       "    </tr>\n",
       "    <tr>\n",
       "      <th>Iringa</th>\n",
       "      <td>5294.0</td>\n",
       "      <td>94.304307</td>\n",
       "      <td>190.406908</td>\n",
       "      <td>0.0</td>\n",
       "      <td>1.0</td>\n",
       "      <td>40.0</td>\n",
       "      <td>85.00</td>\n",
       "      <td>3072.0</td>\n",
       "    </tr>\n",
       "    <tr>\n",
       "      <th>Kagera</th>\n",
       "      <td>3316.0</td>\n",
       "      <td>0.000000</td>\n",
       "      <td>0.000000</td>\n",
       "      <td>0.0</td>\n",
       "      <td>0.0</td>\n",
       "      <td>0.0</td>\n",
       "      <td>0.00</td>\n",
       "      <td>0.0</td>\n",
       "    </tr>\n",
       "    <tr>\n",
       "      <th>Kigoma</th>\n",
       "      <td>2816.0</td>\n",
       "      <td>500.241832</td>\n",
       "      <td>590.075269</td>\n",
       "      <td>0.0</td>\n",
       "      <td>225.0</td>\n",
       "      <td>360.0</td>\n",
       "      <td>540.00</td>\n",
       "      <td>8500.0</td>\n",
       "    </tr>\n",
       "    <tr>\n",
       "      <th>Kilimanjaro</th>\n",
       "      <td>4379.0</td>\n",
       "      <td>105.747888</td>\n",
       "      <td>294.260177</td>\n",
       "      <td>1.0</td>\n",
       "      <td>1.0</td>\n",
       "      <td>40.0</td>\n",
       "      <td>120.00</td>\n",
       "      <td>8000.0</td>\n",
       "    </tr>\n",
       "    <tr>\n",
       "      <th>Lindi</th>\n",
       "      <td>1546.0</td>\n",
       "      <td>364.404916</td>\n",
       "      <td>400.230048</td>\n",
       "      <td>1.0</td>\n",
       "      <td>200.0</td>\n",
       "      <td>300.0</td>\n",
       "      <td>422.25</td>\n",
       "      <td>5050.0</td>\n",
       "    </tr>\n",
       "    <tr>\n",
       "      <th>Manyara</th>\n",
       "      <td>1583.0</td>\n",
       "      <td>317.778269</td>\n",
       "      <td>582.243701</td>\n",
       "      <td>1.0</td>\n",
       "      <td>150.0</td>\n",
       "      <td>213.0</td>\n",
       "      <td>324.50</td>\n",
       "      <td>15300.0</td>\n",
       "    </tr>\n",
       "    <tr>\n",
       "      <th>Mara</th>\n",
       "      <td>1969.0</td>\n",
       "      <td>538.794312</td>\n",
       "      <td>831.300180</td>\n",
       "      <td>1.0</td>\n",
       "      <td>250.0</td>\n",
       "      <td>300.0</td>\n",
       "      <td>531.00</td>\n",
       "      <td>10000.0</td>\n",
       "    </tr>\n",
       "    <tr>\n",
       "      <th>Mbeya</th>\n",
       "      <td>4639.0</td>\n",
       "      <td>0.000000</td>\n",
       "      <td>0.000000</td>\n",
       "      <td>0.0</td>\n",
       "      <td>0.0</td>\n",
       "      <td>0.0</td>\n",
       "      <td>0.00</td>\n",
       "      <td>0.0</td>\n",
       "    </tr>\n",
       "    <tr>\n",
       "      <th>Morogoro</th>\n",
       "      <td>4006.0</td>\n",
       "      <td>264.625562</td>\n",
       "      <td>336.062820</td>\n",
       "      <td>1.0</td>\n",
       "      <td>80.0</td>\n",
       "      <td>200.0</td>\n",
       "      <td>300.00</td>\n",
       "      <td>5000.0</td>\n",
       "    </tr>\n",
       "    <tr>\n",
       "      <th>Mtwara</th>\n",
       "      <td>1730.0</td>\n",
       "      <td>267.441618</td>\n",
       "      <td>443.022905</td>\n",
       "      <td>1.0</td>\n",
       "      <td>1.0</td>\n",
       "      <td>123.0</td>\n",
       "      <td>370.00</td>\n",
       "      <td>5016.0</td>\n",
       "    </tr>\n",
       "    <tr>\n",
       "      <th>Mwanza</th>\n",
       "      <td>3102.0</td>\n",
       "      <td>65.315925</td>\n",
       "      <td>246.133684</td>\n",
       "      <td>0.0</td>\n",
       "      <td>0.0</td>\n",
       "      <td>0.0</td>\n",
       "      <td>0.00</td>\n",
       "      <td>5000.0</td>\n",
       "    </tr>\n",
       "    <tr>\n",
       "      <th>Pwani</th>\n",
       "      <td>2635.0</td>\n",
       "      <td>349.486148</td>\n",
       "      <td>970.349223</td>\n",
       "      <td>0.0</td>\n",
       "      <td>5.0</td>\n",
       "      <td>50.0</td>\n",
       "      <td>258.00</td>\n",
       "      <td>11463.0</td>\n",
       "    </tr>\n",
       "    <tr>\n",
       "      <th>Rukwa</th>\n",
       "      <td>1808.0</td>\n",
       "      <td>365.795907</td>\n",
       "      <td>743.326322</td>\n",
       "      <td>0.0</td>\n",
       "      <td>50.0</td>\n",
       "      <td>200.0</td>\n",
       "      <td>400.00</td>\n",
       "      <td>10000.0</td>\n",
       "    </tr>\n",
       "    <tr>\n",
       "      <th>Ruvuma</th>\n",
       "      <td>2640.0</td>\n",
       "      <td>199.019318</td>\n",
       "      <td>448.254062</td>\n",
       "      <td>0.0</td>\n",
       "      <td>1.0</td>\n",
       "      <td>80.0</td>\n",
       "      <td>250.00</td>\n",
       "      <td>8000.0</td>\n",
       "    </tr>\n",
       "    <tr>\n",
       "      <th>Shinyanga</th>\n",
       "      <td>4982.0</td>\n",
       "      <td>14.100963</td>\n",
       "      <td>86.515685</td>\n",
       "      <td>0.0</td>\n",
       "      <td>0.0</td>\n",
       "      <td>0.0</td>\n",
       "      <td>0.00</td>\n",
       "      <td>1500.0</td>\n",
       "    </tr>\n",
       "    <tr>\n",
       "      <th>Singida</th>\n",
       "      <td>2093.0</td>\n",
       "      <td>279.122312</td>\n",
       "      <td>494.217041</td>\n",
       "      <td>0.0</td>\n",
       "      <td>1.0</td>\n",
       "      <td>200.0</td>\n",
       "      <td>335.00</td>\n",
       "      <td>9000.0</td>\n",
       "    </tr>\n",
       "    <tr>\n",
       "      <th>Tabora</th>\n",
       "      <td>1959.0</td>\n",
       "      <td>0.000000</td>\n",
       "      <td>0.000000</td>\n",
       "      <td>0.0</td>\n",
       "      <td>0.0</td>\n",
       "      <td>0.0</td>\n",
       "      <td>0.00</td>\n",
       "      <td>0.0</td>\n",
       "    </tr>\n",
       "    <tr>\n",
       "      <th>Tanga</th>\n",
       "      <td>2547.0</td>\n",
       "      <td>246.753828</td>\n",
       "      <td>790.250035</td>\n",
       "      <td>1.0</td>\n",
       "      <td>1.0</td>\n",
       "      <td>80.0</td>\n",
       "      <td>264.00</td>\n",
       "      <td>30500.0</td>\n",
       "    </tr>\n",
       "  </tbody>\n",
       "</table>\n",
       "</div>"
      ],
      "text/plain": [
       "                count        mean         std  min    25%    50%     75%  \\\n",
       "region                                                                     \n",
       "Arusha         3350.0  262.239104  442.690742  0.0  120.0  150.0  253.00   \n",
       "Dar es Salaam   805.0  240.843478  534.198421  1.0   90.0  150.0  250.00   \n",
       "Dodoma         2201.0    0.000000    0.000000  0.0    0.0    0.0    0.00   \n",
       "Iringa         5294.0   94.304307  190.406908  0.0    1.0   40.0   85.00   \n",
       "Kagera         3316.0    0.000000    0.000000  0.0    0.0    0.0    0.00   \n",
       "Kigoma         2816.0  500.241832  590.075269  0.0  225.0  360.0  540.00   \n",
       "Kilimanjaro    4379.0  105.747888  294.260177  1.0    1.0   40.0  120.00   \n",
       "Lindi          1546.0  364.404916  400.230048  1.0  200.0  300.0  422.25   \n",
       "Manyara        1583.0  317.778269  582.243701  1.0  150.0  213.0  324.50   \n",
       "Mara           1969.0  538.794312  831.300180  1.0  250.0  300.0  531.00   \n",
       "Mbeya          4639.0    0.000000    0.000000  0.0    0.0    0.0    0.00   \n",
       "Morogoro       4006.0  264.625562  336.062820  1.0   80.0  200.0  300.00   \n",
       "Mtwara         1730.0  267.441618  443.022905  1.0    1.0  123.0  370.00   \n",
       "Mwanza         3102.0   65.315925  246.133684  0.0    0.0    0.0    0.00   \n",
       "Pwani          2635.0  349.486148  970.349223  0.0    5.0   50.0  258.00   \n",
       "Rukwa          1808.0  365.795907  743.326322  0.0   50.0  200.0  400.00   \n",
       "Ruvuma         2640.0  199.019318  448.254062  0.0    1.0   80.0  250.00   \n",
       "Shinyanga      4982.0   14.100963   86.515685  0.0    0.0    0.0    0.00   \n",
       "Singida        2093.0  279.122312  494.217041  0.0    1.0  200.0  335.00   \n",
       "Tabora         1959.0    0.000000    0.000000  0.0    0.0    0.0    0.00   \n",
       "Tanga          2547.0  246.753828  790.250035  1.0    1.0   80.0  264.00   \n",
       "\n",
       "                   max  \n",
       "region                  \n",
       "Arusha          9500.0  \n",
       "Dar es Salaam   9865.0  \n",
       "Dodoma             0.0  \n",
       "Iringa          3072.0  \n",
       "Kagera             0.0  \n",
       "Kigoma          8500.0  \n",
       "Kilimanjaro     8000.0  \n",
       "Lindi           5050.0  \n",
       "Manyara        15300.0  \n",
       "Mara           10000.0  \n",
       "Mbeya              0.0  \n",
       "Morogoro        5000.0  \n",
       "Mtwara          5016.0  \n",
       "Mwanza          5000.0  \n",
       "Pwani          11463.0  \n",
       "Rukwa          10000.0  \n",
       "Ruvuma          8000.0  \n",
       "Shinyanga       1500.0  \n",
       "Singida         9000.0  \n",
       "Tabora             0.0  \n",
       "Tanga          30500.0  "
      ]
     },
     "execution_count": 43,
     "metadata": {},
     "output_type": "execute_result"
    }
   ],
   "source": [
    "X_train['population'].groupby(X_train['region']).describe()"
   ]
  },
  {
   "cell_type": "code",
   "execution_count": 44,
   "metadata": {},
   "outputs": [
    {
     "data": {
      "text/html": [
       "<div>\n",
       "<style scoped>\n",
       "    .dataframe tbody tr th:only-of-type {\n",
       "        vertical-align: middle;\n",
       "    }\n",
       "\n",
       "    .dataframe tbody tr th {\n",
       "        vertical-align: top;\n",
       "    }\n",
       "\n",
       "    .dataframe thead th {\n",
       "        text-align: right;\n",
       "    }\n",
       "</style>\n",
       "<table border=\"1\" class=\"dataframe\">\n",
       "  <thead>\n",
       "    <tr style=\"text-align: right;\">\n",
       "      <th></th>\n",
       "      <th>count</th>\n",
       "      <th>mean</th>\n",
       "      <th>std</th>\n",
       "      <th>min</th>\n",
       "      <th>25%</th>\n",
       "      <th>50%</th>\n",
       "      <th>75%</th>\n",
       "      <th>max</th>\n",
       "    </tr>\n",
       "    <tr>\n",
       "      <th>region_code</th>\n",
       "      <th></th>\n",
       "      <th></th>\n",
       "      <th></th>\n",
       "      <th></th>\n",
       "      <th></th>\n",
       "      <th></th>\n",
       "      <th></th>\n",
       "      <th></th>\n",
       "    </tr>\n",
       "  </thead>\n",
       "  <tbody>\n",
       "    <tr>\n",
       "      <th>1</th>\n",
       "      <td>2201.0</td>\n",
       "      <td>0.000000</td>\n",
       "      <td>0.000000</td>\n",
       "      <td>0.0</td>\n",
       "      <td>0.0</td>\n",
       "      <td>0.0</td>\n",
       "      <td>0.00</td>\n",
       "      <td>0.0</td>\n",
       "    </tr>\n",
       "    <tr>\n",
       "      <th>2</th>\n",
       "      <td>3024.0</td>\n",
       "      <td>245.004299</td>\n",
       "      <td>428.327436</td>\n",
       "      <td>0.0</td>\n",
       "      <td>120.0</td>\n",
       "      <td>150.0</td>\n",
       "      <td>250.00</td>\n",
       "      <td>9500.0</td>\n",
       "    </tr>\n",
       "    <tr>\n",
       "      <th>3</th>\n",
       "      <td>4379.0</td>\n",
       "      <td>105.747888</td>\n",
       "      <td>294.260177</td>\n",
       "      <td>1.0</td>\n",
       "      <td>1.0</td>\n",
       "      <td>40.0</td>\n",
       "      <td>120.00</td>\n",
       "      <td>8000.0</td>\n",
       "    </tr>\n",
       "    <tr>\n",
       "      <th>4</th>\n",
       "      <td>2513.0</td>\n",
       "      <td>239.775965</td>\n",
       "      <td>790.095378</td>\n",
       "      <td>1.0</td>\n",
       "      <td>1.0</td>\n",
       "      <td>70.0</td>\n",
       "      <td>250.00</td>\n",
       "      <td>30500.0</td>\n",
       "    </tr>\n",
       "    <tr>\n",
       "      <th>5</th>\n",
       "      <td>4040.0</td>\n",
       "      <td>268.815594</td>\n",
       "      <td>342.339200</td>\n",
       "      <td>1.0</td>\n",
       "      <td>80.0</td>\n",
       "      <td>200.0</td>\n",
       "      <td>300.00</td>\n",
       "      <td>5000.0</td>\n",
       "    </tr>\n",
       "    <tr>\n",
       "      <th>6</th>\n",
       "      <td>1609.0</td>\n",
       "      <td>248.344313</td>\n",
       "      <td>660.116198</td>\n",
       "      <td>1.0</td>\n",
       "      <td>20.0</td>\n",
       "      <td>50.0</td>\n",
       "      <td>200.00</td>\n",
       "      <td>11463.0</td>\n",
       "    </tr>\n",
       "    <tr>\n",
       "      <th>7</th>\n",
       "      <td>805.0</td>\n",
       "      <td>240.843478</td>\n",
       "      <td>534.198421</td>\n",
       "      <td>1.0</td>\n",
       "      <td>90.0</td>\n",
       "      <td>150.0</td>\n",
       "      <td>250.00</td>\n",
       "      <td>9865.0</td>\n",
       "    </tr>\n",
       "    <tr>\n",
       "      <th>8</th>\n",
       "      <td>300.0</td>\n",
       "      <td>346.116667</td>\n",
       "      <td>423.693581</td>\n",
       "      <td>1.0</td>\n",
       "      <td>200.0</td>\n",
       "      <td>270.0</td>\n",
       "      <td>381.25</td>\n",
       "      <td>5050.0</td>\n",
       "    </tr>\n",
       "    <tr>\n",
       "      <th>9</th>\n",
       "      <td>390.0</td>\n",
       "      <td>248.353846</td>\n",
       "      <td>269.167598</td>\n",
       "      <td>1.0</td>\n",
       "      <td>1.0</td>\n",
       "      <td>217.5</td>\n",
       "      <td>408.75</td>\n",
       "      <td>2238.0</td>\n",
       "    </tr>\n",
       "    <tr>\n",
       "      <th>10</th>\n",
       "      <td>2640.0</td>\n",
       "      <td>199.019318</td>\n",
       "      <td>448.254062</td>\n",
       "      <td>0.0</td>\n",
       "      <td>1.0</td>\n",
       "      <td>80.0</td>\n",
       "      <td>250.00</td>\n",
       "      <td>8000.0</td>\n",
       "    </tr>\n",
       "    <tr>\n",
       "      <th>11</th>\n",
       "      <td>5300.0</td>\n",
       "      <td>94.197547</td>\n",
       "      <td>190.325506</td>\n",
       "      <td>0.0</td>\n",
       "      <td>1.0</td>\n",
       "      <td>40.0</td>\n",
       "      <td>85.00</td>\n",
       "      <td>3072.0</td>\n",
       "    </tr>\n",
       "    <tr>\n",
       "      <th>12</th>\n",
       "      <td>4639.0</td>\n",
       "      <td>0.000000</td>\n",
       "      <td>0.000000</td>\n",
       "      <td>0.0</td>\n",
       "      <td>0.0</td>\n",
       "      <td>0.0</td>\n",
       "      <td>0.00</td>\n",
       "      <td>0.0</td>\n",
       "    </tr>\n",
       "    <tr>\n",
       "      <th>13</th>\n",
       "      <td>2093.0</td>\n",
       "      <td>279.122312</td>\n",
       "      <td>494.217041</td>\n",
       "      <td>0.0</td>\n",
       "      <td>1.0</td>\n",
       "      <td>200.0</td>\n",
       "      <td>335.00</td>\n",
       "      <td>9000.0</td>\n",
       "    </tr>\n",
       "    <tr>\n",
       "      <th>14</th>\n",
       "      <td>1979.0</td>\n",
       "      <td>0.000000</td>\n",
       "      <td>0.000000</td>\n",
       "      <td>0.0</td>\n",
       "      <td>0.0</td>\n",
       "      <td>0.0</td>\n",
       "      <td>0.00</td>\n",
       "      <td>0.0</td>\n",
       "    </tr>\n",
       "    <tr>\n",
       "      <th>15</th>\n",
       "      <td>1808.0</td>\n",
       "      <td>365.795907</td>\n",
       "      <td>743.326322</td>\n",
       "      <td>0.0</td>\n",
       "      <td>50.0</td>\n",
       "      <td>200.0</td>\n",
       "      <td>400.00</td>\n",
       "      <td>10000.0</td>\n",
       "    </tr>\n",
       "    <tr>\n",
       "      <th>16</th>\n",
       "      <td>2816.0</td>\n",
       "      <td>500.241832</td>\n",
       "      <td>590.075269</td>\n",
       "      <td>0.0</td>\n",
       "      <td>225.0</td>\n",
       "      <td>360.0</td>\n",
       "      <td>540.00</td>\n",
       "      <td>8500.0</td>\n",
       "    </tr>\n",
       "    <tr>\n",
       "      <th>17</th>\n",
       "      <td>5011.0</td>\n",
       "      <td>14.019357</td>\n",
       "      <td>86.271559</td>\n",
       "      <td>0.0</td>\n",
       "      <td>0.0</td>\n",
       "      <td>0.0</td>\n",
       "      <td>0.00</td>\n",
       "      <td>1500.0</td>\n",
       "    </tr>\n",
       "    <tr>\n",
       "      <th>18</th>\n",
       "      <td>3324.0</td>\n",
       "      <td>0.483454</td>\n",
       "      <td>13.992927</td>\n",
       "      <td>0.0</td>\n",
       "      <td>0.0</td>\n",
       "      <td>0.0</td>\n",
       "      <td>0.00</td>\n",
       "      <td>453.0</td>\n",
       "    </tr>\n",
       "    <tr>\n",
       "      <th>19</th>\n",
       "      <td>3047.0</td>\n",
       "      <td>66.494913</td>\n",
       "      <td>248.187955</td>\n",
       "      <td>0.0</td>\n",
       "      <td>0.0</td>\n",
       "      <td>0.0</td>\n",
       "      <td>0.00</td>\n",
       "      <td>5000.0</td>\n",
       "    </tr>\n",
       "    <tr>\n",
       "      <th>20</th>\n",
       "      <td>1969.0</td>\n",
       "      <td>538.794312</td>\n",
       "      <td>831.300180</td>\n",
       "      <td>1.0</td>\n",
       "      <td>250.0</td>\n",
       "      <td>300.0</td>\n",
       "      <td>531.00</td>\n",
       "      <td>10000.0</td>\n",
       "    </tr>\n",
       "    <tr>\n",
       "      <th>21</th>\n",
       "      <td>1583.0</td>\n",
       "      <td>317.778269</td>\n",
       "      <td>582.243701</td>\n",
       "      <td>1.0</td>\n",
       "      <td>150.0</td>\n",
       "      <td>213.0</td>\n",
       "      <td>324.50</td>\n",
       "      <td>15300.0</td>\n",
       "    </tr>\n",
       "    <tr>\n",
       "      <th>24</th>\n",
       "      <td>326.0</td>\n",
       "      <td>422.110429</td>\n",
       "      <td>533.428106</td>\n",
       "      <td>1.0</td>\n",
       "      <td>150.0</td>\n",
       "      <td>200.0</td>\n",
       "      <td>400.00</td>\n",
       "      <td>3500.0</td>\n",
       "    </tr>\n",
       "    <tr>\n",
       "      <th>40</th>\n",
       "      <td>1.0</td>\n",
       "      <td>60.000000</td>\n",
       "      <td>NaN</td>\n",
       "      <td>60.0</td>\n",
       "      <td>60.0</td>\n",
       "      <td>60.0</td>\n",
       "      <td>60.00</td>\n",
       "      <td>60.0</td>\n",
       "    </tr>\n",
       "    <tr>\n",
       "      <th>60</th>\n",
       "      <td>1025.0</td>\n",
       "      <td>508.536585</td>\n",
       "      <td>1302.398316</td>\n",
       "      <td>0.0</td>\n",
       "      <td>1.0</td>\n",
       "      <td>40.0</td>\n",
       "      <td>454.00</td>\n",
       "      <td>8000.0</td>\n",
       "    </tr>\n",
       "    <tr>\n",
       "      <th>80</th>\n",
       "      <td>1238.0</td>\n",
       "      <td>369.893376</td>\n",
       "      <td>395.128863</td>\n",
       "      <td>1.0</td>\n",
       "      <td>200.0</td>\n",
       "      <td>300.0</td>\n",
       "      <td>434.25</td>\n",
       "      <td>3560.0</td>\n",
       "    </tr>\n",
       "    <tr>\n",
       "      <th>90</th>\n",
       "      <td>917.0</td>\n",
       "      <td>173.992366</td>\n",
       "      <td>443.216263</td>\n",
       "      <td>1.0</td>\n",
       "      <td>1.0</td>\n",
       "      <td>44.0</td>\n",
       "      <td>150.00</td>\n",
       "      <td>5016.0</td>\n",
       "    </tr>\n",
       "    <tr>\n",
       "      <th>99</th>\n",
       "      <td>423.0</td>\n",
       "      <td>487.624113</td>\n",
       "      <td>493.006151</td>\n",
       "      <td>1.0</td>\n",
       "      <td>200.0</td>\n",
       "      <td>350.0</td>\n",
       "      <td>500.00</td>\n",
       "      <td>3000.0</td>\n",
       "    </tr>\n",
       "  </tbody>\n",
       "</table>\n",
       "</div>"
      ],
      "text/plain": [
       "              count        mean          std   min    25%    50%     75%  \\\n",
       "region_code                                                                \n",
       "1            2201.0    0.000000     0.000000   0.0    0.0    0.0    0.00   \n",
       "2            3024.0  245.004299   428.327436   0.0  120.0  150.0  250.00   \n",
       "3            4379.0  105.747888   294.260177   1.0    1.0   40.0  120.00   \n",
       "4            2513.0  239.775965   790.095378   1.0    1.0   70.0  250.00   \n",
       "5            4040.0  268.815594   342.339200   1.0   80.0  200.0  300.00   \n",
       "6            1609.0  248.344313   660.116198   1.0   20.0   50.0  200.00   \n",
       "7             805.0  240.843478   534.198421   1.0   90.0  150.0  250.00   \n",
       "8             300.0  346.116667   423.693581   1.0  200.0  270.0  381.25   \n",
       "9             390.0  248.353846   269.167598   1.0    1.0  217.5  408.75   \n",
       "10           2640.0  199.019318   448.254062   0.0    1.0   80.0  250.00   \n",
       "11           5300.0   94.197547   190.325506   0.0    1.0   40.0   85.00   \n",
       "12           4639.0    0.000000     0.000000   0.0    0.0    0.0    0.00   \n",
       "13           2093.0  279.122312   494.217041   0.0    1.0  200.0  335.00   \n",
       "14           1979.0    0.000000     0.000000   0.0    0.0    0.0    0.00   \n",
       "15           1808.0  365.795907   743.326322   0.0   50.0  200.0  400.00   \n",
       "16           2816.0  500.241832   590.075269   0.0  225.0  360.0  540.00   \n",
       "17           5011.0   14.019357    86.271559   0.0    0.0    0.0    0.00   \n",
       "18           3324.0    0.483454    13.992927   0.0    0.0    0.0    0.00   \n",
       "19           3047.0   66.494913   248.187955   0.0    0.0    0.0    0.00   \n",
       "20           1969.0  538.794312   831.300180   1.0  250.0  300.0  531.00   \n",
       "21           1583.0  317.778269   582.243701   1.0  150.0  213.0  324.50   \n",
       "24            326.0  422.110429   533.428106   1.0  150.0  200.0  400.00   \n",
       "40              1.0   60.000000          NaN  60.0   60.0   60.0   60.00   \n",
       "60           1025.0  508.536585  1302.398316   0.0    1.0   40.0  454.00   \n",
       "80           1238.0  369.893376   395.128863   1.0  200.0  300.0  434.25   \n",
       "90            917.0  173.992366   443.216263   1.0    1.0   44.0  150.00   \n",
       "99            423.0  487.624113   493.006151   1.0  200.0  350.0  500.00   \n",
       "\n",
       "                 max  \n",
       "region_code           \n",
       "1                0.0  \n",
       "2             9500.0  \n",
       "3             8000.0  \n",
       "4            30500.0  \n",
       "5             5000.0  \n",
       "6            11463.0  \n",
       "7             9865.0  \n",
       "8             5050.0  \n",
       "9             2238.0  \n",
       "10            8000.0  \n",
       "11            3072.0  \n",
       "12               0.0  \n",
       "13            9000.0  \n",
       "14               0.0  \n",
       "15           10000.0  \n",
       "16            8500.0  \n",
       "17            1500.0  \n",
       "18             453.0  \n",
       "19            5000.0  \n",
       "20           10000.0  \n",
       "21           15300.0  \n",
       "24            3500.0  \n",
       "40              60.0  \n",
       "60            8000.0  \n",
       "80            3560.0  \n",
       "90            5016.0  \n",
       "99            3000.0  "
      ]
     },
     "execution_count": 44,
     "metadata": {},
     "output_type": "execute_result"
    }
   ],
   "source": [
    "X_train['population'].groupby(X_train['region_code']).describe()"
   ]
  },
  {
   "cell_type": "markdown",
   "metadata": {},
   "source": [
    "Again those same four regions are entirely devoid of information. They represent far too large of a percentage of the data to be dropped, but will prove to be the most difficult when filling them. To assist with the filling of the `population` values, I'll be creating a dictionary of the population data as given by the 2012 Tanzania census, and will use the average (Calculated as `(Total Population of a given Ward)/(Number of Wells in the Ward)`) to fill the 0 values.\n",
    "\n",
    "I'm also noticing a somewhat confusing relationship between region_code and the regions. I'm not sure how a region was assigned to a specific code, as there are a confusing number of levels to the `region_code` feature, and some which are representative of only one observation. I'll keep this feature in the data for modeling, to review its significance (using the ensemble methods I'm planning on using already), and then determine if it is useful to retain. I'll also create my own encoded version of the regions, based on my updated region information that I'll get from the above mentioned dictionary."
   ]
  },
  {
   "cell_type": "markdown",
   "metadata": {
    "heading_collapsed": true
   },
   "source": [
    "#### latitude and longitude\n",
    "These two features describe the latitude and longitude, respectively, of the wells.\n",
    "\n",
    "The the listed center values for Tanzania, on Google Maps, are 6.3690° S, 34.8888° E. Values for West and South in the data set are marked as negative values."
   ]
  },
  {
   "cell_type": "code",
   "execution_count": 45,
   "metadata": {
    "hidden": true
   },
   "outputs": [
    {
     "data": {
      "text/plain": [
       "-5.706032659626503"
      ]
     },
     "execution_count": 45,
     "metadata": {},
     "output_type": "execute_result"
    }
   ],
   "source": [
    "X_train['latitude'].mean()"
   ]
  },
  {
   "cell_type": "code",
   "execution_count": 46,
   "metadata": {
    "hidden": true
   },
   "outputs": [
    {
     "data": {
      "text/plain": [
       "34.07742669202832"
      ]
     },
     "execution_count": 46,
     "metadata": {},
     "output_type": "execute_result"
    }
   ],
   "source": [
    "X_train['longitude'].mean()"
   ]
  },
  {
   "cell_type": "code",
   "execution_count": 47,
   "metadata": {
    "hidden": true
   },
   "outputs": [
    {
     "data": {
      "text/plain": [
       "1812"
      ]
     },
     "execution_count": 47,
     "metadata": {},
     "output_type": "execute_result"
    }
   ],
   "source": [
    "sum(X_train['longitude'] == 0)"
   ]
  },
  {
   "cell_type": "code",
   "execution_count": 48,
   "metadata": {
    "hidden": true
   },
   "outputs": [
    {
     "data": {
      "text/plain": [
       "0"
      ]
     },
     "execution_count": 48,
     "metadata": {},
     "output_type": "execute_result"
    }
   ],
   "source": [
    "sum(X_train['latitude'] ==0)"
   ]
  },
  {
   "cell_type": "markdown",
   "metadata": {
    "hidden": true
   },
   "source": [
    "There are 1812 observations for which the longitude is 0, but Tanzania does not cross the equator. As such, there are no locations in the data set which would actually take on a value of 0. There are no values for latitude listed as 0, but I find it hard to believe that the longitudes are missing and the latitudes are not. There must be a different flag used for the latitude."
   ]
  },
  {
   "cell_type": "code",
   "execution_count": 124,
   "metadata": {
    "hidden": true
   },
   "outputs": [
    {
     "data": {
      "text/plain": [
       "21    -2.000000e-08\n",
       "53    -2.000000e-08\n",
       "168   -2.000000e-08\n",
       "177   -2.000000e-08\n",
       "253   -2.000000e-08\n",
       "Name: latitude, dtype: float64"
      ]
     },
     "execution_count": 124,
     "metadata": {},
     "output_type": "execute_result"
    }
   ],
   "source": [
    "X_train[X_train['longitude'] == 0]['latitude'].head()#.groupby(X_train.subvillage).describe()"
   ]
  },
  {
   "cell_type": "code",
   "execution_count": 50,
   "metadata": {
    "hidden": true,
    "scrolled": true
   },
   "outputs": [
    {
     "data": {
      "text/plain": [
       "1812"
      ]
     },
     "execution_count": 50,
     "metadata": {},
     "output_type": "execute_result"
    }
   ],
   "source": [
    "sum(X_train['latitude'] == -2.000000e-08)"
   ]
  },
  {
   "cell_type": "markdown",
   "metadata": {
    "hidden": true
   },
   "source": [
    "The value `-2.000000e-08` is used as the latitude missing flag in this data."
   ]
  },
  {
   "cell_type": "code",
   "execution_count": 51,
   "metadata": {
    "hidden": true
   },
   "outputs": [
    {
     "data": {
      "text/html": [
       "<div>\n",
       "<style scoped>\n",
       "    .dataframe tbody tr th:only-of-type {\n",
       "        vertical-align: middle;\n",
       "    }\n",
       "\n",
       "    .dataframe tbody tr th {\n",
       "        vertical-align: top;\n",
       "    }\n",
       "\n",
       "    .dataframe thead tr th {\n",
       "        text-align: left;\n",
       "    }\n",
       "\n",
       "    .dataframe thead tr:last-of-type th {\n",
       "        text-align: right;\n",
       "    }\n",
       "</style>\n",
       "<table border=\"1\" class=\"dataframe\">\n",
       "  <thead>\n",
       "    <tr>\n",
       "      <th></th>\n",
       "      <th colspan=\"8\" halign=\"left\">id</th>\n",
       "      <th colspan=\"8\" halign=\"left\">amount_tsh</th>\n",
       "      <th colspan=\"4\" halign=\"left\">gps_height</th>\n",
       "      <th>...</th>\n",
       "      <th colspan=\"4\" halign=\"left\">district_code</th>\n",
       "      <th colspan=\"8\" halign=\"left\">population</th>\n",
       "      <th colspan=\"8\" halign=\"left\">construction_year</th>\n",
       "    </tr>\n",
       "    <tr>\n",
       "      <th></th>\n",
       "      <th>count</th>\n",
       "      <th>mean</th>\n",
       "      <th>std</th>\n",
       "      <th>min</th>\n",
       "      <th>25%</th>\n",
       "      <th>50%</th>\n",
       "      <th>75%</th>\n",
       "      <th>max</th>\n",
       "      <th>count</th>\n",
       "      <th>mean</th>\n",
       "      <th>std</th>\n",
       "      <th>min</th>\n",
       "      <th>25%</th>\n",
       "      <th>50%</th>\n",
       "      <th>75%</th>\n",
       "      <th>max</th>\n",
       "      <th>count</th>\n",
       "      <th>mean</th>\n",
       "      <th>std</th>\n",
       "      <th>min</th>\n",
       "      <th>...</th>\n",
       "      <th>25%</th>\n",
       "      <th>50%</th>\n",
       "      <th>75%</th>\n",
       "      <th>max</th>\n",
       "      <th>count</th>\n",
       "      <th>mean</th>\n",
       "      <th>std</th>\n",
       "      <th>min</th>\n",
       "      <th>25%</th>\n",
       "      <th>50%</th>\n",
       "      <th>75%</th>\n",
       "      <th>max</th>\n",
       "      <th>count</th>\n",
       "      <th>mean</th>\n",
       "      <th>std</th>\n",
       "      <th>min</th>\n",
       "      <th>25%</th>\n",
       "      <th>50%</th>\n",
       "      <th>75%</th>\n",
       "      <th>max</th>\n",
       "    </tr>\n",
       "    <tr>\n",
       "      <th>region</th>\n",
       "      <th></th>\n",
       "      <th></th>\n",
       "      <th></th>\n",
       "      <th></th>\n",
       "      <th></th>\n",
       "      <th></th>\n",
       "      <th></th>\n",
       "      <th></th>\n",
       "      <th></th>\n",
       "      <th></th>\n",
       "      <th></th>\n",
       "      <th></th>\n",
       "      <th></th>\n",
       "      <th></th>\n",
       "      <th></th>\n",
       "      <th></th>\n",
       "      <th></th>\n",
       "      <th></th>\n",
       "      <th></th>\n",
       "      <th></th>\n",
       "      <th></th>\n",
       "      <th></th>\n",
       "      <th></th>\n",
       "      <th></th>\n",
       "      <th></th>\n",
       "      <th></th>\n",
       "      <th></th>\n",
       "      <th></th>\n",
       "      <th></th>\n",
       "      <th></th>\n",
       "      <th></th>\n",
       "      <th></th>\n",
       "      <th></th>\n",
       "      <th></th>\n",
       "      <th></th>\n",
       "      <th></th>\n",
       "      <th></th>\n",
       "      <th></th>\n",
       "      <th></th>\n",
       "      <th></th>\n",
       "      <th></th>\n",
       "    </tr>\n",
       "  </thead>\n",
       "  <tbody>\n",
       "    <tr>\n",
       "      <th>Mwanza</th>\n",
       "      <td>807.0</td>\n",
       "      <td>38365.079306</td>\n",
       "      <td>21801.929635</td>\n",
       "      <td>15.0</td>\n",
       "      <td>18536.5</td>\n",
       "      <td>40272.0</td>\n",
       "      <td>56729.5</td>\n",
       "      <td>74190.0</td>\n",
       "      <td>807.0</td>\n",
       "      <td>0.0</td>\n",
       "      <td>0.0</td>\n",
       "      <td>0.0</td>\n",
       "      <td>0.0</td>\n",
       "      <td>0.0</td>\n",
       "      <td>0.0</td>\n",
       "      <td>0.0</td>\n",
       "      <td>807.0</td>\n",
       "      <td>0.0</td>\n",
       "      <td>0.0</td>\n",
       "      <td>0.0</td>\n",
       "      <td>...</td>\n",
       "      <td>2.0</td>\n",
       "      <td>6.0</td>\n",
       "      <td>6.0</td>\n",
       "      <td>6.0</td>\n",
       "      <td>807.0</td>\n",
       "      <td>0.0</td>\n",
       "      <td>0.0</td>\n",
       "      <td>0.0</td>\n",
       "      <td>0.0</td>\n",
       "      <td>0.0</td>\n",
       "      <td>0.0</td>\n",
       "      <td>0.0</td>\n",
       "      <td>807.0</td>\n",
       "      <td>0.0</td>\n",
       "      <td>0.0</td>\n",
       "      <td>0.0</td>\n",
       "      <td>0.0</td>\n",
       "      <td>0.0</td>\n",
       "      <td>0.0</td>\n",
       "      <td>0.0</td>\n",
       "    </tr>\n",
       "    <tr>\n",
       "      <th>Shinyanga</th>\n",
       "      <td>1005.0</td>\n",
       "      <td>36606.739303</td>\n",
       "      <td>21073.965942</td>\n",
       "      <td>194.0</td>\n",
       "      <td>18436.0</td>\n",
       "      <td>35776.0</td>\n",
       "      <td>54378.0</td>\n",
       "      <td>74193.0</td>\n",
       "      <td>1005.0</td>\n",
       "      <td>0.0</td>\n",
       "      <td>0.0</td>\n",
       "      <td>0.0</td>\n",
       "      <td>0.0</td>\n",
       "      <td>0.0</td>\n",
       "      <td>0.0</td>\n",
       "      <td>0.0</td>\n",
       "      <td>1005.0</td>\n",
       "      <td>0.0</td>\n",
       "      <td>0.0</td>\n",
       "      <td>0.0</td>\n",
       "      <td>...</td>\n",
       "      <td>1.0</td>\n",
       "      <td>1.0</td>\n",
       "      <td>1.0</td>\n",
       "      <td>4.0</td>\n",
       "      <td>1005.0</td>\n",
       "      <td>0.0</td>\n",
       "      <td>0.0</td>\n",
       "      <td>0.0</td>\n",
       "      <td>0.0</td>\n",
       "      <td>0.0</td>\n",
       "      <td>0.0</td>\n",
       "      <td>0.0</td>\n",
       "      <td>1005.0</td>\n",
       "      <td>0.0</td>\n",
       "      <td>0.0</td>\n",
       "      <td>0.0</td>\n",
       "      <td>0.0</td>\n",
       "      <td>0.0</td>\n",
       "      <td>0.0</td>\n",
       "      <td>0.0</td>\n",
       "    </tr>\n",
       "  </tbody>\n",
       "</table>\n",
       "<p>2 rows × 80 columns</p>\n",
       "</div>"
      ],
      "text/plain": [
       "               id                                                       \\\n",
       "            count          mean           std    min      25%      50%   \n",
       "region                                                                   \n",
       "Mwanza      807.0  38365.079306  21801.929635   15.0  18536.5  40272.0   \n",
       "Shinyanga  1005.0  36606.739303  21073.965942  194.0  18436.0  35776.0   \n",
       "\n",
       "                            amount_tsh                                     \\\n",
       "               75%      max      count mean  std  min  25%  50%  75%  max   \n",
       "region                                                                      \n",
       "Mwanza     56729.5  74190.0      807.0  0.0  0.0  0.0  0.0  0.0  0.0  0.0   \n",
       "Shinyanga  54378.0  74193.0     1005.0  0.0  0.0  0.0  0.0  0.0  0.0  0.0   \n",
       "\n",
       "          gps_height                 ... district_code                 \\\n",
       "               count mean  std  min  ...           25%  50%  75%  max   \n",
       "region                               ...                                \n",
       "Mwanza         807.0  0.0  0.0  0.0  ...           2.0  6.0  6.0  6.0   \n",
       "Shinyanga     1005.0  0.0  0.0  0.0  ...           1.0  1.0  1.0  4.0   \n",
       "\n",
       "          population                                    construction_year  \\\n",
       "               count mean  std  min  25%  50%  75%  max             count   \n",
       "region                                                                      \n",
       "Mwanza         807.0  0.0  0.0  0.0  0.0  0.0  0.0  0.0             807.0   \n",
       "Shinyanga     1005.0  0.0  0.0  0.0  0.0  0.0  0.0  0.0            1005.0   \n",
       "\n",
       "                                              \n",
       "          mean  std  min  25%  50%  75%  max  \n",
       "region                                        \n",
       "Mwanza     0.0  0.0  0.0  0.0  0.0  0.0  0.0  \n",
       "Shinyanga  0.0  0.0  0.0  0.0  0.0  0.0  0.0  \n",
       "\n",
       "[2 rows x 80 columns]"
      ]
     },
     "execution_count": 51,
     "metadata": {},
     "output_type": "execute_result"
    }
   ],
   "source": [
    "X_train[X_train['longitude'] == 0].groupby(X_train.region).describe()"
   ]
  },
  {
   "cell_type": "markdown",
   "metadata": {
    "hidden": true
   },
   "source": [
    "The only observations which do not have known latitude and longitudes are found in, exclusively, two regions:\n",
    "+ Mwanza\n",
    "+ Shinyanga"
   ]
  },
  {
   "cell_type": "code",
   "execution_count": 52,
   "metadata": {
    "hidden": true
   },
   "outputs": [
    {
     "data": {
      "text/html": [
       "<div>\n",
       "<style scoped>\n",
       "    .dataframe tbody tr th:only-of-type {\n",
       "        vertical-align: middle;\n",
       "    }\n",
       "\n",
       "    .dataframe tbody tr th {\n",
       "        vertical-align: top;\n",
       "    }\n",
       "\n",
       "    .dataframe thead th {\n",
       "        text-align: right;\n",
       "    }\n",
       "</style>\n",
       "<table border=\"1\" class=\"dataframe\">\n",
       "  <thead>\n",
       "    <tr style=\"text-align: right;\">\n",
       "      <th></th>\n",
       "      <th>latitude</th>\n",
       "      <th>longitude</th>\n",
       "    </tr>\n",
       "  </thead>\n",
       "  <tbody>\n",
       "    <tr>\n",
       "      <th>count</th>\n",
       "      <td>2295.000000</td>\n",
       "      <td>2295.000000</td>\n",
       "    </tr>\n",
       "    <tr>\n",
       "      <th>mean</th>\n",
       "      <td>-2.620502</td>\n",
       "      <td>33.091564</td>\n",
       "    </tr>\n",
       "    <tr>\n",
       "      <th>std</th>\n",
       "      <td>0.329898</td>\n",
       "      <td>0.329287</td>\n",
       "    </tr>\n",
       "    <tr>\n",
       "      <th>min</th>\n",
       "      <td>-3.424444</td>\n",
       "      <td>32.046458</td>\n",
       "    </tr>\n",
       "    <tr>\n",
       "      <th>25%</th>\n",
       "      <td>-2.847182</td>\n",
       "      <td>32.943112</td>\n",
       "    </tr>\n",
       "    <tr>\n",
       "      <th>50%</th>\n",
       "      <td>-2.634751</td>\n",
       "      <td>33.081836</td>\n",
       "    </tr>\n",
       "    <tr>\n",
       "      <th>75%</th>\n",
       "      <td>-2.476632</td>\n",
       "      <td>33.345810</td>\n",
       "    </tr>\n",
       "    <tr>\n",
       "      <th>max</th>\n",
       "      <td>-1.714486</td>\n",
       "      <td>33.756895</td>\n",
       "    </tr>\n",
       "  </tbody>\n",
       "</table>\n",
       "</div>"
      ],
      "text/plain": [
       "          latitude    longitude\n",
       "count  2295.000000  2295.000000\n",
       "mean     -2.620502    33.091564\n",
       "std       0.329898     0.329287\n",
       "min      -3.424444    32.046458\n",
       "25%      -2.847182    32.943112\n",
       "50%      -2.634751    33.081836\n",
       "75%      -2.476632    33.345810\n",
       "max      -1.714486    33.756895"
      ]
     },
     "execution_count": 52,
     "metadata": {},
     "output_type": "execute_result"
    }
   ],
   "source": [
    "X_train[(X_train['region'] == 'Mwanza') & (X_train['latitude'] < -0.01) & (X_train['longitude'] > 0)].describe()[['latitude', 'longitude']]"
   ]
  },
  {
   "cell_type": "code",
   "execution_count": 53,
   "metadata": {
    "hidden": true
   },
   "outputs": [
    {
     "data": {
      "text/html": [
       "<div>\n",
       "<style scoped>\n",
       "    .dataframe tbody tr th:only-of-type {\n",
       "        vertical-align: middle;\n",
       "    }\n",
       "\n",
       "    .dataframe tbody tr th {\n",
       "        vertical-align: top;\n",
       "    }\n",
       "\n",
       "    .dataframe thead th {\n",
       "        text-align: right;\n",
       "    }\n",
       "</style>\n",
       "<table border=\"1\" class=\"dataframe\">\n",
       "  <thead>\n",
       "    <tr style=\"text-align: right;\">\n",
       "      <th></th>\n",
       "      <th>latitude</th>\n",
       "      <th>longitude</th>\n",
       "    </tr>\n",
       "  </thead>\n",
       "  <tbody>\n",
       "    <tr>\n",
       "      <th>count</th>\n",
       "      <td>3977.000000</td>\n",
       "      <td>3977.000000</td>\n",
       "    </tr>\n",
       "    <tr>\n",
       "      <th>mean</th>\n",
       "      <td>-3.495696</td>\n",
       "      <td>33.240121</td>\n",
       "    </tr>\n",
       "    <tr>\n",
       "      <th>std</th>\n",
       "      <td>0.328573</td>\n",
       "      <td>0.765545</td>\n",
       "    </tr>\n",
       "    <tr>\n",
       "      <th>min</th>\n",
       "      <td>-4.381946</td>\n",
       "      <td>31.454726</td>\n",
       "    </tr>\n",
       "    <tr>\n",
       "      <th>25%</th>\n",
       "      <td>-3.768391</td>\n",
       "      <td>32.535525</td>\n",
       "    </tr>\n",
       "    <tr>\n",
       "      <th>50%</th>\n",
       "      <td>-3.499209</td>\n",
       "      <td>33.437223</td>\n",
       "    </tr>\n",
       "    <tr>\n",
       "      <th>75%</th>\n",
       "      <td>-3.229457</td>\n",
       "      <td>33.860597</td>\n",
       "    </tr>\n",
       "    <tr>\n",
       "      <th>max</th>\n",
       "      <td>-2.823028</td>\n",
       "      <td>34.758734</td>\n",
       "    </tr>\n",
       "  </tbody>\n",
       "</table>\n",
       "</div>"
      ],
      "text/plain": [
       "          latitude    longitude\n",
       "count  3977.000000  3977.000000\n",
       "mean     -3.495696    33.240121\n",
       "std       0.328573     0.765545\n",
       "min      -4.381946    31.454726\n",
       "25%      -3.768391    32.535525\n",
       "50%      -3.499209    33.437223\n",
       "75%      -3.229457    33.860597\n",
       "max      -2.823028    34.758734"
      ]
     },
     "execution_count": 53,
     "metadata": {},
     "output_type": "execute_result"
    }
   ],
   "source": [
    "X_train[(X_train['region'] == 'Shinyanga')  & (X_train['latitude'] < -0.01) & (X_train['longitude'] > 0)].describe()[['latitude', 'longitude']]"
   ]
  },
  {
   "cell_type": "markdown",
   "metadata": {
    "hidden": true
   },
   "source": [
    "Although all the missing values are found in the above two regions, the regions do have some known observations. I can use this information to fill the regions based on the mean value.\n",
    "\n",
    "It's worth noting at this point that, although I'll go into greater detail in the location sections, that many of the observations have been incorrectly assigned. For example, there exist many wards (equivalent to an American city) which are listed in the incorrect district (similar to an America county), and also many districts which are marked as being in the incorrect region (similar to an American state). I'll be correcting this for my analysis, which will mean that many of the above described missing values will actually be located in other regions or districts, and will take on the mean of the new and correct locations for their imputation value."
   ]
  },
  {
   "cell_type": "markdown",
   "metadata": {
    "heading_collapsed": true
   },
   "source": [
    "#### construction_year\n",
    "This feature lists the year in which a specific well was constructed. Although included in the numeric features, this is a date [year]."
   ]
  },
  {
   "cell_type": "markdown",
   "metadata": {
    "hidden": true
   },
   "source": [
    "Just like the numeric variables, the construction_year feature also takes on 0 as a flag for missing values. In this case though, perhaps obviously, there are no correct values listed at 0. I don't need to worry about filling a correctly observed 0 value."
   ]
  },
  {
   "cell_type": "code",
   "execution_count": 54,
   "metadata": {
    "hidden": true,
    "scrolled": true
   },
   "outputs": [
    {
     "name": "stdout",
     "output_type": "stream",
     "text": [
      " 34.86% of the construction_year observations are missing.\n"
     ]
    }
   ],
   "source": [
    "txt = \"{percent: .2f}% of the construction_year observations are missing.\"\n",
    "percent = (sum(X_train['construction_year'] == 0)/X_train.shape[0])*100\n",
    "print(txt.format(percent = percent))"
   ]
  },
  {
   "cell_type": "code",
   "execution_count": 55,
   "metadata": {
    "hidden": true
   },
   "outputs": [
    {
     "data": {
      "text/plain": [
       "20709.0"
      ]
     },
     "execution_count": 55,
     "metadata": {},
     "output_type": "execute_result"
    }
   ],
   "source": [
    "X_train[X_train['construction_year'] == 0]['construction_year'].describe()['count']"
   ]
  },
  {
   "cell_type": "code",
   "execution_count": 126,
   "metadata": {
    "cell_style": "center",
    "hidden": true,
    "scrolled": true
   },
   "outputs": [
    {
     "data": {
      "text/plain": [
       "count    38691.000000\n",
       "mean      1996.814686\n",
       "std         12.472045\n",
       "min       1960.000000\n",
       "25%       1987.000000\n",
       "50%       2000.000000\n",
       "75%       2008.000000\n",
       "max       2013.000000\n",
       "Name: construction_year, dtype: float64"
      ]
     },
     "execution_count": 126,
     "metadata": {},
     "output_type": "execute_result"
    }
   ],
   "source": [
    "#Descriptives of the non-zero values\n",
    "X_train[X_train['construction_year'] > 0]['construction_year'].describe()"
   ]
  },
  {
   "cell_type": "markdown",
   "metadata": {
    "hidden": true
   },
   "source": [
    "Wells in the data set, with observed construction years, were built between 1960 and 2013. I need to be certain that if I fill this value, I only imput integer values."
   ]
  },
  {
   "cell_type": "code",
   "execution_count": 57,
   "metadata": {
    "hidden": true
   },
   "outputs": [
    {
     "data": {
      "text/html": [
       "<div>\n",
       "<style scoped>\n",
       "    .dataframe tbody tr th:only-of-type {\n",
       "        vertical-align: middle;\n",
       "    }\n",
       "\n",
       "    .dataframe tbody tr th {\n",
       "        vertical-align: top;\n",
       "    }\n",
       "\n",
       "    .dataframe thead th {\n",
       "        text-align: right;\n",
       "    }\n",
       "</style>\n",
       "<table border=\"1\" class=\"dataframe\">\n",
       "  <thead>\n",
       "    <tr style=\"text-align: right;\">\n",
       "      <th></th>\n",
       "      <th>count</th>\n",
       "      <th>mean</th>\n",
       "      <th>std</th>\n",
       "      <th>min</th>\n",
       "      <th>25%</th>\n",
       "      <th>50%</th>\n",
       "      <th>75%</th>\n",
       "      <th>max</th>\n",
       "    </tr>\n",
       "    <tr>\n",
       "      <th>region</th>\n",
       "      <th></th>\n",
       "      <th></th>\n",
       "      <th></th>\n",
       "      <th></th>\n",
       "      <th></th>\n",
       "      <th></th>\n",
       "      <th></th>\n",
       "      <th></th>\n",
       "    </tr>\n",
       "  </thead>\n",
       "  <tbody>\n",
       "    <tr>\n",
       "      <th>Arusha</th>\n",
       "      <td>3350.0</td>\n",
       "      <td>1968.378806</td>\n",
       "      <td>245.060668</td>\n",
       "      <td>0.0</td>\n",
       "      <td>1995.0</td>\n",
       "      <td>2000.0</td>\n",
       "      <td>2008.0</td>\n",
       "      <td>2013.0</td>\n",
       "    </tr>\n",
       "    <tr>\n",
       "      <th>Dar es Salaam</th>\n",
       "      <td>805.0</td>\n",
       "      <td>1958.782609</td>\n",
       "      <td>288.091177</td>\n",
       "      <td>0.0</td>\n",
       "      <td>2000.0</td>\n",
       "      <td>2000.0</td>\n",
       "      <td>2010.0</td>\n",
       "      <td>2010.0</td>\n",
       "    </tr>\n",
       "    <tr>\n",
       "      <th>Dodoma</th>\n",
       "      <td>2201.0</td>\n",
       "      <td>0.000000</td>\n",
       "      <td>0.000000</td>\n",
       "      <td>0.0</td>\n",
       "      <td>0.0</td>\n",
       "      <td>0.0</td>\n",
       "      <td>0.0</td>\n",
       "      <td>0.0</td>\n",
       "    </tr>\n",
       "    <tr>\n",
       "      <th>Iringa</th>\n",
       "      <td>5294.0</td>\n",
       "      <td>1857.084624</td>\n",
       "      <td>510.711422</td>\n",
       "      <td>0.0</td>\n",
       "      <td>1984.0</td>\n",
       "      <td>2000.0</td>\n",
       "      <td>2008.0</td>\n",
       "      <td>2011.0</td>\n",
       "    </tr>\n",
       "    <tr>\n",
       "      <th>Kagera</th>\n",
       "      <td>3316.0</td>\n",
       "      <td>0.000000</td>\n",
       "      <td>0.000000</td>\n",
       "      <td>0.0</td>\n",
       "      <td>0.0</td>\n",
       "      <td>0.0</td>\n",
       "      <td>0.0</td>\n",
       "      <td>0.0</td>\n",
       "    </tr>\n",
       "    <tr>\n",
       "      <th>Kigoma</th>\n",
       "      <td>2816.0</td>\n",
       "      <td>1990.933949</td>\n",
       "      <td>119.364816</td>\n",
       "      <td>0.0</td>\n",
       "      <td>1990.0</td>\n",
       "      <td>2001.0</td>\n",
       "      <td>2007.0</td>\n",
       "      <td>2013.0</td>\n",
       "    </tr>\n",
       "    <tr>\n",
       "      <th>Kilimanjaro</th>\n",
       "      <td>4379.0</td>\n",
       "      <td>1980.585522</td>\n",
       "      <td>178.405958</td>\n",
       "      <td>0.0</td>\n",
       "      <td>1980.0</td>\n",
       "      <td>2002.0</td>\n",
       "      <td>2008.0</td>\n",
       "      <td>2013.0</td>\n",
       "    </tr>\n",
       "    <tr>\n",
       "      <th>Lindi</th>\n",
       "      <td>1546.0</td>\n",
       "      <td>1849.035576</td>\n",
       "      <td>519.566307</td>\n",
       "      <td>0.0</td>\n",
       "      <td>1980.0</td>\n",
       "      <td>1992.0</td>\n",
       "      <td>2007.0</td>\n",
       "      <td>2013.0</td>\n",
       "    </tr>\n",
       "    <tr>\n",
       "      <th>Manyara</th>\n",
       "      <td>1583.0</td>\n",
       "      <td>1985.672142</td>\n",
       "      <td>181.008620</td>\n",
       "      <td>0.0</td>\n",
       "      <td>1998.0</td>\n",
       "      <td>2004.0</td>\n",
       "      <td>2009.0</td>\n",
       "      <td>2013.0</td>\n",
       "    </tr>\n",
       "    <tr>\n",
       "      <th>Mara</th>\n",
       "      <td>1969.0</td>\n",
       "      <td>1980.209243</td>\n",
       "      <td>185.200844</td>\n",
       "      <td>0.0</td>\n",
       "      <td>1991.0</td>\n",
       "      <td>1998.0</td>\n",
       "      <td>2008.0</td>\n",
       "      <td>2012.0</td>\n",
       "    </tr>\n",
       "    <tr>\n",
       "      <th>Mbeya</th>\n",
       "      <td>4639.0</td>\n",
       "      <td>0.000000</td>\n",
       "      <td>0.000000</td>\n",
       "      <td>0.0</td>\n",
       "      <td>0.0</td>\n",
       "      <td>0.0</td>\n",
       "      <td>0.0</td>\n",
       "      <td>0.0</td>\n",
       "    </tr>\n",
       "    <tr>\n",
       "      <th>Morogoro</th>\n",
       "      <td>4006.0</td>\n",
       "      <td>1987.056665</td>\n",
       "      <td>134.016128</td>\n",
       "      <td>0.0</td>\n",
       "      <td>1985.0</td>\n",
       "      <td>1997.0</td>\n",
       "      <td>2006.0</td>\n",
       "      <td>2011.0</td>\n",
       "    </tr>\n",
       "    <tr>\n",
       "      <th>Mtwara</th>\n",
       "      <td>1730.0</td>\n",
       "      <td>1892.179191</td>\n",
       "      <td>435.733354</td>\n",
       "      <td>0.0</td>\n",
       "      <td>1980.0</td>\n",
       "      <td>1986.0</td>\n",
       "      <td>2006.0</td>\n",
       "      <td>2013.0</td>\n",
       "    </tr>\n",
       "    <tr>\n",
       "      <th>Mwanza</th>\n",
       "      <td>3102.0</td>\n",
       "      <td>228.203740</td>\n",
       "      <td>634.915166</td>\n",
       "      <td>0.0</td>\n",
       "      <td>0.0</td>\n",
       "      <td>0.0</td>\n",
       "      <td>0.0</td>\n",
       "      <td>2011.0</td>\n",
       "    </tr>\n",
       "    <tr>\n",
       "      <th>Pwani</th>\n",
       "      <td>2635.0</td>\n",
       "      <td>1869.080455</td>\n",
       "      <td>500.228305</td>\n",
       "      <td>0.0</td>\n",
       "      <td>2000.0</td>\n",
       "      <td>2006.0</td>\n",
       "      <td>2009.0</td>\n",
       "      <td>2011.0</td>\n",
       "    </tr>\n",
       "    <tr>\n",
       "      <th>Rukwa</th>\n",
       "      <td>1808.0</td>\n",
       "      <td>1987.657633</td>\n",
       "      <td>66.984090</td>\n",
       "      <td>0.0</td>\n",
       "      <td>1983.0</td>\n",
       "      <td>1988.0</td>\n",
       "      <td>1994.0</td>\n",
       "      <td>2012.0</td>\n",
       "    </tr>\n",
       "    <tr>\n",
       "      <th>Ruvuma</th>\n",
       "      <td>2640.0</td>\n",
       "      <td>1985.340530</td>\n",
       "      <td>155.378750</td>\n",
       "      <td>0.0</td>\n",
       "      <td>1991.0</td>\n",
       "      <td>1997.0</td>\n",
       "      <td>2007.0</td>\n",
       "      <td>2013.0</td>\n",
       "    </tr>\n",
       "    <tr>\n",
       "      <th>Shinyanga</th>\n",
       "      <td>4982.0</td>\n",
       "      <td>65.923324</td>\n",
       "      <td>357.351829</td>\n",
       "      <td>0.0</td>\n",
       "      <td>0.0</td>\n",
       "      <td>0.0</td>\n",
       "      <td>0.0</td>\n",
       "      <td>2012.0</td>\n",
       "    </tr>\n",
       "    <tr>\n",
       "      <th>Singida</th>\n",
       "      <td>2093.0</td>\n",
       "      <td>1986.715241</td>\n",
       "      <td>123.829901</td>\n",
       "      <td>0.0</td>\n",
       "      <td>1986.0</td>\n",
       "      <td>2000.0</td>\n",
       "      <td>2006.0</td>\n",
       "      <td>2012.0</td>\n",
       "    </tr>\n",
       "    <tr>\n",
       "      <th>Tabora</th>\n",
       "      <td>1959.0</td>\n",
       "      <td>0.000000</td>\n",
       "      <td>0.000000</td>\n",
       "      <td>0.0</td>\n",
       "      <td>0.0</td>\n",
       "      <td>0.0</td>\n",
       "      <td>0.0</td>\n",
       "      <td>0.0</td>\n",
       "    </tr>\n",
       "    <tr>\n",
       "      <th>Tanga</th>\n",
       "      <td>2547.0</td>\n",
       "      <td>1919.083235</td>\n",
       "      <td>376.021150</td>\n",
       "      <td>0.0</td>\n",
       "      <td>1977.0</td>\n",
       "      <td>1995.0</td>\n",
       "      <td>2007.0</td>\n",
       "      <td>2011.0</td>\n",
       "    </tr>\n",
       "  </tbody>\n",
       "</table>\n",
       "</div>"
      ],
      "text/plain": [
       "                count         mean         std  min     25%     50%     75%  \\\n",
       "region                                                                        \n",
       "Arusha         3350.0  1968.378806  245.060668  0.0  1995.0  2000.0  2008.0   \n",
       "Dar es Salaam   805.0  1958.782609  288.091177  0.0  2000.0  2000.0  2010.0   \n",
       "Dodoma         2201.0     0.000000    0.000000  0.0     0.0     0.0     0.0   \n",
       "Iringa         5294.0  1857.084624  510.711422  0.0  1984.0  2000.0  2008.0   \n",
       "Kagera         3316.0     0.000000    0.000000  0.0     0.0     0.0     0.0   \n",
       "Kigoma         2816.0  1990.933949  119.364816  0.0  1990.0  2001.0  2007.0   \n",
       "Kilimanjaro    4379.0  1980.585522  178.405958  0.0  1980.0  2002.0  2008.0   \n",
       "Lindi          1546.0  1849.035576  519.566307  0.0  1980.0  1992.0  2007.0   \n",
       "Manyara        1583.0  1985.672142  181.008620  0.0  1998.0  2004.0  2009.0   \n",
       "Mara           1969.0  1980.209243  185.200844  0.0  1991.0  1998.0  2008.0   \n",
       "Mbeya          4639.0     0.000000    0.000000  0.0     0.0     0.0     0.0   \n",
       "Morogoro       4006.0  1987.056665  134.016128  0.0  1985.0  1997.0  2006.0   \n",
       "Mtwara         1730.0  1892.179191  435.733354  0.0  1980.0  1986.0  2006.0   \n",
       "Mwanza         3102.0   228.203740  634.915166  0.0     0.0     0.0     0.0   \n",
       "Pwani          2635.0  1869.080455  500.228305  0.0  2000.0  2006.0  2009.0   \n",
       "Rukwa          1808.0  1987.657633   66.984090  0.0  1983.0  1988.0  1994.0   \n",
       "Ruvuma         2640.0  1985.340530  155.378750  0.0  1991.0  1997.0  2007.0   \n",
       "Shinyanga      4982.0    65.923324  357.351829  0.0     0.0     0.0     0.0   \n",
       "Singida        2093.0  1986.715241  123.829901  0.0  1986.0  2000.0  2006.0   \n",
       "Tabora         1959.0     0.000000    0.000000  0.0     0.0     0.0     0.0   \n",
       "Tanga          2547.0  1919.083235  376.021150  0.0  1977.0  1995.0  2007.0   \n",
       "\n",
       "                  max  \n",
       "region                 \n",
       "Arusha         2013.0  \n",
       "Dar es Salaam  2010.0  \n",
       "Dodoma            0.0  \n",
       "Iringa         2011.0  \n",
       "Kagera            0.0  \n",
       "Kigoma         2013.0  \n",
       "Kilimanjaro    2013.0  \n",
       "Lindi          2013.0  \n",
       "Manyara        2013.0  \n",
       "Mara           2012.0  \n",
       "Mbeya             0.0  \n",
       "Morogoro       2011.0  \n",
       "Mtwara         2013.0  \n",
       "Mwanza         2011.0  \n",
       "Pwani          2011.0  \n",
       "Rukwa          2012.0  \n",
       "Ruvuma         2013.0  \n",
       "Shinyanga      2012.0  \n",
       "Singida        2012.0  \n",
       "Tabora            0.0  \n",
       "Tanga          2011.0  "
      ]
     },
     "execution_count": 57,
     "metadata": {},
     "output_type": "execute_result"
    }
   ],
   "source": [
    "X_train['construction_year'].groupby(X_train['region']).describe()"
   ]
  },
  {
   "cell_type": "markdown",
   "metadata": {
    "hidden": true
   },
   "source": [
    "Those same four regions are blank again."
   ]
  },
  {
   "cell_type": "code",
   "execution_count": 58,
   "metadata": {
    "hidden": true,
    "scrolled": false
   },
   "outputs": [
    {
     "data": {
      "text/plain": [
       "Text(0.5, 0, 'Construction Year \\n Wells in the data set were constructed bewteen 1960 and 2013.')"
      ]
     },
     "execution_count": 58,
     "metadata": {},
     "output_type": "execute_result"
    },
    {
     "data": {
      "image/png": "[encoded data removed]",
      "text/plain": [
       "<Figure size 432x288 with 1 Axes>"
      ]
     },
     "metadata": {
      "needs_background": "light"
     },
     "output_type": "display_data"
    }
   ],
   "source": [
    "sns.distplot(X_train[X_train['construction_year'] > 0]['construction_year'], kde = False)\n",
    "plt.title(\"Distribution of the Construction Years of the Wells\")\n",
    "plt.xlabel(\"Construction Year \\n Wells in the data set were constructed bewteen 1960 and 2013.\")"
   ]
  },
  {
   "cell_type": "code",
   "execution_count": 129,
   "metadata": {
    "hidden": true,
    "scrolled": false
   },
   "outputs": [
    {
     "data": {
      "image/png": "[encoded data removed]",
      "text/plain": [
       "<Figure size 576x864 with 3 Axes>"
      ]
     },
     "metadata": {
      "needs_background": "light"
     },
     "output_type": "display_data"
    }
   ],
   "source": [
    "g = sns.FacetGrid(merged_df[merged_df['construction_year'] > 0], row=\"status_group\", aspect = 2, height = 4)\n",
    "g = g.map(sns.distplot, \"construction_year\")"
   ]
  },
  {
   "cell_type": "markdown",
   "metadata": {
    "hidden": true
   },
   "source": [
    "There is a clear relationship between a well being functional and it being built more recently. I need to be careful when filling this value that I don't assign all missing values to the mean of the data set, as this will quite notably affect this relationship. I'll need to add noise to the imputations."
   ]
  },
  {
   "cell_type": "markdown",
   "metadata": {
    "heading_collapsed": true
   },
   "source": [
    "### Reviewing the Categorical Features"
   ]
  },
  {
   "cell_type": "code",
   "execution_count": 60,
   "metadata": {
    "hidden": true
   },
   "outputs": [
    {
     "data": {
      "text/html": [
       "<div>\n",
       "<style scoped>\n",
       "    .dataframe tbody tr th:only-of-type {\n",
       "        vertical-align: middle;\n",
       "    }\n",
       "\n",
       "    .dataframe tbody tr th {\n",
       "        vertical-align: top;\n",
       "    }\n",
       "\n",
       "    .dataframe thead th {\n",
       "        text-align: right;\n",
       "    }\n",
       "</style>\n",
       "<table border=\"1\" class=\"dataframe\">\n",
       "  <thead>\n",
       "    <tr style=\"text-align: right;\">\n",
       "      <th></th>\n",
       "      <th>funder</th>\n",
       "      <th>installer</th>\n",
       "      <th>wpt_name</th>\n",
       "      <th>basin</th>\n",
       "      <th>subvillage</th>\n",
       "      <th>region</th>\n",
       "      <th>lga</th>\n",
       "      <th>ward</th>\n",
       "      <th>public_meeting</th>\n",
       "      <th>recorded_by</th>\n",
       "      <th>scheme_management</th>\n",
       "      <th>scheme_name</th>\n",
       "      <th>permit</th>\n",
       "      <th>extraction_type</th>\n",
       "      <th>extraction_type_group</th>\n",
       "      <th>extraction_type_class</th>\n",
       "      <th>management</th>\n",
       "      <th>management_group</th>\n",
       "      <th>payment</th>\n",
       "      <th>payment_type</th>\n",
       "      <th>water_quality</th>\n",
       "      <th>quality_group</th>\n",
       "      <th>quantity</th>\n",
       "      <th>quantity_group</th>\n",
       "      <th>source</th>\n",
       "      <th>source_type</th>\n",
       "      <th>source_class</th>\n",
       "      <th>waterpoint_type</th>\n",
       "      <th>waterpoint_type_group</th>\n",
       "    </tr>\n",
       "  </thead>\n",
       "  <tbody>\n",
       "    <tr>\n",
       "      <th>count</th>\n",
       "      <td>55765</td>\n",
       "      <td>55745</td>\n",
       "      <td>59400</td>\n",
       "      <td>59400</td>\n",
       "      <td>59029</td>\n",
       "      <td>59400</td>\n",
       "      <td>59400</td>\n",
       "      <td>59400</td>\n",
       "      <td>56066</td>\n",
       "      <td>59400</td>\n",
       "      <td>55523</td>\n",
       "      <td>31234</td>\n",
       "      <td>56344</td>\n",
       "      <td>59400</td>\n",
       "      <td>59400</td>\n",
       "      <td>59400</td>\n",
       "      <td>59400</td>\n",
       "      <td>59400</td>\n",
       "      <td>59400</td>\n",
       "      <td>59400</td>\n",
       "      <td>59400</td>\n",
       "      <td>59400</td>\n",
       "      <td>59400</td>\n",
       "      <td>59400</td>\n",
       "      <td>59400</td>\n",
       "      <td>59400</td>\n",
       "      <td>59400</td>\n",
       "      <td>59400</td>\n",
       "      <td>59400</td>\n",
       "    </tr>\n",
       "    <tr>\n",
       "      <th>unique</th>\n",
       "      <td>1897</td>\n",
       "      <td>2145</td>\n",
       "      <td>37400</td>\n",
       "      <td>9</td>\n",
       "      <td>19287</td>\n",
       "      <td>21</td>\n",
       "      <td>125</td>\n",
       "      <td>2092</td>\n",
       "      <td>2</td>\n",
       "      <td>1</td>\n",
       "      <td>12</td>\n",
       "      <td>2696</td>\n",
       "      <td>2</td>\n",
       "      <td>18</td>\n",
       "      <td>13</td>\n",
       "      <td>7</td>\n",
       "      <td>12</td>\n",
       "      <td>5</td>\n",
       "      <td>7</td>\n",
       "      <td>7</td>\n",
       "      <td>8</td>\n",
       "      <td>6</td>\n",
       "      <td>5</td>\n",
       "      <td>5</td>\n",
       "      <td>10</td>\n",
       "      <td>7</td>\n",
       "      <td>3</td>\n",
       "      <td>7</td>\n",
       "      <td>6</td>\n",
       "    </tr>\n",
       "    <tr>\n",
       "      <th>top</th>\n",
       "      <td>Government Of Tanzania</td>\n",
       "      <td>DWE</td>\n",
       "      <td>none</td>\n",
       "      <td>Lake Victoria</td>\n",
       "      <td>Madukani</td>\n",
       "      <td>Iringa</td>\n",
       "      <td>Njombe</td>\n",
       "      <td>Igosi</td>\n",
       "      <td>True</td>\n",
       "      <td>GeoData Consultants Ltd</td>\n",
       "      <td>VWC</td>\n",
       "      <td>K</td>\n",
       "      <td>True</td>\n",
       "      <td>gravity</td>\n",
       "      <td>gravity</td>\n",
       "      <td>gravity</td>\n",
       "      <td>vwc</td>\n",
       "      <td>user-group</td>\n",
       "      <td>never pay</td>\n",
       "      <td>never pay</td>\n",
       "      <td>soft</td>\n",
       "      <td>good</td>\n",
       "      <td>enough</td>\n",
       "      <td>enough</td>\n",
       "      <td>spring</td>\n",
       "      <td>spring</td>\n",
       "      <td>groundwater</td>\n",
       "      <td>communal standpipe</td>\n",
       "      <td>communal standpipe</td>\n",
       "    </tr>\n",
       "    <tr>\n",
       "      <th>freq</th>\n",
       "      <td>9084</td>\n",
       "      <td>17402</td>\n",
       "      <td>3563</td>\n",
       "      <td>10248</td>\n",
       "      <td>508</td>\n",
       "      <td>5294</td>\n",
       "      <td>2503</td>\n",
       "      <td>307</td>\n",
       "      <td>51011</td>\n",
       "      <td>59400</td>\n",
       "      <td>36793</td>\n",
       "      <td>682</td>\n",
       "      <td>38852</td>\n",
       "      <td>26780</td>\n",
       "      <td>26780</td>\n",
       "      <td>26780</td>\n",
       "      <td>40507</td>\n",
       "      <td>52490</td>\n",
       "      <td>25348</td>\n",
       "      <td>25348</td>\n",
       "      <td>50818</td>\n",
       "      <td>50818</td>\n",
       "      <td>33186</td>\n",
       "      <td>33186</td>\n",
       "      <td>17021</td>\n",
       "      <td>17021</td>\n",
       "      <td>45794</td>\n",
       "      <td>28522</td>\n",
       "      <td>34625</td>\n",
       "    </tr>\n",
       "  </tbody>\n",
       "</table>\n",
       "</div>"
      ],
      "text/plain": [
       "                        funder installer wpt_name          basin subvillage  \\\n",
       "count                    55765     55745    59400          59400      59029   \n",
       "unique                    1897      2145    37400              9      19287   \n",
       "top     Government Of Tanzania       DWE     none  Lake Victoria   Madukani   \n",
       "freq                      9084     17402     3563          10248        508   \n",
       "\n",
       "        region     lga   ward public_meeting              recorded_by  \\\n",
       "count    59400   59400  59400          56066                    59400   \n",
       "unique      21     125   2092              2                        1   \n",
       "top     Iringa  Njombe  Igosi           True  GeoData Consultants Ltd   \n",
       "freq      5294    2503    307          51011                    59400   \n",
       "\n",
       "       scheme_management scheme_name permit extraction_type  \\\n",
       "count              55523       31234  56344           59400   \n",
       "unique                12        2696      2              18   \n",
       "top                  VWC           K   True         gravity   \n",
       "freq               36793         682  38852           26780   \n",
       "\n",
       "       extraction_type_group extraction_type_class management  \\\n",
       "count                  59400                 59400      59400   \n",
       "unique                    13                     7         12   \n",
       "top                  gravity               gravity        vwc   \n",
       "freq                   26780                 26780      40507   \n",
       "\n",
       "       management_group    payment payment_type water_quality quality_group  \\\n",
       "count             59400      59400        59400         59400         59400   \n",
       "unique                5          7            7             8             6   \n",
       "top          user-group  never pay    never pay          soft          good   \n",
       "freq              52490      25348        25348         50818         50818   \n",
       "\n",
       "       quantity quantity_group  source source_type source_class  \\\n",
       "count     59400          59400   59400       59400        59400   \n",
       "unique        5              5      10           7            3   \n",
       "top      enough         enough  spring      spring  groundwater   \n",
       "freq      33186          33186   17021       17021        45794   \n",
       "\n",
       "           waterpoint_type waterpoint_type_group  \n",
       "count                59400                 59400  \n",
       "unique                   7                     6  \n",
       "top     communal standpipe    communal standpipe  \n",
       "freq                 28522                 34625  "
      ]
     },
     "execution_count": 60,
     "metadata": {},
     "output_type": "execute_result"
    }
   ],
   "source": [
    "X_train[train_cat].describe()"
   ]
  },
  {
   "cell_type": "markdown",
   "metadata": {
    "hidden": true
   },
   "source": [
    "Just looking at this initial descriptive information, I have a few comments.  \n",
    "First, there are multiple features with incredibly high numbers of levels, which will make them rather difficult, if not impossible, to use in modeling in their naive form. I'll review these to see if there is a logical way to collapse these, or if the information is captured by another feature such that I can simply remove the feature from the data set.  \n",
    "Second, there are multiple features, as according to the data descriptive file provided for the competition, which are markers for similar information. These include multiple features describing the location information, \n",
    "+ subvillage\n",
    "+ region\n",
    "+ region_code\n",
    "+ district_code\n",
    "+ lga\n",
    "+ ward  \n",
    "\n",
    "features describing the extraction method for the well in question,\n",
    "+ extraction_type\n",
    "+ extraction_type_group\n",
    "+ extraction_type_class  \n",
    "\n",
    "features describing the management of the well,\n",
    "+ management (how the well is managed)\n",
    "+ management_group (how the well is managed)\n",
    "+ scheme_management (who manages the well)\n",
    "+ scheme_name (who manages the well)\n",
    "\n",
    "features describing the source of the water for the well,\n",
    "+ source\n",
    "+ source_type\n",
    "+ source_class  \n",
    "\n",
    "and two features describing the cost, quality, quantity, and waterpoint type of the well\n",
    "+ payment & payment_type\n",
    "+ water_quality & quality_group\n",
    "+ quantity & quantity_group\n",
    "+ waterpoint_type & waterpoint_type_group"
   ]
  },
  {
   "cell_type": "markdown",
   "metadata": {
    "hidden": true
   },
   "source": [
    "I'll analyze the categorical variables by group when available, paying special attention to those with notably high amounts of categories."
   ]
  },
  {
   "cell_type": "markdown",
   "metadata": {
    "heading_collapsed": true,
    "hidden": true
   },
   "source": [
    "#### Individual Categorical Features\n",
    "These features include all categorical features which cannot be grouped. These are,\n",
    "+ funder\n",
    "+ installer\n",
    "+ wpt_name"
   ]
  },
  {
   "cell_type": "markdown",
   "metadata": {
    "hidden": true
   },
   "source": [
    "**`funder` & `installer`**"
   ]
  },
  {
   "cell_type": "code",
   "execution_count": 61,
   "metadata": {
    "hidden": true
   },
   "outputs": [
    {
     "data": {
      "text/html": [
       "<div>\n",
       "<style scoped>\n",
       "    .dataframe tbody tr th:only-of-type {\n",
       "        vertical-align: middle;\n",
       "    }\n",
       "\n",
       "    .dataframe tbody tr th {\n",
       "        vertical-align: top;\n",
       "    }\n",
       "\n",
       "    .dataframe thead th {\n",
       "        text-align: right;\n",
       "    }\n",
       "</style>\n",
       "<table border=\"1\" class=\"dataframe\">\n",
       "  <thead>\n",
       "    <tr style=\"text-align: right;\">\n",
       "      <th></th>\n",
       "      <th>funder</th>\n",
       "      <th>installer</th>\n",
       "    </tr>\n",
       "  </thead>\n",
       "  <tbody>\n",
       "    <tr>\n",
       "      <th>count</th>\n",
       "      <td>55765</td>\n",
       "      <td>55745</td>\n",
       "    </tr>\n",
       "    <tr>\n",
       "      <th>unique</th>\n",
       "      <td>1897</td>\n",
       "      <td>2145</td>\n",
       "    </tr>\n",
       "    <tr>\n",
       "      <th>top</th>\n",
       "      <td>Government Of Tanzania</td>\n",
       "      <td>DWE</td>\n",
       "    </tr>\n",
       "    <tr>\n",
       "      <th>freq</th>\n",
       "      <td>9084</td>\n",
       "      <td>17402</td>\n",
       "    </tr>\n",
       "  </tbody>\n",
       "</table>\n",
       "</div>"
      ],
      "text/plain": [
       "                        funder installer\n",
       "count                    55765     55745\n",
       "unique                    1897      2145\n",
       "top     Government Of Tanzania       DWE\n",
       "freq                      9084     17402"
      ]
     },
     "execution_count": 61,
     "metadata": {},
     "output_type": "execute_result"
    }
   ],
   "source": [
    "X_train[['funder', 'installer']].describe()"
   ]
  },
  {
   "cell_type": "markdown",
   "metadata": {
    "hidden": true
   },
   "source": [
    "The first two categorical features of interest are `funder` and `installer`, with 1897 and 2145 unique values, respectively. These refer to who funded the installation of the well, and who installed the well. Although I believe that these two features may have a strong link to the functionality of the wells, when I conducted a more indepth examination of the features (seen below), I found many issues.  \n",
    "\n",
    "The `installer` feature seems to be entered by hand with little to no regard for consistency when it comes to spelling, abbreviations, or language. Even the manner is which missing values were recorded has no standard; some missing values are marked with 0, others with the phrases \"Unknown\", \"Not known\", \"Not kno\", and \"Uknown Installer\", to provide simply a few examples.  \n",
    "The `funder` feature is slightly less error-prone, but faces similar issues overall. For example, it appears that a few wells were funded by the Swedish government. These different wells are listed as being funded by:\n",
    "+ Sweden\n",
    "+ Swedish\n",
    "+ Sweeden\n",
    "+ Swidish"
   ]
  },
  {
   "cell_type": "code",
   "execution_count": 62,
   "metadata": {
    "hidden": true
   },
   "outputs": [
    {
     "data": {
      "text/plain": [
       "2146"
      ]
     },
     "execution_count": 62,
     "metadata": {},
     "output_type": "execute_result"
    }
   ],
   "source": [
    "install_levels = X_train['installer'].drop_duplicates()\n",
    "install_levels.sort_values(inplace = True)\n",
    "len(install_levels)"
   ]
  },
  {
   "cell_type": "code",
   "execution_count": 63,
   "metadata": {
    "hidden": true,
    "scrolled": true
   },
   "outputs": [],
   "source": [
    "#for level in install_levels:\n",
    "    #print(level)"
   ]
  },
  {
   "cell_type": "markdown",
   "metadata": {
    "hidden": true
   },
   "source": [
    "Some groups into which I could collapse these, as I review them, are\n",
    "+ Governments/Countries/Cities\n",
    "    - Watch words: govern, ministry, country name, city name, council (concil), district, parliament, municipal, town, authority, village, community, central, department, embassy, world, bank, local, DWE (I suspect this to be an abbreviation for department of water and energy)\n",
    "+ Religious foundations/organizations\n",
    "    - Watch words: parish, mosque, church, mission, Muslim, Christian, temple, Islam, catholic, roman\n",
    "+ Corporations\n",
    "    - Watch words: 'co', construct, ltd, contract, tech, workers, company, builder, drill, install, group\n",
    "+ Charity/Donation\n",
    "    - Watch words: school, hospital, estate, project, institution, red cross, rotary, save, summit, aid, club, secondary\n",
    "\n",
    "The problem being, I have no way of knowing that these groups will be comprised of parties following at all similar practices."
   ]
  },
  {
   "cell_type": "code",
   "execution_count": 64,
   "metadata": {
    "hidden": true
   },
   "outputs": [
    {
     "data": {
      "text/plain": [
       "1898"
      ]
     },
     "execution_count": 64,
     "metadata": {},
     "output_type": "execute_result"
    }
   ],
   "source": [
    "funder_levels = X_train['funder'].drop_duplicates()\n",
    "funder_levels.sort_values(inplace = True)\n",
    "len(funder_levels)"
   ]
  },
  {
   "cell_type": "code",
   "execution_count": 65,
   "metadata": {
    "hidden": true
   },
   "outputs": [],
   "source": [
    "#for level in funder_levels:\n",
    "    #print(level)"
   ]
  },
  {
   "cell_type": "markdown",
   "metadata": {
    "hidden": true
   },
   "source": [
    "**`wpt_name`**"
   ]
  },
  {
   "cell_type": "code",
   "execution_count": 66,
   "metadata": {
    "hidden": true
   },
   "outputs": [
    {
     "data": {
      "text/plain": [
       "count     59400\n",
       "unique    37400\n",
       "top        none\n",
       "freq       3563\n",
       "Name: wpt_name, dtype: object"
      ]
     },
     "execution_count": 66,
     "metadata": {},
     "output_type": "execute_result"
    }
   ],
   "source": [
    "X_train.wpt_name.describe()"
   ]
  },
  {
   "cell_type": "markdown",
   "metadata": {
    "hidden": true
   },
   "source": [
    "With the highest number of unique values, the `wpt_name` feature is a list of the names of the water points. There are over 37,000 different names. As the name of the well is not likely to indicate much about its functionality, this feature will be dropped from the working data set.  "
   ]
  },
  {
   "cell_type": "markdown",
   "metadata": {
    "heading_collapsed": true,
    "hidden": true
   },
   "source": [
    "#### Location Features\n",
    "\n",
    "These features mark the location of the individual wells. They are listed here in increasing levels of granularity."
   ]
  },
  {
   "cell_type": "markdown",
   "metadata": {
    "hidden": true
   },
   "source": [
    "**`subvillage`**"
   ]
  },
  {
   "cell_type": "code",
   "execution_count": 67,
   "metadata": {
    "hidden": true
   },
   "outputs": [
    {
     "data": {
      "text/plain": [
       "count        59029\n",
       "unique       19287\n",
       "top       Madukani\n",
       "freq           508\n",
       "Name: subvillage, dtype: object"
      ]
     },
     "execution_count": 67,
     "metadata": {},
     "output_type": "execute_result"
    }
   ],
   "source": [
    "X_train.subvillage.describe()"
   ]
  },
  {
   "cell_type": "markdown",
   "metadata": {
    "hidden": true
   },
   "source": [
    "With the greatest number of unique values behind `wpt_name` (19,000+), the `subvillage` feature is a list of the names of the villages containing the wells. With its incredibly high number of levels, it is difficult to use this feature in modeling. As the location information is captured with less granularity at higher levels, I'll drop `subvillage` from the modeling data."
   ]
  },
  {
   "cell_type": "markdown",
   "metadata": {
    "hidden": true
   },
   "source": [
    "**`ward`**"
   ]
  },
  {
   "cell_type": "code",
   "execution_count": 78,
   "metadata": {
    "hidden": true
   },
   "outputs": [
    {
     "data": {
      "text/plain": [
       "count     59400\n",
       "unique     2092\n",
       "top       Igosi\n",
       "freq        307\n",
       "Name: ward, dtype: object"
      ]
     },
     "execution_count": 78,
     "metadata": {},
     "output_type": "execute_result"
    }
   ],
   "source": [
    "X_train.ward.describe()"
   ]
  },
  {
   "cell_type": "markdown",
   "metadata": {
    "hidden": true
   },
   "source": [
    "`ward`, with just over 2000 unique values, provides information about which ward the well is found in in Tanzania. As I have multiple categorical features which provide less granular geographical information, and lat/long values, I'll most likely be dropping this from the modeling data set."
   ]
  },
  {
   "cell_type": "markdown",
   "metadata": {
    "hidden": true
   },
   "source": [
    "**`lga`**  \n",
    "`lga` marks the district in which the well is found."
   ]
  },
  {
   "cell_type": "code",
   "execution_count": 132,
   "metadata": {
    "hidden": true
   },
   "outputs": [
    {
     "data": {
      "text/plain": [
       "0"
      ]
     },
     "execution_count": 132,
     "metadata": {},
     "output_type": "execute_result"
    }
   ],
   "source": [
    "#Number of missing values\n",
    "X_train['lga'].isna().sum()"
   ]
  },
  {
   "cell_type": "markdown",
   "metadata": {
    "hidden": true
   },
   "source": [
    "There are no missing values in the `lga` feature, meaning it will need no imputation."
   ]
  },
  {
   "cell_type": "code",
   "execution_count": 75,
   "metadata": {
    "hidden": true
   },
   "outputs": [
    {
     "data": {
      "text/plain": [
       "count      59400\n",
       "unique       125\n",
       "top       Njombe\n",
       "freq        2503\n",
       "Name: lga, dtype: object"
      ]
     },
     "execution_count": 75,
     "metadata": {},
     "output_type": "execute_result"
    }
   ],
   "source": [
    "X_train.lga.describe()"
   ]
  },
  {
   "cell_type": "code",
   "execution_count": 130,
   "metadata": {
    "hidden": true,
    "scrolled": true
   },
   "outputs": [
    {
     "name": "stdout",
     "output_type": "stream",
     "text": [
      "Ludewa\n",
      "Serengeti\n",
      "Simanjiro\n",
      "Nanyumbu\n",
      "Karagwe\n"
     ]
    }
   ],
   "source": [
    "for thing in X_train['lga'][:5]:\n",
    "    print(thing)"
   ]
  },
  {
   "cell_type": "code",
   "execution_count": 145,
   "metadata": {
    "hidden": true
   },
   "outputs": [
    {
     "data": {
      "text/plain": [
       "Text(-3.8249999999999957, 0.5, 'Number of Records')"
      ]
     },
     "execution_count": 145,
     "metadata": {},
     "output_type": "execute_result"
    },
    {
     "data": {
      "image/png": "[encoded data removed]",
      "text/plain": [
       "<Figure size 1080x360 with 1 Axes>"
      ]
     },
     "metadata": {
      "needs_background": "light"
     },
     "output_type": "display_data"
    }
   ],
   "source": [
    "sns.catplot(x = 'lga', kind = 'count', data = X_train, aspect = 3)\n",
    "plt.xticks(rotation = 90)\n",
    "plt.title(\"Count Plot of the Listed Districts of Tanzania\")\n",
    "plt.xlabel(\"Districts\")\n",
    "plt.ylabel(\"Number of Records\")"
   ]
  },
  {
   "cell_type": "markdown",
   "metadata": {
    "hidden": true
   },
   "source": [
    "The `lga` feature has 125 unique levels, which is a much more acceptable number for modeling, as I will not unintentionally span the set by including it. This will feature will be included in the modeling data. This will be updated though, using my to-be-created dictionary of accurate region/district/ward divisions in Tanzania."
   ]
  },
  {
   "cell_type": "markdown",
   "metadata": {
    "hidden": true
   },
   "source": [
    "**`district_code`**"
   ]
  },
  {
   "cell_type": "code",
   "execution_count": 133,
   "metadata": {
    "hidden": true
   },
   "outputs": [
    {
     "data": {
      "text/plain": [
       "count    59400.000000\n",
       "mean         5.629747\n",
       "std          9.633649\n",
       "min          0.000000\n",
       "25%          2.000000\n",
       "50%          3.000000\n",
       "75%          5.000000\n",
       "max         80.000000\n",
       "Name: district_code, dtype: float64"
      ]
     },
     "execution_count": 133,
     "metadata": {},
     "output_type": "execute_result"
    }
   ],
   "source": [
    "#District code descriptive information\n",
    "X_train['district_code'].describe()"
   ]
  },
  {
   "cell_type": "markdown",
   "metadata": {
    "hidden": true
   },
   "source": [
    "Although there are 125 listed districts in the `lga` feature, there are only 81 (0-80) different district codes. "
   ]
  },
  {
   "cell_type": "code",
   "execution_count": 74,
   "metadata": {
    "hidden": true
   },
   "outputs": [
    {
     "data": {
      "text/html": [
       "<div>\n",
       "<style scoped>\n",
       "    .dataframe tbody tr th:only-of-type {\n",
       "        vertical-align: middle;\n",
       "    }\n",
       "\n",
       "    .dataframe tbody tr th {\n",
       "        vertical-align: top;\n",
       "    }\n",
       "\n",
       "    .dataframe thead th {\n",
       "        text-align: right;\n",
       "    }\n",
       "</style>\n",
       "<table border=\"1\" class=\"dataframe\">\n",
       "  <thead>\n",
       "    <tr style=\"text-align: right;\">\n",
       "      <th></th>\n",
       "      <th>count</th>\n",
       "      <th>mean</th>\n",
       "      <th>std</th>\n",
       "      <th>min</th>\n",
       "      <th>25%</th>\n",
       "      <th>50%</th>\n",
       "      <th>75%</th>\n",
       "      <th>max</th>\n",
       "    </tr>\n",
       "    <tr>\n",
       "      <th>lga</th>\n",
       "      <th></th>\n",
       "      <th></th>\n",
       "      <th></th>\n",
       "      <th></th>\n",
       "      <th></th>\n",
       "      <th></th>\n",
       "      <th></th>\n",
       "      <th></th>\n",
       "    </tr>\n",
       "  </thead>\n",
       "  <tbody>\n",
       "    <tr>\n",
       "      <th>Arusha Rural</th>\n",
       "      <td>1252.0</td>\n",
       "      <td>2.036741</td>\n",
       "      <td>0.188201</td>\n",
       "      <td>2.0</td>\n",
       "      <td>2.0</td>\n",
       "      <td>2.0</td>\n",
       "      <td>2.0</td>\n",
       "      <td>3.0</td>\n",
       "    </tr>\n",
       "    <tr>\n",
       "      <th>Arusha Urban</th>\n",
       "      <td>63.0</td>\n",
       "      <td>3.000000</td>\n",
       "      <td>0.000000</td>\n",
       "      <td>3.0</td>\n",
       "      <td>3.0</td>\n",
       "      <td>3.0</td>\n",
       "      <td>3.0</td>\n",
       "      <td>3.0</td>\n",
       "    </tr>\n",
       "    <tr>\n",
       "      <th>Babati</th>\n",
       "      <td>511.0</td>\n",
       "      <td>1.000000</td>\n",
       "      <td>0.000000</td>\n",
       "      <td>1.0</td>\n",
       "      <td>1.0</td>\n",
       "      <td>1.0</td>\n",
       "      <td>1.0</td>\n",
       "      <td>1.0</td>\n",
       "    </tr>\n",
       "    <tr>\n",
       "      <th>Bagamoyo</th>\n",
       "      <td>997.0</td>\n",
       "      <td>1.013039</td>\n",
       "      <td>0.113499</td>\n",
       "      <td>1.0</td>\n",
       "      <td>1.0</td>\n",
       "      <td>1.0</td>\n",
       "      <td>1.0</td>\n",
       "      <td>2.0</td>\n",
       "    </tr>\n",
       "    <tr>\n",
       "      <th>Bahi</th>\n",
       "      <td>224.0</td>\n",
       "      <td>6.000000</td>\n",
       "      <td>0.000000</td>\n",
       "      <td>6.0</td>\n",
       "      <td>6.0</td>\n",
       "      <td>6.0</td>\n",
       "      <td>6.0</td>\n",
       "      <td>6.0</td>\n",
       "    </tr>\n",
       "    <tr>\n",
       "      <th>Bariadi</th>\n",
       "      <td>1177.0</td>\n",
       "      <td>1.007647</td>\n",
       "      <td>0.151330</td>\n",
       "      <td>1.0</td>\n",
       "      <td>1.0</td>\n",
       "      <td>1.0</td>\n",
       "      <td>1.0</td>\n",
       "      <td>4.0</td>\n",
       "    </tr>\n",
       "    <tr>\n",
       "      <th>Biharamulo</th>\n",
       "      <td>403.0</td>\n",
       "      <td>4.000000</td>\n",
       "      <td>0.000000</td>\n",
       "      <td>4.0</td>\n",
       "      <td>4.0</td>\n",
       "      <td>4.0</td>\n",
       "      <td>4.0</td>\n",
       "      <td>4.0</td>\n",
       "    </tr>\n",
       "    <tr>\n",
       "      <th>Bukoba Rural</th>\n",
       "      <td>487.0</td>\n",
       "      <td>2.000000</td>\n",
       "      <td>0.000000</td>\n",
       "      <td>2.0</td>\n",
       "      <td>2.0</td>\n",
       "      <td>2.0</td>\n",
       "      <td>2.0</td>\n",
       "      <td>2.0</td>\n",
       "    </tr>\n",
       "    <tr>\n",
       "      <th>Bukoba Urban</th>\n",
       "      <td>88.0</td>\n",
       "      <td>6.000000</td>\n",
       "      <td>0.000000</td>\n",
       "      <td>6.0</td>\n",
       "      <td>6.0</td>\n",
       "      <td>6.0</td>\n",
       "      <td>6.0</td>\n",
       "      <td>6.0</td>\n",
       "    </tr>\n",
       "    <tr>\n",
       "      <th>Bukombe</th>\n",
       "      <td>514.0</td>\n",
       "      <td>5.000000</td>\n",
       "      <td>0.000000</td>\n",
       "      <td>5.0</td>\n",
       "      <td>5.0</td>\n",
       "      <td>5.0</td>\n",
       "      <td>5.0</td>\n",
       "      <td>5.0</td>\n",
       "    </tr>\n",
       "    <tr>\n",
       "      <th>Bunda</th>\n",
       "      <td>438.0</td>\n",
       "      <td>4.000000</td>\n",
       "      <td>0.000000</td>\n",
       "      <td>4.0</td>\n",
       "      <td>4.0</td>\n",
       "      <td>4.0</td>\n",
       "      <td>4.0</td>\n",
       "      <td>4.0</td>\n",
       "    </tr>\n",
       "    <tr>\n",
       "      <th>Chamwino</th>\n",
       "      <td>347.0</td>\n",
       "      <td>4.000000</td>\n",
       "      <td>0.000000</td>\n",
       "      <td>4.0</td>\n",
       "      <td>4.0</td>\n",
       "      <td>4.0</td>\n",
       "      <td>4.0</td>\n",
       "      <td>4.0</td>\n",
       "    </tr>\n",
       "    <tr>\n",
       "      <th>Chato</th>\n",
       "      <td>236.0</td>\n",
       "      <td>8.000000</td>\n",
       "      <td>0.000000</td>\n",
       "      <td>8.0</td>\n",
       "      <td>8.0</td>\n",
       "      <td>8.0</td>\n",
       "      <td>8.0</td>\n",
       "      <td>8.0</td>\n",
       "    </tr>\n",
       "    <tr>\n",
       "      <th>Chunya</th>\n",
       "      <td>298.0</td>\n",
       "      <td>1.000000</td>\n",
       "      <td>0.000000</td>\n",
       "      <td>1.0</td>\n",
       "      <td>1.0</td>\n",
       "      <td>1.0</td>\n",
       "      <td>1.0</td>\n",
       "      <td>1.0</td>\n",
       "    </tr>\n",
       "    <tr>\n",
       "      <th>Dodoma Urban</th>\n",
       "      <td>358.0</td>\n",
       "      <td>5.000000</td>\n",
       "      <td>0.000000</td>\n",
       "      <td>5.0</td>\n",
       "      <td>5.0</td>\n",
       "      <td>5.0</td>\n",
       "      <td>5.0</td>\n",
       "      <td>5.0</td>\n",
       "    </tr>\n",
       "    <tr>\n",
       "      <th>Geita</th>\n",
       "      <td>488.0</td>\n",
       "      <td>6.000000</td>\n",
       "      <td>0.000000</td>\n",
       "      <td>6.0</td>\n",
       "      <td>6.0</td>\n",
       "      <td>6.0</td>\n",
       "      <td>6.0</td>\n",
       "      <td>6.0</td>\n",
       "    </tr>\n",
       "    <tr>\n",
       "      <th>Hai</th>\n",
       "      <td>625.0</td>\n",
       "      <td>5.012800</td>\n",
       "      <td>0.112501</td>\n",
       "      <td>5.0</td>\n",
       "      <td>5.0</td>\n",
       "      <td>5.0</td>\n",
       "      <td>5.0</td>\n",
       "      <td>6.0</td>\n",
       "    </tr>\n",
       "    <tr>\n",
       "      <th>Hanang</th>\n",
       "      <td>274.0</td>\n",
       "      <td>2.000000</td>\n",
       "      <td>0.000000</td>\n",
       "      <td>2.0</td>\n",
       "      <td>2.0</td>\n",
       "      <td>2.0</td>\n",
       "      <td>2.0</td>\n",
       "      <td>2.0</td>\n",
       "    </tr>\n",
       "    <tr>\n",
       "      <th>Handeni</th>\n",
       "      <td>254.0</td>\n",
       "      <td>6.000000</td>\n",
       "      <td>0.000000</td>\n",
       "      <td>6.0</td>\n",
       "      <td>6.0</td>\n",
       "      <td>6.0</td>\n",
       "      <td>6.0</td>\n",
       "      <td>6.0</td>\n",
       "    </tr>\n",
       "    <tr>\n",
       "      <th>Igunga</th>\n",
       "      <td>338.0</td>\n",
       "      <td>2.000000</td>\n",
       "      <td>0.000000</td>\n",
       "      <td>2.0</td>\n",
       "      <td>2.0</td>\n",
       "      <td>2.0</td>\n",
       "      <td>2.0</td>\n",
       "      <td>2.0</td>\n",
       "    </tr>\n",
       "    <tr>\n",
       "      <th>Ilala</th>\n",
       "      <td>497.0</td>\n",
       "      <td>2.000000</td>\n",
       "      <td>0.000000</td>\n",
       "      <td>2.0</td>\n",
       "      <td>2.0</td>\n",
       "      <td>2.0</td>\n",
       "      <td>2.0</td>\n",
       "      <td>2.0</td>\n",
       "    </tr>\n",
       "    <tr>\n",
       "      <th>Ileje</th>\n",
       "      <td>231.0</td>\n",
       "      <td>4.701299</td>\n",
       "      <td>0.840263</td>\n",
       "      <td>2.0</td>\n",
       "      <td>5.0</td>\n",
       "      <td>5.0</td>\n",
       "      <td>5.0</td>\n",
       "      <td>5.0</td>\n",
       "    </tr>\n",
       "    <tr>\n",
       "      <th>Ilemela</th>\n",
       "      <td>142.0</td>\n",
       "      <td>5.838028</td>\n",
       "      <td>2.350908</td>\n",
       "      <td>3.0</td>\n",
       "      <td>3.0</td>\n",
       "      <td>8.0</td>\n",
       "      <td>8.0</td>\n",
       "      <td>8.0</td>\n",
       "    </tr>\n",
       "    <tr>\n",
       "      <th>Iramba</th>\n",
       "      <td>544.0</td>\n",
       "      <td>1.000000</td>\n",
       "      <td>0.000000</td>\n",
       "      <td>1.0</td>\n",
       "      <td>1.0</td>\n",
       "      <td>1.0</td>\n",
       "      <td>1.0</td>\n",
       "      <td>1.0</td>\n",
       "    </tr>\n",
       "    <tr>\n",
       "      <th>Iringa Rural</th>\n",
       "      <td>728.0</td>\n",
       "      <td>1.000000</td>\n",
       "      <td>0.000000</td>\n",
       "      <td>1.0</td>\n",
       "      <td>1.0</td>\n",
       "      <td>1.0</td>\n",
       "      <td>1.0</td>\n",
       "      <td>1.0</td>\n",
       "    </tr>\n",
       "    <tr>\n",
       "      <th>Kahama</th>\n",
       "      <td>836.0</td>\n",
       "      <td>3.023923</td>\n",
       "      <td>0.152902</td>\n",
       "      <td>3.0</td>\n",
       "      <td>3.0</td>\n",
       "      <td>3.0</td>\n",
       "      <td>3.0</td>\n",
       "      <td>4.0</td>\n",
       "    </tr>\n",
       "    <tr>\n",
       "      <th>Karagwe</th>\n",
       "      <td>771.0</td>\n",
       "      <td>1.000000</td>\n",
       "      <td>0.000000</td>\n",
       "      <td>1.0</td>\n",
       "      <td>1.0</td>\n",
       "      <td>1.0</td>\n",
       "      <td>1.0</td>\n",
       "      <td>1.0</td>\n",
       "    </tr>\n",
       "    <tr>\n",
       "      <th>Karatu</th>\n",
       "      <td>326.0</td>\n",
       "      <td>30.000000</td>\n",
       "      <td>0.000000</td>\n",
       "      <td>30.0</td>\n",
       "      <td>30.0</td>\n",
       "      <td>30.0</td>\n",
       "      <td>30.0</td>\n",
       "      <td>30.0</td>\n",
       "    </tr>\n",
       "    <tr>\n",
       "      <th>Kasulu</th>\n",
       "      <td>1047.0</td>\n",
       "      <td>2.000000</td>\n",
       "      <td>0.000000</td>\n",
       "      <td>2.0</td>\n",
       "      <td>2.0</td>\n",
       "      <td>2.0</td>\n",
       "      <td>2.0</td>\n",
       "      <td>2.0</td>\n",
       "    </tr>\n",
       "    <tr>\n",
       "      <th>Kibaha</th>\n",
       "      <td>269.0</td>\n",
       "      <td>2.000000</td>\n",
       "      <td>0.000000</td>\n",
       "      <td>2.0</td>\n",
       "      <td>2.0</td>\n",
       "      <td>2.0</td>\n",
       "      <td>2.0</td>\n",
       "      <td>2.0</td>\n",
       "    </tr>\n",
       "    <tr>\n",
       "      <th>...</th>\n",
       "      <td>...</td>\n",
       "      <td>...</td>\n",
       "      <td>...</td>\n",
       "      <td>...</td>\n",
       "      <td>...</td>\n",
       "      <td>...</td>\n",
       "      <td>...</td>\n",
       "      <td>...</td>\n",
       "    </tr>\n",
       "    <tr>\n",
       "      <th>Pangani</th>\n",
       "      <td>305.0</td>\n",
       "      <td>5.039344</td>\n",
       "      <td>0.194732</td>\n",
       "      <td>5.0</td>\n",
       "      <td>5.0</td>\n",
       "      <td>5.0</td>\n",
       "      <td>5.0</td>\n",
       "      <td>6.0</td>\n",
       "    </tr>\n",
       "    <tr>\n",
       "      <th>Rombo</th>\n",
       "      <td>594.0</td>\n",
       "      <td>1.030303</td>\n",
       "      <td>0.300238</td>\n",
       "      <td>1.0</td>\n",
       "      <td>1.0</td>\n",
       "      <td>1.0</td>\n",
       "      <td>1.0</td>\n",
       "      <td>4.0</td>\n",
       "    </tr>\n",
       "    <tr>\n",
       "      <th>Rorya</th>\n",
       "      <td>210.0</td>\n",
       "      <td>6.000000</td>\n",
       "      <td>0.000000</td>\n",
       "      <td>6.0</td>\n",
       "      <td>6.0</td>\n",
       "      <td>6.0</td>\n",
       "      <td>6.0</td>\n",
       "      <td>6.0</td>\n",
       "    </tr>\n",
       "    <tr>\n",
       "      <th>Ruangwa</th>\n",
       "      <td>291.0</td>\n",
       "      <td>53.000000</td>\n",
       "      <td>0.000000</td>\n",
       "      <td>53.0</td>\n",
       "      <td>53.0</td>\n",
       "      <td>53.0</td>\n",
       "      <td>53.0</td>\n",
       "      <td>53.0</td>\n",
       "    </tr>\n",
       "    <tr>\n",
       "      <th>Rufiji</th>\n",
       "      <td>454.0</td>\n",
       "      <td>53.000000</td>\n",
       "      <td>0.000000</td>\n",
       "      <td>53.0</td>\n",
       "      <td>53.0</td>\n",
       "      <td>53.0</td>\n",
       "      <td>53.0</td>\n",
       "      <td>53.0</td>\n",
       "    </tr>\n",
       "    <tr>\n",
       "      <th>Rungwe</th>\n",
       "      <td>1106.0</td>\n",
       "      <td>4.000000</td>\n",
       "      <td>0.000000</td>\n",
       "      <td>4.0</td>\n",
       "      <td>4.0</td>\n",
       "      <td>4.0</td>\n",
       "      <td>4.0</td>\n",
       "      <td>4.0</td>\n",
       "    </tr>\n",
       "    <tr>\n",
       "      <th>Same</th>\n",
       "      <td>877.0</td>\n",
       "      <td>3.000000</td>\n",
       "      <td>0.000000</td>\n",
       "      <td>3.0</td>\n",
       "      <td>3.0</td>\n",
       "      <td>3.0</td>\n",
       "      <td>3.0</td>\n",
       "      <td>3.0</td>\n",
       "    </tr>\n",
       "    <tr>\n",
       "      <th>Sengerema</th>\n",
       "      <td>331.0</td>\n",
       "      <td>5.151057</td>\n",
       "      <td>0.529285</td>\n",
       "      <td>5.0</td>\n",
       "      <td>5.0</td>\n",
       "      <td>5.0</td>\n",
       "      <td>5.0</td>\n",
       "      <td>7.0</td>\n",
       "    </tr>\n",
       "    <tr>\n",
       "      <th>Serengeti</th>\n",
       "      <td>716.0</td>\n",
       "      <td>2.000000</td>\n",
       "      <td>0.000000</td>\n",
       "      <td>2.0</td>\n",
       "      <td>2.0</td>\n",
       "      <td>2.0</td>\n",
       "      <td>2.0</td>\n",
       "      <td>2.0</td>\n",
       "    </tr>\n",
       "    <tr>\n",
       "      <th>Shinyanga Rural</th>\n",
       "      <td>588.0</td>\n",
       "      <td>3.000000</td>\n",
       "      <td>0.000000</td>\n",
       "      <td>3.0</td>\n",
       "      <td>3.0</td>\n",
       "      <td>3.0</td>\n",
       "      <td>3.0</td>\n",
       "      <td>3.0</td>\n",
       "    </tr>\n",
       "    <tr>\n",
       "      <th>Shinyanga Urban</th>\n",
       "      <td>191.0</td>\n",
       "      <td>7.000000</td>\n",
       "      <td>0.000000</td>\n",
       "      <td>7.0</td>\n",
       "      <td>7.0</td>\n",
       "      <td>7.0</td>\n",
       "      <td>7.0</td>\n",
       "      <td>7.0</td>\n",
       "    </tr>\n",
       "    <tr>\n",
       "      <th>Siha</th>\n",
       "      <td>434.0</td>\n",
       "      <td>7.000000</td>\n",
       "      <td>0.000000</td>\n",
       "      <td>7.0</td>\n",
       "      <td>7.0</td>\n",
       "      <td>7.0</td>\n",
       "      <td>7.0</td>\n",
       "      <td>7.0</td>\n",
       "    </tr>\n",
       "    <tr>\n",
       "      <th>Sikonge</th>\n",
       "      <td>170.0</td>\n",
       "      <td>5.000000</td>\n",
       "      <td>0.000000</td>\n",
       "      <td>5.0</td>\n",
       "      <td>5.0</td>\n",
       "      <td>5.0</td>\n",
       "      <td>5.0</td>\n",
       "      <td>5.0</td>\n",
       "    </tr>\n",
       "    <tr>\n",
       "      <th>Simanjiro</th>\n",
       "      <td>308.0</td>\n",
       "      <td>3.620130</td>\n",
       "      <td>0.999275</td>\n",
       "      <td>1.0</td>\n",
       "      <td>4.0</td>\n",
       "      <td>4.0</td>\n",
       "      <td>4.0</td>\n",
       "      <td>4.0</td>\n",
       "    </tr>\n",
       "    <tr>\n",
       "      <th>Singida Rural</th>\n",
       "      <td>995.0</td>\n",
       "      <td>2.000000</td>\n",
       "      <td>0.000000</td>\n",
       "      <td>2.0</td>\n",
       "      <td>2.0</td>\n",
       "      <td>2.0</td>\n",
       "      <td>2.0</td>\n",
       "      <td>2.0</td>\n",
       "    </tr>\n",
       "    <tr>\n",
       "      <th>Singida Urban</th>\n",
       "      <td>177.0</td>\n",
       "      <td>4.000000</td>\n",
       "      <td>0.000000</td>\n",
       "      <td>4.0</td>\n",
       "      <td>4.0</td>\n",
       "      <td>4.0</td>\n",
       "      <td>4.0</td>\n",
       "      <td>4.0</td>\n",
       "    </tr>\n",
       "    <tr>\n",
       "      <th>Songea Rural</th>\n",
       "      <td>693.0</td>\n",
       "      <td>2.118326</td>\n",
       "      <td>0.472200</td>\n",
       "      <td>2.0</td>\n",
       "      <td>2.0</td>\n",
       "      <td>2.0</td>\n",
       "      <td>2.0</td>\n",
       "      <td>4.0</td>\n",
       "    </tr>\n",
       "    <tr>\n",
       "      <th>Songea Urban</th>\n",
       "      <td>80.0</td>\n",
       "      <td>4.000000</td>\n",
       "      <td>0.000000</td>\n",
       "      <td>4.0</td>\n",
       "      <td>4.0</td>\n",
       "      <td>4.0</td>\n",
       "      <td>4.0</td>\n",
       "      <td>4.0</td>\n",
       "    </tr>\n",
       "    <tr>\n",
       "      <th>Sumbawanga Rural</th>\n",
       "      <td>521.0</td>\n",
       "      <td>2.000000</td>\n",
       "      <td>0.000000</td>\n",
       "      <td>2.0</td>\n",
       "      <td>2.0</td>\n",
       "      <td>2.0</td>\n",
       "      <td>2.0</td>\n",
       "      <td>2.0</td>\n",
       "    </tr>\n",
       "    <tr>\n",
       "      <th>Sumbawanga Urban</th>\n",
       "      <td>180.0</td>\n",
       "      <td>4.000000</td>\n",
       "      <td>0.000000</td>\n",
       "      <td>4.0</td>\n",
       "      <td>4.0</td>\n",
       "      <td>4.0</td>\n",
       "      <td>4.0</td>\n",
       "      <td>4.0</td>\n",
       "    </tr>\n",
       "    <tr>\n",
       "      <th>Tabora Urban</th>\n",
       "      <td>155.0</td>\n",
       "      <td>6.000000</td>\n",
       "      <td>0.000000</td>\n",
       "      <td>6.0</td>\n",
       "      <td>6.0</td>\n",
       "      <td>6.0</td>\n",
       "      <td>6.0</td>\n",
       "      <td>6.0</td>\n",
       "    </tr>\n",
       "    <tr>\n",
       "      <th>Tandahimba</th>\n",
       "      <td>266.0</td>\n",
       "      <td>4.000000</td>\n",
       "      <td>0.000000</td>\n",
       "      <td>4.0</td>\n",
       "      <td>4.0</td>\n",
       "      <td>4.0</td>\n",
       "      <td>4.0</td>\n",
       "      <td>4.0</td>\n",
       "    </tr>\n",
       "    <tr>\n",
       "      <th>Tanga</th>\n",
       "      <td>99.0</td>\n",
       "      <td>4.000000</td>\n",
       "      <td>0.000000</td>\n",
       "      <td>4.0</td>\n",
       "      <td>4.0</td>\n",
       "      <td>4.0</td>\n",
       "      <td>4.0</td>\n",
       "      <td>4.0</td>\n",
       "    </tr>\n",
       "    <tr>\n",
       "      <th>Tarime</th>\n",
       "      <td>209.0</td>\n",
       "      <td>1.909091</td>\n",
       "      <td>1.933103</td>\n",
       "      <td>1.0</td>\n",
       "      <td>1.0</td>\n",
       "      <td>1.0</td>\n",
       "      <td>1.0</td>\n",
       "      <td>6.0</td>\n",
       "    </tr>\n",
       "    <tr>\n",
       "      <th>Temeke</th>\n",
       "      <td>215.0</td>\n",
       "      <td>3.000000</td>\n",
       "      <td>0.000000</td>\n",
       "      <td>3.0</td>\n",
       "      <td>3.0</td>\n",
       "      <td>3.0</td>\n",
       "      <td>3.0</td>\n",
       "      <td>3.0</td>\n",
       "    </tr>\n",
       "    <tr>\n",
       "      <th>Tunduru</th>\n",
       "      <td>423.0</td>\n",
       "      <td>1.000000</td>\n",
       "      <td>0.000000</td>\n",
       "      <td>1.0</td>\n",
       "      <td>1.0</td>\n",
       "      <td>1.0</td>\n",
       "      <td>1.0</td>\n",
       "      <td>1.0</td>\n",
       "    </tr>\n",
       "    <tr>\n",
       "      <th>Ukerewe</th>\n",
       "      <td>341.0</td>\n",
       "      <td>1.000000</td>\n",
       "      <td>0.000000</td>\n",
       "      <td>1.0</td>\n",
       "      <td>1.0</td>\n",
       "      <td>1.0</td>\n",
       "      <td>1.0</td>\n",
       "      <td>1.0</td>\n",
       "    </tr>\n",
       "    <tr>\n",
       "      <th>Ulanga</th>\n",
       "      <td>665.0</td>\n",
       "      <td>3.942857</td>\n",
       "      <td>0.232290</td>\n",
       "      <td>3.0</td>\n",
       "      <td>4.0</td>\n",
       "      <td>4.0</td>\n",
       "      <td>4.0</td>\n",
       "      <td>4.0</td>\n",
       "    </tr>\n",
       "    <tr>\n",
       "      <th>Urambo</th>\n",
       "      <td>382.0</td>\n",
       "      <td>4.000000</td>\n",
       "      <td>0.000000</td>\n",
       "      <td>4.0</td>\n",
       "      <td>4.0</td>\n",
       "      <td>4.0</td>\n",
       "      <td>4.0</td>\n",
       "      <td>4.0</td>\n",
       "    </tr>\n",
       "    <tr>\n",
       "      <th>Uyui</th>\n",
       "      <td>339.0</td>\n",
       "      <td>3.017699</td>\n",
       "      <td>0.230087</td>\n",
       "      <td>3.0</td>\n",
       "      <td>3.0</td>\n",
       "      <td>3.0</td>\n",
       "      <td>3.0</td>\n",
       "      <td>6.0</td>\n",
       "    </tr>\n",
       "  </tbody>\n",
       "</table>\n",
       "<p>125 rows × 8 columns</p>\n",
       "</div>"
      ],
      "text/plain": [
       "                   count       mean       std   min   25%   50%   75%   max\n",
       "lga                                                                        \n",
       "Arusha Rural      1252.0   2.036741  0.188201   2.0   2.0   2.0   2.0   3.0\n",
       "Arusha Urban        63.0   3.000000  0.000000   3.0   3.0   3.0   3.0   3.0\n",
       "Babati             511.0   1.000000  0.000000   1.0   1.0   1.0   1.0   1.0\n",
       "Bagamoyo           997.0   1.013039  0.113499   1.0   1.0   1.0   1.0   2.0\n",
       "Bahi               224.0   6.000000  0.000000   6.0   6.0   6.0   6.0   6.0\n",
       "Bariadi           1177.0   1.007647  0.151330   1.0   1.0   1.0   1.0   4.0\n",
       "Biharamulo         403.0   4.000000  0.000000   4.0   4.0   4.0   4.0   4.0\n",
       "Bukoba Rural       487.0   2.000000  0.000000   2.0   2.0   2.0   2.0   2.0\n",
       "Bukoba Urban        88.0   6.000000  0.000000   6.0   6.0   6.0   6.0   6.0\n",
       "Bukombe            514.0   5.000000  0.000000   5.0   5.0   5.0   5.0   5.0\n",
       "Bunda              438.0   4.000000  0.000000   4.0   4.0   4.0   4.0   4.0\n",
       "Chamwino           347.0   4.000000  0.000000   4.0   4.0   4.0   4.0   4.0\n",
       "Chato              236.0   8.000000  0.000000   8.0   8.0   8.0   8.0   8.0\n",
       "Chunya             298.0   1.000000  0.000000   1.0   1.0   1.0   1.0   1.0\n",
       "Dodoma Urban       358.0   5.000000  0.000000   5.0   5.0   5.0   5.0   5.0\n",
       "Geita              488.0   6.000000  0.000000   6.0   6.0   6.0   6.0   6.0\n",
       "Hai                625.0   5.012800  0.112501   5.0   5.0   5.0   5.0   6.0\n",
       "Hanang             274.0   2.000000  0.000000   2.0   2.0   2.0   2.0   2.0\n",
       "Handeni            254.0   6.000000  0.000000   6.0   6.0   6.0   6.0   6.0\n",
       "Igunga             338.0   2.000000  0.000000   2.0   2.0   2.0   2.0   2.0\n",
       "Ilala              497.0   2.000000  0.000000   2.0   2.0   2.0   2.0   2.0\n",
       "Ileje              231.0   4.701299  0.840263   2.0   5.0   5.0   5.0   5.0\n",
       "Ilemela            142.0   5.838028  2.350908   3.0   3.0   8.0   8.0   8.0\n",
       "Iramba             544.0   1.000000  0.000000   1.0   1.0   1.0   1.0   1.0\n",
       "Iringa Rural       728.0   1.000000  0.000000   1.0   1.0   1.0   1.0   1.0\n",
       "Kahama             836.0   3.023923  0.152902   3.0   3.0   3.0   3.0   4.0\n",
       "Karagwe            771.0   1.000000  0.000000   1.0   1.0   1.0   1.0   1.0\n",
       "Karatu             326.0  30.000000  0.000000  30.0  30.0  30.0  30.0  30.0\n",
       "Kasulu            1047.0   2.000000  0.000000   2.0   2.0   2.0   2.0   2.0\n",
       "Kibaha             269.0   2.000000  0.000000   2.0   2.0   2.0   2.0   2.0\n",
       "...                  ...        ...       ...   ...   ...   ...   ...   ...\n",
       "Pangani            305.0   5.039344  0.194732   5.0   5.0   5.0   5.0   6.0\n",
       "Rombo              594.0   1.030303  0.300238   1.0   1.0   1.0   1.0   4.0\n",
       "Rorya              210.0   6.000000  0.000000   6.0   6.0   6.0   6.0   6.0\n",
       "Ruangwa            291.0  53.000000  0.000000  53.0  53.0  53.0  53.0  53.0\n",
       "Rufiji             454.0  53.000000  0.000000  53.0  53.0  53.0  53.0  53.0\n",
       "Rungwe            1106.0   4.000000  0.000000   4.0   4.0   4.0   4.0   4.0\n",
       "Same               877.0   3.000000  0.000000   3.0   3.0   3.0   3.0   3.0\n",
       "Sengerema          331.0   5.151057  0.529285   5.0   5.0   5.0   5.0   7.0\n",
       "Serengeti          716.0   2.000000  0.000000   2.0   2.0   2.0   2.0   2.0\n",
       "Shinyanga Rural    588.0   3.000000  0.000000   3.0   3.0   3.0   3.0   3.0\n",
       "Shinyanga Urban    191.0   7.000000  0.000000   7.0   7.0   7.0   7.0   7.0\n",
       "Siha               434.0   7.000000  0.000000   7.0   7.0   7.0   7.0   7.0\n",
       "Sikonge            170.0   5.000000  0.000000   5.0   5.0   5.0   5.0   5.0\n",
       "Simanjiro          308.0   3.620130  0.999275   1.0   4.0   4.0   4.0   4.0\n",
       "Singida Rural      995.0   2.000000  0.000000   2.0   2.0   2.0   2.0   2.0\n",
       "Singida Urban      177.0   4.000000  0.000000   4.0   4.0   4.0   4.0   4.0\n",
       "Songea Rural       693.0   2.118326  0.472200   2.0   2.0   2.0   2.0   4.0\n",
       "Songea Urban        80.0   4.000000  0.000000   4.0   4.0   4.0   4.0   4.0\n",
       "Sumbawanga Rural   521.0   2.000000  0.000000   2.0   2.0   2.0   2.0   2.0\n",
       "Sumbawanga Urban   180.0   4.000000  0.000000   4.0   4.0   4.0   4.0   4.0\n",
       "Tabora Urban       155.0   6.000000  0.000000   6.0   6.0   6.0   6.0   6.0\n",
       "Tandahimba         266.0   4.000000  0.000000   4.0   4.0   4.0   4.0   4.0\n",
       "Tanga               99.0   4.000000  0.000000   4.0   4.0   4.0   4.0   4.0\n",
       "Tarime             209.0   1.909091  1.933103   1.0   1.0   1.0   1.0   6.0\n",
       "Temeke             215.0   3.000000  0.000000   3.0   3.0   3.0   3.0   3.0\n",
       "Tunduru            423.0   1.000000  0.000000   1.0   1.0   1.0   1.0   1.0\n",
       "Ukerewe            341.0   1.000000  0.000000   1.0   1.0   1.0   1.0   1.0\n",
       "Ulanga             665.0   3.942857  0.232290   3.0   4.0   4.0   4.0   4.0\n",
       "Urambo             382.0   4.000000  0.000000   4.0   4.0   4.0   4.0   4.0\n",
       "Uyui               339.0   3.017699  0.230087   3.0   3.0   3.0   3.0   6.0\n",
       "\n",
       "[125 rows x 8 columns]"
      ]
     },
     "execution_count": 74,
     "metadata": {},
     "output_type": "execute_result"
    }
   ],
   "source": [
    "X_train['district_code'].groupby(X_train['lga']).describe()"
   ]
  },
  {
   "cell_type": "markdown",
   "metadata": {
    "hidden": true
   },
   "source": [
    "When grouping the `district_code` by the `lga` it becomes clear that one than one district code is often given to one level of `lga`. I'm not sure how this feature was determined on the district itself. I'll retain this in the modeling data set, but I will not be using this to actually locate the well for any geographical analysis."
   ]
  },
  {
   "cell_type": "markdown",
   "metadata": {
    "hidden": true
   },
   "source": [
    "**`region`**"
   ]
  },
  {
   "cell_type": "code",
   "execution_count": 68,
   "metadata": {
    "hidden": true,
    "scrolled": true
   },
   "outputs": [
    {
     "data": {
      "text/plain": [
       "count      59400\n",
       "unique        21\n",
       "top       Iringa\n",
       "freq        5294\n",
       "Name: region, dtype: object"
      ]
     },
     "execution_count": 68,
     "metadata": {},
     "output_type": "execute_result"
    }
   ],
   "source": [
    "X_train.region.describe()"
   ]
  },
  {
   "cell_type": "markdown",
   "metadata": {
    "hidden": true
   },
   "source": [
    "There are 21 different regions listed in this data set. I'm already aware of the fact that the regions are not listed as according to the most recent Tanzania census data, so the fact that this doesn't match then known 31 regions of Tanzania is not surprising to me.\n",
    "I'll be updating these based on the census data, and then including this feature in the modeling data set."
   ]
  },
  {
   "cell_type": "code",
   "execution_count": 140,
   "metadata": {
    "hidden": true
   },
   "outputs": [
    {
     "data": {
      "text/plain": [
       "Text(-3.8249999999999957, 0.5, 'Number of Records')"
      ]
     },
     "execution_count": 140,
     "metadata": {},
     "output_type": "execute_result"
    },
    {
     "data": {
      "image/png": "[encoded data removed]",
      "text/plain": [
       "<Figure size 540x360 with 1 Axes>"
      ]
     },
     "metadata": {
      "needs_background": "light"
     },
     "output_type": "display_data"
    }
   ],
   "source": [
    "sns.catplot(x = 'region', kind = 'count', data = X_train, aspect = 1.5)\n",
    "plt.xticks(rotation = 45, ha = \"right\")\n",
    "plt.title(\"Count Plot of the Listed Regions of Tanzania\")\n",
    "plt.xlabel(\"Regions\")\n",
    "plt.ylabel(\"Number of Records\")"
   ]
  },
  {
   "cell_type": "markdown",
   "metadata": {
    "hidden": true
   },
   "source": [
    "**`region_code`**"
   ]
  },
  {
   "cell_type": "code",
   "execution_count": 71,
   "metadata": {
    "hidden": true,
    "scrolled": false
   },
   "outputs": [
    {
     "data": {
      "text/plain": [
       "count    59400.000000\n",
       "mean        15.297003\n",
       "std         17.587406\n",
       "min          1.000000\n",
       "25%          5.000000\n",
       "50%         12.000000\n",
       "75%         17.000000\n",
       "max         99.000000\n",
       "Name: region_code, dtype: float64"
      ]
     },
     "execution_count": 71,
     "metadata": {},
     "output_type": "execute_result"
    }
   ],
   "source": [
    "X_train.region_code.describe()"
   ]
  },
  {
   "cell_type": "code",
   "execution_count": 148,
   "metadata": {
    "hidden": true
   },
   "outputs": [
    {
     "data": {
      "text/plain": [
       "27"
      ]
     },
     "execution_count": 148,
     "metadata": {},
     "output_type": "execute_result"
    }
   ],
   "source": [
    "len(X_train.region_code.unique())"
   ]
  },
  {
   "cell_type": "markdown",
   "metadata": {
    "hidden": true
   },
   "source": [
    "As noted earlier in the analysis, the number of regions(21) does not match to the number of listed region codes (27). "
   ]
  },
  {
   "cell_type": "code",
   "execution_count": 163,
   "metadata": {
    "hidden": true,
    "scrolled": false
   },
   "outputs": [
    {
     "data": {
      "text/html": [
       "<div>\n",
       "<style scoped>\n",
       "    .dataframe tbody tr th:only-of-type {\n",
       "        vertical-align: middle;\n",
       "    }\n",
       "\n",
       "    .dataframe tbody tr th {\n",
       "        vertical-align: top;\n",
       "    }\n",
       "\n",
       "    .dataframe thead th {\n",
       "        text-align: right;\n",
       "    }\n",
       "</style>\n",
       "<table border=\"1\" class=\"dataframe\">\n",
       "  <thead>\n",
       "    <tr style=\"text-align: right;\">\n",
       "      <th></th>\n",
       "      <th>count</th>\n",
       "      <th>mean</th>\n",
       "      <th>std</th>\n",
       "      <th>min</th>\n",
       "      <th>25%</th>\n",
       "      <th>50%</th>\n",
       "      <th>75%</th>\n",
       "      <th>max</th>\n",
       "    </tr>\n",
       "    <tr>\n",
       "      <th>region</th>\n",
       "      <th></th>\n",
       "      <th></th>\n",
       "      <th></th>\n",
       "      <th></th>\n",
       "      <th></th>\n",
       "      <th></th>\n",
       "      <th></th>\n",
       "      <th></th>\n",
       "    </tr>\n",
       "  </thead>\n",
       "  <tbody>\n",
       "    <tr>\n",
       "      <th>Arusha</th>\n",
       "      <td>3350.0</td>\n",
       "      <td>4.140896</td>\n",
       "      <td>6.521423</td>\n",
       "      <td>2.0</td>\n",
       "      <td>2.0</td>\n",
       "      <td>2.0</td>\n",
       "      <td>2.0</td>\n",
       "      <td>24.0</td>\n",
       "    </tr>\n",
       "    <tr>\n",
       "      <th>Dar es Salaam</th>\n",
       "      <td>805.0</td>\n",
       "      <td>7.000000</td>\n",
       "      <td>0.000000</td>\n",
       "      <td>7.0</td>\n",
       "      <td>7.0</td>\n",
       "      <td>7.0</td>\n",
       "      <td>7.0</td>\n",
       "      <td>7.0</td>\n",
       "    </tr>\n",
       "    <tr>\n",
       "      <th>Dodoma</th>\n",
       "      <td>2201.0</td>\n",
       "      <td>1.000000</td>\n",
       "      <td>0.000000</td>\n",
       "      <td>1.0</td>\n",
       "      <td>1.0</td>\n",
       "      <td>1.0</td>\n",
       "      <td>1.0</td>\n",
       "      <td>1.0</td>\n",
       "    </tr>\n",
       "    <tr>\n",
       "      <th>Iringa</th>\n",
       "      <td>5294.0</td>\n",
       "      <td>11.000000</td>\n",
       "      <td>0.000000</td>\n",
       "      <td>11.0</td>\n",
       "      <td>11.0</td>\n",
       "      <td>11.0</td>\n",
       "      <td>11.0</td>\n",
       "      <td>11.0</td>\n",
       "    </tr>\n",
       "    <tr>\n",
       "      <th>Kagera</th>\n",
       "      <td>3316.0</td>\n",
       "      <td>18.000000</td>\n",
       "      <td>0.000000</td>\n",
       "      <td>18.0</td>\n",
       "      <td>18.0</td>\n",
       "      <td>18.0</td>\n",
       "      <td>18.0</td>\n",
       "      <td>18.0</td>\n",
       "    </tr>\n",
       "    <tr>\n",
       "      <th>Kigoma</th>\n",
       "      <td>2816.0</td>\n",
       "      <td>16.000000</td>\n",
       "      <td>0.000000</td>\n",
       "      <td>16.0</td>\n",
       "      <td>16.0</td>\n",
       "      <td>16.0</td>\n",
       "      <td>16.0</td>\n",
       "      <td>16.0</td>\n",
       "    </tr>\n",
       "    <tr>\n",
       "      <th>Kilimanjaro</th>\n",
       "      <td>4379.0</td>\n",
       "      <td>3.000000</td>\n",
       "      <td>0.000000</td>\n",
       "      <td>3.0</td>\n",
       "      <td>3.0</td>\n",
       "      <td>3.0</td>\n",
       "      <td>3.0</td>\n",
       "      <td>3.0</td>\n",
       "    </tr>\n",
       "    <tr>\n",
       "      <th>Lindi</th>\n",
       "      <td>1546.0</td>\n",
       "      <td>65.707633</td>\n",
       "      <td>28.672324</td>\n",
       "      <td>8.0</td>\n",
       "      <td>80.0</td>\n",
       "      <td>80.0</td>\n",
       "      <td>80.0</td>\n",
       "      <td>80.0</td>\n",
       "    </tr>\n",
       "    <tr>\n",
       "      <th>Manyara</th>\n",
       "      <td>1583.0</td>\n",
       "      <td>21.000000</td>\n",
       "      <td>0.000000</td>\n",
       "      <td>21.0</td>\n",
       "      <td>21.0</td>\n",
       "      <td>21.0</td>\n",
       "      <td>21.0</td>\n",
       "      <td>21.0</td>\n",
       "    </tr>\n",
       "    <tr>\n",
       "      <th>Mara</th>\n",
       "      <td>1969.0</td>\n",
       "      <td>20.000000</td>\n",
       "      <td>0.000000</td>\n",
       "      <td>20.0</td>\n",
       "      <td>20.0</td>\n",
       "      <td>20.0</td>\n",
       "      <td>20.0</td>\n",
       "      <td>20.0</td>\n",
       "    </tr>\n",
       "    <tr>\n",
       "      <th>Mbeya</th>\n",
       "      <td>4639.0</td>\n",
       "      <td>12.000000</td>\n",
       "      <td>0.000000</td>\n",
       "      <td>12.0</td>\n",
       "      <td>12.0</td>\n",
       "      <td>12.0</td>\n",
       "      <td>12.0</td>\n",
       "      <td>12.0</td>\n",
       "    </tr>\n",
       "    <tr>\n",
       "      <th>Morogoro</th>\n",
       "      <td>4006.0</td>\n",
       "      <td>5.000000</td>\n",
       "      <td>0.000000</td>\n",
       "      <td>5.0</td>\n",
       "      <td>5.0</td>\n",
       "      <td>5.0</td>\n",
       "      <td>5.0</td>\n",
       "      <td>5.0</td>\n",
       "    </tr>\n",
       "    <tr>\n",
       "      <th>Mtwara</th>\n",
       "      <td>1730.0</td>\n",
       "      <td>73.940462</td>\n",
       "      <td>35.237530</td>\n",
       "      <td>9.0</td>\n",
       "      <td>90.0</td>\n",
       "      <td>90.0</td>\n",
       "      <td>90.0</td>\n",
       "      <td>99.0</td>\n",
       "    </tr>\n",
       "    <tr>\n",
       "      <th>Mwanza</th>\n",
       "      <td>3102.0</td>\n",
       "      <td>18.964539</td>\n",
       "      <td>0.263983</td>\n",
       "      <td>17.0</td>\n",
       "      <td>19.0</td>\n",
       "      <td>19.0</td>\n",
       "      <td>19.0</td>\n",
       "      <td>19.0</td>\n",
       "    </tr>\n",
       "    <tr>\n",
       "      <th>Pwani</th>\n",
       "      <td>2635.0</td>\n",
       "      <td>27.018596</td>\n",
       "      <td>26.329220</td>\n",
       "      <td>6.0</td>\n",
       "      <td>6.0</td>\n",
       "      <td>6.0</td>\n",
       "      <td>60.0</td>\n",
       "      <td>60.0</td>\n",
       "    </tr>\n",
       "    <tr>\n",
       "      <th>Rukwa</th>\n",
       "      <td>1808.0</td>\n",
       "      <td>15.000000</td>\n",
       "      <td>0.000000</td>\n",
       "      <td>15.0</td>\n",
       "      <td>15.0</td>\n",
       "      <td>15.0</td>\n",
       "      <td>15.0</td>\n",
       "      <td>15.0</td>\n",
       "    </tr>\n",
       "    <tr>\n",
       "      <th>Ruvuma</th>\n",
       "      <td>2640.0</td>\n",
       "      <td>10.000000</td>\n",
       "      <td>0.000000</td>\n",
       "      <td>10.0</td>\n",
       "      <td>10.0</td>\n",
       "      <td>10.0</td>\n",
       "      <td>10.0</td>\n",
       "      <td>10.0</td>\n",
       "    </tr>\n",
       "    <tr>\n",
       "      <th>Shinyanga</th>\n",
       "      <td>4982.0</td>\n",
       "      <td>16.980731</td>\n",
       "      <td>0.281302</td>\n",
       "      <td>11.0</td>\n",
       "      <td>17.0</td>\n",
       "      <td>17.0</td>\n",
       "      <td>17.0</td>\n",
       "      <td>17.0</td>\n",
       "    </tr>\n",
       "    <tr>\n",
       "      <th>Singida</th>\n",
       "      <td>2093.0</td>\n",
       "      <td>13.000000</td>\n",
       "      <td>0.000000</td>\n",
       "      <td>13.0</td>\n",
       "      <td>13.0</td>\n",
       "      <td>13.0</td>\n",
       "      <td>13.0</td>\n",
       "      <td>13.0</td>\n",
       "    </tr>\n",
       "    <tr>\n",
       "      <th>Tabora</th>\n",
       "      <td>1959.0</td>\n",
       "      <td>14.000000</td>\n",
       "      <td>0.000000</td>\n",
       "      <td>14.0</td>\n",
       "      <td>14.0</td>\n",
       "      <td>14.0</td>\n",
       "      <td>14.0</td>\n",
       "      <td>14.0</td>\n",
       "    </tr>\n",
       "    <tr>\n",
       "      <th>Tanga</th>\n",
       "      <td>2547.0</td>\n",
       "      <td>4.013349</td>\n",
       "      <td>0.114787</td>\n",
       "      <td>4.0</td>\n",
       "      <td>4.0</td>\n",
       "      <td>4.0</td>\n",
       "      <td>4.0</td>\n",
       "      <td>5.0</td>\n",
       "    </tr>\n",
       "  </tbody>\n",
       "</table>\n",
       "</div>"
      ],
      "text/plain": [
       "                count       mean        std   min   25%   50%   75%   max\n",
       "region                                                                   \n",
       "Arusha         3350.0   4.140896   6.521423   2.0   2.0   2.0   2.0  24.0\n",
       "Dar es Salaam   805.0   7.000000   0.000000   7.0   7.0   7.0   7.0   7.0\n",
       "Dodoma         2201.0   1.000000   0.000000   1.0   1.0   1.0   1.0   1.0\n",
       "Iringa         5294.0  11.000000   0.000000  11.0  11.0  11.0  11.0  11.0\n",
       "Kagera         3316.0  18.000000   0.000000  18.0  18.0  18.0  18.0  18.0\n",
       "Kigoma         2816.0  16.000000   0.000000  16.0  16.0  16.0  16.0  16.0\n",
       "Kilimanjaro    4379.0   3.000000   0.000000   3.0   3.0   3.0   3.0   3.0\n",
       "Lindi          1546.0  65.707633  28.672324   8.0  80.0  80.0  80.0  80.0\n",
       "Manyara        1583.0  21.000000   0.000000  21.0  21.0  21.0  21.0  21.0\n",
       "Mara           1969.0  20.000000   0.000000  20.0  20.0  20.0  20.0  20.0\n",
       "Mbeya          4639.0  12.000000   0.000000  12.0  12.0  12.0  12.0  12.0\n",
       "Morogoro       4006.0   5.000000   0.000000   5.0   5.0   5.0   5.0   5.0\n",
       "Mtwara         1730.0  73.940462  35.237530   9.0  90.0  90.0  90.0  99.0\n",
       "Mwanza         3102.0  18.964539   0.263983  17.0  19.0  19.0  19.0  19.0\n",
       "Pwani          2635.0  27.018596  26.329220   6.0   6.0   6.0  60.0  60.0\n",
       "Rukwa          1808.0  15.000000   0.000000  15.0  15.0  15.0  15.0  15.0\n",
       "Ruvuma         2640.0  10.000000   0.000000  10.0  10.0  10.0  10.0  10.0\n",
       "Shinyanga      4982.0  16.980731   0.281302  11.0  17.0  17.0  17.0  17.0\n",
       "Singida        2093.0  13.000000   0.000000  13.0  13.0  13.0  13.0  13.0\n",
       "Tabora         1959.0  14.000000   0.000000  14.0  14.0  14.0  14.0  14.0\n",
       "Tanga          2547.0   4.013349   0.114787   4.0   4.0   4.0   4.0   5.0"
      ]
     },
     "execution_count": 163,
     "metadata": {},
     "output_type": "execute_result"
    }
   ],
   "source": [
    "#X_train['region'].groupby(X_train['region_code']).describe()\n",
    "X_train['region_code'].groupby(X_train['region']).describe()"
   ]
  },
  {
   "cell_type": "markdown",
   "metadata": {
    "hidden": true
   },
   "source": [
    "It does appear, from the above grouped object, that some of the regions which have multiple region codes have these due to typos (ie. Lindi is maarked with the region codes 8 and 80)."
   ]
  },
  {
   "cell_type": "markdown",
   "metadata": {
    "hidden": true
   },
   "source": [
    "*Lindi*"
   ]
  },
  {
   "cell_type": "code",
   "execution_count": 152,
   "metadata": {
    "hidden": true
   },
   "outputs": [
    {
     "name": "stdout",
     "output_type": "stream",
     "text": [
      "300 observations have a region code of '8'.\n",
      "1238 observations have a region code of '8'.\n"
     ]
    }
   ],
   "source": [
    "print(\"{} observations have a region code of '8'.\".format(X_train[X_train['region_code'] == 8].shape[0]))\n",
    "print(\"{} observations have a region code of '80'.\".format(X_train[X_train['region_code'] == 80].shape[0]))"
   ]
  },
  {
   "cell_type": "markdown",
   "metadata": {
    "hidden": true
   },
   "source": [
    "*Mtwara*"
   ]
  },
  {
   "cell_type": "code",
   "execution_count": 155,
   "metadata": {
    "hidden": true,
    "scrolled": true
   },
   "outputs": [
    {
     "name": "stdout",
     "output_type": "stream",
     "text": [
      "390 observations have a region code of '9'.\n",
      "917 observations have a region code of '90'.\n",
      "423 observations have a region code of '99'.\n"
     ]
    }
   ],
   "source": [
    "print(\"{} observations have a region code of '9'.\".format(X_train[X_train['region_code'] == 9].shape[0]))\n",
    "print(\"{} observations have a region code of '90'.\".format(X_train[X_train['region_code'] == 90].shape[0]))\n",
    "print(\"{} observations have a region code of '99'.\".format(X_train[X_train['region_code'] == 99].shape[0]))"
   ]
  },
  {
   "cell_type": "markdown",
   "metadata": {
    "hidden": true
   },
   "source": [
    "*Arusha*"
   ]
  },
  {
   "cell_type": "code",
   "execution_count": 156,
   "metadata": {
    "hidden": true
   },
   "outputs": [
    {
     "name": "stdout",
     "output_type": "stream",
     "text": [
      "3024 observations have a region code of '2'.\n",
      "326 observations have a region code of '24'.\n"
     ]
    }
   ],
   "source": [
    "print(\"{} observations have a region code of '2'.\".format(X_train[X_train['region_code'] == 2].shape[0]))\n",
    "print(\"{} observations have a region code of '24'.\".format(X_train[X_train['region_code'] == 24].shape[0]))"
   ]
  },
  {
   "cell_type": "markdown",
   "metadata": {
    "hidden": true
   },
   "source": [
    "*Tanga*"
   ]
  },
  {
   "cell_type": "code",
   "execution_count": 158,
   "metadata": {
    "hidden": true
   },
   "outputs": [
    {
     "name": "stdout",
     "output_type": "stream",
     "text": [
      "2513 observations have a region code of '4'.\n",
      "4040 observations have a region code of '5'.\n"
     ]
    }
   ],
   "source": [
    "print(\"{} observations have a region code of '4'.\".format(X_train[X_train['region_code'] == 4].shape[0]))\n",
    "print(\"{} observations have a region code of '5'.\".format(X_train[X_train['region_code'] == 5].shape[0]))"
   ]
  },
  {
   "cell_type": "markdown",
   "metadata": {
    "hidden": true
   },
   "source": [
    "*Mwanza*"
   ]
  },
  {
   "cell_type": "code",
   "execution_count": 159,
   "metadata": {
    "hidden": true
   },
   "outputs": [
    {
     "name": "stdout",
     "output_type": "stream",
     "text": [
      "5011 observations have a region code of '17'.\n",
      "3047 observations have a region code of '19'.\n"
     ]
    }
   ],
   "source": [
    "print(\"{} observations have a region code of '17'.\".format(X_train[X_train['region_code'] == 17].shape[0]))\n",
    "print(\"{} observations have a region code of '19'.\".format(X_train[X_train['region_code'] == 19].shape[0]))"
   ]
  },
  {
   "cell_type": "markdown",
   "metadata": {
    "hidden": true
   },
   "source": [
    "*Pwani*"
   ]
  },
  {
   "cell_type": "code",
   "execution_count": 162,
   "metadata": {
    "hidden": true,
    "scrolled": true
   },
   "outputs": [
    {
     "name": "stdout",
     "output_type": "stream",
     "text": [
      "1609 observations have a region code of '6'.\n",
      "1025 observations have a region code of '60'.\n",
      "1 observation has a region code of '40'.\n"
     ]
    }
   ],
   "source": [
    "print(\"{} observations have a region code of '6'.\".format(X_train[X_train['region_code'] == 6].shape[0]))\n",
    "print(\"{} observations have a region code of '60'.\".format(X_train[X_train['region_code'] == 60].shape[0]))\n",
    "print(\"{} observation has a region code of '40'.\".format(X_train[X_train['region_code'] == 40].shape[0]))"
   ]
  },
  {
   "cell_type": "markdown",
   "metadata": {
    "hidden": true
   },
   "source": [
    "The rate at which the different region codes are observed are relatively high to indicate that that they are simply typos. I'll need to review these in Tableau before determining whether I should correct them to a single code. "
   ]
  },
  {
   "cell_type": "markdown",
   "metadata": {
    "heading_collapsed": true,
    "hidden": true
   },
   "source": [
    "#### Management Features\n",
    "These features refer to who manages or maintains the wells. Frequently these are highly regionally specific, due to the decentralization of water system management in Tanzania."
   ]
  },
  {
   "cell_type": "markdown",
   "metadata": {
    "hidden": true
   },
   "source": [
    "**`management`**  \n",
    "This feature refers to how the well is managed."
   ]
  },
  {
   "cell_type": "code",
   "execution_count": 79,
   "metadata": {
    "hidden": true
   },
   "outputs": [
    {
     "data": {
      "text/plain": [
       "count     59400\n",
       "unique       12\n",
       "top         vwc\n",
       "freq      40507\n",
       "Name: management, dtype: object"
      ]
     },
     "execution_count": 79,
     "metadata": {},
     "output_type": "execute_result"
    }
   ],
   "source": [
    "X_train['management'].describe()"
   ]
  },
  {
   "cell_type": "code",
   "execution_count": 168,
   "metadata": {
    "hidden": true
   },
   "outputs": [
    {
     "data": {
      "text/plain": [
       "Text(-10.824999999999996, 0.5, 'Number of Records')"
      ]
     },
     "execution_count": 168,
     "metadata": {},
     "output_type": "execute_result"
    },
    {
     "data": {
      "image/png": "[encoded data removed]",
      "text/plain": [
       "<Figure size 360x360 with 1 Axes>"
      ]
     },
     "metadata": {
      "needs_background": "light"
     },
     "output_type": "display_data"
    }
   ],
   "source": [
    "order = [\"vwc\", \"wug\", \"water board\", \"wua\", \"private operator\", \"parastatal\", \"other\", \"water authority\", \"company\", \"unknown\", \"other - school\", \"trust\"]\n",
    "sns.catplot(x = 'management', kind = 'count', data = X_train, order = order)\n",
    "plt.xticks(rotation = 45, ha = 'right')\n",
    "plt.title(\"Count Plot of Management Methods\")\n",
    "plt.xlabel(\"Management Method\")\n",
    "plt.ylabel(\"Number of Records\")"
   ]
  },
  {
   "cell_type": "markdown",
   "metadata": {
    "hidden": true
   },
   "source": [
    "**`management_group`**  \n",
    "This feature provides more generalized information about how the well is managed."
   ]
  },
  {
   "cell_type": "code",
   "execution_count": 81,
   "metadata": {
    "hidden": true
   },
   "outputs": [
    {
     "data": {
      "text/plain": [
       "count          59400\n",
       "unique             5\n",
       "top       user-group\n",
       "freq           52490\n",
       "Name: management_group, dtype: object"
      ]
     },
     "execution_count": 81,
     "metadata": {},
     "output_type": "execute_result"
    }
   ],
   "source": [
    "X_train['management_group'].describe()"
   ]
  },
  {
   "cell_type": "code",
   "execution_count": 165,
   "metadata": {
    "hidden": true,
    "scrolled": false
   },
   "outputs": [
    {
     "data": {
      "text/plain": [
       "(array([0, 1, 2, 3, 4]), <a list of 5 Text xticklabel objects>)"
      ]
     },
     "execution_count": 165,
     "metadata": {},
     "output_type": "execute_result"
    },
    {
     "data": {
      "image/png": "[encoded data removed]",
      "text/plain": [
       "<Figure size 360x360 with 1 Axes>"
      ]
     },
     "metadata": {
      "needs_background": "light"
     },
     "output_type": "display_data"
    }
   ],
   "source": [
    "order = [\"user-group\", \"commercial\", \"parastatal\", \"other\", \"unknown\"]\n",
    "sns.catplot(x = 'management_group', kind = 'count', data = X_train, order = order)\n",
    "plt.xticks(rotation = 45, ha = 'right')"
   ]
  },
  {
   "cell_type": "markdown",
   "metadata": {
    "hidden": true
   },
   "source": [
    "The majority of the wells are managed by those who use them.\n",
    "\n",
    "Due to the imbalance in classes it may be useful to reclassify this as \"user_group\" and \"Other\"."
   ]
  },
  {
   "cell_type": "markdown",
   "metadata": {
    "hidden": true
   },
   "source": [
    "**`scheme_management`**  \n",
    "This feature describes who manages the well."
   ]
  },
  {
   "cell_type": "code",
   "execution_count": 83,
   "metadata": {
    "hidden": true
   },
   "outputs": [
    {
     "data": {
      "text/plain": [
       "count     55523\n",
       "unique       12\n",
       "top         VWC\n",
       "freq      36793\n",
       "Name: scheme_management, dtype: object"
      ]
     },
     "execution_count": 83,
     "metadata": {},
     "output_type": "execute_result"
    }
   ],
   "source": [
    "X_train['scheme_management'].describe()"
   ]
  },
  {
   "cell_type": "code",
   "execution_count": 170,
   "metadata": {
    "hidden": true
   },
   "outputs": [
    {
     "data": {
      "text/plain": [
       "Text(-10.824999999999996, 0.5, 'Number of Records')"
      ]
     },
     "execution_count": 170,
     "metadata": {},
     "output_type": "execute_result"
    },
    {
     "data": {
      "image/png": "[encoded data removed]",
      "text/plain": [
       "<Figure size 360x360 with 1 Axes>"
      ]
     },
     "metadata": {
      "needs_background": "light"
     },
     "output_type": "display_data"
    }
   ],
   "source": [
    "order = [\"VWC\", \"WUG\", \"Water authority\", \"WUA\", \"Water Board\", \"Parastatal\", \"Company\", \"Private operator\", \"Other\", \"Trust\", \"SWC\", \"None\"]\n",
    "sns.catplot(x = 'scheme_management', kind = 'count', data = X_train, order = order)\n",
    "plt.xticks(rotation = 45, ha = 'right')\n",
    "plt.title(\"Count Plot of Who Manages the Water Point\")\n",
    "plt.xlabel(\"Managers\")\n",
    "plt.ylabel(\"Number of Records\")"
   ]
  },
  {
   "cell_type": "markdown",
   "metadata": {
    "hidden": true
   },
   "source": [
    "**`scheme_name`**\n",
    "This feature records the name of the management group for the well."
   ]
  },
  {
   "cell_type": "code",
   "execution_count": 85,
   "metadata": {
    "hidden": true,
    "scrolled": true
   },
   "outputs": [
    {
     "data": {
      "text/plain": [
       "count     31234\n",
       "unique     2696\n",
       "top           K\n",
       "freq        682\n",
       "Name: scheme_name, dtype: object"
      ]
     },
     "execution_count": 85,
     "metadata": {},
     "output_type": "execute_result"
    }
   ],
   "source": [
    "X_train.scheme_name.describe()"
   ]
  },
  {
   "cell_type": "code",
   "execution_count": 86,
   "metadata": {
    "hidden": true
   },
   "outputs": [
    {
     "data": {
      "text/plain": [
       "0                           Roman\n",
       "2     Nyumba ya mungu pipe scheme\n",
       "5                       Zingibali\n",
       "13                     BL Bondeni\n",
       "14                           None\n",
       "16    wanging'ombe water supply s\n",
       "17    wanging'ombe water supply s\n",
       "19                         Makanj\n",
       "20                         Kidabu\n",
       "22    wanging'ombe water supply s\n",
       "23                      Mashangwi\n",
       "24             Quick wins Program\n",
       "25                 Komaka mandaka\n",
       "26         Sobodo Borehole Scheme\n",
       "28          Kitukuni water supply\n",
       "Name: scheme_name, dtype: object"
      ]
     },
     "execution_count": 86,
     "metadata": {},
     "output_type": "execute_result"
    }
   ],
   "source": [
    "X_train[X_train['scheme_name'].notna()]['scheme_name'].head(n=15)"
   ]
  },
  {
   "cell_type": "markdown",
   "metadata": {
    "hidden": true
   },
   "source": [
    "With the third largest number of levels (2696 unique values) `scheme_name` describes who operates the waterpoint. This information is supposedly also available in `scheme_management` (which contains a much more reasonable 12 levels). As another feature provides similar information, and due to the fact that nearly half of the observations are missing, I'll be dropping scheme name from the working set as well. "
   ]
  },
  {
   "cell_type": "markdown",
   "metadata": {
    "heading_collapsed": true,
    "hidden": true
   },
   "source": [
    "#### Extraction Features\n",
    "These features describe how the water is extracted for the well. They are displayed here in decreasing order of granularity."
   ]
  },
  {
   "cell_type": "markdown",
   "metadata": {
    "hidden": true
   },
   "source": [
    "**`extraction_type`**  \n",
    "This feature describes how the water is extracted for the well, with the greatest amount of granularity."
   ]
  },
  {
   "cell_type": "code",
   "execution_count": 87,
   "metadata": {
    "hidden": true
   },
   "outputs": [
    {
     "data": {
      "text/plain": [
       "count       59400\n",
       "unique         18\n",
       "top       gravity\n",
       "freq        26780\n",
       "Name: extraction_type, dtype: object"
      ]
     },
     "execution_count": 87,
     "metadata": {},
     "output_type": "execute_result"
    }
   ],
   "source": [
    "X_train['extraction_type'].describe()"
   ]
  },
  {
   "cell_type": "code",
   "execution_count": 88,
   "metadata": {
    "hidden": true,
    "scrolled": false
   },
   "outputs": [
    {
     "data": {
      "text/plain": [
       "(array([ 0,  1,  2,  3,  4,  5,  6,  7,  8,  9, 10, 11, 12, 13, 14, 15, 16]),\n",
       " <a list of 17 Text xticklabel objects>)"
      ]
     },
     "execution_count": 88,
     "metadata": {},
     "output_type": "execute_result"
    },
    {
     "data": {
      "image/png": "[encoded data removed]",
      "text/plain": [
       "<Figure size 360x360 with 1 Axes>"
      ]
     },
     "metadata": {
      "needs_background": "light"
     },
     "output_type": "display_data"
    }
   ],
   "source": [
    "order = ['gravity', 'nira/tanira', 'other', 'submersible', 'swn 80', 'mono', 'india mark ii', 'afridev', 'ksb', 'other - rope pump', 'other - swn 81', 'windmill', 'cemo', 'other - play pump', 'walimi', 'climax', 'other - mkulima/shinyanga']\n",
    "sns.catplot(x = 'extraction_type', kind = 'count', data = X_train, order = order)\n",
    "plt.xticks(rotation = 45, ha = 'right')"
   ]
  },
  {
   "cell_type": "markdown",
   "metadata": {
    "hidden": true
   },
   "source": [
    "**`extraction_type_group`**  \n",
    "This feature also described the extraction method used for the well, with the second least amount of granularity."
   ]
  },
  {
   "cell_type": "code",
   "execution_count": 89,
   "metadata": {
    "hidden": true
   },
   "outputs": [
    {
     "data": {
      "text/plain": [
       "count       59400\n",
       "unique         13\n",
       "top       gravity\n",
       "freq        26780\n",
       "Name: extraction_type_group, dtype: object"
      ]
     },
     "execution_count": 89,
     "metadata": {},
     "output_type": "execute_result"
    }
   ],
   "source": [
    "X_train['extraction_type_group'].describe()"
   ]
  },
  {
   "cell_type": "code",
   "execution_count": 90,
   "metadata": {
    "hidden": true
   },
   "outputs": [
    {
     "data": {
      "text/plain": [
       "(array([ 0,  1,  2,  3,  4,  5,  6,  7,  8,  9, 10, 11]),\n",
       " <a list of 12 Text xticklabel objects>)"
      ]
     },
     "execution_count": 90,
     "metadata": {},
     "output_type": "execute_result"
    },
    {
     "data": {
      "image/png": "[encoded data removed]",
      "text/plain": [
       "<Figure size 360x360 with 1 Axes>"
      ]
     },
     "metadata": {
      "needs_background": "light"
     },
     "output_type": "display_data"
    }
   ],
   "source": [
    "order = ['gravity', 'nira/tanira', 'other', 'submersible', 'swn 80', 'mono', 'india mark ii', 'rope pump', 'other handpump', 'other motorpump', 'wind-powered', 'india mark iii']\n",
    "sns.catplot(x = 'extraction_type_group', kind = 'count', data = X_train, order = order)\n",
    "plt.xticks(rotation = 45, ha = 'right')"
   ]
  },
  {
   "cell_type": "markdown",
   "metadata": {
    "hidden": true
   },
   "source": [
    "**`extraction_type_class`**  \n",
    "The final and least granular feature describing the extraction method for the well."
   ]
  },
  {
   "cell_type": "code",
   "execution_count": 91,
   "metadata": {
    "hidden": true
   },
   "outputs": [
    {
     "data": {
      "text/plain": [
       "count       59400\n",
       "unique          7\n",
       "top       gravity\n",
       "freq        26780\n",
       "Name: extraction_type_class, dtype: object"
      ]
     },
     "execution_count": 91,
     "metadata": {},
     "output_type": "execute_result"
    }
   ],
   "source": [
    "X_train['extraction_type_class'].describe()"
   ]
  },
  {
   "cell_type": "code",
   "execution_count": 92,
   "metadata": {
    "hidden": true
   },
   "outputs": [
    {
     "data": {
      "text/plain": [
       "(array([0, 1, 2, 3, 4, 5, 6]), <a list of 7 Text xticklabel objects>)"
      ]
     },
     "execution_count": 92,
     "metadata": {},
     "output_type": "execute_result"
    },
    {
     "data": {
      "image/png": "[encoded data removed]",
      "text/plain": [
       "<Figure size 360x360 with 1 Axes>"
      ]
     },
     "metadata": {
      "needs_background": "light"
     },
     "output_type": "display_data"
    }
   ],
   "source": [
    "order = ['gravity', 'handpump', 'other', 'submersible', 'motorpump', 'rope pump', 'wind-powered']\n",
    "sns.catplot(x = 'extraction_type_class', kind = 'count', data = X_train, order = order)\n",
    "plt.xticks(rotation = 45, ha = 'right')"
   ]
  },
  {
   "cell_type": "markdown",
   "metadata": {
    "heading_collapsed": true,
    "hidden": true
   },
   "source": [
    "#### Source Features\n",
    "These features describe the source of the water for the well. They are listed here in decreasing order of granularity."
   ]
  },
  {
   "cell_type": "markdown",
   "metadata": {
    "hidden": true
   },
   "source": [
    "**`source`**  \n",
    "This is the most granular representation of how the water for the well is sourced."
   ]
  },
  {
   "cell_type": "code",
   "execution_count": 93,
   "metadata": {
    "hidden": true
   },
   "outputs": [
    {
     "data": {
      "text/plain": [
       "count      59400\n",
       "unique        10\n",
       "top       spring\n",
       "freq       17021\n",
       "Name: source, dtype: object"
      ]
     },
     "execution_count": 93,
     "metadata": {},
     "output_type": "execute_result"
    }
   ],
   "source": [
    "X_train['source'].describe()"
   ]
  },
  {
   "cell_type": "code",
   "execution_count": 175,
   "metadata": {
    "hidden": true
   },
   "outputs": [
    {
     "data": {
      "text/plain": [
       "Text(-10.824999999999996, 0.5, 'Number of Records')"
      ]
     },
     "execution_count": 175,
     "metadata": {},
     "output_type": "execute_result"
    },
    {
     "data": {
      "image/png": "[encoded data removed]",
      "text/plain": [
       "<Figure size 360x360 with 1 Axes>"
      ]
     },
     "metadata": {
      "needs_background": "light"
     },
     "output_type": "display_data"
    }
   ],
   "source": [
    "order = [\"spring\", 'shallow well', 'machine dbh', 'river', 'rainwater harvesting', 'hand dtw', 'lake', 'dam', 'other', 'unknown']\n",
    "sns.catplot(x = 'source', kind = 'count', data = X_train, order = order)\n",
    "plt.xticks(rotation = 45, ha = 'right')\n",
    "plt.title(\"Count Plot of the Various Sources of Water for the Wells\\nMost Granular\")\n",
    "plt.xlabel(\"Sources\")\n",
    "plt.ylabel(\"Number of Records\")"
   ]
  },
  {
   "cell_type": "markdown",
   "metadata": {
    "hidden": true
   },
   "source": [
    "**`source_type`**"
   ]
  },
  {
   "cell_type": "code",
   "execution_count": 95,
   "metadata": {
    "hidden": true
   },
   "outputs": [
    {
     "data": {
      "text/plain": [
       "count      59400\n",
       "unique         7\n",
       "top       spring\n",
       "freq       17021\n",
       "Name: source_type, dtype: object"
      ]
     },
     "execution_count": 95,
     "metadata": {},
     "output_type": "execute_result"
    }
   ],
   "source": [
    "X_train['source_type'].describe()"
   ]
  },
  {
   "cell_type": "code",
   "execution_count": 176,
   "metadata": {
    "hidden": true
   },
   "outputs": [
    {
     "data": {
      "text/plain": [
       "Text(-10.824999999999996, 0.5, 'Number of Records')"
      ]
     },
     "execution_count": 176,
     "metadata": {},
     "output_type": "execute_result"
    },
    {
     "data": {
      "image/png": "[encoded data removed]",
      "text/plain": [
       "<Figure size 360x360 with 1 Axes>"
      ]
     },
     "metadata": {
      "needs_background": "light"
     },
     "output_type": "display_data"
    }
   ],
   "source": [
    "order = [\"spring\", \"shallow well\", \"borehole\", \"river/lake\", \"rainwater harvesting\", \"dam\", \"other\"]\n",
    "sns.catplot(x = 'source_type', kind = 'count', data = X_train, order = order)\n",
    "plt.xticks(rotation = 45, ha = 'right')\n",
    "plt.title(\"Count Plot of the Various Sources of Water for the Wells\\nSecond Most Granular\")\n",
    "plt.xlabel(\"Sources\")\n",
    "plt.ylabel(\"Number of Records\")"
   ]
  },
  {
   "cell_type": "markdown",
   "metadata": {
    "hidden": true
   },
   "source": [
    "**`source_class`**"
   ]
  },
  {
   "cell_type": "code",
   "execution_count": 97,
   "metadata": {
    "hidden": true
   },
   "outputs": [
    {
     "data": {
      "text/plain": [
       "count           59400\n",
       "unique              3\n",
       "top       groundwater\n",
       "freq            45794\n",
       "Name: source_class, dtype: object"
      ]
     },
     "execution_count": 97,
     "metadata": {},
     "output_type": "execute_result"
    }
   ],
   "source": [
    "X_train['source_class'].describe()"
   ]
  },
  {
   "cell_type": "code",
   "execution_count": 177,
   "metadata": {
    "hidden": true,
    "scrolled": false
   },
   "outputs": [
    {
     "data": {
      "text/plain": [
       "Text(-10.824999999999996, 0.5, 'Number of Records')"
      ]
     },
     "execution_count": 177,
     "metadata": {},
     "output_type": "execute_result"
    },
    {
     "data": {
      "image/png": "[encoded data removed]",
      "text/plain": [
       "<Figure size 360x360 with 1 Axes>"
      ]
     },
     "metadata": {
      "needs_background": "light"
     },
     "output_type": "display_data"
    }
   ],
   "source": [
    "sns.catplot(x = 'source_class', kind = 'count', data = X_train)\n",
    "plt.xticks(rotation = 45, ha = 'right')\n",
    "plt.title(\"Count Plot of the Various Sources of Water for the Wells\\nLeast Granular\")\n",
    "plt.xlabel(\"Sources\")\n",
    "plt.ylabel(\"Number of Records\")"
   ]
  },
  {
   "cell_type": "code",
   "execution_count": 179,
   "metadata": {
    "hidden": true
   },
   "outputs": [
    {
     "name": "stdout",
     "output_type": "stream",
     "text": [
      "The source class is unknown for 278 observations\n"
     ]
    }
   ],
   "source": [
    "print(\"The source class is unknown for {} observations\".format(X_train[X_train['source_class'] == \"unknown\"].shape[0]))"
   ]
  },
  {
   "cell_type": "code",
   "execution_count": 246,
   "metadata": {
    "hidden": true
   },
   "outputs": [],
   "source": [
    "most_freq_ward = X_train[\"source_class\"].groupby(X_train['ward']).describe()\n",
    "most_freq_lga = X_train[\"source_class\"].groupby(X_train['lga']).describe()"
   ]
  },
  {
   "cell_type": "code",
   "execution_count": 247,
   "metadata": {
    "hidden": true
   },
   "outputs": [
    {
     "data": {
      "text/plain": [
       "count          25\n",
       "unique          2\n",
       "top       unknown\n",
       "freq           19\n",
       "Name: Moa, dtype: object"
      ]
     },
     "execution_count": 247,
     "metadata": {},
     "output_type": "execute_result"
    }
   ],
   "source": [
    "most_freq_ward.loc[\"Moa\"]"
   ]
  },
  {
   "cell_type": "code",
   "execution_count": 250,
   "metadata": {
    "hidden": true
   },
   "outputs": [
    {
     "data": {
      "text/plain": [
       "5            unknown\n",
       "1809     groundwater\n",
       "10226        unknown\n",
       "13049        unknown\n",
       "17564        unknown\n",
       "19054    groundwater\n",
       "23566        unknown\n",
       "23619        unknown\n",
       "24977        unknown\n",
       "28904    groundwater\n",
       "28927    groundwater\n",
       "31466        unknown\n",
       "34052        unknown\n",
       "34578    groundwater\n",
       "35856        unknown\n",
       "38528        unknown\n",
       "39904        unknown\n",
       "40340        unknown\n",
       "42231        unknown\n",
       "46525        unknown\n",
       "49857        unknown\n",
       "49940        unknown\n",
       "54986    groundwater\n",
       "57668        unknown\n",
       "58891        unknown\n",
       "Name: source_class, dtype: object"
      ]
     },
     "execution_count": 250,
     "metadata": {},
     "output_type": "execute_result"
    }
   ],
   "source": [
    "X_train[X_train['ward'] == \"Moa\"]['source_class']"
   ]
  },
  {
   "cell_type": "code",
   "execution_count": null,
   "metadata": {
    "hidden": true
   },
   "outputs": [],
   "source": [
    "most_freq_ward[df_tmp.iloc[i, df_tmp.columns.get_loc('ward')]]['top']"
   ]
  },
  {
   "cell_type": "code",
   "execution_count": 207,
   "metadata": {
    "hidden": true
   },
   "outputs": [],
   "source": [
    "for i in range(len(most_freq)):\n",
    "    if most_freq[i] == \"unknown\":\n",
    "        print(most_freq[i])"
   ]
  },
  {
   "cell_type": "code",
   "execution_count": 249,
   "metadata": {
    "hidden": true
   },
   "outputs": [
    {
     "data": {
      "text/html": [
       "<div>\n",
       "<style scoped>\n",
       "    .dataframe tbody tr th:only-of-type {\n",
       "        vertical-align: middle;\n",
       "    }\n",
       "\n",
       "    .dataframe tbody tr th {\n",
       "        vertical-align: top;\n",
       "    }\n",
       "\n",
       "    .dataframe thead th {\n",
       "        text-align: right;\n",
       "    }\n",
       "</style>\n",
       "<table border=\"1\" class=\"dataframe\">\n",
       "  <thead>\n",
       "    <tr style=\"text-align: right;\">\n",
       "      <th></th>\n",
       "      <th>id</th>\n",
       "      <th>amount_tsh</th>\n",
       "      <th>date_recorded</th>\n",
       "      <th>funder</th>\n",
       "      <th>gps_height</th>\n",
       "      <th>installer</th>\n",
       "      <th>longitude</th>\n",
       "      <th>latitude</th>\n",
       "      <th>wpt_name</th>\n",
       "      <th>num_private</th>\n",
       "      <th>basin</th>\n",
       "      <th>subvillage</th>\n",
       "      <th>region</th>\n",
       "      <th>region_code</th>\n",
       "      <th>district_code</th>\n",
       "      <th>lga</th>\n",
       "      <th>ward</th>\n",
       "      <th>population</th>\n",
       "      <th>public_meeting</th>\n",
       "      <th>recorded_by</th>\n",
       "      <th>scheme_management</th>\n",
       "      <th>scheme_name</th>\n",
       "      <th>permit</th>\n",
       "      <th>construction_year</th>\n",
       "      <th>extraction_type</th>\n",
       "      <th>extraction_type_group</th>\n",
       "      <th>extraction_type_class</th>\n",
       "      <th>management</th>\n",
       "      <th>management_group</th>\n",
       "      <th>payment</th>\n",
       "      <th>payment_type</th>\n",
       "      <th>water_quality</th>\n",
       "      <th>quality_group</th>\n",
       "      <th>quantity</th>\n",
       "      <th>quantity_group</th>\n",
       "      <th>source</th>\n",
       "      <th>source_type</th>\n",
       "      <th>source_class</th>\n",
       "      <th>waterpoint_type</th>\n",
       "      <th>waterpoint_type_group</th>\n",
       "    </tr>\n",
       "  </thead>\n",
       "  <tbody>\n",
       "    <tr>\n",
       "      <th>5</th>\n",
       "      <td>9944</td>\n",
       "      <td>20.0</td>\n",
       "      <td>2011-03-13</td>\n",
       "      <td>Mkinga Distric Coun</td>\n",
       "      <td>0</td>\n",
       "      <td>DWE</td>\n",
       "      <td>39.172796</td>\n",
       "      <td>-4.765587e+00</td>\n",
       "      <td>Tajiri</td>\n",
       "      <td>0</td>\n",
       "      <td>Pangani</td>\n",
       "      <td>Moa/Mwereme</td>\n",
       "      <td>Tanga</td>\n",
       "      <td>4</td>\n",
       "      <td>8</td>\n",
       "      <td>Mkinga</td>\n",
       "      <td>Moa</td>\n",
       "      <td>1</td>\n",
       "      <td>True</td>\n",
       "      <td>GeoData Consultants Ltd</td>\n",
       "      <td>VWC</td>\n",
       "      <td>Zingibali</td>\n",
       "      <td>True</td>\n",
       "      <td>2009</td>\n",
       "      <td>submersible</td>\n",
       "      <td>submersible</td>\n",
       "      <td>submersible</td>\n",
       "      <td>vwc</td>\n",
       "      <td>user-group</td>\n",
       "      <td>pay per bucket</td>\n",
       "      <td>per bucket</td>\n",
       "      <td>salty</td>\n",
       "      <td>salty</td>\n",
       "      <td>enough</td>\n",
       "      <td>enough</td>\n",
       "      <td>other</td>\n",
       "      <td>other</td>\n",
       "      <td>groundwater</td>\n",
       "      <td>communal standpipe multiple</td>\n",
       "      <td>communal standpipe</td>\n",
       "    </tr>\n",
       "    <tr>\n",
       "      <th>277</th>\n",
       "      <td>65530</td>\n",
       "      <td>0.0</td>\n",
       "      <td>2011-03-13</td>\n",
       "      <td>British Colonial Government</td>\n",
       "      <td>0</td>\n",
       "      <td>DWE</td>\n",
       "      <td>39.110137</td>\n",
       "      <td>-4.754611e+00</td>\n",
       "      <td>Magaoni</td>\n",
       "      <td>0</td>\n",
       "      <td>Pangani</td>\n",
       "      <td>Magaoni</td>\n",
       "      <td>Tanga</td>\n",
       "      <td>4</td>\n",
       "      <td>8</td>\n",
       "      <td>Mkinga</td>\n",
       "      <td>Duga</td>\n",
       "      <td>1</td>\n",
       "      <td>True</td>\n",
       "      <td>GeoData Consultants Ltd</td>\n",
       "      <td>VWC</td>\n",
       "      <td>Deep well</td>\n",
       "      <td>True</td>\n",
       "      <td>1961</td>\n",
       "      <td>other</td>\n",
       "      <td>other</td>\n",
       "      <td>other</td>\n",
       "      <td>vwc</td>\n",
       "      <td>user-group</td>\n",
       "      <td>never pay</td>\n",
       "      <td>never pay</td>\n",
       "      <td>salty abandoned</td>\n",
       "      <td>salty</td>\n",
       "      <td>dry</td>\n",
       "      <td>dry</td>\n",
       "      <td>other</td>\n",
       "      <td>other</td>\n",
       "      <td>surface</td>\n",
       "      <td>other</td>\n",
       "      <td>other</td>\n",
       "    </tr>\n",
       "    <tr>\n",
       "      <th>323</th>\n",
       "      <td>51403</td>\n",
       "      <td>0.0</td>\n",
       "      <td>2013-02-16</td>\n",
       "      <td>Dwsp</td>\n",
       "      <td>0</td>\n",
       "      <td>DWE</td>\n",
       "      <td>0.000000</td>\n",
       "      <td>-2.000000e-08</td>\n",
       "      <td>Serengeti</td>\n",
       "      <td>0</td>\n",
       "      <td>Lake Victoria</td>\n",
       "      <td>Madukani</td>\n",
       "      <td>Mwanza</td>\n",
       "      <td>17</td>\n",
       "      <td>1</td>\n",
       "      <td>Magu</td>\n",
       "      <td>Nkungulu</td>\n",
       "      <td>0</td>\n",
       "      <td>NaN</td>\n",
       "      <td>GeoData Consultants Ltd</td>\n",
       "      <td>WUG</td>\n",
       "      <td>NaN</td>\n",
       "      <td>False</td>\n",
       "      <td>0</td>\n",
       "      <td>other</td>\n",
       "      <td>other</td>\n",
       "      <td>other</td>\n",
       "      <td>wug</td>\n",
       "      <td>user-group</td>\n",
       "      <td>unknown</td>\n",
       "      <td>unknown</td>\n",
       "      <td>soft</td>\n",
       "      <td>good</td>\n",
       "      <td>enough</td>\n",
       "      <td>enough</td>\n",
       "      <td>other</td>\n",
       "      <td>other</td>\n",
       "      <td>groundwater</td>\n",
       "      <td>other</td>\n",
       "      <td>other</td>\n",
       "    </tr>\n",
       "    <tr>\n",
       "      <th>820</th>\n",
       "      <td>37114</td>\n",
       "      <td>0.0</td>\n",
       "      <td>2011-03-15</td>\n",
       "      <td>Mkinga Distric Coun</td>\n",
       "      <td>0</td>\n",
       "      <td>DWE</td>\n",
       "      <td>38.811746</td>\n",
       "      <td>-4.824019e+00</td>\n",
       "      <td>none</td>\n",
       "      <td>32</td>\n",
       "      <td>Pangani</td>\n",
       "      <td>Loko</td>\n",
       "      <td>Tanga</td>\n",
       "      <td>4</td>\n",
       "      <td>8</td>\n",
       "      <td>Mkinga</td>\n",
       "      <td>Maramba</td>\n",
       "      <td>50</td>\n",
       "      <td>True</td>\n",
       "      <td>GeoData Consultants Ltd</td>\n",
       "      <td>VWC</td>\n",
       "      <td>Magati gravity water</td>\n",
       "      <td>True</td>\n",
       "      <td>1982</td>\n",
       "      <td>gravity</td>\n",
       "      <td>gravity</td>\n",
       "      <td>gravity</td>\n",
       "      <td>vwc</td>\n",
       "      <td>user-group</td>\n",
       "      <td>never pay</td>\n",
       "      <td>never pay</td>\n",
       "      <td>soft</td>\n",
       "      <td>good</td>\n",
       "      <td>enough</td>\n",
       "      <td>enough</td>\n",
       "      <td>other</td>\n",
       "      <td>other</td>\n",
       "      <td>groundwater</td>\n",
       "      <td>communal standpipe</td>\n",
       "      <td>communal standpipe</td>\n",
       "    </tr>\n",
       "    <tr>\n",
       "      <th>1155</th>\n",
       "      <td>3634</td>\n",
       "      <td>0.0</td>\n",
       "      <td>2011-03-15</td>\n",
       "      <td>Mkinga Distric Coun</td>\n",
       "      <td>0</td>\n",
       "      <td>DWE</td>\n",
       "      <td>38.811472</td>\n",
       "      <td>-4.824696e+00</td>\n",
       "      <td>none</td>\n",
       "      <td>32</td>\n",
       "      <td>Pangani</td>\n",
       "      <td>Loko</td>\n",
       "      <td>Tanga</td>\n",
       "      <td>4</td>\n",
       "      <td>8</td>\n",
       "      <td>Mkinga</td>\n",
       "      <td>Maramba</td>\n",
       "      <td>1</td>\n",
       "      <td>True</td>\n",
       "      <td>GeoData Consultants Ltd</td>\n",
       "      <td>VWC</td>\n",
       "      <td>Magati gravity water</td>\n",
       "      <td>True</td>\n",
       "      <td>1982</td>\n",
       "      <td>gravity</td>\n",
       "      <td>gravity</td>\n",
       "      <td>gravity</td>\n",
       "      <td>vwc</td>\n",
       "      <td>user-group</td>\n",
       "      <td>never pay</td>\n",
       "      <td>never pay</td>\n",
       "      <td>soft</td>\n",
       "      <td>good</td>\n",
       "      <td>enough</td>\n",
       "      <td>enough</td>\n",
       "      <td>other</td>\n",
       "      <td>other</td>\n",
       "      <td>groundwater</td>\n",
       "      <td>communal standpipe</td>\n",
       "      <td>communal standpipe</td>\n",
       "    </tr>\n",
       "  </tbody>\n",
       "</table>\n",
       "</div>"
      ],
      "text/plain": [
       "         id  amount_tsh date_recorded                       funder  \\\n",
       "5      9944        20.0    2011-03-13          Mkinga Distric Coun   \n",
       "277   65530         0.0    2011-03-13  British Colonial Government   \n",
       "323   51403         0.0    2013-02-16                         Dwsp   \n",
       "820   37114         0.0    2011-03-15          Mkinga Distric Coun   \n",
       "1155   3634         0.0    2011-03-15          Mkinga Distric Coun   \n",
       "\n",
       "      gps_height installer  longitude      latitude   wpt_name  num_private  \\\n",
       "5              0       DWE  39.172796 -4.765587e+00     Tajiri            0   \n",
       "277            0       DWE  39.110137 -4.754611e+00    Magaoni            0   \n",
       "323            0       DWE   0.000000 -2.000000e-08  Serengeti            0   \n",
       "820            0       DWE  38.811746 -4.824019e+00       none           32   \n",
       "1155           0       DWE  38.811472 -4.824696e+00       none           32   \n",
       "\n",
       "              basin   subvillage  region  region_code  district_code     lga  \\\n",
       "5           Pangani  Moa/Mwereme   Tanga            4              8  Mkinga   \n",
       "277         Pangani      Magaoni   Tanga            4              8  Mkinga   \n",
       "323   Lake Victoria     Madukani  Mwanza           17              1    Magu   \n",
       "820         Pangani         Loko   Tanga            4              8  Mkinga   \n",
       "1155        Pangani         Loko   Tanga            4              8  Mkinga   \n",
       "\n",
       "          ward  population public_meeting              recorded_by  \\\n",
       "5          Moa           1           True  GeoData Consultants Ltd   \n",
       "277       Duga           1           True  GeoData Consultants Ltd   \n",
       "323   Nkungulu           0            NaN  GeoData Consultants Ltd   \n",
       "820    Maramba          50           True  GeoData Consultants Ltd   \n",
       "1155   Maramba           1           True  GeoData Consultants Ltd   \n",
       "\n",
       "     scheme_management           scheme_name permit  construction_year  \\\n",
       "5                  VWC             Zingibali   True               2009   \n",
       "277                VWC             Deep well   True               1961   \n",
       "323                WUG                   NaN  False                  0   \n",
       "820                VWC  Magati gravity water   True               1982   \n",
       "1155               VWC  Magati gravity water   True               1982   \n",
       "\n",
       "     extraction_type extraction_type_group extraction_type_class management  \\\n",
       "5        submersible           submersible           submersible        vwc   \n",
       "277            other                 other                 other        vwc   \n",
       "323            other                 other                 other        wug   \n",
       "820          gravity               gravity               gravity        vwc   \n",
       "1155         gravity               gravity               gravity        vwc   \n",
       "\n",
       "     management_group         payment payment_type    water_quality  \\\n",
       "5          user-group  pay per bucket   per bucket            salty   \n",
       "277        user-group       never pay    never pay  salty abandoned   \n",
       "323        user-group         unknown      unknown             soft   \n",
       "820        user-group       never pay    never pay             soft   \n",
       "1155       user-group       never pay    never pay             soft   \n",
       "\n",
       "     quality_group quantity quantity_group source source_type source_class  \\\n",
       "5            salty   enough         enough  other       other  groundwater   \n",
       "277          salty      dry            dry  other       other      surface   \n",
       "323           good   enough         enough  other       other  groundwater   \n",
       "820           good   enough         enough  other       other  groundwater   \n",
       "1155          good   enough         enough  other       other  groundwater   \n",
       "\n",
       "                  waterpoint_type waterpoint_type_group  \n",
       "5     communal standpipe multiple    communal standpipe  \n",
       "277                         other                 other  \n",
       "323                         other                 other  \n",
       "820            communal standpipe    communal standpipe  \n",
       "1155           communal standpipe    communal standpipe  "
      ]
     },
     "execution_count": 249,
     "metadata": {},
     "output_type": "execute_result"
    }
   ],
   "source": [
    "df_tmp = X_train[X_train[\"source_class\"] == 'unknown'].copy()\n",
    "for i in range(df_tmp.shape[0]):\n",
    "    if most_freq_ward.loc[df_tmp.iloc[i, df_tmp.columns.get_loc('ward')]]['top'] == \"unknown\":\n",
    "        df_tmp.iloc[i, df_tmp.columns.get_loc('source_class')] = most_freq_lga.loc[df_tmp.iloc[i, df_tmp.columns.get_loc('lga')]]['top']\n",
    "    else:    \n",
    "        df_tmp.iloc[i, df_tmp.columns.get_loc('source_class')] = most_freq_ward.loc[df_tmp.iloc[i, df_tmp.columns.get_loc('ward')]]['top']\n",
    "df_tmp.head()"
   ]
  },
  {
   "cell_type": "markdown",
   "metadata": {
    "hidden": true
   },
   "source": [
    "I believe that the two least granular features will be the most useful for modeling. For the `source_class` I'll fill the unknowns using the most frequent level for the ward the wells are in."
   ]
  },
  {
   "cell_type": "markdown",
   "metadata": {
    "heading_collapsed": true,
    "hidden": true
   },
   "source": [
    "#### Payment Features\n",
    "These features descried how the well is paid for."
   ]
  },
  {
   "cell_type": "markdown",
   "metadata": {
    "hidden": true
   },
   "source": [
    "**`payment`**"
   ]
  },
  {
   "cell_type": "code",
   "execution_count": 99,
   "metadata": {
    "hidden": true
   },
   "outputs": [
    {
     "data": {
      "text/plain": [
       "count         59400\n",
       "unique            7\n",
       "top       never pay\n",
       "freq          25348\n",
       "Name: payment, dtype: object"
      ]
     },
     "execution_count": 99,
     "metadata": {},
     "output_type": "execute_result"
    }
   ],
   "source": [
    "X_train['payment'].describe()"
   ]
  },
  {
   "cell_type": "code",
   "execution_count": 100,
   "metadata": {
    "hidden": true
   },
   "outputs": [
    {
     "data": {
      "text/plain": [
       "(array([0, 1, 2, 3, 4, 5, 6]), <a list of 7 Text xticklabel objects>)"
      ]
     },
     "execution_count": 100,
     "metadata": {},
     "output_type": "execute_result"
    },
    {
     "data": {
      "image/png": "[encoded data removed]",
      "text/plain": [
       "<Figure size 360x360 with 1 Axes>"
      ]
     },
     "metadata": {
      "needs_background": "light"
     },
     "output_type": "display_data"
    }
   ],
   "source": [
    "order = ['never pay', 'pay per bucket', 'pay monthly', 'unknown', 'pay when scheme fails', 'pay annually', 'other']\n",
    "sns.catplot(x = 'payment', kind = 'count', data = X_train, order = order)\n",
    "plt.xticks(rotation = 45, ha = 'right')"
   ]
  },
  {
   "cell_type": "markdown",
   "metadata": {
    "hidden": true
   },
   "source": [
    "**`payment_type`**"
   ]
  },
  {
   "cell_type": "code",
   "execution_count": 260,
   "metadata": {
    "hidden": true
   },
   "outputs": [
    {
     "data": {
      "text/plain": [
       "count         59400\n",
       "unique            7\n",
       "top       never pay\n",
       "freq          25348\n",
       "Name: payment_type, dtype: object"
      ]
     },
     "execution_count": 260,
     "metadata": {},
     "output_type": "execute_result"
    }
   ],
   "source": [
    "X_train['payment_type'].describe()"
   ]
  },
  {
   "cell_type": "code",
   "execution_count": 259,
   "metadata": {
    "hidden": true
   },
   "outputs": [
    {
     "data": {
      "text/plain": [
       "(array([0, 1, 2, 3, 4, 5, 6]), <a list of 7 Text xticklabel objects>)"
      ]
     },
     "execution_count": 259,
     "metadata": {},
     "output_type": "execute_result"
    },
    {
     "data": {
      "image/png": "[encoded data removed]",
      "text/plain": [
       "<Figure size 360x360 with 1 Axes>"
      ]
     },
     "metadata": {
      "needs_background": "light"
     },
     "output_type": "display_data"
    }
   ],
   "source": [
    "order = ['never pay', 'per bucket', 'monthly', 'unknown', 'on failure', 'annually', 'other']\n",
    "sns.catplot(x = 'payment_type', kind = 'count', data = X_train, order = order)\n",
    "plt.xticks(rotation = 45, ha = 'right')"
   ]
  },
  {
   "cell_type": "markdown",
   "metadata": {
    "hidden": true
   },
   "source": [
    "This feature seems to show the exact same information as the `payment` feature, just with slightly different names. I'll be dropping it from the modeling data set, since it's redundant."
   ]
  },
  {
   "cell_type": "markdown",
   "metadata": {
    "heading_collapsed": true,
    "hidden": true
   },
   "source": [
    "#### Quality Features\n",
    "These features describe the quality of the water the well provides."
   ]
  },
  {
   "cell_type": "markdown",
   "metadata": {
    "hidden": true
   },
   "source": [
    "**`water_quality`**"
   ]
  },
  {
   "cell_type": "code",
   "execution_count": 261,
   "metadata": {
    "hidden": true
   },
   "outputs": [
    {
     "data": {
      "text/plain": [
       "count     59400\n",
       "unique        8\n",
       "top        soft\n",
       "freq      50818\n",
       "Name: water_quality, dtype: object"
      ]
     },
     "execution_count": 261,
     "metadata": {},
     "output_type": "execute_result"
    }
   ],
   "source": [
    "X_train['water_quality'].describe()"
   ]
  },
  {
   "cell_type": "code",
   "execution_count": 263,
   "metadata": {
    "hidden": true
   },
   "outputs": [
    {
     "data": {
      "text/plain": [
       "(array([0, 1, 2, 3, 4, 5, 6, 7]), <a list of 8 Text xticklabel objects>)"
      ]
     },
     "execution_count": 263,
     "metadata": {},
     "output_type": "execute_result"
    },
    {
     "data": {
      "image/png": "[encoded data removed]",
      "text/plain": [
       "<Figure size 360x360 with 1 Axes>"
      ]
     },
     "metadata": {
      "needs_background": "light"
     },
     "output_type": "display_data"
    }
   ],
   "source": [
    "sns.catplot(x = 'water_quality', kind = 'count', data = X_train)\n",
    "plt.xticks(rotation = 45, ha = 'right')"
   ]
  },
  {
   "cell_type": "markdown",
   "metadata": {
    "hidden": true
   },
   "source": [
    "**`quality_group`**"
   ]
  },
  {
   "cell_type": "code",
   "execution_count": 262,
   "metadata": {
    "hidden": true
   },
   "outputs": [
    {
     "data": {
      "text/plain": [
       "count     59400\n",
       "unique        6\n",
       "top        good\n",
       "freq      50818\n",
       "Name: quality_group, dtype: object"
      ]
     },
     "execution_count": 262,
     "metadata": {},
     "output_type": "execute_result"
    }
   ],
   "source": [
    "X_train['quality_group'].describe()"
   ]
  },
  {
   "cell_type": "code",
   "execution_count": 264,
   "metadata": {
    "hidden": true,
    "scrolled": false
   },
   "outputs": [
    {
     "data": {
      "text/plain": [
       "(array([0, 1, 2, 3, 4, 5]), <a list of 6 Text xticklabel objects>)"
      ]
     },
     "execution_count": 264,
     "metadata": {},
     "output_type": "execute_result"
    },
    {
     "data": {
      "image/png": "[encoded data removed]",
      "text/plain": [
       "<Figure size 360x360 with 1 Axes>"
      ]
     },
     "metadata": {
      "needs_background": "light"
     },
     "output_type": "display_data"
    }
   ],
   "source": [
    "sns.catplot(x = 'quality_group', kind = 'count', data = X_train)\n",
    "plt.xticks(rotation = 45, ha = 'right')"
   ]
  },
  {
   "cell_type": "markdown",
   "metadata": {
    "hidden": true
   },
   "source": [
    "The above two features seem to describe incredibly similar information. I'll only retain quality_group in the modeling data set."
   ]
  },
  {
   "cell_type": "markdown",
   "metadata": {
    "heading_collapsed": true,
    "hidden": true
   },
   "source": [
    "#### Quantity Features\n",
    "These features describe the quantity of water provided by the well."
   ]
  },
  {
   "cell_type": "markdown",
   "metadata": {
    "hidden": true
   },
   "source": [
    "**`quantity`**"
   ]
  },
  {
   "cell_type": "code",
   "execution_count": 265,
   "metadata": {
    "hidden": true
   },
   "outputs": [
    {
     "data": {
      "text/plain": [
       "count      59400\n",
       "unique         5\n",
       "top       enough\n",
       "freq       33186\n",
       "Name: quantity, dtype: object"
      ]
     },
     "execution_count": 265,
     "metadata": {},
     "output_type": "execute_result"
    }
   ],
   "source": [
    "X_train['quantity'].describe()"
   ]
  },
  {
   "cell_type": "code",
   "execution_count": 267,
   "metadata": {
    "hidden": true
   },
   "outputs": [
    {
     "data": {
      "text/plain": [
       "(array([0, 1, 2, 3, 4]), <a list of 5 Text xticklabel objects>)"
      ]
     },
     "execution_count": 267,
     "metadata": {},
     "output_type": "execute_result"
    },
    {
     "data": {
      "image/png": "[encoded data removed]",
      "text/plain": [
       "<Figure size 360x360 with 1 Axes>"
      ]
     },
     "metadata": {
      "needs_background": "light"
     },
     "output_type": "display_data"
    }
   ],
   "source": [
    "sns.catplot(x = 'quantity', kind = 'count', data = X_train)\n",
    "plt.xticks(rotation = 45, ha = 'right')"
   ]
  },
  {
   "cell_type": "markdown",
   "metadata": {
    "hidden": true
   },
   "source": [
    "**`quantity_group`**"
   ]
  },
  {
   "cell_type": "code",
   "execution_count": 266,
   "metadata": {
    "hidden": true
   },
   "outputs": [
    {
     "data": {
      "text/plain": [
       "count      59400\n",
       "unique         5\n",
       "top       enough\n",
       "freq       33186\n",
       "Name: quantity_group, dtype: object"
      ]
     },
     "execution_count": 266,
     "metadata": {},
     "output_type": "execute_result"
    }
   ],
   "source": [
    "X_train['quantity_group'].describe()"
   ]
  },
  {
   "cell_type": "code",
   "execution_count": 268,
   "metadata": {
    "hidden": true
   },
   "outputs": [
    {
     "data": {
      "text/plain": [
       "(array([0, 1, 2, 3, 4]), <a list of 5 Text xticklabel objects>)"
      ]
     },
     "execution_count": 268,
     "metadata": {},
     "output_type": "execute_result"
    },
    {
     "data": {
      "image/png": "[encoded data removed]",
      "text/plain": [
       "<Figure size 360x360 with 1 Axes>"
      ]
     },
     "metadata": {
      "needs_background": "light"
     },
     "output_type": "display_data"
    }
   ],
   "source": [
    "sns.catplot(x = 'quantity_group', kind = 'count', data = X_train)\n",
    "plt.xticks(rotation = 45, ha = 'right')"
   ]
  },
  {
   "cell_type": "markdown",
   "metadata": {
    "hidden": true
   },
   "source": [
    "As the above to features capture the same information, I'll only be retaining `quantity` in the modeling data set."
   ]
  },
  {
   "cell_type": "markdown",
   "metadata": {
    "heading_collapsed": true,
    "hidden": true
   },
   "source": [
    "#### Waterpoint Type Features\n",
    "These features describe the type of waterpoint."
   ]
  },
  {
   "cell_type": "markdown",
   "metadata": {
    "hidden": true
   },
   "source": [
    "**`waterpoint_type`**"
   ]
  },
  {
   "cell_type": "code",
   "execution_count": 269,
   "metadata": {
    "hidden": true
   },
   "outputs": [
    {
     "data": {
      "text/plain": [
       "count                  59400\n",
       "unique                     7\n",
       "top       communal standpipe\n",
       "freq                   28522\n",
       "Name: waterpoint_type, dtype: object"
      ]
     },
     "execution_count": 269,
     "metadata": {},
     "output_type": "execute_result"
    }
   ],
   "source": [
    "X_train['waterpoint_type'].describe()"
   ]
  },
  {
   "cell_type": "code",
   "execution_count": 274,
   "metadata": {
    "hidden": true
   },
   "outputs": [
    {
     "data": {
      "text/plain": [
       "(array([0, 1, 2, 3, 4, 5, 6]), <a list of 7 Text xticklabel objects>)"
      ]
     },
     "execution_count": 274,
     "metadata": {},
     "output_type": "execute_result"
    },
    {
     "data": {
      "image/png": "[encoded data removed]",
      "text/plain": [
       "<Figure size 360x360 with 1 Axes>"
      ]
     },
     "metadata": {
      "needs_background": "light"
     },
     "output_type": "display_data"
    }
   ],
   "source": [
    "order = [\"communal standpipe\", \"hand pump\", \"other\", \"communal standpipe multiple\", \"improved spring\", \"cattle trough\", \"dam\"]\n",
    "sns.catplot(x = 'waterpoint_type', kind = 'count', data = X_train, order = order)\n",
    "plt.xticks(rotation = 45, ha = 'right')"
   ]
  },
  {
   "cell_type": "markdown",
   "metadata": {
    "hidden": true
   },
   "source": [
    "**`waterpoint_type_group`**"
   ]
  },
  {
   "cell_type": "code",
   "execution_count": 270,
   "metadata": {
    "hidden": true
   },
   "outputs": [
    {
     "data": {
      "text/plain": [
       "count                  59400\n",
       "unique                     6\n",
       "top       communal standpipe\n",
       "freq                   34625\n",
       "Name: waterpoint_type_group, dtype: object"
      ]
     },
     "execution_count": 270,
     "metadata": {},
     "output_type": "execute_result"
    }
   ],
   "source": [
    "X_train['waterpoint_type_group'].describe()"
   ]
  },
  {
   "cell_type": "code",
   "execution_count": 275,
   "metadata": {
    "hidden": true,
    "scrolled": false
   },
   "outputs": [
    {
     "data": {
      "text/plain": [
       "(array([0, 1, 2, 3, 4, 5]), <a list of 6 Text xticklabel objects>)"
      ]
     },
     "execution_count": 275,
     "metadata": {},
     "output_type": "execute_result"
    },
    {
     "data": {
      "image/png": "[encoded data removed]",
      "text/plain": [
       "<Figure size 360x360 with 1 Axes>"
      ]
     },
     "metadata": {
      "needs_background": "light"
     },
     "output_type": "display_data"
    }
   ],
   "source": [
    "order = [\"communal standpipe\", \"hand pump\", \"other\", \"improved spring\", \"cattle trough\", \"dam\"]\n",
    "sns.catplot(x = 'waterpoint_type_group', kind = 'count', data = X_train)\n",
    "plt.xticks(rotation = 45, ha = 'right')"
   ]
  },
  {
   "cell_type": "markdown",
   "metadata": {
    "hidden": true
   },
   "source": [
    "The above to features capture much of the same information. I'll only retain `waterpoint_type` in the modeling data set."
   ]
  },
  {
   "cell_type": "markdown",
   "metadata": {},
   "source": [
    "### Comments on Missing Data and Handling\n",
    "\n",
    "There are 7 features in the training set for which we have missing values. These are, \n",
    "+ funder - Who funded the well\n",
    "+ installer - Who installed the well\n",
    "+ subvillage - Name of the village in which the well is located\n",
    "+ public_meeting - The information on this feature that I have is just that it is True/False. I assume that this marks whether the well is used as or located at a public meeting place in the subvillage.\n",
    "+ scheme_management - Who operates the waterpoint. IE The type of management system/board set up for the water point\n",
    "+ scheme-name - The name of the presiding system/board managing the waterpoint\n",
    "+ permit - True/False is the waterpoint permitted (IE does it have a  permit, not \"is it allowable\")\n",
    "\n",
    "\n",
    "From the heatmap above, it seems that the missing values for `funder` and `installer` tend to occur together. Let's review this interaction a little more: "
   ]
  },
  {
   "cell_type": "code",
   "execution_count": 101,
   "metadata": {},
   "outputs": [
    {
     "data": {
      "text/plain": [
       "126"
      ]
     },
     "execution_count": 101,
     "metadata": {},
     "output_type": "execute_result"
    }
   ],
   "source": [
    "X_train.shape[0] - (X_train['funder'].isna() == X_train['installer'].isna()).sum()"
   ]
  },
  {
   "cell_type": "markdown",
   "metadata": {},
   "source": [
    "## Reviewing the Testing Set"
   ]
  },
  {
   "cell_type": "code",
   "execution_count": 102,
   "metadata": {
    "scrolled": true
   },
   "outputs": [
    {
     "data": {
      "text/html": [
       "<div>\n",
       "<style scoped>\n",
       "    .dataframe tbody tr th:only-of-type {\n",
       "        vertical-align: middle;\n",
       "    }\n",
       "\n",
       "    .dataframe tbody tr th {\n",
       "        vertical-align: top;\n",
       "    }\n",
       "\n",
       "    .dataframe thead th {\n",
       "        text-align: right;\n",
       "    }\n",
       "</style>\n",
       "<table border=\"1\" class=\"dataframe\">\n",
       "  <thead>\n",
       "    <tr style=\"text-align: right;\">\n",
       "      <th></th>\n",
       "      <th>id</th>\n",
       "      <th>amount_tsh</th>\n",
       "      <th>date_recorded</th>\n",
       "      <th>funder</th>\n",
       "      <th>gps_height</th>\n",
       "      <th>installer</th>\n",
       "      <th>longitude</th>\n",
       "      <th>latitude</th>\n",
       "      <th>wpt_name</th>\n",
       "      <th>num_private</th>\n",
       "      <th>basin</th>\n",
       "      <th>subvillage</th>\n",
       "      <th>region</th>\n",
       "      <th>region_code</th>\n",
       "      <th>district_code</th>\n",
       "      <th>lga</th>\n",
       "      <th>ward</th>\n",
       "      <th>population</th>\n",
       "      <th>public_meeting</th>\n",
       "      <th>recorded_by</th>\n",
       "      <th>scheme_management</th>\n",
       "      <th>scheme_name</th>\n",
       "      <th>permit</th>\n",
       "      <th>construction_year</th>\n",
       "      <th>extraction_type</th>\n",
       "      <th>extraction_type_group</th>\n",
       "      <th>extraction_type_class</th>\n",
       "      <th>management</th>\n",
       "      <th>management_group</th>\n",
       "      <th>payment</th>\n",
       "      <th>payment_type</th>\n",
       "      <th>water_quality</th>\n",
       "      <th>quality_group</th>\n",
       "      <th>quantity</th>\n",
       "      <th>quantity_group</th>\n",
       "      <th>source</th>\n",
       "      <th>source_type</th>\n",
       "      <th>source_class</th>\n",
       "      <th>waterpoint_type</th>\n",
       "      <th>waterpoint_type_group</th>\n",
       "    </tr>\n",
       "  </thead>\n",
       "  <tbody>\n",
       "    <tr>\n",
       "      <th>0</th>\n",
       "      <td>50785</td>\n",
       "      <td>0.0</td>\n",
       "      <td>2013-02-04</td>\n",
       "      <td>Dmdd</td>\n",
       "      <td>1996</td>\n",
       "      <td>DMDD</td>\n",
       "      <td>35.290799</td>\n",
       "      <td>-4.059696</td>\n",
       "      <td>Dinamu Secondary School</td>\n",
       "      <td>0</td>\n",
       "      <td>Internal</td>\n",
       "      <td>Magoma</td>\n",
       "      <td>Manyara</td>\n",
       "      <td>21</td>\n",
       "      <td>3</td>\n",
       "      <td>Mbulu</td>\n",
       "      <td>Bashay</td>\n",
       "      <td>321</td>\n",
       "      <td>True</td>\n",
       "      <td>GeoData Consultants Ltd</td>\n",
       "      <td>Parastatal</td>\n",
       "      <td>NaN</td>\n",
       "      <td>True</td>\n",
       "      <td>2012</td>\n",
       "      <td>other</td>\n",
       "      <td>other</td>\n",
       "      <td>other</td>\n",
       "      <td>parastatal</td>\n",
       "      <td>parastatal</td>\n",
       "      <td>never pay</td>\n",
       "      <td>never pay</td>\n",
       "      <td>soft</td>\n",
       "      <td>good</td>\n",
       "      <td>seasonal</td>\n",
       "      <td>seasonal</td>\n",
       "      <td>rainwater harvesting</td>\n",
       "      <td>rainwater harvesting</td>\n",
       "      <td>surface</td>\n",
       "      <td>other</td>\n",
       "      <td>other</td>\n",
       "    </tr>\n",
       "    <tr>\n",
       "      <th>1</th>\n",
       "      <td>51630</td>\n",
       "      <td>0.0</td>\n",
       "      <td>2013-02-04</td>\n",
       "      <td>Government Of Tanzania</td>\n",
       "      <td>1569</td>\n",
       "      <td>DWE</td>\n",
       "      <td>36.656709</td>\n",
       "      <td>-3.309214</td>\n",
       "      <td>Kimnyak</td>\n",
       "      <td>0</td>\n",
       "      <td>Pangani</td>\n",
       "      <td>Kimnyak</td>\n",
       "      <td>Arusha</td>\n",
       "      <td>2</td>\n",
       "      <td>2</td>\n",
       "      <td>Arusha Rural</td>\n",
       "      <td>Kimnyaki</td>\n",
       "      <td>300</td>\n",
       "      <td>True</td>\n",
       "      <td>GeoData Consultants Ltd</td>\n",
       "      <td>VWC</td>\n",
       "      <td>TPRI pipe line</td>\n",
       "      <td>True</td>\n",
       "      <td>2000</td>\n",
       "      <td>gravity</td>\n",
       "      <td>gravity</td>\n",
       "      <td>gravity</td>\n",
       "      <td>vwc</td>\n",
       "      <td>user-group</td>\n",
       "      <td>never pay</td>\n",
       "      <td>never pay</td>\n",
       "      <td>soft</td>\n",
       "      <td>good</td>\n",
       "      <td>insufficient</td>\n",
       "      <td>insufficient</td>\n",
       "      <td>spring</td>\n",
       "      <td>spring</td>\n",
       "      <td>groundwater</td>\n",
       "      <td>communal standpipe</td>\n",
       "      <td>communal standpipe</td>\n",
       "    </tr>\n",
       "    <tr>\n",
       "      <th>2</th>\n",
       "      <td>17168</td>\n",
       "      <td>0.0</td>\n",
       "      <td>2013-02-01</td>\n",
       "      <td>NaN</td>\n",
       "      <td>1567</td>\n",
       "      <td>NaN</td>\n",
       "      <td>34.767863</td>\n",
       "      <td>-5.004344</td>\n",
       "      <td>Puma Secondary</td>\n",
       "      <td>0</td>\n",
       "      <td>Internal</td>\n",
       "      <td>Msatu</td>\n",
       "      <td>Singida</td>\n",
       "      <td>13</td>\n",
       "      <td>2</td>\n",
       "      <td>Singida Rural</td>\n",
       "      <td>Puma</td>\n",
       "      <td>500</td>\n",
       "      <td>True</td>\n",
       "      <td>GeoData Consultants Ltd</td>\n",
       "      <td>VWC</td>\n",
       "      <td>P</td>\n",
       "      <td>NaN</td>\n",
       "      <td>2010</td>\n",
       "      <td>other</td>\n",
       "      <td>other</td>\n",
       "      <td>other</td>\n",
       "      <td>vwc</td>\n",
       "      <td>user-group</td>\n",
       "      <td>never pay</td>\n",
       "      <td>never pay</td>\n",
       "      <td>soft</td>\n",
       "      <td>good</td>\n",
       "      <td>insufficient</td>\n",
       "      <td>insufficient</td>\n",
       "      <td>rainwater harvesting</td>\n",
       "      <td>rainwater harvesting</td>\n",
       "      <td>surface</td>\n",
       "      <td>other</td>\n",
       "      <td>other</td>\n",
       "    </tr>\n",
       "    <tr>\n",
       "      <th>3</th>\n",
       "      <td>45559</td>\n",
       "      <td>0.0</td>\n",
       "      <td>2013-01-22</td>\n",
       "      <td>Finn Water</td>\n",
       "      <td>267</td>\n",
       "      <td>FINN WATER</td>\n",
       "      <td>38.058046</td>\n",
       "      <td>-9.418672</td>\n",
       "      <td>Kwa Mzee Pange</td>\n",
       "      <td>0</td>\n",
       "      <td>Ruvuma / Southern Coast</td>\n",
       "      <td>Kipindimbi</td>\n",
       "      <td>Lindi</td>\n",
       "      <td>80</td>\n",
       "      <td>43</td>\n",
       "      <td>Liwale</td>\n",
       "      <td>Mkutano</td>\n",
       "      <td>250</td>\n",
       "      <td>NaN</td>\n",
       "      <td>GeoData Consultants Ltd</td>\n",
       "      <td>VWC</td>\n",
       "      <td>NaN</td>\n",
       "      <td>True</td>\n",
       "      <td>1987</td>\n",
       "      <td>other</td>\n",
       "      <td>other</td>\n",
       "      <td>other</td>\n",
       "      <td>vwc</td>\n",
       "      <td>user-group</td>\n",
       "      <td>unknown</td>\n",
       "      <td>unknown</td>\n",
       "      <td>soft</td>\n",
       "      <td>good</td>\n",
       "      <td>dry</td>\n",
       "      <td>dry</td>\n",
       "      <td>shallow well</td>\n",
       "      <td>shallow well</td>\n",
       "      <td>groundwater</td>\n",
       "      <td>other</td>\n",
       "      <td>other</td>\n",
       "    </tr>\n",
       "    <tr>\n",
       "      <th>4</th>\n",
       "      <td>49871</td>\n",
       "      <td>500.0</td>\n",
       "      <td>2013-03-27</td>\n",
       "      <td>Bruder</td>\n",
       "      <td>1260</td>\n",
       "      <td>BRUDER</td>\n",
       "      <td>35.006123</td>\n",
       "      <td>-10.950412</td>\n",
       "      <td>Kwa Mzee Turuka</td>\n",
       "      <td>0</td>\n",
       "      <td>Ruvuma / Southern Coast</td>\n",
       "      <td>Losonga</td>\n",
       "      <td>Ruvuma</td>\n",
       "      <td>10</td>\n",
       "      <td>3</td>\n",
       "      <td>Mbinga</td>\n",
       "      <td>Mbinga Urban</td>\n",
       "      <td>60</td>\n",
       "      <td>NaN</td>\n",
       "      <td>GeoData Consultants Ltd</td>\n",
       "      <td>Water Board</td>\n",
       "      <td>BRUDER</td>\n",
       "      <td>True</td>\n",
       "      <td>2000</td>\n",
       "      <td>gravity</td>\n",
       "      <td>gravity</td>\n",
       "      <td>gravity</td>\n",
       "      <td>water board</td>\n",
       "      <td>user-group</td>\n",
       "      <td>pay monthly</td>\n",
       "      <td>monthly</td>\n",
       "      <td>soft</td>\n",
       "      <td>good</td>\n",
       "      <td>enough</td>\n",
       "      <td>enough</td>\n",
       "      <td>spring</td>\n",
       "      <td>spring</td>\n",
       "      <td>groundwater</td>\n",
       "      <td>communal standpipe</td>\n",
       "      <td>communal standpipe</td>\n",
       "    </tr>\n",
       "  </tbody>\n",
       "</table>\n",
       "</div>"
      ],
      "text/plain": [
       "      id  amount_tsh date_recorded                  funder  gps_height  \\\n",
       "0  50785         0.0    2013-02-04                    Dmdd        1996   \n",
       "1  51630         0.0    2013-02-04  Government Of Tanzania        1569   \n",
       "2  17168         0.0    2013-02-01                     NaN        1567   \n",
       "3  45559         0.0    2013-01-22              Finn Water         267   \n",
       "4  49871       500.0    2013-03-27                  Bruder        1260   \n",
       "\n",
       "    installer  longitude   latitude                 wpt_name  num_private  \\\n",
       "0        DMDD  35.290799  -4.059696  Dinamu Secondary School            0   \n",
       "1         DWE  36.656709  -3.309214                  Kimnyak            0   \n",
       "2         NaN  34.767863  -5.004344           Puma Secondary            0   \n",
       "3  FINN WATER  38.058046  -9.418672           Kwa Mzee Pange            0   \n",
       "4      BRUDER  35.006123 -10.950412          Kwa Mzee Turuka            0   \n",
       "\n",
       "                     basin  subvillage   region  region_code  district_code  \\\n",
       "0                 Internal      Magoma  Manyara           21              3   \n",
       "1                  Pangani     Kimnyak   Arusha            2              2   \n",
       "2                 Internal       Msatu  Singida           13              2   \n",
       "3  Ruvuma / Southern Coast  Kipindimbi    Lindi           80             43   \n",
       "4  Ruvuma / Southern Coast     Losonga   Ruvuma           10              3   \n",
       "\n",
       "             lga          ward  population public_meeting  \\\n",
       "0          Mbulu        Bashay         321           True   \n",
       "1   Arusha Rural      Kimnyaki         300           True   \n",
       "2  Singida Rural          Puma         500           True   \n",
       "3         Liwale       Mkutano         250            NaN   \n",
       "4         Mbinga  Mbinga Urban          60            NaN   \n",
       "\n",
       "               recorded_by scheme_management     scheme_name permit  \\\n",
       "0  GeoData Consultants Ltd        Parastatal             NaN   True   \n",
       "1  GeoData Consultants Ltd               VWC  TPRI pipe line   True   \n",
       "2  GeoData Consultants Ltd               VWC               P    NaN   \n",
       "3  GeoData Consultants Ltd               VWC             NaN   True   \n",
       "4  GeoData Consultants Ltd       Water Board          BRUDER   True   \n",
       "\n",
       "   construction_year extraction_type extraction_type_group  \\\n",
       "0               2012           other                 other   \n",
       "1               2000         gravity               gravity   \n",
       "2               2010           other                 other   \n",
       "3               1987           other                 other   \n",
       "4               2000         gravity               gravity   \n",
       "\n",
       "  extraction_type_class   management management_group      payment  \\\n",
       "0                 other   parastatal       parastatal    never pay   \n",
       "1               gravity          vwc       user-group    never pay   \n",
       "2                 other          vwc       user-group    never pay   \n",
       "3                 other          vwc       user-group      unknown   \n",
       "4               gravity  water board       user-group  pay monthly   \n",
       "\n",
       "  payment_type water_quality quality_group      quantity quantity_group  \\\n",
       "0    never pay          soft          good      seasonal       seasonal   \n",
       "1    never pay          soft          good  insufficient   insufficient   \n",
       "2    never pay          soft          good  insufficient   insufficient   \n",
       "3      unknown          soft          good           dry            dry   \n",
       "4      monthly          soft          good        enough         enough   \n",
       "\n",
       "                 source           source_type source_class  \\\n",
       "0  rainwater harvesting  rainwater harvesting      surface   \n",
       "1                spring                spring  groundwater   \n",
       "2  rainwater harvesting  rainwater harvesting      surface   \n",
       "3          shallow well          shallow well  groundwater   \n",
       "4                spring                spring  groundwater   \n",
       "\n",
       "      waterpoint_type waterpoint_type_group  \n",
       "0               other                 other  \n",
       "1  communal standpipe    communal standpipe  \n",
       "2               other                 other  \n",
       "3               other                 other  \n",
       "4  communal standpipe    communal standpipe  "
      ]
     },
     "execution_count": 102,
     "metadata": {},
     "output_type": "execute_result"
    }
   ],
   "source": [
    "X_test.head()"
   ]
  },
  {
   "cell_type": "code",
   "execution_count": 276,
   "metadata": {},
   "outputs": [
    {
     "data": {
      "text/plain": [
       "(14850, 40)"
      ]
     },
     "execution_count": 276,
     "metadata": {},
     "output_type": "execute_result"
    }
   ],
   "source": [
    "X_test.shape"
   ]
  },
  {
   "cell_type": "code",
   "execution_count": 277,
   "metadata": {},
   "outputs": [
    {
     "data": {
      "text/plain": [
       "id                          0\n",
       "amount_tsh                  0\n",
       "date_recorded               0\n",
       "funder                    869\n",
       "gps_height                  0\n",
       "installer                 877\n",
       "longitude                   0\n",
       "latitude                    0\n",
       "wpt_name                    0\n",
       "num_private                 0\n",
       "basin                       0\n",
       "subvillage                 99\n",
       "region                      0\n",
       "region_code                 0\n",
       "district_code               0\n",
       "lga                         0\n",
       "ward                        0\n",
       "population                  0\n",
       "public_meeting            821\n",
       "recorded_by                 0\n",
       "scheme_management         969\n",
       "scheme_name              7092\n",
       "permit                    737\n",
       "construction_year           0\n",
       "extraction_type             0\n",
       "extraction_type_group       0\n",
       "extraction_type_class       0\n",
       "management                  0\n",
       "management_group            0\n",
       "payment                     0\n",
       "payment_type                0\n",
       "water_quality               0\n",
       "quality_group               0\n",
       "quantity                    0\n",
       "quantity_group              0\n",
       "source                      0\n",
       "source_type                 0\n",
       "source_class                0\n",
       "waterpoint_type             0\n",
       "waterpoint_type_group       0\n",
       "dtype: int64"
      ]
     },
     "execution_count": 277,
     "metadata": {},
     "output_type": "execute_result"
    }
   ],
   "source": [
    "X_test.isna().sum()"
   ]
  },
  {
   "cell_type": "code",
   "execution_count": 284,
   "metadata": {},
   "outputs": [
    {
     "data": {
      "text/plain": [
       "id                       0.0\n",
       "amount_tsh           10410.0\n",
       "gps_height            5211.0\n",
       "longitude              457.0\n",
       "latitude                 0.0\n",
       "num_private          14656.0\n",
       "region_code              0.0\n",
       "district_code            4.0\n",
       "population            5453.0\n",
       "construction_year     5260.0\n",
       "Name: count, dtype: float64"
      ]
     },
     "execution_count": 284,
     "metadata": {},
     "output_type": "execute_result"
    }
   ],
   "source": [
    "X_test[X_test == 0].describe().loc[\"count\",:]"
   ]
  },
  {
   "cell_type": "markdown",
   "metadata": {},
   "source": [
    "## References  \n",
    "\n",
    "This cell contains the markdown code for all the referential links used in this notebook. Edit the cell to review the links as a list.\n",
    "\n",
    "[1]: https://en.wikipedia.org/wiki/Subdivisions_of_Tanzania \"Wikipedia article on the Subdivisons of Tanzania\"\n",
    "\n",
    "\n"
   ]
  },
  {
   "cell_type": "code",
   "execution_count": null,
   "metadata": {},
   "outputs": [],
   "source": []
  }
 ],
 "metadata": {
  "kernelspec": {
   "display_name": "Python 3",
   "language": "python",
   "name": "python3"
  },
  "language_info": {
   "codemirror_mode": {
    "name": "ipython",
    "version": 3
   },
   "file_extension": ".py",
   "mimetype": "text/x-python",
   "name": "python",
   "nbconvert_exporter": "python",
   "pygments_lexer": "ipython3",
   "version": "3.7.3"
  },
  "toc": {
   "base_numbering": 1,
   "nav_menu": {},
   "number_sections": true,
   "sideBar": true,
   "skip_h1_title": true,
   "title_cell": "Table of Contents",
   "title_sidebar": "Contents",
   "toc_cell": true,
   "toc_position": {},
   "toc_section_display": true,
   "toc_window_display": false
  },
  "varInspector": {
   "cols": {
    "lenName": 16,
    "lenType": 16,
    "lenVar": 40
   },
   "kernels_config": {
    "python": {
     "delete_cmd_postfix": "",
     "delete_cmd_prefix": "del ",
     "library": "var_list.py",
     "varRefreshCmd": "print(var_dic_list())"
    },
    "r": {
     "delete_cmd_postfix": ") ",
     "delete_cmd_prefix": "rm(",
     "library": "var_list.r",
     "varRefreshCmd": "cat(var_dic_list()) "
    }
   },
   "types_to_exclude": [
    "module",
    "function",
    "builtin_function_or_method",
    "instance",
    "_Feature"
   ],
   "window_display": false
  }
 },
 "nbformat": 4,
 "nbformat_minor": 2
}

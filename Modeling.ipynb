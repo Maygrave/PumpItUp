{
 "cells": [
  {
   "cell_type": "markdown",
   "metadata": {
    "toc": true
   },
   "source": [
    "<h1>Table of Contents<span class=\"tocSkip\"></span></h1>\n",
    "<div class=\"toc\"><ul class=\"toc-item\"><li><span><a href=\"#Importing-and-Reviewing-Data\" data-toc-modified-id=\"Importing-and-Reviewing-Data-1\"><span class=\"toc-item-num\">1&nbsp;&nbsp;</span>Importing and Reviewing Data</a></span></li><li><span><a href=\"#Processing-Data-for-Modeling\" data-toc-modified-id=\"Processing-Data-for-Modeling-2\"><span class=\"toc-item-num\">2&nbsp;&nbsp;</span>Processing Data for Modeling</a></span><ul class=\"toc-item\"><li><span><a href=\"#Functions\" data-toc-modified-id=\"Functions-2.1\"><span class=\"toc-item-num\">2.1&nbsp;&nbsp;</span>Functions</a></span></li><li><span><a href=\"#Testing-Data\" data-toc-modified-id=\"Testing-Data-2.2\"><span class=\"toc-item-num\">2.2&nbsp;&nbsp;</span>Testing Data</a></span></li><li><span><a href=\"#Training-Data\" data-toc-modified-id=\"Training-Data-2.3\"><span class=\"toc-item-num\">2.3&nbsp;&nbsp;</span>Training Data</a></span></li><li><span><a href=\"#Data-Manipulation\" data-toc-modified-id=\"Data-Manipulation-2.4\"><span class=\"toc-item-num\">2.4&nbsp;&nbsp;</span>Data Manipulation</a></span><ul class=\"toc-item\"><li><span><a href=\"#PCA\" data-toc-modified-id=\"PCA-2.4.1\"><span class=\"toc-item-num\">2.4.1&nbsp;&nbsp;</span>PCA</a></span></li></ul></li></ul></li><li><span><a href=\"#Modeling\" data-toc-modified-id=\"Modeling-3\"><span class=\"toc-item-num\">3&nbsp;&nbsp;</span>Modeling</a></span><ul class=\"toc-item\"><li><span><a href=\"#K-Neighbors\" data-toc-modified-id=\"K-Neighbors-3.1\"><span class=\"toc-item-num\">3.1&nbsp;&nbsp;</span>K Neighbors</a></span></li><li><span><a href=\"#Random-Forest-Classification\" data-toc-modified-id=\"Random-Forest-Classification-3.2\"><span class=\"toc-item-num\">3.2&nbsp;&nbsp;</span>Random Forest Classification</a></span><ul class=\"toc-item\"><li><span><a href=\"#Modeling-with-RF\" data-toc-modified-id=\"Modeling-with-RF-3.2.1\"><span class=\"toc-item-num\">3.2.1&nbsp;&nbsp;</span>Modeling with RF</a></span></li><li><span><a href=\"#Predictions\" data-toc-modified-id=\"Predictions-3.2.2\"><span class=\"toc-item-num\">3.2.2&nbsp;&nbsp;</span>Predictions</a></span></li></ul></li><li><span><a href=\"#Gradient-Boosting\" data-toc-modified-id=\"Gradient-Boosting-3.3\"><span class=\"toc-item-num\">3.3&nbsp;&nbsp;</span>Gradient Boosting</a></span><ul class=\"toc-item\"><li><span><a href=\"#Modeling-with-GB\" data-toc-modified-id=\"Modeling-with-GB-3.3.1\"><span class=\"toc-item-num\">3.3.1&nbsp;&nbsp;</span>Modeling with GB</a></span></li><li><span><a href=\"#Predictions\" data-toc-modified-id=\"Predictions-3.3.2\"><span class=\"toc-item-num\">3.3.2&nbsp;&nbsp;</span>Predictions</a></span></li></ul></li><li><span><a href=\"#XGBoost\" data-toc-modified-id=\"XGBoost-3.4\"><span class=\"toc-item-num\">3.4&nbsp;&nbsp;</span>XGBoost</a></span><ul class=\"toc-item\"><li><span><a href=\"#Modeling-with-XGB\" data-toc-modified-id=\"Modeling-with-XGB-3.4.1\"><span class=\"toc-item-num\">3.4.1&nbsp;&nbsp;</span>Modeling with XGB</a></span></li><li><span><a href=\"#Predictions\" data-toc-modified-id=\"Predictions-3.4.2\"><span class=\"toc-item-num\">3.4.2&nbsp;&nbsp;</span>Predictions</a></span></li></ul></li></ul></li><li><span><a href=\"#Modeling-Conclusion\" data-toc-modified-id=\"Modeling-Conclusion-4\"><span class=\"toc-item-num\">4&nbsp;&nbsp;</span>Modeling Conclusion</a></span></li></ul></div>"
   ]
  },
  {
   "cell_type": "markdown",
   "metadata": {},
   "source": [
    "# Modeling"
   ]
  },
  {
   "cell_type": "code",
   "execution_count": 185,
   "metadata": {
    "scrolled": true
   },
   "outputs": [],
   "source": [
    "# %load Imports.py\n",
    "#Imports\n",
    "##General\n",
    "import pandas as pd\n",
    "import numpy as np\n",
    "\n",
    "##Preprocessing\n",
    "from sklearn.preprocessing import StandardScaler, LabelEncoder, OneHotEncoder\n",
    "\n",
    "#Modeling\n",
    "from sklearn.model_selection import train_test_split, cross_val_score, KFold, GridSearchCV\n",
    "from sklearn.metrics import confusion_matrix, accuracy_score\n",
    "from sklearn.decomposition import PCA\n",
    "from sklearn.linear_model import RidgeClassifier\n",
    "from sklearn.naive_bayes import GaussianNB\n",
    "from sklearn.ensemble import RandomForestClassifier, GradientBoostingClassifier, AdaBoostClassifier\n",
    "from sklearn.neighbors import KNeighborsClassifier\n",
    "from sklearn import metrics\n",
    "\n",
    "#Modeling with XGBoost\n",
    "import xgboost as xgb\n",
    "from xgboost.sklearn import XGBClassifier\n",
    "\n",
    "##Visualizations\n",
    "import matplotlib.pyplot as plt\n",
    "import seaborn as sns\n",
    "sns.set_style(\"whitegrid\")\n",
    "%matplotlib inline"
   ]
  },
  {
   "cell_type": "markdown",
   "metadata": {},
   "source": [
    "## Importing and Reviewing Data"
   ]
  },
  {
   "cell_type": "code",
   "execution_count": 2,
   "metadata": {},
   "outputs": [],
   "source": [
    "#Cleaned Training and Testing Data\n",
    "X_train = pd.read_csv(\"Data/Final/Train1.csv\")\n",
    "y_train = pd.read_csv(\"Data/Raw/Train_Labels.csv\")\n",
    "\n",
    "Final_test = pd.read_csv(\"Data/Final/Test1.csv\")"
   ]
  },
  {
   "cell_type": "code",
   "execution_count": 207,
   "metadata": {
    "deletable": false,
    "editable": false,
    "run_control": {
     "frozen": true
    }
   },
   "outputs": [],
   "source": [
    "#Well Elevation Data\n",
    "X_train_ele = pd.read_csv(\"Data/Processed/Train2.csv\")\n",
    "Final_train_ele = pd.read_csv(\"Data/Processed/Test2.csv\")"
   ]
  },
  {
   "cell_type": "code",
   "execution_count": 213,
   "metadata": {
    "deletable": false,
    "editable": false,
    "run_control": {
     "frozen": true
    }
   },
   "outputs": [],
   "source": [
    "X_train['elevation'] = X_train_ele['elevations']\n",
    "Final_test['elevation'] = Final_train_ele['elevations']"
   ]
  },
  {
   "cell_type": "code",
   "execution_count": 209,
   "metadata": {
    "deletable": false,
    "editable": false,
    "run_control": {
     "frozen": true
    }
   },
   "outputs": [],
   "source": [
    "X_train.drop(axis = 1,  columns = ['subvillage', 'ward', 'wpt_name', 'scheme_name', 'date_recorded'], inplace = True)\n",
    "Final_test.drop(axis = 1,  columns = ['subvillage', 'ward', 'wpt_name', 'scheme_name', 'date_recorded'], inplace = True)"
   ]
  },
  {
   "cell_type": "code",
   "execution_count": 210,
   "metadata": {
    "deletable": false,
    "editable": false,
    "run_control": {
     "frozen": true
    }
   },
   "outputs": [
    {
     "data": {
      "text/plain": [
       "59400"
      ]
     },
     "execution_count": 210,
     "metadata": {},
     "output_type": "execute_result"
    }
   ],
   "source": [
    "len(X_train[X_train['elevation'] == -1])"
   ]
  },
  {
   "cell_type": "markdown",
   "metadata": {},
   "source": [
    "The following categorical features have over 150 different levels, and will be dropped from both data sets to prevent overfitting. In all cases there exist more parsimonious versions of the information in the data.\n",
    "+ `scheme_name`\n",
    "+ `ward`\n",
    "+ `subvillage`\n",
    "+ `wpt`\n",
    "\n",
    "I'll also be dropping `date_recorded`, for now."
   ]
  },
  {
   "cell_type": "code",
   "execution_count": 3,
   "metadata": {},
   "outputs": [],
   "source": [
    "X_train.drop(axis = 1, columns = ['date_recorded', 'subvillage', 'wpt_name', 'ward', 'scheme_name'], inplace = True)\n",
    "Final_test.drop(axis = 1, columns = ['date_recorded', 'subvillage', 'wpt_name', 'ward', 'scheme_name'], inplace = True)"
   ]
  },
  {
   "cell_type": "code",
   "execution_count": 4,
   "metadata": {},
   "outputs": [
    {
     "data": {
      "text/html": [
       "<div>\n",
       "<style scoped>\n",
       "    .dataframe tbody tr th:only-of-type {\n",
       "        vertical-align: middle;\n",
       "    }\n",
       "\n",
       "    .dataframe tbody tr th {\n",
       "        vertical-align: top;\n",
       "    }\n",
       "\n",
       "    .dataframe thead th {\n",
       "        text-align: right;\n",
       "    }\n",
       "</style>\n",
       "<table border=\"1\" class=\"dataframe\">\n",
       "  <thead>\n",
       "    <tr style=\"text-align: right;\">\n",
       "      <th></th>\n",
       "      <th>id</th>\n",
       "      <th>amount_tsh</th>\n",
       "      <th>gps_height</th>\n",
       "      <th>longitude</th>\n",
       "      <th>latitude</th>\n",
       "      <th>basin</th>\n",
       "      <th>region</th>\n",
       "      <th>region_code</th>\n",
       "      <th>district_code</th>\n",
       "      <th>lga</th>\n",
       "      <th>population</th>\n",
       "      <th>public_meeting</th>\n",
       "      <th>scheme_management</th>\n",
       "      <th>permit</th>\n",
       "      <th>construction_year</th>\n",
       "      <th>extraction_type</th>\n",
       "      <th>extraction_type_group</th>\n",
       "      <th>extraction_type_class</th>\n",
       "      <th>management</th>\n",
       "      <th>management_group</th>\n",
       "      <th>payment</th>\n",
       "      <th>payment_type</th>\n",
       "      <th>water_quality</th>\n",
       "      <th>quality_group</th>\n",
       "      <th>quantity</th>\n",
       "      <th>quantity_group</th>\n",
       "      <th>source</th>\n",
       "      <th>source_type</th>\n",
       "      <th>source_class</th>\n",
       "      <th>waterpoint_type</th>\n",
       "      <th>waterpoint_type_group</th>\n",
       "      <th>Interped_pop</th>\n",
       "    </tr>\n",
       "  </thead>\n",
       "  <tbody>\n",
       "    <tr>\n",
       "      <th>0</th>\n",
       "      <td>69572.0</td>\n",
       "      <td>6000.000000</td>\n",
       "      <td>1390.0</td>\n",
       "      <td>34.938093</td>\n",
       "      <td>-9.856322</td>\n",
       "      <td>Lake Nyasa</td>\n",
       "      <td>Njombe</td>\n",
       "      <td>11.0</td>\n",
       "      <td>5.0</td>\n",
       "      <td>Ludewa</td>\n",
       "      <td>109.000000</td>\n",
       "      <td>True</td>\n",
       "      <td>VWC</td>\n",
       "      <td>False</td>\n",
       "      <td>1999.0</td>\n",
       "      <td>gravity</td>\n",
       "      <td>gravity</td>\n",
       "      <td>gravity</td>\n",
       "      <td>vwc</td>\n",
       "      <td>user-group</td>\n",
       "      <td>pay annually</td>\n",
       "      <td>annually</td>\n",
       "      <td>soft</td>\n",
       "      <td>good</td>\n",
       "      <td>enough</td>\n",
       "      <td>enough</td>\n",
       "      <td>spring</td>\n",
       "      <td>spring</td>\n",
       "      <td>groundwater</td>\n",
       "      <td>communal standpipe</td>\n",
       "      <td>communal standpipe</td>\n",
       "      <td>0.0</td>\n",
       "    </tr>\n",
       "    <tr>\n",
       "      <th>1</th>\n",
       "      <td>8776.0</td>\n",
       "      <td>542.857143</td>\n",
       "      <td>1399.0</td>\n",
       "      <td>34.698766</td>\n",
       "      <td>-2.147466</td>\n",
       "      <td>Lake Victoria</td>\n",
       "      <td>Mara</td>\n",
       "      <td>20.0</td>\n",
       "      <td>2.0</td>\n",
       "      <td>Serengeti</td>\n",
       "      <td>280.000000</td>\n",
       "      <td>Unknown</td>\n",
       "      <td>Other</td>\n",
       "      <td>True</td>\n",
       "      <td>2010.0</td>\n",
       "      <td>gravity</td>\n",
       "      <td>gravity</td>\n",
       "      <td>gravity</td>\n",
       "      <td>wug</td>\n",
       "      <td>user-group</td>\n",
       "      <td>never pay</td>\n",
       "      <td>never pay</td>\n",
       "      <td>soft</td>\n",
       "      <td>good</td>\n",
       "      <td>insufficient</td>\n",
       "      <td>insufficient</td>\n",
       "      <td>rainwater harvesting</td>\n",
       "      <td>rainwater harvesting</td>\n",
       "      <td>surface</td>\n",
       "      <td>communal standpipe</td>\n",
       "      <td>communal standpipe</td>\n",
       "      <td>0.0</td>\n",
       "    </tr>\n",
       "    <tr>\n",
       "      <th>2</th>\n",
       "      <td>34310.0</td>\n",
       "      <td>25.000000</td>\n",
       "      <td>686.0</td>\n",
       "      <td>37.460664</td>\n",
       "      <td>-3.821329</td>\n",
       "      <td>Pangani</td>\n",
       "      <td>Manyara</td>\n",
       "      <td>21.0</td>\n",
       "      <td>4.0</td>\n",
       "      <td>Simanjiro</td>\n",
       "      <td>250.000000</td>\n",
       "      <td>True</td>\n",
       "      <td>VWC</td>\n",
       "      <td>True</td>\n",
       "      <td>2009.0</td>\n",
       "      <td>gravity</td>\n",
       "      <td>gravity</td>\n",
       "      <td>gravity</td>\n",
       "      <td>vwc</td>\n",
       "      <td>user-group</td>\n",
       "      <td>pay per bucket</td>\n",
       "      <td>per bucket</td>\n",
       "      <td>soft</td>\n",
       "      <td>good</td>\n",
       "      <td>enough</td>\n",
       "      <td>enough</td>\n",
       "      <td>dam</td>\n",
       "      <td>dam</td>\n",
       "      <td>surface</td>\n",
       "      <td>communal standpipe multiple</td>\n",
       "      <td>communal standpipe</td>\n",
       "      <td>0.0</td>\n",
       "    </tr>\n",
       "    <tr>\n",
       "      <th>3</th>\n",
       "      <td>67743.0</td>\n",
       "      <td>525.000000</td>\n",
       "      <td>263.0</td>\n",
       "      <td>38.486161</td>\n",
       "      <td>-11.155298</td>\n",
       "      <td>Ruvuma / Southern Coast</td>\n",
       "      <td>Mtwara</td>\n",
       "      <td>90.0</td>\n",
       "      <td>63.0</td>\n",
       "      <td>Nanyumbu</td>\n",
       "      <td>58.000000</td>\n",
       "      <td>True</td>\n",
       "      <td>VWC</td>\n",
       "      <td>True</td>\n",
       "      <td>1986.0</td>\n",
       "      <td>submersible</td>\n",
       "      <td>submersible</td>\n",
       "      <td>submersible</td>\n",
       "      <td>vwc</td>\n",
       "      <td>user-group</td>\n",
       "      <td>never pay</td>\n",
       "      <td>never pay</td>\n",
       "      <td>soft</td>\n",
       "      <td>good</td>\n",
       "      <td>dry</td>\n",
       "      <td>dry</td>\n",
       "      <td>machine dbh</td>\n",
       "      <td>borehole</td>\n",
       "      <td>groundwater</td>\n",
       "      <td>communal standpipe multiple</td>\n",
       "      <td>communal standpipe</td>\n",
       "      <td>0.0</td>\n",
       "    </tr>\n",
       "    <tr>\n",
       "      <th>4</th>\n",
       "      <td>19728.0</td>\n",
       "      <td>0.000000</td>\n",
       "      <td>0.0</td>\n",
       "      <td>31.130847</td>\n",
       "      <td>-1.825359</td>\n",
       "      <td>Lake Victoria</td>\n",
       "      <td>Kagera</td>\n",
       "      <td>18.0</td>\n",
       "      <td>1.0</td>\n",
       "      <td>Karagwe</td>\n",
       "      <td>984.846154</td>\n",
       "      <td>True</td>\n",
       "      <td>Unknown</td>\n",
       "      <td>True</td>\n",
       "      <td>1996.0</td>\n",
       "      <td>gravity</td>\n",
       "      <td>gravity</td>\n",
       "      <td>gravity</td>\n",
       "      <td>other</td>\n",
       "      <td>other</td>\n",
       "      <td>never pay</td>\n",
       "      <td>never pay</td>\n",
       "      <td>soft</td>\n",
       "      <td>good</td>\n",
       "      <td>seasonal</td>\n",
       "      <td>seasonal</td>\n",
       "      <td>rainwater harvesting</td>\n",
       "      <td>rainwater harvesting</td>\n",
       "      <td>surface</td>\n",
       "      <td>communal standpipe</td>\n",
       "      <td>communal standpipe</td>\n",
       "      <td>1.0</td>\n",
       "    </tr>\n",
       "  </tbody>\n",
       "</table>\n",
       "</div>"
      ],
      "text/plain": [
       "        id   amount_tsh  gps_height  longitude   latitude  \\\n",
       "0  69572.0  6000.000000      1390.0  34.938093  -9.856322   \n",
       "1   8776.0   542.857143      1399.0  34.698766  -2.147466   \n",
       "2  34310.0    25.000000       686.0  37.460664  -3.821329   \n",
       "3  67743.0   525.000000       263.0  38.486161 -11.155298   \n",
       "4  19728.0     0.000000         0.0  31.130847  -1.825359   \n",
       "\n",
       "                     basin   region  region_code  district_code        lga  \\\n",
       "0               Lake Nyasa   Njombe         11.0            5.0     Ludewa   \n",
       "1            Lake Victoria     Mara         20.0            2.0  Serengeti   \n",
       "2                  Pangani  Manyara         21.0            4.0  Simanjiro   \n",
       "3  Ruvuma / Southern Coast   Mtwara         90.0           63.0   Nanyumbu   \n",
       "4            Lake Victoria   Kagera         18.0            1.0    Karagwe   \n",
       "\n",
       "   population public_meeting scheme_management permit  construction_year  \\\n",
       "0  109.000000           True               VWC  False             1999.0   \n",
       "1  280.000000        Unknown             Other   True             2010.0   \n",
       "2  250.000000           True               VWC   True             2009.0   \n",
       "3   58.000000           True               VWC   True             1986.0   \n",
       "4  984.846154           True           Unknown   True             1996.0   \n",
       "\n",
       "  extraction_type extraction_type_group extraction_type_class management  \\\n",
       "0         gravity               gravity               gravity        vwc   \n",
       "1         gravity               gravity               gravity        wug   \n",
       "2         gravity               gravity               gravity        vwc   \n",
       "3     submersible           submersible           submersible        vwc   \n",
       "4         gravity               gravity               gravity      other   \n",
       "\n",
       "  management_group         payment payment_type water_quality quality_group  \\\n",
       "0       user-group    pay annually     annually          soft          good   \n",
       "1       user-group       never pay    never pay          soft          good   \n",
       "2       user-group  pay per bucket   per bucket          soft          good   \n",
       "3       user-group       never pay    never pay          soft          good   \n",
       "4            other       never pay    never pay          soft          good   \n",
       "\n",
       "       quantity quantity_group                source           source_type  \\\n",
       "0        enough         enough                spring                spring   \n",
       "1  insufficient   insufficient  rainwater harvesting  rainwater harvesting   \n",
       "2        enough         enough                   dam                   dam   \n",
       "3           dry            dry           machine dbh              borehole   \n",
       "4      seasonal       seasonal  rainwater harvesting  rainwater harvesting   \n",
       "\n",
       "  source_class              waterpoint_type waterpoint_type_group  \\\n",
       "0  groundwater           communal standpipe    communal standpipe   \n",
       "1      surface           communal standpipe    communal standpipe   \n",
       "2      surface  communal standpipe multiple    communal standpipe   \n",
       "3  groundwater  communal standpipe multiple    communal standpipe   \n",
       "4      surface           communal standpipe    communal standpipe   \n",
       "\n",
       "   Interped_pop  \n",
       "0           0.0  \n",
       "1           0.0  \n",
       "2           0.0  \n",
       "3           0.0  \n",
       "4           1.0  "
      ]
     },
     "execution_count": 4,
     "metadata": {},
     "output_type": "execute_result"
    }
   ],
   "source": [
    "pd.set_option('display.max_columns', 40)\n",
    "X_train.head()"
   ]
  },
  {
   "cell_type": "code",
   "execution_count": 5,
   "metadata": {},
   "outputs": [
    {
     "data": {
      "text/html": [
       "<div>\n",
       "<style scoped>\n",
       "    .dataframe tbody tr th:only-of-type {\n",
       "        vertical-align: middle;\n",
       "    }\n",
       "\n",
       "    .dataframe tbody tr th {\n",
       "        vertical-align: top;\n",
       "    }\n",
       "\n",
       "    .dataframe thead th {\n",
       "        text-align: right;\n",
       "    }\n",
       "</style>\n",
       "<table border=\"1\" class=\"dataframe\">\n",
       "  <thead>\n",
       "    <tr style=\"text-align: right;\">\n",
       "      <th></th>\n",
       "      <th>id</th>\n",
       "      <th>status_group</th>\n",
       "    </tr>\n",
       "  </thead>\n",
       "  <tbody>\n",
       "    <tr>\n",
       "      <th>0</th>\n",
       "      <td>69572</td>\n",
       "      <td>functional</td>\n",
       "    </tr>\n",
       "    <tr>\n",
       "      <th>1</th>\n",
       "      <td>8776</td>\n",
       "      <td>functional</td>\n",
       "    </tr>\n",
       "    <tr>\n",
       "      <th>2</th>\n",
       "      <td>34310</td>\n",
       "      <td>functional</td>\n",
       "    </tr>\n",
       "    <tr>\n",
       "      <th>3</th>\n",
       "      <td>67743</td>\n",
       "      <td>non functional</td>\n",
       "    </tr>\n",
       "    <tr>\n",
       "      <th>4</th>\n",
       "      <td>19728</td>\n",
       "      <td>functional</td>\n",
       "    </tr>\n",
       "  </tbody>\n",
       "</table>\n",
       "</div>"
      ],
      "text/plain": [
       "      id    status_group\n",
       "0  69572      functional\n",
       "1   8776      functional\n",
       "2  34310      functional\n",
       "3  67743  non functional\n",
       "4  19728      functional"
      ]
     },
     "execution_count": 5,
     "metadata": {},
     "output_type": "execute_result"
    }
   ],
   "source": [
    "y_train.head()"
   ]
  },
  {
   "cell_type": "code",
   "execution_count": 6,
   "metadata": {},
   "outputs": [
    {
     "data": {
      "text/plain": [
       "<seaborn.axisgrid.FacetGrid at 0x7fab40692b38>"
      ]
     },
     "execution_count": 6,
     "metadata": {},
     "output_type": "execute_result"
    },
    {
     "data": {
      "image/png": "[encoded data removed]",
      "text/plain": [
       "<Figure size 360x360 with 1 Axes>"
      ]
     },
     "metadata": {
      "needs_background": "light"
     },
     "output_type": "display_data"
    }
   ],
   "source": [
    "sns.catplot(x = 'status_group', kind = \"count\", data = y_train)"
   ]
  },
  {
   "cell_type": "markdown",
   "metadata": {},
   "source": [
    "## Processing Data for Modeling\n",
    "In order to process the data for modeling, I want to follow the following steps.\n",
    "1. Use scikit-learn's `StandardScaler` to scale my numeric feature values.\n",
    "2. Use scikit-learn's `LabelEncoder` to encode my categorical features.\n",
    "3. Convert 'region_code' and 'district_code' to categorical"
   ]
  },
  {
   "cell_type": "markdown",
   "metadata": {},
   "source": [
    "### Functions"
   ]
  },
  {
   "cell_type": "code",
   "execution_count": 108,
   "metadata": {},
   "outputs": [],
   "source": [
    "#Getting Numerical Vars\n",
    "def get_nums(data):\n",
    "    #List of Categorical Features\n",
    "\n",
    "    num_feats = []\n",
    "    for feat in data.dtypes.index:\n",
    "        if data[feat].dtype == \"float64\":\n",
    "            num_feats.append(feat)\n",
    "    return(num_feats)\n",
    "\n",
    "#Encoding Numerical Vars\n",
    "def scaling_nums(data, to_scale, train = True, train_data = None):\n",
    "    std_scal = StandardScaler()\n",
    "    #Label encoding when working with training data\n",
    "    #When train = True, no need for train_data\n",
    "    if train:\n",
    "        data[to_scale] = std_scal.fit_transform(data[to_scale])\n",
    "    #Since I want to fit the testing data based on the training data fit\n",
    "    #Now need the train_data param\n",
    "    else:\n",
    "        std_scal.fit(train_data[to_scale])\n",
    "        data[to_scale] = std_scal.transform(data[to_scale])\n",
    "    return(data)\n",
    "\n",
    "#Getting Categorical Vars\n",
    "def get_cats(data):\n",
    "    #List of Categorical Features\n",
    "\n",
    "    cat_feats = []\n",
    "    for feat in data.dtypes.index:\n",
    "        if data[feat].dtype == \"object\":\n",
    "            cat_feats.append(feat)\n",
    "    return(cat_feats)\n",
    "\n",
    "#Encoding Categorical Vars\n",
    "def encoding_cats(data, train = True, train_data = None):\n",
    "    #getting cat_feats\n",
    "    cat_feats = get_cats(data)\n",
    "    lab_encoder = LabelEncoder()\n",
    "    #Label encoding when working with training data\n",
    "    #When train = True, no need for train_data\n",
    "    if train:\n",
    "        for feat in cat_feats:\n",
    "            encoded_col = \"{}_encoded\".format(feat)\n",
    "            data[encoded_col] = lab_encoder.fit_transform(data[feat])\n",
    "    #Since I want to fit the testing data based on the training data fit\n",
    "    #Now need the train_data param\n",
    "    else:\n",
    "        for feat in cat_feats:\n",
    "            encoded_col = \"{}_encoded\".format(feat)\n",
    "            lab_encoder.fit(train_data[feat])\n",
    "            data[encoded_col] = lab_encoder.transform(data[feat])\n",
    "    data.drop(axis = 1, columns = cat_feats, inplace = True)\n",
    "    return(data)\n",
    "\n",
    "#Convert Region_code and District_code to Categorical\n",
    "def to_category(data, to_cater):\n",
    "    add_to_cater = get_cats(data)\n",
    "    to_cater = to_cater.append(add_to_cater)\n",
    "    for feat in to_cater:\n",
    "        data[feat] = data[feat].astype('category')\n",
    "    return(data)\n",
    "\n",
    "#Dates\n",
    "\n",
    "def as_dates(data):\n",
    "    data.date_recorded = pd.to_datetime(data.date_recorded)\n",
    "    return(data)"
   ]
  },
  {
   "cell_type": "markdown",
   "metadata": {},
   "source": [
    "### Testing Data"
   ]
  },
  {
   "cell_type": "code",
   "execution_count": 8,
   "metadata": {},
   "outputs": [],
   "source": [
    "Final_test = encoding_cats(Final_test, train = False, train_data = X_train)"
   ]
  },
  {
   "cell_type": "code",
   "execution_count": 9,
   "metadata": {},
   "outputs": [
    {
     "data": {
      "text/html": [
       "<div>\n",
       "<style scoped>\n",
       "    .dataframe tbody tr th:only-of-type {\n",
       "        vertical-align: middle;\n",
       "    }\n",
       "\n",
       "    .dataframe tbody tr th {\n",
       "        vertical-align: top;\n",
       "    }\n",
       "\n",
       "    .dataframe thead th {\n",
       "        text-align: right;\n",
       "    }\n",
       "</style>\n",
       "<table border=\"1\" class=\"dataframe\">\n",
       "  <thead>\n",
       "    <tr style=\"text-align: right;\">\n",
       "      <th></th>\n",
       "      <th>id</th>\n",
       "      <th>amount_tsh</th>\n",
       "      <th>gps_height</th>\n",
       "      <th>longitude</th>\n",
       "      <th>latitude</th>\n",
       "      <th>region_code</th>\n",
       "      <th>district_code</th>\n",
       "      <th>population</th>\n",
       "      <th>construction_year</th>\n",
       "      <th>Interped_pop</th>\n",
       "      <th>basin_encoded</th>\n",
       "      <th>region_encoded</th>\n",
       "      <th>lga_encoded</th>\n",
       "      <th>public_meeting_encoded</th>\n",
       "      <th>scheme_management_encoded</th>\n",
       "      <th>permit_encoded</th>\n",
       "      <th>extraction_type_encoded</th>\n",
       "      <th>extraction_type_group_encoded</th>\n",
       "      <th>extraction_type_class_encoded</th>\n",
       "      <th>management_encoded</th>\n",
       "      <th>management_group_encoded</th>\n",
       "      <th>payment_encoded</th>\n",
       "      <th>payment_type_encoded</th>\n",
       "      <th>water_quality_encoded</th>\n",
       "      <th>quality_group_encoded</th>\n",
       "      <th>quantity_encoded</th>\n",
       "      <th>quantity_group_encoded</th>\n",
       "      <th>source_encoded</th>\n",
       "      <th>source_type_encoded</th>\n",
       "      <th>source_class_encoded</th>\n",
       "      <th>waterpoint_type_encoded</th>\n",
       "      <th>waterpoint_type_group_encoded</th>\n",
       "    </tr>\n",
       "  </thead>\n",
       "  <tbody>\n",
       "    <tr>\n",
       "      <th>0</th>\n",
       "      <td>50785.0</td>\n",
       "      <td>4687.500000</td>\n",
       "      <td>1996.0</td>\n",
       "      <td>35.290799</td>\n",
       "      <td>-4.059696</td>\n",
       "      <td>21.0</td>\n",
       "      <td>3.0</td>\n",
       "      <td>321.0</td>\n",
       "      <td>2012.0</td>\n",
       "      <td>0.0</td>\n",
       "      <td>0</td>\n",
       "      <td>10</td>\n",
       "      <td>78</td>\n",
       "      <td>1</td>\n",
       "      <td>3</td>\n",
       "      <td>1</td>\n",
       "      <td>9</td>\n",
       "      <td>6</td>\n",
       "      <td>3</td>\n",
       "      <td>3</td>\n",
       "      <td>2</td>\n",
       "      <td>0</td>\n",
       "      <td>2</td>\n",
       "      <td>6</td>\n",
       "      <td>2</td>\n",
       "      <td>3</td>\n",
       "      <td>3</td>\n",
       "      <td>5</td>\n",
       "      <td>3</td>\n",
       "      <td>1</td>\n",
       "      <td>6</td>\n",
       "      <td>5</td>\n",
       "    </tr>\n",
       "    <tr>\n",
       "      <th>1</th>\n",
       "      <td>51630.0</td>\n",
       "      <td>1970.352941</td>\n",
       "      <td>1569.0</td>\n",
       "      <td>36.656709</td>\n",
       "      <td>-3.309214</td>\n",
       "      <td>2.0</td>\n",
       "      <td>2.0</td>\n",
       "      <td>300.0</td>\n",
       "      <td>2000.0</td>\n",
       "      <td>0.0</td>\n",
       "      <td>5</td>\n",
       "      <td>0</td>\n",
       "      <td>0</td>\n",
       "      <td>1</td>\n",
       "      <td>8</td>\n",
       "      <td>1</td>\n",
       "      <td>3</td>\n",
       "      <td>1</td>\n",
       "      <td>0</td>\n",
       "      <td>7</td>\n",
       "      <td>4</td>\n",
       "      <td>0</td>\n",
       "      <td>2</td>\n",
       "      <td>6</td>\n",
       "      <td>2</td>\n",
       "      <td>2</td>\n",
       "      <td>2</td>\n",
       "      <td>8</td>\n",
       "      <td>6</td>\n",
       "      <td>0</td>\n",
       "      <td>1</td>\n",
       "      <td>1</td>\n",
       "    </tr>\n",
       "    <tr>\n",
       "      <th>2</th>\n",
       "      <td>17168.0</td>\n",
       "      <td>200.000000</td>\n",
       "      <td>1567.0</td>\n",
       "      <td>34.767863</td>\n",
       "      <td>-5.004344</td>\n",
       "      <td>13.0</td>\n",
       "      <td>2.0</td>\n",
       "      <td>500.0</td>\n",
       "      <td>2010.0</td>\n",
       "      <td>0.0</td>\n",
       "      <td>0</td>\n",
       "      <td>22</td>\n",
       "      <td>25</td>\n",
       "      <td>1</td>\n",
       "      <td>8</td>\n",
       "      <td>2</td>\n",
       "      <td>9</td>\n",
       "      <td>6</td>\n",
       "      <td>3</td>\n",
       "      <td>7</td>\n",
       "      <td>4</td>\n",
       "      <td>0</td>\n",
       "      <td>2</td>\n",
       "      <td>6</td>\n",
       "      <td>2</td>\n",
       "      <td>2</td>\n",
       "      <td>2</td>\n",
       "      <td>5</td>\n",
       "      <td>3</td>\n",
       "      <td>1</td>\n",
       "      <td>6</td>\n",
       "      <td>5</td>\n",
       "    </tr>\n",
       "    <tr>\n",
       "      <th>3</th>\n",
       "      <td>45559.0</td>\n",
       "      <td>225.142857</td>\n",
       "      <td>267.0</td>\n",
       "      <td>38.058046</td>\n",
       "      <td>-9.418672</td>\n",
       "      <td>80.0</td>\n",
       "      <td>43.0</td>\n",
       "      <td>250.0</td>\n",
       "      <td>1987.0</td>\n",
       "      <td>0.0</td>\n",
       "      <td>7</td>\n",
       "      <td>9</td>\n",
       "      <td>62</td>\n",
       "      <td>2</td>\n",
       "      <td>8</td>\n",
       "      <td>1</td>\n",
       "      <td>9</td>\n",
       "      <td>6</td>\n",
       "      <td>3</td>\n",
       "      <td>7</td>\n",
       "      <td>4</td>\n",
       "      <td>6</td>\n",
       "      <td>6</td>\n",
       "      <td>6</td>\n",
       "      <td>2</td>\n",
       "      <td>0</td>\n",
       "      <td>0</td>\n",
       "      <td>7</td>\n",
       "      <td>5</td>\n",
       "      <td>0</td>\n",
       "      <td>6</td>\n",
       "      <td>5</td>\n",
       "    </tr>\n",
       "    <tr>\n",
       "      <th>4</th>\n",
       "      <td>49871.0</td>\n",
       "      <td>500.000000</td>\n",
       "      <td>1260.0</td>\n",
       "      <td>35.006123</td>\n",
       "      <td>-10.950412</td>\n",
       "      <td>10.0</td>\n",
       "      <td>3.0</td>\n",
       "      <td>60.0</td>\n",
       "      <td>2000.0</td>\n",
       "      <td>0.0</td>\n",
       "      <td>7</td>\n",
       "      <td>19</td>\n",
       "      <td>75</td>\n",
       "      <td>2</td>\n",
       "      <td>11</td>\n",
       "      <td>1</td>\n",
       "      <td>3</td>\n",
       "      <td>1</td>\n",
       "      <td>0</td>\n",
       "      <td>9</td>\n",
       "      <td>4</td>\n",
       "      <td>3</td>\n",
       "      <td>1</td>\n",
       "      <td>6</td>\n",
       "      <td>2</td>\n",
       "      <td>1</td>\n",
       "      <td>1</td>\n",
       "      <td>8</td>\n",
       "      <td>6</td>\n",
       "      <td>0</td>\n",
       "      <td>1</td>\n",
       "      <td>1</td>\n",
       "    </tr>\n",
       "  </tbody>\n",
       "</table>\n",
       "</div>"
      ],
      "text/plain": [
       "        id   amount_tsh  gps_height  longitude   latitude  region_code  \\\n",
       "0  50785.0  4687.500000      1996.0  35.290799  -4.059696         21.0   \n",
       "1  51630.0  1970.352941      1569.0  36.656709  -3.309214          2.0   \n",
       "2  17168.0   200.000000      1567.0  34.767863  -5.004344         13.0   \n",
       "3  45559.0   225.142857       267.0  38.058046  -9.418672         80.0   \n",
       "4  49871.0   500.000000      1260.0  35.006123 -10.950412         10.0   \n",
       "\n",
       "   district_code  population  construction_year  Interped_pop  basin_encoded  \\\n",
       "0            3.0       321.0             2012.0           0.0              0   \n",
       "1            2.0       300.0             2000.0           0.0              5   \n",
       "2            2.0       500.0             2010.0           0.0              0   \n",
       "3           43.0       250.0             1987.0           0.0              7   \n",
       "4            3.0        60.0             2000.0           0.0              7   \n",
       "\n",
       "   region_encoded  lga_encoded  public_meeting_encoded  \\\n",
       "0              10           78                       1   \n",
       "1               0            0                       1   \n",
       "2              22           25                       1   \n",
       "3               9           62                       2   \n",
       "4              19           75                       2   \n",
       "\n",
       "   scheme_management_encoded  permit_encoded  extraction_type_encoded  \\\n",
       "0                          3               1                        9   \n",
       "1                          8               1                        3   \n",
       "2                          8               2                        9   \n",
       "3                          8               1                        9   \n",
       "4                         11               1                        3   \n",
       "\n",
       "   extraction_type_group_encoded  extraction_type_class_encoded  \\\n",
       "0                              6                              3   \n",
       "1                              1                              0   \n",
       "2                              6                              3   \n",
       "3                              6                              3   \n",
       "4                              1                              0   \n",
       "\n",
       "   management_encoded  management_group_encoded  payment_encoded  \\\n",
       "0                   3                         2                0   \n",
       "1                   7                         4                0   \n",
       "2                   7                         4                0   \n",
       "3                   7                         4                6   \n",
       "4                   9                         4                3   \n",
       "\n",
       "   payment_type_encoded  water_quality_encoded  quality_group_encoded  \\\n",
       "0                     2                      6                      2   \n",
       "1                     2                      6                      2   \n",
       "2                     2                      6                      2   \n",
       "3                     6                      6                      2   \n",
       "4                     1                      6                      2   \n",
       "\n",
       "   quantity_encoded  quantity_group_encoded  source_encoded  \\\n",
       "0                 3                       3               5   \n",
       "1                 2                       2               8   \n",
       "2                 2                       2               5   \n",
       "3                 0                       0               7   \n",
       "4                 1                       1               8   \n",
       "\n",
       "   source_type_encoded  source_class_encoded  waterpoint_type_encoded  \\\n",
       "0                    3                     1                        6   \n",
       "1                    6                     0                        1   \n",
       "2                    3                     1                        6   \n",
       "3                    5                     0                        6   \n",
       "4                    6                     0                        1   \n",
       "\n",
       "   waterpoint_type_group_encoded  \n",
       "0                              5  \n",
       "1                              1  \n",
       "2                              5  \n",
       "3                              5  \n",
       "4                              1  "
      ]
     },
     "execution_count": 9,
     "metadata": {},
     "output_type": "execute_result"
    }
   ],
   "source": [
    "Final_test.head()"
   ]
  },
  {
   "cell_type": "markdown",
   "metadata": {},
   "source": [
    "### Training Data"
   ]
  },
  {
   "cell_type": "code",
   "execution_count": 10,
   "metadata": {},
   "outputs": [],
   "source": [
    "#to_scale= ['amount_tsh', 'population']"
   ]
  },
  {
   "cell_type": "code",
   "execution_count": 11,
   "metadata": {},
   "outputs": [],
   "source": [
    "#X_train = scaling_nums(X_train, to_scale)"
   ]
  },
  {
   "cell_type": "code",
   "execution_count": 12,
   "metadata": {},
   "outputs": [],
   "source": [
    "X_train = encoding_cats(X_train)"
   ]
  },
  {
   "cell_type": "code",
   "execution_count": 13,
   "metadata": {},
   "outputs": [
    {
     "data": {
      "text/html": [
       "<div>\n",
       "<style scoped>\n",
       "    .dataframe tbody tr th:only-of-type {\n",
       "        vertical-align: middle;\n",
       "    }\n",
       "\n",
       "    .dataframe tbody tr th {\n",
       "        vertical-align: top;\n",
       "    }\n",
       "\n",
       "    .dataframe thead th {\n",
       "        text-align: right;\n",
       "    }\n",
       "</style>\n",
       "<table border=\"1\" class=\"dataframe\">\n",
       "  <thead>\n",
       "    <tr style=\"text-align: right;\">\n",
       "      <th></th>\n",
       "      <th>id</th>\n",
       "      <th>amount_tsh</th>\n",
       "      <th>gps_height</th>\n",
       "      <th>longitude</th>\n",
       "      <th>latitude</th>\n",
       "      <th>region_code</th>\n",
       "      <th>district_code</th>\n",
       "      <th>population</th>\n",
       "      <th>construction_year</th>\n",
       "      <th>Interped_pop</th>\n",
       "      <th>basin_encoded</th>\n",
       "      <th>region_encoded</th>\n",
       "      <th>lga_encoded</th>\n",
       "      <th>public_meeting_encoded</th>\n",
       "      <th>scheme_management_encoded</th>\n",
       "      <th>permit_encoded</th>\n",
       "      <th>extraction_type_encoded</th>\n",
       "      <th>extraction_type_group_encoded</th>\n",
       "      <th>extraction_type_class_encoded</th>\n",
       "      <th>management_encoded</th>\n",
       "      <th>management_group_encoded</th>\n",
       "      <th>payment_encoded</th>\n",
       "      <th>payment_type_encoded</th>\n",
       "      <th>water_quality_encoded</th>\n",
       "      <th>quality_group_encoded</th>\n",
       "      <th>quantity_encoded</th>\n",
       "      <th>quantity_group_encoded</th>\n",
       "      <th>source_encoded</th>\n",
       "      <th>source_type_encoded</th>\n",
       "      <th>source_class_encoded</th>\n",
       "      <th>waterpoint_type_encoded</th>\n",
       "      <th>waterpoint_type_group_encoded</th>\n",
       "    </tr>\n",
       "  </thead>\n",
       "  <tbody>\n",
       "    <tr>\n",
       "      <th>0</th>\n",
       "      <td>69572.0</td>\n",
       "      <td>6000.000000</td>\n",
       "      <td>1390.0</td>\n",
       "      <td>34.938093</td>\n",
       "      <td>-9.856322</td>\n",
       "      <td>11.0</td>\n",
       "      <td>5.0</td>\n",
       "      <td>109.000000</td>\n",
       "      <td>1999.0</td>\n",
       "      <td>0.0</td>\n",
       "      <td>1</td>\n",
       "      <td>16</td>\n",
       "      <td>64</td>\n",
       "      <td>1</td>\n",
       "      <td>8</td>\n",
       "      <td>0</td>\n",
       "      <td>3</td>\n",
       "      <td>1</td>\n",
       "      <td>0</td>\n",
       "      <td>7</td>\n",
       "      <td>4</td>\n",
       "      <td>2</td>\n",
       "      <td>0</td>\n",
       "      <td>6</td>\n",
       "      <td>2</td>\n",
       "      <td>1</td>\n",
       "      <td>1</td>\n",
       "      <td>8</td>\n",
       "      <td>6</td>\n",
       "      <td>0</td>\n",
       "      <td>1</td>\n",
       "      <td>1</td>\n",
       "    </tr>\n",
       "    <tr>\n",
       "      <th>1</th>\n",
       "      <td>8776.0</td>\n",
       "      <td>542.857143</td>\n",
       "      <td>1399.0</td>\n",
       "      <td>34.698766</td>\n",
       "      <td>-2.147466</td>\n",
       "      <td>20.0</td>\n",
       "      <td>2.0</td>\n",
       "      <td>280.000000</td>\n",
       "      <td>2010.0</td>\n",
       "      <td>0.0</td>\n",
       "      <td>4</td>\n",
       "      <td>11</td>\n",
       "      <td>124</td>\n",
       "      <td>2</td>\n",
       "      <td>2</td>\n",
       "      <td>1</td>\n",
       "      <td>3</td>\n",
       "      <td>1</td>\n",
       "      <td>0</td>\n",
       "      <td>11</td>\n",
       "      <td>4</td>\n",
       "      <td>0</td>\n",
       "      <td>2</td>\n",
       "      <td>6</td>\n",
       "      <td>2</td>\n",
       "      <td>2</td>\n",
       "      <td>2</td>\n",
       "      <td>5</td>\n",
       "      <td>3</td>\n",
       "      <td>1</td>\n",
       "      <td>1</td>\n",
       "      <td>1</td>\n",
       "    </tr>\n",
       "    <tr>\n",
       "      <th>2</th>\n",
       "      <td>34310.0</td>\n",
       "      <td>25.000000</td>\n",
       "      <td>686.0</td>\n",
       "      <td>37.460664</td>\n",
       "      <td>-3.821329</td>\n",
       "      <td>21.0</td>\n",
       "      <td>4.0</td>\n",
       "      <td>250.000000</td>\n",
       "      <td>2009.0</td>\n",
       "      <td>0.0</td>\n",
       "      <td>5</td>\n",
       "      <td>10</td>\n",
       "      <td>129</td>\n",
       "      <td>1</td>\n",
       "      <td>8</td>\n",
       "      <td>1</td>\n",
       "      <td>3</td>\n",
       "      <td>1</td>\n",
       "      <td>0</td>\n",
       "      <td>7</td>\n",
       "      <td>4</td>\n",
       "      <td>4</td>\n",
       "      <td>5</td>\n",
       "      <td>6</td>\n",
       "      <td>2</td>\n",
       "      <td>1</td>\n",
       "      <td>1</td>\n",
       "      <td>0</td>\n",
       "      <td>1</td>\n",
       "      <td>1</td>\n",
       "      <td>2</td>\n",
       "      <td>1</td>\n",
       "    </tr>\n",
       "    <tr>\n",
       "      <th>3</th>\n",
       "      <td>67743.0</td>\n",
       "      <td>525.000000</td>\n",
       "      <td>263.0</td>\n",
       "      <td>38.486161</td>\n",
       "      <td>-11.155298</td>\n",
       "      <td>90.0</td>\n",
       "      <td>63.0</td>\n",
       "      <td>58.000000</td>\n",
       "      <td>1986.0</td>\n",
       "      <td>0.0</td>\n",
       "      <td>7</td>\n",
       "      <td>14</td>\n",
       "      <td>105</td>\n",
       "      <td>1</td>\n",
       "      <td>8</td>\n",
       "      <td>1</td>\n",
       "      <td>14</td>\n",
       "      <td>10</td>\n",
       "      <td>5</td>\n",
       "      <td>7</td>\n",
       "      <td>4</td>\n",
       "      <td>0</td>\n",
       "      <td>2</td>\n",
       "      <td>6</td>\n",
       "      <td>2</td>\n",
       "      <td>0</td>\n",
       "      <td>0</td>\n",
       "      <td>3</td>\n",
       "      <td>0</td>\n",
       "      <td>0</td>\n",
       "      <td>2</td>\n",
       "      <td>1</td>\n",
       "    </tr>\n",
       "    <tr>\n",
       "      <th>4</th>\n",
       "      <td>19728.0</td>\n",
       "      <td>0.000000</td>\n",
       "      <td>0.0</td>\n",
       "      <td>31.130847</td>\n",
       "      <td>-1.825359</td>\n",
       "      <td>18.0</td>\n",
       "      <td>1.0</td>\n",
       "      <td>984.846154</td>\n",
       "      <td>1996.0</td>\n",
       "      <td>1.0</td>\n",
       "      <td>4</td>\n",
       "      <td>5</td>\n",
       "      <td>37</td>\n",
       "      <td>1</td>\n",
       "      <td>7</td>\n",
       "      <td>1</td>\n",
       "      <td>3</td>\n",
       "      <td>1</td>\n",
       "      <td>0</td>\n",
       "      <td>1</td>\n",
       "      <td>1</td>\n",
       "      <td>0</td>\n",
       "      <td>2</td>\n",
       "      <td>6</td>\n",
       "      <td>2</td>\n",
       "      <td>3</td>\n",
       "      <td>3</td>\n",
       "      <td>5</td>\n",
       "      <td>3</td>\n",
       "      <td>1</td>\n",
       "      <td>1</td>\n",
       "      <td>1</td>\n",
       "    </tr>\n",
       "  </tbody>\n",
       "</table>\n",
       "</div>"
      ],
      "text/plain": [
       "        id   amount_tsh  gps_height  longitude   latitude  region_code  \\\n",
       "0  69572.0  6000.000000      1390.0  34.938093  -9.856322         11.0   \n",
       "1   8776.0   542.857143      1399.0  34.698766  -2.147466         20.0   \n",
       "2  34310.0    25.000000       686.0  37.460664  -3.821329         21.0   \n",
       "3  67743.0   525.000000       263.0  38.486161 -11.155298         90.0   \n",
       "4  19728.0     0.000000         0.0  31.130847  -1.825359         18.0   \n",
       "\n",
       "   district_code  population  construction_year  Interped_pop  basin_encoded  \\\n",
       "0            5.0  109.000000             1999.0           0.0              1   \n",
       "1            2.0  280.000000             2010.0           0.0              4   \n",
       "2            4.0  250.000000             2009.0           0.0              5   \n",
       "3           63.0   58.000000             1986.0           0.0              7   \n",
       "4            1.0  984.846154             1996.0           1.0              4   \n",
       "\n",
       "   region_encoded  lga_encoded  public_meeting_encoded  \\\n",
       "0              16           64                       1   \n",
       "1              11          124                       2   \n",
       "2              10          129                       1   \n",
       "3              14          105                       1   \n",
       "4               5           37                       1   \n",
       "\n",
       "   scheme_management_encoded  permit_encoded  extraction_type_encoded  \\\n",
       "0                          8               0                        3   \n",
       "1                          2               1                        3   \n",
       "2                          8               1                        3   \n",
       "3                          8               1                       14   \n",
       "4                          7               1                        3   \n",
       "\n",
       "   extraction_type_group_encoded  extraction_type_class_encoded  \\\n",
       "0                              1                              0   \n",
       "1                              1                              0   \n",
       "2                              1                              0   \n",
       "3                             10                              5   \n",
       "4                              1                              0   \n",
       "\n",
       "   management_encoded  management_group_encoded  payment_encoded  \\\n",
       "0                   7                         4                2   \n",
       "1                  11                         4                0   \n",
       "2                   7                         4                4   \n",
       "3                   7                         4                0   \n",
       "4                   1                         1                0   \n",
       "\n",
       "   payment_type_encoded  water_quality_encoded  quality_group_encoded  \\\n",
       "0                     0                      6                      2   \n",
       "1                     2                      6                      2   \n",
       "2                     5                      6                      2   \n",
       "3                     2                      6                      2   \n",
       "4                     2                      6                      2   \n",
       "\n",
       "   quantity_encoded  quantity_group_encoded  source_encoded  \\\n",
       "0                 1                       1               8   \n",
       "1                 2                       2               5   \n",
       "2                 1                       1               0   \n",
       "3                 0                       0               3   \n",
       "4                 3                       3               5   \n",
       "\n",
       "   source_type_encoded  source_class_encoded  waterpoint_type_encoded  \\\n",
       "0                    6                     0                        1   \n",
       "1                    3                     1                        1   \n",
       "2                    1                     1                        2   \n",
       "3                    0                     0                        2   \n",
       "4                    3                     1                        1   \n",
       "\n",
       "   waterpoint_type_group_encoded  \n",
       "0                              1  \n",
       "1                              1  \n",
       "2                              1  \n",
       "3                              1  \n",
       "4                              1  "
      ]
     },
     "execution_count": 13,
     "metadata": {},
     "output_type": "execute_result"
    }
   ],
   "source": [
    "X_train.head()"
   ]
  },
  {
   "cell_type": "code",
   "execution_count": 14,
   "metadata": {},
   "outputs": [
    {
     "data": {
      "text/html": [
       "<div>\n",
       "<style scoped>\n",
       "    .dataframe tbody tr th:only-of-type {\n",
       "        vertical-align: middle;\n",
       "    }\n",
       "\n",
       "    .dataframe tbody tr th {\n",
       "        vertical-align: top;\n",
       "    }\n",
       "\n",
       "    .dataframe thead th {\n",
       "        text-align: right;\n",
       "    }\n",
       "</style>\n",
       "<table border=\"1\" class=\"dataframe\">\n",
       "  <thead>\n",
       "    <tr style=\"text-align: right;\">\n",
       "      <th></th>\n",
       "      <th>id</th>\n",
       "      <th>amount_tsh</th>\n",
       "      <th>gps_height</th>\n",
       "      <th>longitude</th>\n",
       "      <th>latitude</th>\n",
       "      <th>region_code</th>\n",
       "      <th>district_code</th>\n",
       "      <th>population</th>\n",
       "      <th>construction_year</th>\n",
       "      <th>Interped_pop</th>\n",
       "      <th>basin_encoded</th>\n",
       "      <th>region_encoded</th>\n",
       "      <th>lga_encoded</th>\n",
       "      <th>public_meeting_encoded</th>\n",
       "      <th>scheme_management_encoded</th>\n",
       "      <th>permit_encoded</th>\n",
       "      <th>extraction_type_encoded</th>\n",
       "      <th>extraction_type_group_encoded</th>\n",
       "      <th>extraction_type_class_encoded</th>\n",
       "      <th>management_encoded</th>\n",
       "      <th>management_group_encoded</th>\n",
       "      <th>payment_encoded</th>\n",
       "      <th>payment_type_encoded</th>\n",
       "      <th>water_quality_encoded</th>\n",
       "      <th>quality_group_encoded</th>\n",
       "      <th>quantity_encoded</th>\n",
       "      <th>quantity_group_encoded</th>\n",
       "      <th>source_encoded</th>\n",
       "      <th>source_type_encoded</th>\n",
       "      <th>source_class_encoded</th>\n",
       "      <th>waterpoint_type_encoded</th>\n",
       "      <th>waterpoint_type_group_encoded</th>\n",
       "    </tr>\n",
       "  </thead>\n",
       "  <tbody>\n",
       "    <tr>\n",
       "      <th>count</th>\n",
       "      <td>59400.000000</td>\n",
       "      <td>59400.000000</td>\n",
       "      <td>59400.000000</td>\n",
       "      <td>59400.000000</td>\n",
       "      <td>59400.000000</td>\n",
       "      <td>59400.000000</td>\n",
       "      <td>59400.000000</td>\n",
       "      <td>59400.000000</td>\n",
       "      <td>59400.000000</td>\n",
       "      <td>59400.000000</td>\n",
       "      <td>59400.000000</td>\n",
       "      <td>59400.000000</td>\n",
       "      <td>59400.000000</td>\n",
       "      <td>59400.000000</td>\n",
       "      <td>59400.000000</td>\n",
       "      <td>59400.00000</td>\n",
       "      <td>59400.000000</td>\n",
       "      <td>59400.000000</td>\n",
       "      <td>59400.000000</td>\n",
       "      <td>59400.000000</td>\n",
       "      <td>59400.000000</td>\n",
       "      <td>59400.000000</td>\n",
       "      <td>59400.000000</td>\n",
       "      <td>59400.000000</td>\n",
       "      <td>59400.000000</td>\n",
       "      <td>59400.000000</td>\n",
       "      <td>59400.000000</td>\n",
       "      <td>59400.000000</td>\n",
       "      <td>59400.000000</td>\n",
       "      <td>59400.000000</td>\n",
       "      <td>59400.000000</td>\n",
       "      <td>59400.000000</td>\n",
       "    </tr>\n",
       "    <tr>\n",
       "      <th>mean</th>\n",
       "      <td>37115.131768</td>\n",
       "      <td>809.849232</td>\n",
       "      <td>668.297239</td>\n",
       "      <td>35.096379</td>\n",
       "      <td>-5.802882</td>\n",
       "      <td>15.297003</td>\n",
       "      <td>5.629747</td>\n",
       "      <td>394.740563</td>\n",
       "      <td>1996.654581</td>\n",
       "      <td>0.359949</td>\n",
       "      <td>4.077172</td>\n",
       "      <td>12.325993</td>\n",
       "      <td>73.360000</td>\n",
       "      <td>0.971027</td>\n",
       "      <td>8.068956</td>\n",
       "      <td>0.75697</td>\n",
       "      <td>6.331279</td>\n",
       "      <td>3.936549</td>\n",
       "      <td>1.264663</td>\n",
       "      <td>7.275741</td>\n",
       "      <td>3.638418</td>\n",
       "      <td>2.318013</td>\n",
       "      <td>2.842104</td>\n",
       "      <td>5.754293</td>\n",
       "      <td>2.263047</td>\n",
       "      <td>1.325758</td>\n",
       "      <td>1.325758</td>\n",
       "      <td>6.063199</td>\n",
       "      <td>3.970556</td>\n",
       "      <td>0.233737</td>\n",
       "      <td>2.574091</td>\n",
       "      <td>2.056212</td>\n",
       "    </tr>\n",
       "    <tr>\n",
       "      <th>std</th>\n",
       "      <td>21453.128371</td>\n",
       "      <td>4217.185108</td>\n",
       "      <td>693.116350</td>\n",
       "      <td>2.589802</td>\n",
       "      <td>2.805738</td>\n",
       "      <td>17.587406</td>\n",
       "      <td>9.633649</td>\n",
       "      <td>755.170414</td>\n",
       "      <td>10.135374</td>\n",
       "      <td>0.479989</td>\n",
       "      <td>2.473082</td>\n",
       "      <td>6.894390</td>\n",
       "      <td>42.449854</td>\n",
       "      <td>0.374689</td>\n",
       "      <td>2.084833</td>\n",
       "      <td>0.53560</td>\n",
       "      <td>4.213948</td>\n",
       "      <td>3.527073</td>\n",
       "      <td>1.626676</td>\n",
       "      <td>2.045373</td>\n",
       "      <td>1.058579</td>\n",
       "      <td>2.271259</td>\n",
       "      <td>1.836111</td>\n",
       "      <td>0.900820</td>\n",
       "      <td>0.784268</td>\n",
       "      <td>0.803750</td>\n",
       "      <td>0.803750</td>\n",
       "      <td>2.034190</td>\n",
       "      <td>2.191798</td>\n",
       "      <td>0.434129</td>\n",
       "      <td>1.781438</td>\n",
       "      <td>1.378937</td>\n",
       "    </tr>\n",
       "    <tr>\n",
       "      <th>min</th>\n",
       "      <td>0.000000</td>\n",
       "      <td>0.000000</td>\n",
       "      <td>-90.000000</td>\n",
       "      <td>29.607122</td>\n",
       "      <td>-11.649440</td>\n",
       "      <td>1.000000</td>\n",
       "      <td>0.000000</td>\n",
       "      <td>1.000000</td>\n",
       "      <td>1960.000000</td>\n",
       "      <td>0.000000</td>\n",
       "      <td>0.000000</td>\n",
       "      <td>0.000000</td>\n",
       "      <td>0.000000</td>\n",
       "      <td>0.000000</td>\n",
       "      <td>0.000000</td>\n",
       "      <td>0.00000</td>\n",
       "      <td>0.000000</td>\n",
       "      <td>0.000000</td>\n",
       "      <td>0.000000</td>\n",
       "      <td>0.000000</td>\n",
       "      <td>0.000000</td>\n",
       "      <td>0.000000</td>\n",
       "      <td>0.000000</td>\n",
       "      <td>0.000000</td>\n",
       "      <td>0.000000</td>\n",
       "      <td>0.000000</td>\n",
       "      <td>0.000000</td>\n",
       "      <td>0.000000</td>\n",
       "      <td>0.000000</td>\n",
       "      <td>0.000000</td>\n",
       "      <td>0.000000</td>\n",
       "      <td>0.000000</td>\n",
       "    </tr>\n",
       "    <tr>\n",
       "      <th>25%</th>\n",
       "      <td>18519.750000</td>\n",
       "      <td>0.000000</td>\n",
       "      <td>0.000000</td>\n",
       "      <td>33.272160</td>\n",
       "      <td>-8.540621</td>\n",
       "      <td>5.000000</td>\n",
       "      <td>2.000000</td>\n",
       "      <td>89.000000</td>\n",
       "      <td>1995.000000</td>\n",
       "      <td>0.000000</td>\n",
       "      <td>2.000000</td>\n",
       "      <td>7.000000</td>\n",
       "      <td>38.000000</td>\n",
       "      <td>1.000000</td>\n",
       "      <td>8.000000</td>\n",
       "      <td>0.00000</td>\n",
       "      <td>3.000000</td>\n",
       "      <td>1.000000</td>\n",
       "      <td>0.000000</td>\n",
       "      <td>7.000000</td>\n",
       "      <td>4.000000</td>\n",
       "      <td>0.000000</td>\n",
       "      <td>2.000000</td>\n",
       "      <td>6.000000</td>\n",
       "      <td>2.000000</td>\n",
       "      <td>1.000000</td>\n",
       "      <td>1.000000</td>\n",
       "      <td>5.000000</td>\n",
       "      <td>3.000000</td>\n",
       "      <td>0.000000</td>\n",
       "      <td>1.000000</td>\n",
       "      <td>1.000000</td>\n",
       "    </tr>\n",
       "    <tr>\n",
       "      <th>50%</th>\n",
       "      <td>37061.500000</td>\n",
       "      <td>50.000000</td>\n",
       "      <td>369.000000</td>\n",
       "      <td>34.908743</td>\n",
       "      <td>-5.021597</td>\n",
       "      <td>12.000000</td>\n",
       "      <td>3.000000</td>\n",
       "      <td>242.739726</td>\n",
       "      <td>1996.000000</td>\n",
       "      <td>0.000000</td>\n",
       "      <td>4.000000</td>\n",
       "      <td>12.000000</td>\n",
       "      <td>73.000000</td>\n",
       "      <td>1.000000</td>\n",
       "      <td>8.000000</td>\n",
       "      <td>1.00000</td>\n",
       "      <td>4.000000</td>\n",
       "      <td>2.000000</td>\n",
       "      <td>1.000000</td>\n",
       "      <td>7.000000</td>\n",
       "      <td>4.000000</td>\n",
       "      <td>2.000000</td>\n",
       "      <td>2.000000</td>\n",
       "      <td>6.000000</td>\n",
       "      <td>2.000000</td>\n",
       "      <td>1.000000</td>\n",
       "      <td>1.000000</td>\n",
       "      <td>7.000000</td>\n",
       "      <td>5.000000</td>\n",
       "      <td>0.000000</td>\n",
       "      <td>2.000000</td>\n",
       "      <td>1.000000</td>\n",
       "    </tr>\n",
       "    <tr>\n",
       "      <th>75%</th>\n",
       "      <td>55656.500000</td>\n",
       "      <td>535.294118</td>\n",
       "      <td>1319.250000</td>\n",
       "      <td>37.178387</td>\n",
       "      <td>-3.326156</td>\n",
       "      <td>17.000000</td>\n",
       "      <td>5.000000</td>\n",
       "      <td>461.500000</td>\n",
       "      <td>2004.000000</td>\n",
       "      <td>1.000000</td>\n",
       "      <td>6.000000</td>\n",
       "      <td>18.000000</td>\n",
       "      <td>110.000000</td>\n",
       "      <td>1.000000</td>\n",
       "      <td>8.000000</td>\n",
       "      <td>1.00000</td>\n",
       "      <td>9.000000</td>\n",
       "      <td>6.000000</td>\n",
       "      <td>2.000000</td>\n",
       "      <td>7.000000</td>\n",
       "      <td>4.000000</td>\n",
       "      <td>4.000000</td>\n",
       "      <td>5.000000</td>\n",
       "      <td>6.000000</td>\n",
       "      <td>2.000000</td>\n",
       "      <td>2.000000</td>\n",
       "      <td>2.000000</td>\n",
       "      <td>8.000000</td>\n",
       "      <td>6.000000</td>\n",
       "      <td>0.000000</td>\n",
       "      <td>4.000000</td>\n",
       "      <td>3.000000</td>\n",
       "    </tr>\n",
       "    <tr>\n",
       "      <th>max</th>\n",
       "      <td>74247.000000</td>\n",
       "      <td>350000.000000</td>\n",
       "      <td>2770.000000</td>\n",
       "      <td>40.345193</td>\n",
       "      <td>-0.998464</td>\n",
       "      <td>99.000000</td>\n",
       "      <td>80.000000</td>\n",
       "      <td>56596.000000</td>\n",
       "      <td>2013.000000</td>\n",
       "      <td>1.000000</td>\n",
       "      <td>8.000000</td>\n",
       "      <td>24.000000</td>\n",
       "      <td>147.000000</td>\n",
       "      <td>2.000000</td>\n",
       "      <td>12.000000</td>\n",
       "      <td>2.00000</td>\n",
       "      <td>17.000000</td>\n",
       "      <td>12.000000</td>\n",
       "      <td>6.000000</td>\n",
       "      <td>11.000000</td>\n",
       "      <td>4.000000</td>\n",
       "      <td>6.000000</td>\n",
       "      <td>6.000000</td>\n",
       "      <td>7.000000</td>\n",
       "      <td>5.000000</td>\n",
       "      <td>4.000000</td>\n",
       "      <td>4.000000</td>\n",
       "      <td>9.000000</td>\n",
       "      <td>6.000000</td>\n",
       "      <td>2.000000</td>\n",
       "      <td>6.000000</td>\n",
       "      <td>5.000000</td>\n",
       "    </tr>\n",
       "  </tbody>\n",
       "</table>\n",
       "</div>"
      ],
      "text/plain": [
       "                 id     amount_tsh    gps_height     longitude      latitude  \\\n",
       "count  59400.000000   59400.000000  59400.000000  59400.000000  59400.000000   \n",
       "mean   37115.131768     809.849232    668.297239     35.096379     -5.802882   \n",
       "std    21453.128371    4217.185108    693.116350      2.589802      2.805738   \n",
       "min        0.000000       0.000000    -90.000000     29.607122    -11.649440   \n",
       "25%    18519.750000       0.000000      0.000000     33.272160     -8.540621   \n",
       "50%    37061.500000      50.000000    369.000000     34.908743     -5.021597   \n",
       "75%    55656.500000     535.294118   1319.250000     37.178387     -3.326156   \n",
       "max    74247.000000  350000.000000   2770.000000     40.345193     -0.998464   \n",
       "\n",
       "        region_code  district_code    population  construction_year  \\\n",
       "count  59400.000000   59400.000000  59400.000000       59400.000000   \n",
       "mean      15.297003       5.629747    394.740563        1996.654581   \n",
       "std       17.587406       9.633649    755.170414          10.135374   \n",
       "min        1.000000       0.000000      1.000000        1960.000000   \n",
       "25%        5.000000       2.000000     89.000000        1995.000000   \n",
       "50%       12.000000       3.000000    242.739726        1996.000000   \n",
       "75%       17.000000       5.000000    461.500000        2004.000000   \n",
       "max       99.000000      80.000000  56596.000000        2013.000000   \n",
       "\n",
       "       Interped_pop  basin_encoded  region_encoded   lga_encoded  \\\n",
       "count  59400.000000   59400.000000    59400.000000  59400.000000   \n",
       "mean       0.359949       4.077172       12.325993     73.360000   \n",
       "std        0.479989       2.473082        6.894390     42.449854   \n",
       "min        0.000000       0.000000        0.000000      0.000000   \n",
       "25%        0.000000       2.000000        7.000000     38.000000   \n",
       "50%        0.000000       4.000000       12.000000     73.000000   \n",
       "75%        1.000000       6.000000       18.000000    110.000000   \n",
       "max        1.000000       8.000000       24.000000    147.000000   \n",
       "\n",
       "       public_meeting_encoded  scheme_management_encoded  permit_encoded  \\\n",
       "count            59400.000000               59400.000000     59400.00000   \n",
       "mean                 0.971027                   8.068956         0.75697   \n",
       "std                  0.374689                   2.084833         0.53560   \n",
       "min                  0.000000                   0.000000         0.00000   \n",
       "25%                  1.000000                   8.000000         0.00000   \n",
       "50%                  1.000000                   8.000000         1.00000   \n",
       "75%                  1.000000                   8.000000         1.00000   \n",
       "max                  2.000000                  12.000000         2.00000   \n",
       "\n",
       "       extraction_type_encoded  extraction_type_group_encoded  \\\n",
       "count             59400.000000                   59400.000000   \n",
       "mean                  6.331279                       3.936549   \n",
       "std                   4.213948                       3.527073   \n",
       "min                   0.000000                       0.000000   \n",
       "25%                   3.000000                       1.000000   \n",
       "50%                   4.000000                       2.000000   \n",
       "75%                   9.000000                       6.000000   \n",
       "max                  17.000000                      12.000000   \n",
       "\n",
       "       extraction_type_class_encoded  management_encoded  \\\n",
       "count                   59400.000000        59400.000000   \n",
       "mean                        1.264663            7.275741   \n",
       "std                         1.626676            2.045373   \n",
       "min                         0.000000            0.000000   \n",
       "25%                         0.000000            7.000000   \n",
       "50%                         1.000000            7.000000   \n",
       "75%                         2.000000            7.000000   \n",
       "max                         6.000000           11.000000   \n",
       "\n",
       "       management_group_encoded  payment_encoded  payment_type_encoded  \\\n",
       "count              59400.000000     59400.000000          59400.000000   \n",
       "mean                   3.638418         2.318013              2.842104   \n",
       "std                    1.058579         2.271259              1.836111   \n",
       "min                    0.000000         0.000000              0.000000   \n",
       "25%                    4.000000         0.000000              2.000000   \n",
       "50%                    4.000000         2.000000              2.000000   \n",
       "75%                    4.000000         4.000000              5.000000   \n",
       "max                    4.000000         6.000000              6.000000   \n",
       "\n",
       "       water_quality_encoded  quality_group_encoded  quantity_encoded  \\\n",
       "count           59400.000000           59400.000000      59400.000000   \n",
       "mean                5.754293               2.263047          1.325758   \n",
       "std                 0.900820               0.784268          0.803750   \n",
       "min                 0.000000               0.000000          0.000000   \n",
       "25%                 6.000000               2.000000          1.000000   \n",
       "50%                 6.000000               2.000000          1.000000   \n",
       "75%                 6.000000               2.000000          2.000000   \n",
       "max                 7.000000               5.000000          4.000000   \n",
       "\n",
       "       quantity_group_encoded  source_encoded  source_type_encoded  \\\n",
       "count            59400.000000    59400.000000         59400.000000   \n",
       "mean                 1.325758        6.063199             3.970556   \n",
       "std                  0.803750        2.034190             2.191798   \n",
       "min                  0.000000        0.000000             0.000000   \n",
       "25%                  1.000000        5.000000             3.000000   \n",
       "50%                  1.000000        7.000000             5.000000   \n",
       "75%                  2.000000        8.000000             6.000000   \n",
       "max                  4.000000        9.000000             6.000000   \n",
       "\n",
       "       source_class_encoded  waterpoint_type_encoded  \\\n",
       "count          59400.000000             59400.000000   \n",
       "mean               0.233737                 2.574091   \n",
       "std                0.434129                 1.781438   \n",
       "min                0.000000                 0.000000   \n",
       "25%                0.000000                 1.000000   \n",
       "50%                0.000000                 2.000000   \n",
       "75%                0.000000                 4.000000   \n",
       "max                2.000000                 6.000000   \n",
       "\n",
       "       waterpoint_type_group_encoded  \n",
       "count                   59400.000000  \n",
       "mean                        2.056212  \n",
       "std                         1.378937  \n",
       "min                         0.000000  \n",
       "25%                         1.000000  \n",
       "50%                         1.000000  \n",
       "75%                         3.000000  \n",
       "max                         5.000000  "
      ]
     },
     "execution_count": 14,
     "metadata": {},
     "output_type": "execute_result"
    }
   ],
   "source": [
    "X_train.describe()"
   ]
  },
  {
   "cell_type": "code",
   "execution_count": 15,
   "metadata": {},
   "outputs": [
    {
     "data": {
      "text/plain": [
       "True"
      ]
     },
     "execution_count": 15,
     "metadata": {},
     "output_type": "execute_result"
    }
   ],
   "source": [
    "X_train['quantity_encoded'].equals(X_train['quantity_group_encoded'])"
   ]
  },
  {
   "cell_type": "code",
   "execution_count": 16,
   "metadata": {},
   "outputs": [
    {
     "data": {
      "text/plain": [
       "False"
      ]
     },
     "execution_count": 16,
     "metadata": {},
     "output_type": "execute_result"
    }
   ],
   "source": [
    "X_train['payment_encoded'].equals(X_train['payment_type_encoded'])"
   ]
  },
  {
   "cell_type": "markdown",
   "metadata": {},
   "source": [
    "The two quantity features, `quantity_encoded` and `quantity_group_encoded` are perfectly equal. I'll drop the later, since it doesn't add any additional information to the estimates."
   ]
  },
  {
   "cell_type": "code",
   "execution_count": 17,
   "metadata": {},
   "outputs": [],
   "source": [
    "X_train.drop(axis = 1, columns = 'quantity_encoded', inplace = True)\n",
    "Final_test.drop(axis = 1, columns = 'quantity_encoded', inplace = True)"
   ]
  },
  {
   "cell_type": "markdown",
   "metadata": {},
   "source": [
    "### Data Manipulation"
   ]
  },
  {
   "cell_type": "markdown",
   "metadata": {},
   "source": [
    "#### PCA"
   ]
  },
  {
   "cell_type": "code",
   "execution_count": 211,
   "metadata": {},
   "outputs": [],
   "source": [
    "scaled_df = pd.read_csv(\"Data/Final/Train1.csv\")"
   ]
  },
  {
   "cell_type": "code",
   "execution_count": 212,
   "metadata": {},
   "outputs": [],
   "source": [
    "scaled_df.drop(axis = 1, columns = ['id','quantity', 'date_recorded', 'subvillage', 'wpt_name', 'ward', 'scheme_name'], inplace = True)"
   ]
  },
  {
   "cell_type": "code",
   "execution_count": 213,
   "metadata": {},
   "outputs": [],
   "source": [
    "SE = StandardScaler()"
   ]
  },
  {
   "cell_type": "code",
   "execution_count": 214,
   "metadata": {},
   "outputs": [],
   "source": [
    "scaled_df.iloc[:, [0, 1, 2, 3, 9, 13, ]] = SE.fit_transform(scaled_df.iloc[:, [0, 1, 2, 3, 9, 13, ]])"
   ]
  },
  {
   "cell_type": "code",
   "execution_count": 215,
   "metadata": {},
   "outputs": [],
   "source": [
    "scaled_df = pd.get_dummies(train_pca, drop_first=True)"
   ]
  },
  {
   "cell_type": "code",
   "execution_count": 216,
   "metadata": {
    "scrolled": true
   },
   "outputs": [
    {
     "data": {
      "text/html": [
       "<div>\n",
       "<style scoped>\n",
       "    .dataframe tbody tr th:only-of-type {\n",
       "        vertical-align: middle;\n",
       "    }\n",
       "\n",
       "    .dataframe tbody tr th {\n",
       "        vertical-align: top;\n",
       "    }\n",
       "\n",
       "    .dataframe thead th {\n",
       "        text-align: right;\n",
       "    }\n",
       "</style>\n",
       "<table border=\"1\" class=\"dataframe\">\n",
       "  <thead>\n",
       "    <tr style=\"text-align: right;\">\n",
       "      <th></th>\n",
       "      <th>amount_tsh</th>\n",
       "      <th>gps_height</th>\n",
       "      <th>longitude</th>\n",
       "      <th>latitude</th>\n",
       "      <th>region_code</th>\n",
       "      <th>district_code</th>\n",
       "      <th>population</th>\n",
       "      <th>construction_year</th>\n",
       "      <th>Interped_pop</th>\n",
       "      <th>basin_Lake Nyasa</th>\n",
       "      <th>basin_Lake Rukwa</th>\n",
       "      <th>basin_Lake Tanganyika</th>\n",
       "      <th>basin_Lake Victoria</th>\n",
       "      <th>basin_Pangani</th>\n",
       "      <th>basin_Rufiji</th>\n",
       "      <th>basin_Ruvuma / Southern Coast</th>\n",
       "      <th>basin_Wami / Ruvu</th>\n",
       "      <th>region_Dar es Salaam</th>\n",
       "      <th>region_Dodoma</th>\n",
       "      <th>region_Geita</th>\n",
       "      <th>...</th>\n",
       "      <th>source_unknown</th>\n",
       "      <th>source_type_dam</th>\n",
       "      <th>source_type_other</th>\n",
       "      <th>source_type_rainwater harvesting</th>\n",
       "      <th>source_type_river/lake</th>\n",
       "      <th>source_type_shallow well</th>\n",
       "      <th>source_type_spring</th>\n",
       "      <th>source_class_surface</th>\n",
       "      <th>source_class_unknown</th>\n",
       "      <th>waterpoint_type_communal standpipe</th>\n",
       "      <th>waterpoint_type_communal standpipe multiple</th>\n",
       "      <th>waterpoint_type_dam</th>\n",
       "      <th>waterpoint_type_hand pump</th>\n",
       "      <th>waterpoint_type_improved spring</th>\n",
       "      <th>waterpoint_type_other</th>\n",
       "      <th>waterpoint_type_group_communal standpipe</th>\n",
       "      <th>waterpoint_type_group_dam</th>\n",
       "      <th>waterpoint_type_group_hand pump</th>\n",
       "      <th>waterpoint_type_group_improved spring</th>\n",
       "      <th>waterpoint_type_group_other</th>\n",
       "    </tr>\n",
       "  </thead>\n",
       "  <tbody>\n",
       "    <tr>\n",
       "      <th>0</th>\n",
       "      <td>1.230725</td>\n",
       "      <td>1.041252</td>\n",
       "      <td>-0.061120</td>\n",
       "      <td>-1.444709</td>\n",
       "      <td>11.0</td>\n",
       "      <td>5.0</td>\n",
       "      <td>-0.378382</td>\n",
       "      <td>0.231411</td>\n",
       "      <td>0.0</td>\n",
       "      <td>1</td>\n",
       "      <td>0</td>\n",
       "      <td>0</td>\n",
       "      <td>0</td>\n",
       "      <td>0</td>\n",
       "      <td>0</td>\n",
       "      <td>0</td>\n",
       "      <td>0</td>\n",
       "      <td>0</td>\n",
       "      <td>0</td>\n",
       "      <td>0</td>\n",
       "      <td>...</td>\n",
       "      <td>0</td>\n",
       "      <td>0</td>\n",
       "      <td>0</td>\n",
       "      <td>0</td>\n",
       "      <td>0</td>\n",
       "      <td>0</td>\n",
       "      <td>1</td>\n",
       "      <td>0</td>\n",
       "      <td>0</td>\n",
       "      <td>1</td>\n",
       "      <td>0</td>\n",
       "      <td>0</td>\n",
       "      <td>0</td>\n",
       "      <td>0</td>\n",
       "      <td>0</td>\n",
       "      <td>1</td>\n",
       "      <td>0</td>\n",
       "      <td>0</td>\n",
       "      <td>0</td>\n",
       "      <td>0</td>\n",
       "    </tr>\n",
       "    <tr>\n",
       "      <th>1</th>\n",
       "      <td>-0.063311</td>\n",
       "      <td>1.054237</td>\n",
       "      <td>-0.153532</td>\n",
       "      <td>1.302847</td>\n",
       "      <td>20.0</td>\n",
       "      <td>2.0</td>\n",
       "      <td>-0.151941</td>\n",
       "      <td>1.316728</td>\n",
       "      <td>0.0</td>\n",
       "      <td>0</td>\n",
       "      <td>0</td>\n",
       "      <td>0</td>\n",
       "      <td>1</td>\n",
       "      <td>0</td>\n",
       "      <td>0</td>\n",
       "      <td>0</td>\n",
       "      <td>0</td>\n",
       "      <td>0</td>\n",
       "      <td>0</td>\n",
       "      <td>0</td>\n",
       "      <td>...</td>\n",
       "      <td>0</td>\n",
       "      <td>0</td>\n",
       "      <td>0</td>\n",
       "      <td>1</td>\n",
       "      <td>0</td>\n",
       "      <td>0</td>\n",
       "      <td>0</td>\n",
       "      <td>1</td>\n",
       "      <td>0</td>\n",
       "      <td>1</td>\n",
       "      <td>0</td>\n",
       "      <td>0</td>\n",
       "      <td>0</td>\n",
       "      <td>0</td>\n",
       "      <td>0</td>\n",
       "      <td>1</td>\n",
       "      <td>0</td>\n",
       "      <td>0</td>\n",
       "      <td>0</td>\n",
       "      <td>0</td>\n",
       "    </tr>\n",
       "    <tr>\n",
       "      <th>2</th>\n",
       "      <td>-0.186109</td>\n",
       "      <td>0.025541</td>\n",
       "      <td>0.912929</td>\n",
       "      <td>0.706256</td>\n",
       "      <td>21.0</td>\n",
       "      <td>4.0</td>\n",
       "      <td>-0.191668</td>\n",
       "      <td>1.218063</td>\n",
       "      <td>0.0</td>\n",
       "      <td>0</td>\n",
       "      <td>0</td>\n",
       "      <td>0</td>\n",
       "      <td>0</td>\n",
       "      <td>1</td>\n",
       "      <td>0</td>\n",
       "      <td>0</td>\n",
       "      <td>0</td>\n",
       "      <td>0</td>\n",
       "      <td>0</td>\n",
       "      <td>0</td>\n",
       "      <td>...</td>\n",
       "      <td>0</td>\n",
       "      <td>1</td>\n",
       "      <td>0</td>\n",
       "      <td>0</td>\n",
       "      <td>0</td>\n",
       "      <td>0</td>\n",
       "      <td>0</td>\n",
       "      <td>1</td>\n",
       "      <td>0</td>\n",
       "      <td>0</td>\n",
       "      <td>1</td>\n",
       "      <td>0</td>\n",
       "      <td>0</td>\n",
       "      <td>0</td>\n",
       "      <td>0</td>\n",
       "      <td>1</td>\n",
       "      <td>0</td>\n",
       "      <td>0</td>\n",
       "      <td>0</td>\n",
       "      <td>0</td>\n",
       "    </tr>\n",
       "    <tr>\n",
       "      <th>3</th>\n",
       "      <td>-0.067545</td>\n",
       "      <td>-0.584751</td>\n",
       "      <td>1.308907</td>\n",
       "      <td>-1.907684</td>\n",
       "      <td>90.0</td>\n",
       "      <td>63.0</td>\n",
       "      <td>-0.445917</td>\n",
       "      <td>-1.051236</td>\n",
       "      <td>0.0</td>\n",
       "      <td>0</td>\n",
       "      <td>0</td>\n",
       "      <td>0</td>\n",
       "      <td>0</td>\n",
       "      <td>0</td>\n",
       "      <td>0</td>\n",
       "      <td>1</td>\n",
       "      <td>0</td>\n",
       "      <td>0</td>\n",
       "      <td>0</td>\n",
       "      <td>0</td>\n",
       "      <td>...</td>\n",
       "      <td>0</td>\n",
       "      <td>0</td>\n",
       "      <td>0</td>\n",
       "      <td>0</td>\n",
       "      <td>0</td>\n",
       "      <td>0</td>\n",
       "      <td>0</td>\n",
       "      <td>0</td>\n",
       "      <td>0</td>\n",
       "      <td>0</td>\n",
       "      <td>1</td>\n",
       "      <td>0</td>\n",
       "      <td>0</td>\n",
       "      <td>0</td>\n",
       "      <td>0</td>\n",
       "      <td>1</td>\n",
       "      <td>0</td>\n",
       "      <td>0</td>\n",
       "      <td>0</td>\n",
       "      <td>0</td>\n",
       "    </tr>\n",
       "    <tr>\n",
       "      <th>4</th>\n",
       "      <td>-0.192037</td>\n",
       "      <td>-0.964200</td>\n",
       "      <td>-1.531223</td>\n",
       "      <td>1.417651</td>\n",
       "      <td>18.0</td>\n",
       "      <td>1.0</td>\n",
       "      <td>0.781427</td>\n",
       "      <td>-0.064584</td>\n",
       "      <td>1.0</td>\n",
       "      <td>0</td>\n",
       "      <td>0</td>\n",
       "      <td>0</td>\n",
       "      <td>1</td>\n",
       "      <td>0</td>\n",
       "      <td>0</td>\n",
       "      <td>0</td>\n",
       "      <td>0</td>\n",
       "      <td>0</td>\n",
       "      <td>0</td>\n",
       "      <td>0</td>\n",
       "      <td>...</td>\n",
       "      <td>0</td>\n",
       "      <td>0</td>\n",
       "      <td>0</td>\n",
       "      <td>1</td>\n",
       "      <td>0</td>\n",
       "      <td>0</td>\n",
       "      <td>0</td>\n",
       "      <td>1</td>\n",
       "      <td>0</td>\n",
       "      <td>1</td>\n",
       "      <td>0</td>\n",
       "      <td>0</td>\n",
       "      <td>0</td>\n",
       "      <td>0</td>\n",
       "      <td>0</td>\n",
       "      <td>1</td>\n",
       "      <td>0</td>\n",
       "      <td>0</td>\n",
       "      <td>0</td>\n",
       "      <td>0</td>\n",
       "    </tr>\n",
       "  </tbody>\n",
       "</table>\n",
       "<p>5 rows × 310 columns</p>\n",
       "</div>"
      ],
      "text/plain": [
       "   amount_tsh  gps_height  longitude  latitude  region_code  district_code  \\\n",
       "0    1.230725    1.041252  -0.061120 -1.444709         11.0            5.0   \n",
       "1   -0.063311    1.054237  -0.153532  1.302847         20.0            2.0   \n",
       "2   -0.186109    0.025541   0.912929  0.706256         21.0            4.0   \n",
       "3   -0.067545   -0.584751   1.308907 -1.907684         90.0           63.0   \n",
       "4   -0.192037   -0.964200  -1.531223  1.417651         18.0            1.0   \n",
       "\n",
       "   population  construction_year  Interped_pop  basin_Lake Nyasa  \\\n",
       "0   -0.378382           0.231411           0.0                 1   \n",
       "1   -0.151941           1.316728           0.0                 0   \n",
       "2   -0.191668           1.218063           0.0                 0   \n",
       "3   -0.445917          -1.051236           0.0                 0   \n",
       "4    0.781427          -0.064584           1.0                 0   \n",
       "\n",
       "   basin_Lake Rukwa  basin_Lake Tanganyika  basin_Lake Victoria  \\\n",
       "0                 0                      0                    0   \n",
       "1                 0                      0                    1   \n",
       "2                 0                      0                    0   \n",
       "3                 0                      0                    0   \n",
       "4                 0                      0                    1   \n",
       "\n",
       "   basin_Pangani  basin_Rufiji  basin_Ruvuma / Southern Coast  \\\n",
       "0              0             0                              0   \n",
       "1              0             0                              0   \n",
       "2              1             0                              0   \n",
       "3              0             0                              1   \n",
       "4              0             0                              0   \n",
       "\n",
       "   basin_Wami / Ruvu  region_Dar es Salaam  region_Dodoma  region_Geita  ...  \\\n",
       "0                  0                     0              0             0  ...   \n",
       "1                  0                     0              0             0  ...   \n",
       "2                  0                     0              0             0  ...   \n",
       "3                  0                     0              0             0  ...   \n",
       "4                  0                     0              0             0  ...   \n",
       "\n",
       "   source_unknown  source_type_dam  source_type_other  \\\n",
       "0               0                0                  0   \n",
       "1               0                0                  0   \n",
       "2               0                1                  0   \n",
       "3               0                0                  0   \n",
       "4               0                0                  0   \n",
       "\n",
       "   source_type_rainwater harvesting  source_type_river/lake  \\\n",
       "0                                 0                       0   \n",
       "1                                 1                       0   \n",
       "2                                 0                       0   \n",
       "3                                 0                       0   \n",
       "4                                 1                       0   \n",
       "\n",
       "   source_type_shallow well  source_type_spring  source_class_surface  \\\n",
       "0                         0                   1                     0   \n",
       "1                         0                   0                     1   \n",
       "2                         0                   0                     1   \n",
       "3                         0                   0                     0   \n",
       "4                         0                   0                     1   \n",
       "\n",
       "   source_class_unknown  waterpoint_type_communal standpipe  \\\n",
       "0                     0                                   1   \n",
       "1                     0                                   1   \n",
       "2                     0                                   0   \n",
       "3                     0                                   0   \n",
       "4                     0                                   1   \n",
       "\n",
       "   waterpoint_type_communal standpipe multiple  waterpoint_type_dam  \\\n",
       "0                                            0                    0   \n",
       "1                                            0                    0   \n",
       "2                                            1                    0   \n",
       "3                                            1                    0   \n",
       "4                                            0                    0   \n",
       "\n",
       "   waterpoint_type_hand pump  waterpoint_type_improved spring  \\\n",
       "0                          0                                0   \n",
       "1                          0                                0   \n",
       "2                          0                                0   \n",
       "3                          0                                0   \n",
       "4                          0                                0   \n",
       "\n",
       "   waterpoint_type_other  waterpoint_type_group_communal standpipe  \\\n",
       "0                      0                                         1   \n",
       "1                      0                                         1   \n",
       "2                      0                                         1   \n",
       "3                      0                                         1   \n",
       "4                      0                                         1   \n",
       "\n",
       "   waterpoint_type_group_dam  waterpoint_type_group_hand pump  \\\n",
       "0                          0                                0   \n",
       "1                          0                                0   \n",
       "2                          0                                0   \n",
       "3                          0                                0   \n",
       "4                          0                                0   \n",
       "\n",
       "   waterpoint_type_group_improved spring  waterpoint_type_group_other  \n",
       "0                                      0                            0  \n",
       "1                                      0                            0  \n",
       "2                                      0                            0  \n",
       "3                                      0                            0  \n",
       "4                                      0                            0  \n",
       "\n",
       "[5 rows x 310 columns]"
      ]
     },
     "execution_count": 216,
     "metadata": {},
     "output_type": "execute_result"
    }
   ],
   "source": [
    "scaled_df.head()"
   ]
  },
  {
   "cell_type": "code",
   "execution_count": 266,
   "metadata": {},
   "outputs": [],
   "source": [
    "pca = PCA(n_components = 3)"
   ]
  },
  {
   "cell_type": "code",
   "execution_count": 269,
   "metadata": {},
   "outputs": [],
   "source": [
    "components = pca.fit_transform(scaled_df)"
   ]
  },
  {
   "cell_type": "code",
   "execution_count": 279,
   "metadata": {},
   "outputs": [
    {
     "name": "stdout",
     "output_type": "stream",
     "text": [
      "96.28% of the variance is explained by the first three partial components\n"
     ]
    }
   ],
   "source": [
    "ex_var = round(pca.explained_variance_ratio_.sum(), 4)*100\n",
    "print(\"{}% of the variance is explained by the first three partial components\".format(ex_var))"
   ]
  },
  {
   "cell_type": "code",
   "execution_count": 270,
   "metadata": {},
   "outputs": [],
   "source": [
    "components_df = pd.DataFrame(data = components, columns = [\"PCA 1\", \"PCA 2\", \"PCA 3\"])"
   ]
  },
  {
   "cell_type": "code",
   "execution_count": 271,
   "metadata": {},
   "outputs": [],
   "source": [
    "components_df = pd.concat([components_df, y_train['status_group']], axis = 1)"
   ]
  },
  {
   "cell_type": "code",
   "execution_count": 272,
   "metadata": {},
   "outputs": [],
   "source": [
    "scaled_df = pd.concat([scaled_df, y_train['status_group']], axis = 1)"
   ]
  },
  {
   "cell_type": "code",
   "execution_count": 273,
   "metadata": {},
   "outputs": [],
   "source": [
    "predictors_pca = [x for x in compenents_df.columns if x not in ['status_group']]"
   ]
  },
  {
   "cell_type": "markdown",
   "metadata": {},
   "source": [
    "## Modeling"
   ]
  },
  {
   "cell_type": "code",
   "execution_count": 46,
   "metadata": {},
   "outputs": [],
   "source": [
    "#Splitting the training and testing data\n",
    "X_train_split, X_test_split, y_train_split, y_test_split = train_test_split(X_train.iloc[:, 1:], y_train.iloc[:, 1:], test_size = 0.2, random_state = 84)"
   ]
  },
  {
   "cell_type": "code",
   "execution_count": 19,
   "metadata": {},
   "outputs": [],
   "source": [
    "dtrain = X_train.iloc[:, 1:].copy()\n",
    "dtrain['status_group'] = y_train['status_group'].copy()\n",
    "predictors = [x for x in dtrain.columns if x not in ['status_group']]"
   ]
  },
  {
   "cell_type": "code",
   "execution_count": 202,
   "metadata": {},
   "outputs": [],
   "source": [
    "#Validation Function:\n",
    "#Adding random shuffle to cross validation folds\n",
    "\n",
    "def rand_shuf_cv(model, n_folds, train_values = X_train.values, y_train_values = y_train.values):\n",
    "    kfolds = KFold(n_folds, shuffle=True, random_state = 84)\n",
    "    acc = np.sqrt(-cross_val_score(model, train_values, y_train_values, scoring = \"accuracy\", cv = kfolds))\n",
    "    return(acc)"
   ]
  },
  {
   "cell_type": "code",
   "execution_count": 21,
   "metadata": {},
   "outputs": [],
   "source": [
    "def modelfit(alg, dtrain, predictors, target, preformCV = True, cv_folds = 5, objective = \"reg\", print_feat_imp = False):\n",
    "    \n",
    "    \"\"\"\n",
    "    A Model fitting algorithm for sklearn models. The default setup is for regression tasks, but it also supportes\n",
    "    functionality for classification as well. The objective is set to \"reg\" for the default regression, if you need\n",
    "    classification, use objective = \"class\". \n",
    "    Print_feat_imp is set to false by default, as it should only be run if the model has module .feature_importances.\n",
    "    \"\"\"\n",
    "    \n",
    "    #Fitting the algorithm on the data\n",
    "    alg.fit(dtrain[predictors], dtrain[target])\n",
    "    \n",
    "    #Predicting Training Set\n",
    "    dtrain_predictions = alg.predict(dtrain[predictors])   \n",
    "    if objective == \"class\":\n",
    "        dtrain_predprob = alg.predict_proba(dtrain[predictors])[:,1]\n",
    "    \n",
    "    #Preforming Cross Validation\n",
    "    if preformCV:\n",
    "        from sklearn.model_selection import cross_val_score\n",
    "        if objective == \"reg\":\n",
    "            cv_score = cross_val_score(alg, dtrain[predictors], dtrain[target],\n",
    "                                      cv = cv_folds, scoring=\"neg_mean_squared_error\")\n",
    "        elif objective == \"class\":\n",
    "            cv_score = cross_val_score(alg, dtrain[predictors], dtrain[target],\n",
    "                                      cv = cv_folds, scoring=\"accuracy\")\n",
    "        else:\n",
    "            print(\"Invalid Objective\")\n",
    "        \n",
    "    #Print Model Report:\n",
    "    if objective == \"reg\":\n",
    "        print(\"\\nModel Report\")\n",
    "        print(\"Accuracy : {:4g}\".format(metrics.mean_squared_error(dtrain[target].values, dtrain_predictions)))\n",
    "        print(\"R^2 Score (Train): {}\".format(metrics.r2_score(dtrain[target], dtrain_predictions)))\n",
    "    elif objective == \"class\":\n",
    "        print(\"\\nModel Report\")\n",
    "        print(\"\\tAccuracy : {:4g}\".format(metrics.accuracy_score(dtrain[target].values, dtrain_predictions)))\n",
    "        print(\"\\tConfusion Matrix : \\n{}\".format(metrics.confusion_matrix(dtrain[target], dtrain_predictions)))\n",
    "        \n",
    "    if preformCV:\n",
    "        print(\"\\tCV Score: Mean = %.4g | Std = %.4g |\\n \\t\\t Min = %.4g | Max = %.4g\" % (np.mean(cv_score), np.std(cv_score), np.min(cv_score), np.max(cv_score)))\n",
    "    \n",
    "    #Plotting Feature Importances\n",
    "    if print_feat_imp:\n",
    "        fig = plt.figure(figsize = (15,10))\n",
    "        feat_imp = pd.Series(alg.feature_importances_).sort_values(ascending = False)\n",
    "        ax = feat_imp.plot(kind = \"bar\", title = \"Feature Importances\")\n",
    "        plt.ylabel(\"Feature Importance Score\")\n",
    "        plt.xticks(rotation = \"vertical\")\n",
    "        #The x ticks are shown as the col number by default\n",
    "        #Here I revise this so they are listed by the feature name\n",
    "        preds_dict = dict(zip(range(len(predictors)), predictors))\n",
    "        x_labels = []\n",
    "        for el in list(feat_imp.index):\n",
    "            x_labels.append(preds_dict[el])\n",
    "        plt.xticks(ticks = np.array(range(len(predictors))), \n",
    "                  labels = x_labels)"
   ]
  },
  {
   "cell_type": "code",
   "execution_count": 255,
   "metadata": {},
   "outputs": [],
   "source": [
    "def modelfit_xgb(alg, dtrain, predictors, target, useTrainCV = True, cv_folds = 5, early_stopping_rounds = 50, objective = 'reg', eval_metric = 'rmse'):\n",
    "    \n",
    "    if objective == 'class':\n",
    "        le = LabelEncoder()\n",
    "        dtrain[target] = le.fit_transform(dtrain[target])\n",
    "    \n",
    "    if useTrainCV:\n",
    "        xgb_param = alg.get_xgb_params()\n",
    "        #DMatrix is a data matrix used specifically for XGBoost\n",
    "        #Optimized for both memory effiecncy and training speed\n",
    "        xgtrain = xgb.DMatrix(dtrain[predictors].values, \n",
    "                              label = dtrain[target].values)\n",
    "        if objective == 'reg':\n",
    "            cvresult = xgb.cv(xgb_param, xgtrain, \n",
    "                               num_boost_round=alg.get_params()['n_estimators'],\n",
    "                               nfold = cv_folds, metrics = \"rmse\", \n",
    "                               early_stopping_rounds=early_stopping_rounds)\n",
    "        if objective == 'class':\n",
    "            cvresult = xgb.cv(xgb_param, xgtrain, \n",
    "                               num_boost_round=XGB.get_params()['n_estimators'],\n",
    "                               nfold = cv_folds, metrics = \"merror\", \n",
    "                               early_stopping_rounds=early_stopping_rounds)\n",
    "        \n",
    "        alg.set_params(n_estimators = cvresult.shape[0])\n",
    "    \n",
    "    #Fitting the algorithm on the data\n",
    "    alg.fit(dtrain[predictors], dtrain[target], eval_metric = eval_metric)\n",
    "    \n",
    "    #Predicting Training Set\n",
    "    dtrain_predictions = alg.predict(dtrain[predictors])\n",
    "    #dtrain_predprob = alg.predict_proba(dtrain[predictors])[:,1]\n",
    "    \n",
    "    #Print Model Report:\n",
    "    if objective == 'reg':\n",
    "        print(\"\\nModel Report\")\n",
    "        print(\"Accuracy : {:4g}\".format(metrics.mean_squared_error(dtrain[target].values, dtrain_predictions)))\n",
    "        print(\"R^2 Score (Train): {}\".format(metrics.r2_score(dtrain[target], dtrain_predictions)))\n",
    "    \n",
    "    elif objective == \"class\":\n",
    "        print(\"\\nModel Report\")\n",
    "        print(\"\\tAccuracy : {:4g}\".format(metrics.accuracy_score(dtrain[target].values, dtrain_predictions)))\n",
    "        print(\"\\tConfusion Matrix : \\n{}\".format(metrics.confusion_matrix(dtrain[target], dtrain_predictions)))  \n",
    "\n",
    "    print(\"\\tCV Merror rate Training: Mean = %.4g | Std = %.4g \\n \\t\\t Min = %.4g\" % (np.mean(cvresult['train-merror-mean']), np.mean(cvresult['train-merror-std']), np.min(cvresult['train-merror-mean'])))\n",
    "    print(\"\\tCV Merror rate Testing: Mean = %.4g | Std = %.4g \\n \\t\\t Min = %.4g\" % (np.mean(cvresult['test-merror-mean']), np.mean(cvresult['test-merror-std']), np.min(cvresult['test-merror-mean'])))\n",
    "\n",
    "    \n",
    "    #Plotting Feature Importances\n",
    "    fig = plt.figure(figsize = (15,10))\n",
    "    feat_imp = pd.Series(alg.feature_importances_).sort_values(ascending = False)\n",
    "    top_25 = feat_imp.iloc[:25]\n",
    "    print(top_25)\n",
    "    ax = top_25.plot(kind = \"bar\", title = \"Feature Importances\")\n",
    "    plt.ylabel(\"Feature Importance Score\")\n",
    "    plt.xticks(rotation = \"vertical\")\n",
    "    #The x ticks are shown as the col number by default\n",
    "    #Here I revise this so they are listed by the feature name\n",
    "    preds_dict = dict(zip(range(len(predictors)), predictors))\n",
    "    x_labels = []\n",
    "    for el in list(top_twenty.index):\n",
    "        x_labels.append(preds_dict[el])\n",
    "        prin(el)\n",
    "    plt.xticks(ticks = np.array(range(25)), \n",
    "              labels = x_labels)\n",
    "    print(x_labels)"
   ]
  },
  {
   "cell_type": "markdown",
   "metadata": {},
   "source": [
    "### K Neighbors"
   ]
  },
  {
   "cell_type": "code",
   "execution_count": 280,
   "metadata": {},
   "outputs": [
    {
     "data": {
      "text/plain": [
       "{'algorithm': 'auto',\n",
       " 'leaf_size': 30,\n",
       " 'metric': 'minkowski',\n",
       " 'metric_params': None,\n",
       " 'n_jobs': None,\n",
       " 'n_neighbors': 5,\n",
       " 'p': 2,\n",
       " 'weights': 'uniform'}"
      ]
     },
     "execution_count": 280,
     "metadata": {},
     "output_type": "execute_result"
    }
   ],
   "source": [
    "KNN = KNeighborsClassifier()\n",
    "KNN.get_params()"
   ]
  },
  {
   "cell_type": "code",
   "execution_count": 281,
   "metadata": {},
   "outputs": [
    {
     "name": "stdout",
     "output_type": "stream",
     "text": [
      "\n",
      "Model Report\n",
      "\tAccuracy : 0.870303\n",
      "\tConfusion Matrix : \n",
      "[[29630   377  2252]\n",
      " [ 1348  2354   615]\n",
      " [ 2687   425 19712]]\n",
      "\tCV Score: Mean = 0.7979 | Std = 0.001671 |\n",
      " \t\t Min = 0.7949 | Max = 0.7997\n"
     ]
    }
   ],
   "source": [
    "modelfit(KNN, components_df, predictors_pca, 'status_group', objective = 'class')"
   ]
  },
  {
   "cell_type": "code",
   "execution_count": null,
   "metadata": {},
   "outputs": [],
   "source": [
    "param_grid = [{\n",
    "    'algorithm' : ['ball_tree', 'kd_tree', 'brute'],\n",
    "    'metric' : ['manhattan', 'chebyshev', 'euclidean', 'minkowski']\n",
    "}]\n",
    "\n",
    "clf = GridSearchCV(KNN, param_grid=param_grid,\n",
    "                  cv = 5, scoring=\"accuracy\")\n",
    "clf.fit(dtrain[predictors], dtrain['status_group'])\n",
    "clf.best_params_"
   ]
  },
  {
   "cell_type": "code",
   "execution_count": null,
   "metadata": {},
   "outputs": [],
   "source": [
    "param_grid = [{\n",
    "    'leaf_size' : range(20, 71, 10),\n",
    "    'n_neighbors' : [3,5,8,10,15],\n",
    "}]\n",
    "\n",
    "KNN = KNeighborsClassifier(algorithm= 'kd_tree',\n",
    "                           metric = \"manhattan\")\n",
    "\n",
    "clf = GridSearchCV(KNN, param_grid=param_grid,\n",
    "                  cv = 5, scoring=\"accuracy\")\n",
    "clf.fit(dtrain[predictors], dtrain['status_group'])\n",
    "clf.best_params_"
   ]
  },
  {
   "cell_type": "code",
   "execution_count": null,
   "metadata": {},
   "outputs": [],
   "source": [
    "KNN = KNeighborsClassifier(algorithm = 'kd_tree',\n",
    "                           metric = 'manhattan',\n",
    "                           n_neighbors = 3)"
   ]
  },
  {
   "cell_type": "code",
   "execution_count": null,
   "metadata": {},
   "outputs": [],
   "source": [
    "modelfit(KNN, dtrain, predictors, 'status_group', objective = 'class')"
   ]
  },
  {
   "cell_type": "markdown",
   "metadata": {},
   "source": [
    "### Random Forest Classification"
   ]
  },
  {
   "cell_type": "markdown",
   "metadata": {},
   "source": [
    "#### Modeling with RF"
   ]
  },
  {
   "cell_type": "code",
   "execution_count": 23,
   "metadata": {
    "scrolled": true
   },
   "outputs": [
    {
     "data": {
      "text/plain": [
       "{'bootstrap': True,\n",
       " 'class_weight': None,\n",
       " 'criterion': 'gini',\n",
       " 'max_depth': None,\n",
       " 'max_features': 'auto',\n",
       " 'max_leaf_nodes': None,\n",
       " 'min_impurity_decrease': 0.0,\n",
       " 'min_impurity_split': None,\n",
       " 'min_samples_leaf': 1,\n",
       " 'min_samples_split': 2,\n",
       " 'min_weight_fraction_leaf': 0.0,\n",
       " 'n_estimators': 'warn',\n",
       " 'n_jobs': None,\n",
       " 'oob_score': False,\n",
       " 'random_state': None,\n",
       " 'verbose': 0,\n",
       " 'warm_start': False}"
      ]
     },
     "execution_count": 23,
     "metadata": {},
     "output_type": "execute_result"
    }
   ],
   "source": [
    "RF = RandomForestClassifier()\n",
    "RF.get_params()"
   ]
  },
  {
   "cell_type": "code",
   "execution_count": 24,
   "metadata": {
    "scrolled": false
   },
   "outputs": [
    {
     "name": "stderr",
     "output_type": "stream",
     "text": [
      "/home/anna/anaconda3/lib/python3.7/site-packages/sklearn/ensemble/forest.py:245: FutureWarning: The default value of n_estimators will change from 10 in version 0.20 to 100 in 0.22.\n",
      "  \"10 in version 0.20 to 100 in 0.22.\", FutureWarning)\n"
     ]
    },
    {
     "name": "stdout",
     "output_type": "stream",
     "text": [
      "\n",
      "Model Report\n",
      "\tAccuracy : 0.981465\n",
      "\tConfusion Matrix : \n",
      "[[32096    69    94]\n",
      " [  325  3956    36]\n",
      " [  538    39 22247]]\n",
      "\tCV Score: Mean = 0.7974 | Std = 0.002545 |\n",
      " \t\t Min = 0.7928 | Max = 0.7998\n"
     ]
    },
    {
     "data": {
      "image/png": "[encoded data removed]",
      "text/plain": [
       "<Figure size 1080x720 with 1 Axes>"
      ]
     },
     "metadata": {
      "needs_background": "light"
     },
     "output_type": "display_data"
    }
   ],
   "source": [
    "modelfit(RF, dtrain, predictors, 'status_group', objective = 'class', print_feat_imp= True)"
   ]
  },
  {
   "cell_type": "markdown",
   "metadata": {},
   "source": [
    "**Tuning Step 1**"
   ]
  },
  {
   "cell_type": "code",
   "execution_count": 25,
   "metadata": {},
   "outputs": [
    {
     "data": {
      "text/plain": [
       "{'max_depth': 30,\n",
       " 'min_samples_leaf': 2,\n",
       " 'min_samples_split': 2,\n",
       " 'n_estimators': 175}"
      ]
     },
     "execution_count": 25,
     "metadata": {},
     "output_type": "execute_result"
    }
   ],
   "source": [
    "param_grid = [{\n",
    "    \"max_depth\" : [20, 30, 40],\n",
    "    \"min_samples_leaf\" : [2,4,8],\n",
    "    \"min_samples_split\" : [2, 5, 10],\n",
    "    \"n_estimators\" : [125, 150, 175]\n",
    "}]\n",
    "\n",
    "clf = GridSearchCV(RF, param_grid=param_grid, cv = 5,\n",
    "                  scoring = \"accuracy\")\n",
    "clf.fit(dtrain[predictors], dtrain['status_group'])\n",
    "clf.best_params_"
   ]
  },
  {
   "cell_type": "code",
   "execution_count": null,
   "metadata": {},
   "outputs": [],
   "source": []
  },
  {
   "cell_type": "code",
   "execution_count": 26,
   "metadata": {},
   "outputs": [
    {
     "data": {
      "text/plain": [
       "{'max_depth': 40,\n",
       " 'min_samples_leaf': 2,\n",
       " 'min_samples_split': 2,\n",
       " 'n_estimators': 185}"
      ]
     },
     "execution_count": 26,
     "metadata": {},
     "output_type": "execute_result"
    }
   ],
   "source": [
    "param_grid = [{\n",
    "    \"max_depth\" : [40, 45],\n",
    "    \"min_samples_leaf\" : [1,2,3],\n",
    "    \"min_samples_split\" : [2],\n",
    "    \"n_estimators\" : [175, 180, 185]\n",
    "}]\n",
    "\n",
    "clf = GridSearchCV(RF, param_grid=param_grid, cv = 5,\n",
    "                  scoring = \"accuracy\")\n",
    "clf.fit(dtrain[predictors], dtrain['status_group'])"
   ]
  },
  {
   "cell_type": "code",
   "execution_count": null,
   "metadata": {
    "deletable": false,
    "editable": false,
    "run_control": {
     "frozen": true
    }
   },
   "outputs": [],
   "source": [
    "# summarize results\n",
    "print(\"Best: %f using %s\" % (clf.best_score_, clf.best_params_))\n",
    "means = grid_result.cv_results_['mean_test_score']\n",
    "stds = grid_result.cv_results_['std_test_score']\n",
    "params = grid_result.cv_results_['params']\n",
    "for mean, stdev, param in zip(means, stds, params):\n",
    "\tprint(\"%f (%f) with: %r\" % (mean, stdev, param))"
   ]
  },
  {
   "cell_type": "code",
   "execution_count": 27,
   "metadata": {},
   "outputs": [],
   "source": [
    "RF = RandomForestClassifier(max_depth= 40,\n",
    "                           min_samples_leaf = 2,\n",
    "                           min_samples_split = 2,\n",
    "                           n_estimators = 180)"
   ]
  },
  {
   "cell_type": "code",
   "execution_count": 28,
   "metadata": {
    "scrolled": false
   },
   "outputs": [
    {
     "name": "stdout",
     "output_type": "stream",
     "text": [
      "\n",
      "Model Report\n",
      "\tAccuracy : 0.923114\n",
      "\tConfusion Matrix : \n",
      "[[31506   153   600]\n",
      " [ 1440  2531   346]\n",
      " [ 1915   113 20796]]\n",
      "\tCV Score: Mean = 0.813 | Std = 0.004103 |\n",
      " \t\t Min = 0.8078 | Max = 0.8179\n"
     ]
    },
    {
     "data": {
      "image/png": "[encoded data removed]",
      "text/plain": [
       "<Figure size 1080x720 with 1 Axes>"
      ]
     },
     "metadata": {
      "needs_background": "light"
     },
     "output_type": "display_data"
    }
   ],
   "source": [
    "modelfit(RF, dtrain, predictors, 'status_group', objective = 'class', print_feat_imp=True)"
   ]
  },
  {
   "cell_type": "markdown",
   "metadata": {},
   "source": [
    "**Using Scaled Training Data**"
   ]
  },
  {
   "cell_type": "code",
   "execution_count": 242,
   "metadata": {},
   "outputs": [
    {
     "data": {
      "text/plain": [
       "{'bootstrap': True,\n",
       " 'class_weight': None,\n",
       " 'criterion': 'gini',\n",
       " 'max_depth': None,\n",
       " 'max_features': 'auto',\n",
       " 'max_leaf_nodes': None,\n",
       " 'min_impurity_decrease': 0.0,\n",
       " 'min_impurity_split': None,\n",
       " 'min_samples_leaf': 1,\n",
       " 'min_samples_split': 2,\n",
       " 'min_weight_fraction_leaf': 0.0,\n",
       " 'n_estimators': 100,\n",
       " 'n_jobs': None,\n",
       " 'oob_score': False,\n",
       " 'random_state': None,\n",
       " 'verbose': 0,\n",
       " 'warm_start': False}"
      ]
     },
     "execution_count": 242,
     "metadata": {},
     "output_type": "execute_result"
    }
   ],
   "source": [
    "RF = RandomForestClassifier(n_estimators = 100)\n",
    "RF.get_params()"
   ]
  },
  {
   "cell_type": "code",
   "execution_count": 243,
   "metadata": {},
   "outputs": [],
   "source": [
    "predictors_one_hot = [x for x in scaled_df.columns]"
   ]
  },
  {
   "cell_type": "code",
   "execution_count": 244,
   "metadata": {},
   "outputs": [],
   "source": [
    "le = LabelEncoder()\n",
    "scaled_df.loc[:, 'status_group'] = le.fit_transform(scaled_df['status_group'])"
   ]
  },
  {
   "cell_type": "code",
   "execution_count": 262,
   "metadata": {},
   "outputs": [
    {
     "name": "stdout",
     "output_type": "stream",
     "text": [
      "\n",
      "Model Report\n",
      "\tAccuracy :    1\n",
      "\tConfusion Matrix : \n",
      "[[32259     0     0]\n",
      " [    0  4317     0]\n",
      " [    0     0 22824]]\n",
      "\tCV Score: Mean = 0.9923 | Std = 0.001429 |\n",
      " \t\t Min = 0.9904 | Max = 0.9944\n"
     ]
    },
    {
     "data": {
      "image/png": "[encoded data removed]",
      "text/plain": [
       "<Figure size 1080x720 with 1 Axes>"
      ]
     },
     "metadata": {
      "needs_background": "light"
     },
     "output_type": "display_data"
    }
   ],
   "source": [
    "modelfit(RF, scaled_df, predictors = predictors_one_hot, target = 'status_group', objective = 'class', print_feat_imp= True)"
   ]
  },
  {
   "cell_type": "code",
   "execution_count": 257,
   "metadata": {},
   "outputs": [
    {
     "data": {
      "text/plain": [
       "RandomForestClassifier(bootstrap=True, class_weight=None, criterion='gini',\n",
       "                       max_depth=None, max_features='auto', max_leaf_nodes=None,\n",
       "                       min_impurity_decrease=0.0, min_impurity_split=None,\n",
       "                       min_samples_leaf=1, min_samples_split=2,\n",
       "                       min_weight_fraction_leaf=0.0, n_estimators=100,\n",
       "                       n_jobs=None, oob_score=False, random_state=None,\n",
       "                       verbose=0, warm_start=False)"
      ]
     },
     "execution_count": 257,
     "metadata": {},
     "output_type": "execute_result"
    }
   ],
   "source": [
    "RF.fit(scaled_df[predictors_one_hot], scaled_df['status_group'])"
   ]
  },
  {
   "cell_type": "code",
   "execution_count": 260,
   "metadata": {},
   "outputs": [
    {
     "data": {
      "text/plain": [
       "([<matplotlib.axis.XTick at 0x7fab2b1e1470>,\n",
       "  <matplotlib.axis.XTick at 0x7fab336c1dd8>,\n",
       "  <matplotlib.axis.XTick at 0x7fab336d6198>,\n",
       "  <matplotlib.axis.XTick at 0x7fab335bfe80>,\n",
       "  <matplotlib.axis.XTick at 0x7fab335bf390>,\n",
       "  <matplotlib.axis.XTick at 0x7fab335bf9b0>,\n",
       "  <matplotlib.axis.XTick at 0x7fab336db668>,\n",
       "  <matplotlib.axis.XTick at 0x7fab335bff28>,\n",
       "  <matplotlib.axis.XTick at 0x7fab336f9898>,\n",
       "  <matplotlib.axis.XTick at 0x7fab335d8eb8>,\n",
       "  <matplotlib.axis.XTick at 0x7fab335d8828>,\n",
       "  <matplotlib.axis.XTick at 0x7fab336eb9e8>,\n",
       "  <matplotlib.axis.XTick at 0x7fab335c20b8>,\n",
       "  <matplotlib.axis.XTick at 0x7fab336db400>,\n",
       "  <matplotlib.axis.XTick at 0x7fab335cb400>,\n",
       "  <matplotlib.axis.XTick at 0x7fab335cba20>,\n",
       "  <matplotlib.axis.XTick at 0x7fab335c67b8>,\n",
       "  <matplotlib.axis.XTick at 0x7fab335c6d68>,\n",
       "  <matplotlib.axis.XTick at 0x7fab335d06a0>,\n",
       "  <matplotlib.axis.XTick at 0x7fab335d04a8>],\n",
       " <a list of 20 Text xticklabel objects>)"
      ]
     },
     "execution_count": 260,
     "metadata": {},
     "output_type": "execute_result"
    },
    {
     "data": {
      "image/png": "[encoded data removed]",
      "text/plain": [
       "<Figure size 1080x720 with 1 Axes>"
      ]
     },
     "metadata": {
      "needs_background": "light"
     },
     "output_type": "display_data"
    }
   ],
   "source": [
    "    fig = plt.figure(figsize = (15,10))\n",
    "    feat_imp = pd.Series(RF.feature_importances_).sort_values(ascending = False)\n",
    "    top_25 = feat_imp.iloc[:25]\n",
    "    ax = top_25.plot(kind = \"bar\", title = \"Feature Importances\")\n",
    "    plt.ylabel(\"Feature Importance Score\")\n",
    "    plt.xticks(rotation = \"vertical\")\n",
    "    #The x ticks are shown as the col number by default\n",
    "    #Here I revise this so they are listed by the feature name\n",
    "    preds_dict = dict(zip(range(len(predictors_one_hot)), predictors_one_hot))\n",
    "    x_labels = []\n",
    "    for el in list(top_twenty.index):\n",
    "        x_labels.append(preds_dict[el])\n",
    "    plt.xticks(ticks = np.array(range(20)), \n",
    "              labels = x_labels)"
   ]
  },
  {
   "cell_type": "markdown",
   "metadata": {},
   "source": [
    "#### Predictions"
   ]
  },
  {
   "cell_type": "markdown",
   "metadata": {},
   "source": [
    "**Preds 1**"
   ]
  },
  {
   "cell_type": "markdown",
   "metadata": {},
   "source": [
    "+ 'bootstrap': True,\n",
    "+ 'class_weight': None,\n",
    "+ 'criterion': 'gini',\n",
    "+ 'max_depth': 40,\n",
    "+ 'max_features': 'auto',\n",
    "+ 'max_leaf_nodes': None,\n",
    "+ 'min_impurity_decrease': 0.0,\n",
    "+ 'min_impurity_split': None,\n",
    "+ 'min_samples_leaf': 2,\n",
    "+ 'min_samples_split': 2,\n",
    "+ 'min_weight_fraction_leaf': 0.0,\n",
    "+ 'n_estimators': 180,\n",
    "+ 'n_jobs': None,\n",
    "+ 'oob_score': False,\n",
    "+ 'random_state': None,\n",
    "+ 'verbose': 0,\n",
    "+ 'warm_start': False"
   ]
  },
  {
   "cell_type": "code",
   "execution_count": null,
   "metadata": {
    "deletable": false,
    "editable": false,
    "run_control": {
     "frozen": true
    }
   },
   "outputs": [],
   "source": [
    "RF.fit(X_train[predictors], y_train['status_group'])"
   ]
  },
  {
   "cell_type": "code",
   "execution_count": null,
   "metadata": {
    "deletable": false,
    "editable": false,
    "run_control": {
     "frozen": true
    },
    "scrolled": true
   },
   "outputs": [],
   "source": [
    "preds = RF.predict(Final_test.iloc[:, 1:])\n",
    "preds_df = pd.concat([Final_test['id'], pd.Series(preds, name = 'status_group')], axis = 1)\n",
    "preds_df.to_csv(\"Data/Preds/Pred_RF_1.csv\", index = False)"
   ]
  },
  {
   "cell_type": "markdown",
   "metadata": {},
   "source": [
    "### Gradient Boosting"
   ]
  },
  {
   "cell_type": "markdown",
   "metadata": {},
   "source": [
    "#### Modeling with GB"
   ]
  },
  {
   "cell_type": "code",
   "execution_count": 35,
   "metadata": {
    "scrolled": true
   },
   "outputs": [
    {
     "data": {
      "text/plain": [
       "{'criterion': 'friedman_mse',\n",
       " 'init': None,\n",
       " 'learning_rate': 0.1,\n",
       " 'loss': 'deviance',\n",
       " 'max_depth': 3,\n",
       " 'max_features': None,\n",
       " 'max_leaf_nodes': None,\n",
       " 'min_impurity_decrease': 0.0,\n",
       " 'min_impurity_split': None,\n",
       " 'min_samples_leaf': 1,\n",
       " 'min_samples_split': 2,\n",
       " 'min_weight_fraction_leaf': 0.0,\n",
       " 'n_estimators': 100,\n",
       " 'n_iter_no_change': None,\n",
       " 'presort': 'auto',\n",
       " 'random_state': None,\n",
       " 'subsample': 1.0,\n",
       " 'tol': 0.0001,\n",
       " 'validation_fraction': 0.1,\n",
       " 'verbose': 0,\n",
       " 'warm_start': False}"
      ]
     },
     "execution_count": 35,
     "metadata": {},
     "output_type": "execute_result"
    }
   ],
   "source": [
    "GBM = GradientBoostingClassifier()\n",
    "GBM.get_params()"
   ]
  },
  {
   "cell_type": "code",
   "execution_count": 36,
   "metadata": {},
   "outputs": [
    {
     "name": "stdout",
     "output_type": "stream",
     "text": [
      "\n",
      "Model Report\n",
      "\tAccuracy : 0.755606\n",
      "\tConfusion Matrix : \n",
      "[[29916   126  2217]\n",
      " [ 3223   520   574]\n",
      " [ 8230   147 14447]]\n",
      "\tCV Score: Mean = 0.7526 | Std = 0.003326 |\n",
      " \t\t Min = 0.7495 | Max = 0.7591\n"
     ]
    },
    {
     "data": {
      "image/png": "[encoded data removed]",
      "text/plain": [
       "<Figure size 1080x720 with 1 Axes>"
      ]
     },
     "metadata": {
      "needs_background": "light"
     },
     "output_type": "display_data"
    }
   ],
   "source": [
    "modelfit(GBM, dtrain, predictors, 'status_group', objective = 'class', print_feat_imp=True)"
   ]
  },
  {
   "cell_type": "code",
   "execution_count": 40,
   "metadata": {},
   "outputs": [
    {
     "ename": "KeyboardInterrupt",
     "evalue": "",
     "output_type": "error",
     "traceback": [
      "\u001b[0;31m---------------------------------------------------------------------------\u001b[0m",
      "\u001b[0;31mKeyboardInterrupt\u001b[0m                         Traceback (most recent call last)",
      "\u001b[0;32m<ipython-input-40-50582f7eafee>\u001b[0m in \u001b[0;36m<module>\u001b[0;34m\u001b[0m\n\u001b[1;32m     13\u001b[0m clf = GridSearchCV(GBM, param_grid=param_grid,\n\u001b[1;32m     14\u001b[0m                   cv = 5, scoring=\"accuracy\")\n\u001b[0;32m---> 15\u001b[0;31m \u001b[0mclf\u001b[0m\u001b[0;34m.\u001b[0m\u001b[0mfit\u001b[0m\u001b[0;34m(\u001b[0m\u001b[0mdtrain\u001b[0m\u001b[0;34m[\u001b[0m\u001b[0mpredictors\u001b[0m\u001b[0;34m]\u001b[0m\u001b[0;34m,\u001b[0m \u001b[0mdtrain\u001b[0m\u001b[0;34m[\u001b[0m\u001b[0;34m'status_group'\u001b[0m\u001b[0;34m]\u001b[0m\u001b[0;34m)\u001b[0m\u001b[0;34m\u001b[0m\u001b[0;34m\u001b[0m\u001b[0m\n\u001b[0m\u001b[1;32m     16\u001b[0m \u001b[0mclf\u001b[0m\u001b[0;34m.\u001b[0m\u001b[0mbest_params_\u001b[0m\u001b[0;34m\u001b[0m\u001b[0;34m\u001b[0m\u001b[0m\n",
      "\u001b[0;32m~/anaconda3/lib/python3.7/site-packages/sklearn/model_selection/_search.py\u001b[0m in \u001b[0;36mfit\u001b[0;34m(self, X, y, groups, **fit_params)\u001b[0m\n\u001b[1;32m    685\u001b[0m                 \u001b[0;32mreturn\u001b[0m \u001b[0mresults\u001b[0m\u001b[0;34m\u001b[0m\u001b[0;34m\u001b[0m\u001b[0m\n\u001b[1;32m    686\u001b[0m \u001b[0;34m\u001b[0m\u001b[0m\n\u001b[0;32m--> 687\u001b[0;31m             \u001b[0mself\u001b[0m\u001b[0;34m.\u001b[0m\u001b[0m_run_search\u001b[0m\u001b[0;34m(\u001b[0m\u001b[0mevaluate_candidates\u001b[0m\u001b[0;34m)\u001b[0m\u001b[0;34m\u001b[0m\u001b[0;34m\u001b[0m\u001b[0m\n\u001b[0m\u001b[1;32m    688\u001b[0m \u001b[0;34m\u001b[0m\u001b[0m\n\u001b[1;32m    689\u001b[0m         \u001b[0;31m# For multi-metric evaluation, store the best_index_, best_params_ and\u001b[0m\u001b[0;34m\u001b[0m\u001b[0;34m\u001b[0m\u001b[0;34m\u001b[0m\u001b[0m\n",
      "\u001b[0;32m~/anaconda3/lib/python3.7/site-packages/sklearn/model_selection/_search.py\u001b[0m in \u001b[0;36m_run_search\u001b[0;34m(self, evaluate_candidates)\u001b[0m\n\u001b[1;32m   1146\u001b[0m     \u001b[0;32mdef\u001b[0m \u001b[0m_run_search\u001b[0m\u001b[0;34m(\u001b[0m\u001b[0mself\u001b[0m\u001b[0;34m,\u001b[0m \u001b[0mevaluate_candidates\u001b[0m\u001b[0;34m)\u001b[0m\u001b[0;34m:\u001b[0m\u001b[0;34m\u001b[0m\u001b[0;34m\u001b[0m\u001b[0m\n\u001b[1;32m   1147\u001b[0m         \u001b[0;34m\"\"\"Search all candidates in param_grid\"\"\"\u001b[0m\u001b[0;34m\u001b[0m\u001b[0;34m\u001b[0m\u001b[0m\n\u001b[0;32m-> 1148\u001b[0;31m         \u001b[0mevaluate_candidates\u001b[0m\u001b[0;34m(\u001b[0m\u001b[0mParameterGrid\u001b[0m\u001b[0;34m(\u001b[0m\u001b[0mself\u001b[0m\u001b[0;34m.\u001b[0m\u001b[0mparam_grid\u001b[0m\u001b[0;34m)\u001b[0m\u001b[0;34m)\u001b[0m\u001b[0;34m\u001b[0m\u001b[0;34m\u001b[0m\u001b[0m\n\u001b[0m\u001b[1;32m   1149\u001b[0m \u001b[0;34m\u001b[0m\u001b[0m\n\u001b[1;32m   1150\u001b[0m \u001b[0;34m\u001b[0m\u001b[0m\n",
      "\u001b[0;32m~/anaconda3/lib/python3.7/site-packages/sklearn/model_selection/_search.py\u001b[0m in \u001b[0;36mevaluate_candidates\u001b[0;34m(candidate_params)\u001b[0m\n\u001b[1;32m    664\u001b[0m                                \u001b[0;32mfor\u001b[0m \u001b[0mparameters\u001b[0m\u001b[0;34m,\u001b[0m \u001b[0;34m(\u001b[0m\u001b[0mtrain\u001b[0m\u001b[0;34m,\u001b[0m \u001b[0mtest\u001b[0m\u001b[0;34m)\u001b[0m\u001b[0;34m\u001b[0m\u001b[0;34m\u001b[0m\u001b[0m\n\u001b[1;32m    665\u001b[0m                                in product(candidate_params,\n\u001b[0;32m--> 666\u001b[0;31m                                           cv.split(X, y, groups)))\n\u001b[0m\u001b[1;32m    667\u001b[0m \u001b[0;34m\u001b[0m\u001b[0m\n\u001b[1;32m    668\u001b[0m                 \u001b[0;32mif\u001b[0m \u001b[0mlen\u001b[0m\u001b[0;34m(\u001b[0m\u001b[0mout\u001b[0m\u001b[0;34m)\u001b[0m \u001b[0;34m<\u001b[0m \u001b[0;36m1\u001b[0m\u001b[0;34m:\u001b[0m\u001b[0;34m\u001b[0m\u001b[0;34m\u001b[0m\u001b[0m\n",
      "\u001b[0;32m~/anaconda3/lib/python3.7/site-packages/joblib/parallel.py\u001b[0m in \u001b[0;36m__call__\u001b[0;34m(self, iterable)\u001b[0m\n\u001b[1;32m    922\u001b[0m                 \u001b[0mself\u001b[0m\u001b[0;34m.\u001b[0m\u001b[0m_iterating\u001b[0m \u001b[0;34m=\u001b[0m \u001b[0mself\u001b[0m\u001b[0;34m.\u001b[0m\u001b[0m_original_iterator\u001b[0m \u001b[0;32mis\u001b[0m \u001b[0;32mnot\u001b[0m \u001b[0;32mNone\u001b[0m\u001b[0;34m\u001b[0m\u001b[0;34m\u001b[0m\u001b[0m\n\u001b[1;32m    923\u001b[0m \u001b[0;34m\u001b[0m\u001b[0m\n\u001b[0;32m--> 924\u001b[0;31m             \u001b[0;32mwhile\u001b[0m \u001b[0mself\u001b[0m\u001b[0;34m.\u001b[0m\u001b[0mdispatch_one_batch\u001b[0m\u001b[0;34m(\u001b[0m\u001b[0miterator\u001b[0m\u001b[0;34m)\u001b[0m\u001b[0;34m:\u001b[0m\u001b[0;34m\u001b[0m\u001b[0;34m\u001b[0m\u001b[0m\n\u001b[0m\u001b[1;32m    925\u001b[0m                 \u001b[0;32mpass\u001b[0m\u001b[0;34m\u001b[0m\u001b[0;34m\u001b[0m\u001b[0m\n\u001b[1;32m    926\u001b[0m \u001b[0;34m\u001b[0m\u001b[0m\n",
      "\u001b[0;32m~/anaconda3/lib/python3.7/site-packages/joblib/parallel.py\u001b[0m in \u001b[0;36mdispatch_one_batch\u001b[0;34m(self, iterator)\u001b[0m\n\u001b[1;32m    757\u001b[0m                 \u001b[0;32mreturn\u001b[0m \u001b[0;32mFalse\u001b[0m\u001b[0;34m\u001b[0m\u001b[0;34m\u001b[0m\u001b[0m\n\u001b[1;32m    758\u001b[0m             \u001b[0;32melse\u001b[0m\u001b[0;34m:\u001b[0m\u001b[0;34m\u001b[0m\u001b[0;34m\u001b[0m\u001b[0m\n\u001b[0;32m--> 759\u001b[0;31m                 \u001b[0mself\u001b[0m\u001b[0;34m.\u001b[0m\u001b[0m_dispatch\u001b[0m\u001b[0;34m(\u001b[0m\u001b[0mtasks\u001b[0m\u001b[0;34m)\u001b[0m\u001b[0;34m\u001b[0m\u001b[0;34m\u001b[0m\u001b[0m\n\u001b[0m\u001b[1;32m    760\u001b[0m                 \u001b[0;32mreturn\u001b[0m \u001b[0;32mTrue\u001b[0m\u001b[0;34m\u001b[0m\u001b[0;34m\u001b[0m\u001b[0m\n\u001b[1;32m    761\u001b[0m \u001b[0;34m\u001b[0m\u001b[0m\n",
      "\u001b[0;32m~/anaconda3/lib/python3.7/site-packages/joblib/parallel.py\u001b[0m in \u001b[0;36m_dispatch\u001b[0;34m(self, batch)\u001b[0m\n\u001b[1;32m    714\u001b[0m         \u001b[0;32mwith\u001b[0m \u001b[0mself\u001b[0m\u001b[0;34m.\u001b[0m\u001b[0m_lock\u001b[0m\u001b[0;34m:\u001b[0m\u001b[0;34m\u001b[0m\u001b[0;34m\u001b[0m\u001b[0m\n\u001b[1;32m    715\u001b[0m             \u001b[0mjob_idx\u001b[0m \u001b[0;34m=\u001b[0m \u001b[0mlen\u001b[0m\u001b[0;34m(\u001b[0m\u001b[0mself\u001b[0m\u001b[0;34m.\u001b[0m\u001b[0m_jobs\u001b[0m\u001b[0;34m)\u001b[0m\u001b[0;34m\u001b[0m\u001b[0;34m\u001b[0m\u001b[0m\n\u001b[0;32m--> 716\u001b[0;31m             \u001b[0mjob\u001b[0m \u001b[0;34m=\u001b[0m \u001b[0mself\u001b[0m\u001b[0;34m.\u001b[0m\u001b[0m_backend\u001b[0m\u001b[0;34m.\u001b[0m\u001b[0mapply_async\u001b[0m\u001b[0;34m(\u001b[0m\u001b[0mbatch\u001b[0m\u001b[0;34m,\u001b[0m \u001b[0mcallback\u001b[0m\u001b[0;34m=\u001b[0m\u001b[0mcb\u001b[0m\u001b[0;34m)\u001b[0m\u001b[0;34m\u001b[0m\u001b[0;34m\u001b[0m\u001b[0m\n\u001b[0m\u001b[1;32m    717\u001b[0m             \u001b[0;31m# A job can complete so quickly than its callback is\u001b[0m\u001b[0;34m\u001b[0m\u001b[0;34m\u001b[0m\u001b[0;34m\u001b[0m\u001b[0m\n\u001b[1;32m    718\u001b[0m             \u001b[0;31m# called before we get here, causing self._jobs to\u001b[0m\u001b[0;34m\u001b[0m\u001b[0;34m\u001b[0m\u001b[0;34m\u001b[0m\u001b[0m\n",
      "\u001b[0;32m~/anaconda3/lib/python3.7/site-packages/joblib/_parallel_backends.py\u001b[0m in \u001b[0;36mapply_async\u001b[0;34m(self, func, callback)\u001b[0m\n\u001b[1;32m    180\u001b[0m     \u001b[0;32mdef\u001b[0m \u001b[0mapply_async\u001b[0m\u001b[0;34m(\u001b[0m\u001b[0mself\u001b[0m\u001b[0;34m,\u001b[0m \u001b[0mfunc\u001b[0m\u001b[0;34m,\u001b[0m \u001b[0mcallback\u001b[0m\u001b[0;34m=\u001b[0m\u001b[0;32mNone\u001b[0m\u001b[0;34m)\u001b[0m\u001b[0;34m:\u001b[0m\u001b[0;34m\u001b[0m\u001b[0;34m\u001b[0m\u001b[0m\n\u001b[1;32m    181\u001b[0m         \u001b[0;34m\"\"\"Schedule a func to be run\"\"\"\u001b[0m\u001b[0;34m\u001b[0m\u001b[0;34m\u001b[0m\u001b[0m\n\u001b[0;32m--> 182\u001b[0;31m         \u001b[0mresult\u001b[0m \u001b[0;34m=\u001b[0m \u001b[0mImmediateResult\u001b[0m\u001b[0;34m(\u001b[0m\u001b[0mfunc\u001b[0m\u001b[0;34m)\u001b[0m\u001b[0;34m\u001b[0m\u001b[0;34m\u001b[0m\u001b[0m\n\u001b[0m\u001b[1;32m    183\u001b[0m         \u001b[0;32mif\u001b[0m \u001b[0mcallback\u001b[0m\u001b[0;34m:\u001b[0m\u001b[0;34m\u001b[0m\u001b[0;34m\u001b[0m\u001b[0m\n\u001b[1;32m    184\u001b[0m             \u001b[0mcallback\u001b[0m\u001b[0;34m(\u001b[0m\u001b[0mresult\u001b[0m\u001b[0;34m)\u001b[0m\u001b[0;34m\u001b[0m\u001b[0;34m\u001b[0m\u001b[0m\n",
      "\u001b[0;32m~/anaconda3/lib/python3.7/site-packages/joblib/_parallel_backends.py\u001b[0m in \u001b[0;36m__init__\u001b[0;34m(self, batch)\u001b[0m\n\u001b[1;32m    547\u001b[0m         \u001b[0;31m# Don't delay the application, to avoid keeping the input\u001b[0m\u001b[0;34m\u001b[0m\u001b[0;34m\u001b[0m\u001b[0;34m\u001b[0m\u001b[0m\n\u001b[1;32m    548\u001b[0m         \u001b[0;31m# arguments in memory\u001b[0m\u001b[0;34m\u001b[0m\u001b[0;34m\u001b[0m\u001b[0;34m\u001b[0m\u001b[0m\n\u001b[0;32m--> 549\u001b[0;31m         \u001b[0mself\u001b[0m\u001b[0;34m.\u001b[0m\u001b[0mresults\u001b[0m \u001b[0;34m=\u001b[0m \u001b[0mbatch\u001b[0m\u001b[0;34m(\u001b[0m\u001b[0;34m)\u001b[0m\u001b[0;34m\u001b[0m\u001b[0;34m\u001b[0m\u001b[0m\n\u001b[0m\u001b[1;32m    550\u001b[0m \u001b[0;34m\u001b[0m\u001b[0m\n\u001b[1;32m    551\u001b[0m     \u001b[0;32mdef\u001b[0m \u001b[0mget\u001b[0m\u001b[0;34m(\u001b[0m\u001b[0mself\u001b[0m\u001b[0;34m)\u001b[0m\u001b[0;34m:\u001b[0m\u001b[0;34m\u001b[0m\u001b[0;34m\u001b[0m\u001b[0m\n",
      "\u001b[0;32m~/anaconda3/lib/python3.7/site-packages/joblib/parallel.py\u001b[0m in \u001b[0;36m__call__\u001b[0;34m(self)\u001b[0m\n\u001b[1;32m    223\u001b[0m         \u001b[0;32mwith\u001b[0m \u001b[0mparallel_backend\u001b[0m\u001b[0;34m(\u001b[0m\u001b[0mself\u001b[0m\u001b[0;34m.\u001b[0m\u001b[0m_backend\u001b[0m\u001b[0;34m,\u001b[0m \u001b[0mn_jobs\u001b[0m\u001b[0;34m=\u001b[0m\u001b[0mself\u001b[0m\u001b[0;34m.\u001b[0m\u001b[0m_n_jobs\u001b[0m\u001b[0;34m)\u001b[0m\u001b[0;34m:\u001b[0m\u001b[0;34m\u001b[0m\u001b[0;34m\u001b[0m\u001b[0m\n\u001b[1;32m    224\u001b[0m             return [func(*args, **kwargs)\n\u001b[0;32m--> 225\u001b[0;31m                     for func, args, kwargs in self.items]\n\u001b[0m\u001b[1;32m    226\u001b[0m \u001b[0;34m\u001b[0m\u001b[0m\n\u001b[1;32m    227\u001b[0m     \u001b[0;32mdef\u001b[0m \u001b[0m__len__\u001b[0m\u001b[0;34m(\u001b[0m\u001b[0mself\u001b[0m\u001b[0;34m)\u001b[0m\u001b[0;34m:\u001b[0m\u001b[0;34m\u001b[0m\u001b[0;34m\u001b[0m\u001b[0m\n",
      "\u001b[0;32m~/anaconda3/lib/python3.7/site-packages/joblib/parallel.py\u001b[0m in \u001b[0;36m<listcomp>\u001b[0;34m(.0)\u001b[0m\n\u001b[1;32m    223\u001b[0m         \u001b[0;32mwith\u001b[0m \u001b[0mparallel_backend\u001b[0m\u001b[0;34m(\u001b[0m\u001b[0mself\u001b[0m\u001b[0;34m.\u001b[0m\u001b[0m_backend\u001b[0m\u001b[0;34m,\u001b[0m \u001b[0mn_jobs\u001b[0m\u001b[0;34m=\u001b[0m\u001b[0mself\u001b[0m\u001b[0;34m.\u001b[0m\u001b[0m_n_jobs\u001b[0m\u001b[0;34m)\u001b[0m\u001b[0;34m:\u001b[0m\u001b[0;34m\u001b[0m\u001b[0;34m\u001b[0m\u001b[0m\n\u001b[1;32m    224\u001b[0m             return [func(*args, **kwargs)\n\u001b[0;32m--> 225\u001b[0;31m                     for func, args, kwargs in self.items]\n\u001b[0m\u001b[1;32m    226\u001b[0m \u001b[0;34m\u001b[0m\u001b[0m\n\u001b[1;32m    227\u001b[0m     \u001b[0;32mdef\u001b[0m \u001b[0m__len__\u001b[0m\u001b[0;34m(\u001b[0m\u001b[0mself\u001b[0m\u001b[0;34m)\u001b[0m\u001b[0;34m:\u001b[0m\u001b[0;34m\u001b[0m\u001b[0;34m\u001b[0m\u001b[0m\n",
      "\u001b[0;32m~/anaconda3/lib/python3.7/site-packages/sklearn/model_selection/_validation.py\u001b[0m in \u001b[0;36m_fit_and_score\u001b[0;34m(estimator, X, y, scorer, train, test, verbose, parameters, fit_params, return_train_score, return_parameters, return_n_test_samples, return_times, return_estimator, error_score)\u001b[0m\n\u001b[1;32m    512\u001b[0m             \u001b[0mestimator\u001b[0m\u001b[0;34m.\u001b[0m\u001b[0mfit\u001b[0m\u001b[0;34m(\u001b[0m\u001b[0mX_train\u001b[0m\u001b[0;34m,\u001b[0m \u001b[0;34m**\u001b[0m\u001b[0mfit_params\u001b[0m\u001b[0;34m)\u001b[0m\u001b[0;34m\u001b[0m\u001b[0;34m\u001b[0m\u001b[0m\n\u001b[1;32m    513\u001b[0m         \u001b[0;32melse\u001b[0m\u001b[0;34m:\u001b[0m\u001b[0;34m\u001b[0m\u001b[0;34m\u001b[0m\u001b[0m\n\u001b[0;32m--> 514\u001b[0;31m             \u001b[0mestimator\u001b[0m\u001b[0;34m.\u001b[0m\u001b[0mfit\u001b[0m\u001b[0;34m(\u001b[0m\u001b[0mX_train\u001b[0m\u001b[0;34m,\u001b[0m \u001b[0my_train\u001b[0m\u001b[0;34m,\u001b[0m \u001b[0;34m**\u001b[0m\u001b[0mfit_params\u001b[0m\u001b[0;34m)\u001b[0m\u001b[0;34m\u001b[0m\u001b[0;34m\u001b[0m\u001b[0m\n\u001b[0m\u001b[1;32m    515\u001b[0m \u001b[0;34m\u001b[0m\u001b[0m\n\u001b[1;32m    516\u001b[0m     \u001b[0;32mexcept\u001b[0m \u001b[0mException\u001b[0m \u001b[0;32mas\u001b[0m \u001b[0me\u001b[0m\u001b[0;34m:\u001b[0m\u001b[0;34m\u001b[0m\u001b[0;34m\u001b[0m\u001b[0m\n",
      "\u001b[0;32m~/anaconda3/lib/python3.7/site-packages/sklearn/ensemble/gradient_boosting.py\u001b[0m in \u001b[0;36mfit\u001b[0;34m(self, X, y, sample_weight, monitor)\u001b[0m\n\u001b[1;32m   1544\u001b[0m         n_stages = self._fit_stages(\n\u001b[1;32m   1545\u001b[0m             \u001b[0mX\u001b[0m\u001b[0;34m,\u001b[0m \u001b[0my\u001b[0m\u001b[0;34m,\u001b[0m \u001b[0mraw_predictions\u001b[0m\u001b[0;34m,\u001b[0m \u001b[0msample_weight\u001b[0m\u001b[0;34m,\u001b[0m \u001b[0mself\u001b[0m\u001b[0;34m.\u001b[0m\u001b[0m_rng\u001b[0m\u001b[0;34m,\u001b[0m \u001b[0mX_val\u001b[0m\u001b[0;34m,\u001b[0m \u001b[0my_val\u001b[0m\u001b[0;34m,\u001b[0m\u001b[0;34m\u001b[0m\u001b[0;34m\u001b[0m\u001b[0m\n\u001b[0;32m-> 1546\u001b[0;31m             sample_weight_val, begin_at_stage, monitor, X_idx_sorted)\n\u001b[0m\u001b[1;32m   1547\u001b[0m \u001b[0;34m\u001b[0m\u001b[0m\n\u001b[1;32m   1548\u001b[0m         \u001b[0;31m# change shape of arrays after fit (early-stopping or additional ests)\u001b[0m\u001b[0;34m\u001b[0m\u001b[0;34m\u001b[0m\u001b[0;34m\u001b[0m\u001b[0m\n",
      "\u001b[0;32m~/anaconda3/lib/python3.7/site-packages/sklearn/ensemble/gradient_boosting.py\u001b[0m in \u001b[0;36m_fit_stages\u001b[0;34m(self, X, y, raw_predictions, sample_weight, random_state, X_val, y_val, sample_weight_val, begin_at_stage, monitor, X_idx_sorted)\u001b[0m\n\u001b[1;32m   1608\u001b[0m             raw_predictions = self._fit_stage(\n\u001b[1;32m   1609\u001b[0m                 \u001b[0mi\u001b[0m\u001b[0;34m,\u001b[0m \u001b[0mX\u001b[0m\u001b[0;34m,\u001b[0m \u001b[0my\u001b[0m\u001b[0;34m,\u001b[0m \u001b[0mraw_predictions\u001b[0m\u001b[0;34m,\u001b[0m \u001b[0msample_weight\u001b[0m\u001b[0;34m,\u001b[0m \u001b[0msample_mask\u001b[0m\u001b[0;34m,\u001b[0m\u001b[0;34m\u001b[0m\u001b[0;34m\u001b[0m\u001b[0m\n\u001b[0;32m-> 1610\u001b[0;31m                 random_state, X_idx_sorted, X_csc, X_csr)\n\u001b[0m\u001b[1;32m   1611\u001b[0m \u001b[0;34m\u001b[0m\u001b[0m\n\u001b[1;32m   1612\u001b[0m             \u001b[0;31m# track deviance (= loss)\u001b[0m\u001b[0;34m\u001b[0m\u001b[0;34m\u001b[0m\u001b[0;34m\u001b[0m\u001b[0m\n",
      "\u001b[0;32m~/anaconda3/lib/python3.7/site-packages/sklearn/ensemble/gradient_boosting.py\u001b[0m in \u001b[0;36m_fit_stage\u001b[0;34m(self, i, X, y, raw_predictions, sample_weight, sample_mask, random_state, X_idx_sorted, X_csc, X_csr)\u001b[0m\n\u001b[1;32m   1242\u001b[0m             \u001b[0mX\u001b[0m \u001b[0;34m=\u001b[0m \u001b[0mX_csr\u001b[0m \u001b[0;32mif\u001b[0m \u001b[0mX_csr\u001b[0m \u001b[0;32mis\u001b[0m \u001b[0;32mnot\u001b[0m \u001b[0;32mNone\u001b[0m \u001b[0;32melse\u001b[0m \u001b[0mX\u001b[0m\u001b[0;34m\u001b[0m\u001b[0;34m\u001b[0m\u001b[0m\n\u001b[1;32m   1243\u001b[0m             tree.fit(X, residual, sample_weight=sample_weight,\n\u001b[0;32m-> 1244\u001b[0;31m                      check_input=False, X_idx_sorted=X_idx_sorted)\n\u001b[0m\u001b[1;32m   1245\u001b[0m \u001b[0;34m\u001b[0m\u001b[0m\n\u001b[1;32m   1246\u001b[0m             \u001b[0;31m# update tree leaves\u001b[0m\u001b[0;34m\u001b[0m\u001b[0;34m\u001b[0m\u001b[0;34m\u001b[0m\u001b[0m\n",
      "\u001b[0;32m~/anaconda3/lib/python3.7/site-packages/sklearn/tree/tree.py\u001b[0m in \u001b[0;36mfit\u001b[0;34m(self, X, y, sample_weight, check_input, X_idx_sorted)\u001b[0m\n\u001b[1;32m   1155\u001b[0m             \u001b[0msample_weight\u001b[0m\u001b[0;34m=\u001b[0m\u001b[0msample_weight\u001b[0m\u001b[0;34m,\u001b[0m\u001b[0;34m\u001b[0m\u001b[0;34m\u001b[0m\u001b[0m\n\u001b[1;32m   1156\u001b[0m             \u001b[0mcheck_input\u001b[0m\u001b[0;34m=\u001b[0m\u001b[0mcheck_input\u001b[0m\u001b[0;34m,\u001b[0m\u001b[0;34m\u001b[0m\u001b[0;34m\u001b[0m\u001b[0m\n\u001b[0;32m-> 1157\u001b[0;31m             X_idx_sorted=X_idx_sorted)\n\u001b[0m\u001b[1;32m   1158\u001b[0m         \u001b[0;32mreturn\u001b[0m \u001b[0mself\u001b[0m\u001b[0;34m\u001b[0m\u001b[0;34m\u001b[0m\u001b[0m\n\u001b[1;32m   1159\u001b[0m \u001b[0;34m\u001b[0m\u001b[0m\n",
      "\u001b[0;32m~/anaconda3/lib/python3.7/site-packages/sklearn/tree/tree.py\u001b[0m in \u001b[0;36mfit\u001b[0;34m(self, X, y, sample_weight, check_input, X_idx_sorted)\u001b[0m\n\u001b[1;32m    378\u001b[0m                                            min_impurity_split)\n\u001b[1;32m    379\u001b[0m \u001b[0;34m\u001b[0m\u001b[0m\n\u001b[0;32m--> 380\u001b[0;31m         \u001b[0mbuilder\u001b[0m\u001b[0;34m.\u001b[0m\u001b[0mbuild\u001b[0m\u001b[0;34m(\u001b[0m\u001b[0mself\u001b[0m\u001b[0;34m.\u001b[0m\u001b[0mtree_\u001b[0m\u001b[0;34m,\u001b[0m \u001b[0mX\u001b[0m\u001b[0;34m,\u001b[0m \u001b[0my\u001b[0m\u001b[0;34m,\u001b[0m \u001b[0msample_weight\u001b[0m\u001b[0;34m,\u001b[0m \u001b[0mX_idx_sorted\u001b[0m\u001b[0;34m)\u001b[0m\u001b[0;34m\u001b[0m\u001b[0;34m\u001b[0m\u001b[0m\n\u001b[0m\u001b[1;32m    381\u001b[0m \u001b[0;34m\u001b[0m\u001b[0m\n\u001b[1;32m    382\u001b[0m         \u001b[0;32mif\u001b[0m \u001b[0mself\u001b[0m\u001b[0;34m.\u001b[0m\u001b[0mn_outputs_\u001b[0m \u001b[0;34m==\u001b[0m \u001b[0;36m1\u001b[0m\u001b[0;34m:\u001b[0m\u001b[0;34m\u001b[0m\u001b[0;34m\u001b[0m\u001b[0m\n",
      "\u001b[0;31mKeyboardInterrupt\u001b[0m: "
     ]
    }
   ],
   "source": [
    "#Tuneing Estimators\n",
    "param_grid = [{\n",
    "    \"n_estimators\" : [250, 500, 750, 1000]\n",
    "}]\n",
    "\n",
    "\n",
    "GBM = GradientBoostingClassifier(min_samples_split=3,\n",
    "                                max_depth=5,\n",
    "                                max_features=\"sqrt\",\n",
    "                                subsample=0.8, \n",
    "                                min_samples_leaf=3, \n",
    "                                random_state = 40)\n",
    "clf = GridSearchCV(GBM, param_grid=param_grid,\n",
    "                  cv = 5, scoring=\"accuracy\")\n",
    "clf.fit(dtrain[predictors], dtrain['status_group'])\n",
    "clf.best_params_"
   ]
  },
  {
   "cell_type": "code",
   "execution_count": 39,
   "metadata": {},
   "outputs": [
    {
     "data": {
      "text/plain": [
       "{'max_depth': 9, 'min_samples_split': 100}"
      ]
     },
     "execution_count": 39,
     "metadata": {},
     "output_type": "execute_result"
    }
   ],
   "source": [
    "param_grid = [{\n",
    "    \"max_depth\" : range(3, 10, 2),\n",
    "    \"min_samples_split\" : range(50, 150, 10)\n",
    "}]\n",
    "\n",
    "GBM = GradientBoostingClassifier(n_estimators = 500,\n",
    "                                max_features=\"sqrt\",\n",
    "                                subsample=0.8, \n",
    "                                min_samples_leaf=3, \n",
    "                                random_state = 40)\n",
    "clf = GridSearchCV(GBM, param_grid=param_grid,\n",
    "                  cv = 5, scoring=\"accuracy\")\n",
    "clf.fit(dtrain[predictors], dtrain['status_group'])\n",
    "clf.best_params_"
   ]
  },
  {
   "cell_type": "code",
   "execution_count": 89,
   "metadata": {},
   "outputs": [
    {
     "ename": "KeyboardInterrupt",
     "evalue": "",
     "output_type": "error",
     "traceback": [
      "\u001b[0;31m---------------------------------------------------------------------------\u001b[0m",
      "\u001b[0;31mKeyboardInterrupt\u001b[0m                         Traceback (most recent call last)",
      "\u001b[0;32m<ipython-input-89-565bc26c8cb0>\u001b[0m in \u001b[0;36m<module>\u001b[0;34m\u001b[0m\n\u001b[1;32m     12\u001b[0m clf = GridSearchCV(GBM, param_grid=param_grid,\n\u001b[1;32m     13\u001b[0m                   cv = 5, scoring=\"accuracy\")\n\u001b[0;32m---> 14\u001b[0;31m \u001b[0mclf\u001b[0m\u001b[0;34m.\u001b[0m\u001b[0mfit\u001b[0m\u001b[0;34m(\u001b[0m\u001b[0mdtrain\u001b[0m\u001b[0;34m[\u001b[0m\u001b[0mpredictors\u001b[0m\u001b[0;34m]\u001b[0m\u001b[0;34m,\u001b[0m \u001b[0mdtrain\u001b[0m\u001b[0;34m[\u001b[0m\u001b[0;34m'status_group'\u001b[0m\u001b[0;34m]\u001b[0m\u001b[0;34m)\u001b[0m\u001b[0;34m\u001b[0m\u001b[0;34m\u001b[0m\u001b[0m\n\u001b[0m\u001b[1;32m     15\u001b[0m \u001b[0mclf\u001b[0m\u001b[0;34m.\u001b[0m\u001b[0mbest_params_\u001b[0m\u001b[0;34m\u001b[0m\u001b[0;34m\u001b[0m\u001b[0m\n",
      "\u001b[0;32m~/anaconda3/lib/python3.7/site-packages/sklearn/model_selection/_search.py\u001b[0m in \u001b[0;36mfit\u001b[0;34m(self, X, y, groups, **fit_params)\u001b[0m\n\u001b[1;32m    685\u001b[0m                 \u001b[0;32mreturn\u001b[0m \u001b[0mresults\u001b[0m\u001b[0;34m\u001b[0m\u001b[0;34m\u001b[0m\u001b[0m\n\u001b[1;32m    686\u001b[0m \u001b[0;34m\u001b[0m\u001b[0m\n\u001b[0;32m--> 687\u001b[0;31m             \u001b[0mself\u001b[0m\u001b[0;34m.\u001b[0m\u001b[0m_run_search\u001b[0m\u001b[0;34m(\u001b[0m\u001b[0mevaluate_candidates\u001b[0m\u001b[0;34m)\u001b[0m\u001b[0;34m\u001b[0m\u001b[0;34m\u001b[0m\u001b[0m\n\u001b[0m\u001b[1;32m    688\u001b[0m \u001b[0;34m\u001b[0m\u001b[0m\n\u001b[1;32m    689\u001b[0m         \u001b[0;31m# For multi-metric evaluation, store the best_index_, best_params_ and\u001b[0m\u001b[0;34m\u001b[0m\u001b[0;34m\u001b[0m\u001b[0;34m\u001b[0m\u001b[0m\n",
      "\u001b[0;32m~/anaconda3/lib/python3.7/site-packages/sklearn/model_selection/_search.py\u001b[0m in \u001b[0;36m_run_search\u001b[0;34m(self, evaluate_candidates)\u001b[0m\n\u001b[1;32m   1146\u001b[0m     \u001b[0;32mdef\u001b[0m \u001b[0m_run_search\u001b[0m\u001b[0;34m(\u001b[0m\u001b[0mself\u001b[0m\u001b[0;34m,\u001b[0m \u001b[0mevaluate_candidates\u001b[0m\u001b[0;34m)\u001b[0m\u001b[0;34m:\u001b[0m\u001b[0;34m\u001b[0m\u001b[0;34m\u001b[0m\u001b[0m\n\u001b[1;32m   1147\u001b[0m         \u001b[0;34m\"\"\"Search all candidates in param_grid\"\"\"\u001b[0m\u001b[0;34m\u001b[0m\u001b[0;34m\u001b[0m\u001b[0m\n\u001b[0;32m-> 1148\u001b[0;31m         \u001b[0mevaluate_candidates\u001b[0m\u001b[0;34m(\u001b[0m\u001b[0mParameterGrid\u001b[0m\u001b[0;34m(\u001b[0m\u001b[0mself\u001b[0m\u001b[0;34m.\u001b[0m\u001b[0mparam_grid\u001b[0m\u001b[0;34m)\u001b[0m\u001b[0;34m)\u001b[0m\u001b[0;34m\u001b[0m\u001b[0;34m\u001b[0m\u001b[0m\n\u001b[0m\u001b[1;32m   1149\u001b[0m \u001b[0;34m\u001b[0m\u001b[0m\n\u001b[1;32m   1150\u001b[0m \u001b[0;34m\u001b[0m\u001b[0m\n",
      "\u001b[0;32m~/anaconda3/lib/python3.7/site-packages/sklearn/model_selection/_search.py\u001b[0m in \u001b[0;36mevaluate_candidates\u001b[0;34m(candidate_params)\u001b[0m\n\u001b[1;32m    664\u001b[0m                                \u001b[0;32mfor\u001b[0m \u001b[0mparameters\u001b[0m\u001b[0;34m,\u001b[0m \u001b[0;34m(\u001b[0m\u001b[0mtrain\u001b[0m\u001b[0;34m,\u001b[0m \u001b[0mtest\u001b[0m\u001b[0;34m)\u001b[0m\u001b[0;34m\u001b[0m\u001b[0;34m\u001b[0m\u001b[0m\n\u001b[1;32m    665\u001b[0m                                in product(candidate_params,\n\u001b[0;32m--> 666\u001b[0;31m                                           cv.split(X, y, groups)))\n\u001b[0m\u001b[1;32m    667\u001b[0m \u001b[0;34m\u001b[0m\u001b[0m\n\u001b[1;32m    668\u001b[0m                 \u001b[0;32mif\u001b[0m \u001b[0mlen\u001b[0m\u001b[0;34m(\u001b[0m\u001b[0mout\u001b[0m\u001b[0;34m)\u001b[0m \u001b[0;34m<\u001b[0m \u001b[0;36m1\u001b[0m\u001b[0;34m:\u001b[0m\u001b[0;34m\u001b[0m\u001b[0;34m\u001b[0m\u001b[0m\n",
      "\u001b[0;32m~/anaconda3/lib/python3.7/site-packages/joblib/parallel.py\u001b[0m in \u001b[0;36m__call__\u001b[0;34m(self, iterable)\u001b[0m\n\u001b[1;32m    922\u001b[0m                 \u001b[0mself\u001b[0m\u001b[0;34m.\u001b[0m\u001b[0m_iterating\u001b[0m \u001b[0;34m=\u001b[0m \u001b[0mself\u001b[0m\u001b[0;34m.\u001b[0m\u001b[0m_original_iterator\u001b[0m \u001b[0;32mis\u001b[0m \u001b[0;32mnot\u001b[0m \u001b[0;32mNone\u001b[0m\u001b[0;34m\u001b[0m\u001b[0;34m\u001b[0m\u001b[0m\n\u001b[1;32m    923\u001b[0m \u001b[0;34m\u001b[0m\u001b[0m\n\u001b[0;32m--> 924\u001b[0;31m             \u001b[0;32mwhile\u001b[0m \u001b[0mself\u001b[0m\u001b[0;34m.\u001b[0m\u001b[0mdispatch_one_batch\u001b[0m\u001b[0;34m(\u001b[0m\u001b[0miterator\u001b[0m\u001b[0;34m)\u001b[0m\u001b[0;34m:\u001b[0m\u001b[0;34m\u001b[0m\u001b[0;34m\u001b[0m\u001b[0m\n\u001b[0m\u001b[1;32m    925\u001b[0m                 \u001b[0;32mpass\u001b[0m\u001b[0;34m\u001b[0m\u001b[0;34m\u001b[0m\u001b[0m\n\u001b[1;32m    926\u001b[0m \u001b[0;34m\u001b[0m\u001b[0m\n",
      "\u001b[0;32m~/anaconda3/lib/python3.7/site-packages/joblib/parallel.py\u001b[0m in \u001b[0;36mdispatch_one_batch\u001b[0;34m(self, iterator)\u001b[0m\n\u001b[1;32m    757\u001b[0m                 \u001b[0;32mreturn\u001b[0m \u001b[0;32mFalse\u001b[0m\u001b[0;34m\u001b[0m\u001b[0;34m\u001b[0m\u001b[0m\n\u001b[1;32m    758\u001b[0m             \u001b[0;32melse\u001b[0m\u001b[0;34m:\u001b[0m\u001b[0;34m\u001b[0m\u001b[0;34m\u001b[0m\u001b[0m\n\u001b[0;32m--> 759\u001b[0;31m                 \u001b[0mself\u001b[0m\u001b[0;34m.\u001b[0m\u001b[0m_dispatch\u001b[0m\u001b[0;34m(\u001b[0m\u001b[0mtasks\u001b[0m\u001b[0;34m)\u001b[0m\u001b[0;34m\u001b[0m\u001b[0;34m\u001b[0m\u001b[0m\n\u001b[0m\u001b[1;32m    760\u001b[0m                 \u001b[0;32mreturn\u001b[0m \u001b[0;32mTrue\u001b[0m\u001b[0;34m\u001b[0m\u001b[0;34m\u001b[0m\u001b[0m\n\u001b[1;32m    761\u001b[0m \u001b[0;34m\u001b[0m\u001b[0m\n",
      "\u001b[0;32m~/anaconda3/lib/python3.7/site-packages/joblib/parallel.py\u001b[0m in \u001b[0;36m_dispatch\u001b[0;34m(self, batch)\u001b[0m\n\u001b[1;32m    714\u001b[0m         \u001b[0;32mwith\u001b[0m \u001b[0mself\u001b[0m\u001b[0;34m.\u001b[0m\u001b[0m_lock\u001b[0m\u001b[0;34m:\u001b[0m\u001b[0;34m\u001b[0m\u001b[0;34m\u001b[0m\u001b[0m\n\u001b[1;32m    715\u001b[0m             \u001b[0mjob_idx\u001b[0m \u001b[0;34m=\u001b[0m \u001b[0mlen\u001b[0m\u001b[0;34m(\u001b[0m\u001b[0mself\u001b[0m\u001b[0;34m.\u001b[0m\u001b[0m_jobs\u001b[0m\u001b[0;34m)\u001b[0m\u001b[0;34m\u001b[0m\u001b[0;34m\u001b[0m\u001b[0m\n\u001b[0;32m--> 716\u001b[0;31m             \u001b[0mjob\u001b[0m \u001b[0;34m=\u001b[0m \u001b[0mself\u001b[0m\u001b[0;34m.\u001b[0m\u001b[0m_backend\u001b[0m\u001b[0;34m.\u001b[0m\u001b[0mapply_async\u001b[0m\u001b[0;34m(\u001b[0m\u001b[0mbatch\u001b[0m\u001b[0;34m,\u001b[0m \u001b[0mcallback\u001b[0m\u001b[0;34m=\u001b[0m\u001b[0mcb\u001b[0m\u001b[0;34m)\u001b[0m\u001b[0;34m\u001b[0m\u001b[0;34m\u001b[0m\u001b[0m\n\u001b[0m\u001b[1;32m    717\u001b[0m             \u001b[0;31m# A job can complete so quickly than its callback is\u001b[0m\u001b[0;34m\u001b[0m\u001b[0;34m\u001b[0m\u001b[0;34m\u001b[0m\u001b[0m\n\u001b[1;32m    718\u001b[0m             \u001b[0;31m# called before we get here, causing self._jobs to\u001b[0m\u001b[0;34m\u001b[0m\u001b[0;34m\u001b[0m\u001b[0;34m\u001b[0m\u001b[0m\n",
      "\u001b[0;32m~/anaconda3/lib/python3.7/site-packages/joblib/_parallel_backends.py\u001b[0m in \u001b[0;36mapply_async\u001b[0;34m(self, func, callback)\u001b[0m\n\u001b[1;32m    180\u001b[0m     \u001b[0;32mdef\u001b[0m \u001b[0mapply_async\u001b[0m\u001b[0;34m(\u001b[0m\u001b[0mself\u001b[0m\u001b[0;34m,\u001b[0m \u001b[0mfunc\u001b[0m\u001b[0;34m,\u001b[0m \u001b[0mcallback\u001b[0m\u001b[0;34m=\u001b[0m\u001b[0;32mNone\u001b[0m\u001b[0;34m)\u001b[0m\u001b[0;34m:\u001b[0m\u001b[0;34m\u001b[0m\u001b[0;34m\u001b[0m\u001b[0m\n\u001b[1;32m    181\u001b[0m         \u001b[0;34m\"\"\"Schedule a func to be run\"\"\"\u001b[0m\u001b[0;34m\u001b[0m\u001b[0;34m\u001b[0m\u001b[0m\n\u001b[0;32m--> 182\u001b[0;31m         \u001b[0mresult\u001b[0m \u001b[0;34m=\u001b[0m \u001b[0mImmediateResult\u001b[0m\u001b[0;34m(\u001b[0m\u001b[0mfunc\u001b[0m\u001b[0;34m)\u001b[0m\u001b[0;34m\u001b[0m\u001b[0;34m\u001b[0m\u001b[0m\n\u001b[0m\u001b[1;32m    183\u001b[0m         \u001b[0;32mif\u001b[0m \u001b[0mcallback\u001b[0m\u001b[0;34m:\u001b[0m\u001b[0;34m\u001b[0m\u001b[0;34m\u001b[0m\u001b[0m\n\u001b[1;32m    184\u001b[0m             \u001b[0mcallback\u001b[0m\u001b[0;34m(\u001b[0m\u001b[0mresult\u001b[0m\u001b[0;34m)\u001b[0m\u001b[0;34m\u001b[0m\u001b[0;34m\u001b[0m\u001b[0m\n",
      "\u001b[0;32m~/anaconda3/lib/python3.7/site-packages/joblib/_parallel_backends.py\u001b[0m in \u001b[0;36m__init__\u001b[0;34m(self, batch)\u001b[0m\n\u001b[1;32m    547\u001b[0m         \u001b[0;31m# Don't delay the application, to avoid keeping the input\u001b[0m\u001b[0;34m\u001b[0m\u001b[0;34m\u001b[0m\u001b[0;34m\u001b[0m\u001b[0m\n\u001b[1;32m    548\u001b[0m         \u001b[0;31m# arguments in memory\u001b[0m\u001b[0;34m\u001b[0m\u001b[0;34m\u001b[0m\u001b[0;34m\u001b[0m\u001b[0m\n\u001b[0;32m--> 549\u001b[0;31m         \u001b[0mself\u001b[0m\u001b[0;34m.\u001b[0m\u001b[0mresults\u001b[0m \u001b[0;34m=\u001b[0m \u001b[0mbatch\u001b[0m\u001b[0;34m(\u001b[0m\u001b[0;34m)\u001b[0m\u001b[0;34m\u001b[0m\u001b[0;34m\u001b[0m\u001b[0m\n\u001b[0m\u001b[1;32m    550\u001b[0m \u001b[0;34m\u001b[0m\u001b[0m\n\u001b[1;32m    551\u001b[0m     \u001b[0;32mdef\u001b[0m \u001b[0mget\u001b[0m\u001b[0;34m(\u001b[0m\u001b[0mself\u001b[0m\u001b[0;34m)\u001b[0m\u001b[0;34m:\u001b[0m\u001b[0;34m\u001b[0m\u001b[0;34m\u001b[0m\u001b[0m\n",
      "\u001b[0;32m~/anaconda3/lib/python3.7/site-packages/joblib/parallel.py\u001b[0m in \u001b[0;36m__call__\u001b[0;34m(self)\u001b[0m\n\u001b[1;32m    223\u001b[0m         \u001b[0;32mwith\u001b[0m \u001b[0mparallel_backend\u001b[0m\u001b[0;34m(\u001b[0m\u001b[0mself\u001b[0m\u001b[0;34m.\u001b[0m\u001b[0m_backend\u001b[0m\u001b[0;34m,\u001b[0m \u001b[0mn_jobs\u001b[0m\u001b[0;34m=\u001b[0m\u001b[0mself\u001b[0m\u001b[0;34m.\u001b[0m\u001b[0m_n_jobs\u001b[0m\u001b[0;34m)\u001b[0m\u001b[0;34m:\u001b[0m\u001b[0;34m\u001b[0m\u001b[0;34m\u001b[0m\u001b[0m\n\u001b[1;32m    224\u001b[0m             return [func(*args, **kwargs)\n\u001b[0;32m--> 225\u001b[0;31m                     for func, args, kwargs in self.items]\n\u001b[0m\u001b[1;32m    226\u001b[0m \u001b[0;34m\u001b[0m\u001b[0m\n\u001b[1;32m    227\u001b[0m     \u001b[0;32mdef\u001b[0m \u001b[0m__len__\u001b[0m\u001b[0;34m(\u001b[0m\u001b[0mself\u001b[0m\u001b[0;34m)\u001b[0m\u001b[0;34m:\u001b[0m\u001b[0;34m\u001b[0m\u001b[0;34m\u001b[0m\u001b[0m\n",
      "\u001b[0;32m~/anaconda3/lib/python3.7/site-packages/joblib/parallel.py\u001b[0m in \u001b[0;36m<listcomp>\u001b[0;34m(.0)\u001b[0m\n\u001b[1;32m    223\u001b[0m         \u001b[0;32mwith\u001b[0m \u001b[0mparallel_backend\u001b[0m\u001b[0;34m(\u001b[0m\u001b[0mself\u001b[0m\u001b[0;34m.\u001b[0m\u001b[0m_backend\u001b[0m\u001b[0;34m,\u001b[0m \u001b[0mn_jobs\u001b[0m\u001b[0;34m=\u001b[0m\u001b[0mself\u001b[0m\u001b[0;34m.\u001b[0m\u001b[0m_n_jobs\u001b[0m\u001b[0;34m)\u001b[0m\u001b[0;34m:\u001b[0m\u001b[0;34m\u001b[0m\u001b[0;34m\u001b[0m\u001b[0m\n\u001b[1;32m    224\u001b[0m             return [func(*args, **kwargs)\n\u001b[0;32m--> 225\u001b[0;31m                     for func, args, kwargs in self.items]\n\u001b[0m\u001b[1;32m    226\u001b[0m \u001b[0;34m\u001b[0m\u001b[0m\n\u001b[1;32m    227\u001b[0m     \u001b[0;32mdef\u001b[0m \u001b[0m__len__\u001b[0m\u001b[0;34m(\u001b[0m\u001b[0mself\u001b[0m\u001b[0;34m)\u001b[0m\u001b[0;34m:\u001b[0m\u001b[0;34m\u001b[0m\u001b[0;34m\u001b[0m\u001b[0m\n",
      "\u001b[0;32m~/anaconda3/lib/python3.7/site-packages/sklearn/model_selection/_validation.py\u001b[0m in \u001b[0;36m_fit_and_score\u001b[0;34m(estimator, X, y, scorer, train, test, verbose, parameters, fit_params, return_train_score, return_parameters, return_n_test_samples, return_times, return_estimator, error_score)\u001b[0m\n\u001b[1;32m    512\u001b[0m             \u001b[0mestimator\u001b[0m\u001b[0;34m.\u001b[0m\u001b[0mfit\u001b[0m\u001b[0;34m(\u001b[0m\u001b[0mX_train\u001b[0m\u001b[0;34m,\u001b[0m \u001b[0;34m**\u001b[0m\u001b[0mfit_params\u001b[0m\u001b[0;34m)\u001b[0m\u001b[0;34m\u001b[0m\u001b[0;34m\u001b[0m\u001b[0m\n\u001b[1;32m    513\u001b[0m         \u001b[0;32melse\u001b[0m\u001b[0;34m:\u001b[0m\u001b[0;34m\u001b[0m\u001b[0;34m\u001b[0m\u001b[0m\n\u001b[0;32m--> 514\u001b[0;31m             \u001b[0mestimator\u001b[0m\u001b[0;34m.\u001b[0m\u001b[0mfit\u001b[0m\u001b[0;34m(\u001b[0m\u001b[0mX_train\u001b[0m\u001b[0;34m,\u001b[0m \u001b[0my_train\u001b[0m\u001b[0;34m,\u001b[0m \u001b[0;34m**\u001b[0m\u001b[0mfit_params\u001b[0m\u001b[0;34m)\u001b[0m\u001b[0;34m\u001b[0m\u001b[0;34m\u001b[0m\u001b[0m\n\u001b[0m\u001b[1;32m    515\u001b[0m \u001b[0;34m\u001b[0m\u001b[0m\n\u001b[1;32m    516\u001b[0m     \u001b[0;32mexcept\u001b[0m \u001b[0mException\u001b[0m \u001b[0;32mas\u001b[0m \u001b[0me\u001b[0m\u001b[0;34m:\u001b[0m\u001b[0;34m\u001b[0m\u001b[0;34m\u001b[0m\u001b[0m\n",
      "\u001b[0;32m~/anaconda3/lib/python3.7/site-packages/sklearn/ensemble/gradient_boosting.py\u001b[0m in \u001b[0;36mfit\u001b[0;34m(self, X, y, sample_weight, monitor)\u001b[0m\n\u001b[1;32m   1544\u001b[0m         n_stages = self._fit_stages(\n\u001b[1;32m   1545\u001b[0m             \u001b[0mX\u001b[0m\u001b[0;34m,\u001b[0m \u001b[0my\u001b[0m\u001b[0;34m,\u001b[0m \u001b[0mraw_predictions\u001b[0m\u001b[0;34m,\u001b[0m \u001b[0msample_weight\u001b[0m\u001b[0;34m,\u001b[0m \u001b[0mself\u001b[0m\u001b[0;34m.\u001b[0m\u001b[0m_rng\u001b[0m\u001b[0;34m,\u001b[0m \u001b[0mX_val\u001b[0m\u001b[0;34m,\u001b[0m \u001b[0my_val\u001b[0m\u001b[0;34m,\u001b[0m\u001b[0;34m\u001b[0m\u001b[0;34m\u001b[0m\u001b[0m\n\u001b[0;32m-> 1546\u001b[0;31m             sample_weight_val, begin_at_stage, monitor, X_idx_sorted)\n\u001b[0m\u001b[1;32m   1547\u001b[0m \u001b[0;34m\u001b[0m\u001b[0m\n\u001b[1;32m   1548\u001b[0m         \u001b[0;31m# change shape of arrays after fit (early-stopping or additional ests)\u001b[0m\u001b[0;34m\u001b[0m\u001b[0;34m\u001b[0m\u001b[0;34m\u001b[0m\u001b[0m\n",
      "\u001b[0;32m~/anaconda3/lib/python3.7/site-packages/sklearn/ensemble/gradient_boosting.py\u001b[0m in \u001b[0;36m_fit_stages\u001b[0;34m(self, X, y, raw_predictions, sample_weight, random_state, X_val, y_val, sample_weight_val, begin_at_stage, monitor, X_idx_sorted)\u001b[0m\n\u001b[1;32m   1608\u001b[0m             raw_predictions = self._fit_stage(\n\u001b[1;32m   1609\u001b[0m                 \u001b[0mi\u001b[0m\u001b[0;34m,\u001b[0m \u001b[0mX\u001b[0m\u001b[0;34m,\u001b[0m \u001b[0my\u001b[0m\u001b[0;34m,\u001b[0m \u001b[0mraw_predictions\u001b[0m\u001b[0;34m,\u001b[0m \u001b[0msample_weight\u001b[0m\u001b[0;34m,\u001b[0m \u001b[0msample_mask\u001b[0m\u001b[0;34m,\u001b[0m\u001b[0;34m\u001b[0m\u001b[0;34m\u001b[0m\u001b[0m\n\u001b[0;32m-> 1610\u001b[0;31m                 random_state, X_idx_sorted, X_csc, X_csr)\n\u001b[0m\u001b[1;32m   1611\u001b[0m \u001b[0;34m\u001b[0m\u001b[0m\n\u001b[1;32m   1612\u001b[0m             \u001b[0;31m# track deviance (= loss)\u001b[0m\u001b[0;34m\u001b[0m\u001b[0;34m\u001b[0m\u001b[0;34m\u001b[0m\u001b[0m\n",
      "\u001b[0;32m~/anaconda3/lib/python3.7/site-packages/sklearn/ensemble/gradient_boosting.py\u001b[0m in \u001b[0;36m_fit_stage\u001b[0;34m(self, i, X, y, raw_predictions, sample_weight, sample_mask, random_state, X_idx_sorted, X_csc, X_csr)\u001b[0m\n\u001b[1;32m   1242\u001b[0m             \u001b[0mX\u001b[0m \u001b[0;34m=\u001b[0m \u001b[0mX_csr\u001b[0m \u001b[0;32mif\u001b[0m \u001b[0mX_csr\u001b[0m \u001b[0;32mis\u001b[0m \u001b[0;32mnot\u001b[0m \u001b[0;32mNone\u001b[0m \u001b[0;32melse\u001b[0m \u001b[0mX\u001b[0m\u001b[0;34m\u001b[0m\u001b[0;34m\u001b[0m\u001b[0m\n\u001b[1;32m   1243\u001b[0m             tree.fit(X, residual, sample_weight=sample_weight,\n\u001b[0;32m-> 1244\u001b[0;31m                      check_input=False, X_idx_sorted=X_idx_sorted)\n\u001b[0m\u001b[1;32m   1245\u001b[0m \u001b[0;34m\u001b[0m\u001b[0m\n\u001b[1;32m   1246\u001b[0m             \u001b[0;31m# update tree leaves\u001b[0m\u001b[0;34m\u001b[0m\u001b[0;34m\u001b[0m\u001b[0;34m\u001b[0m\u001b[0m\n",
      "\u001b[0;32m~/anaconda3/lib/python3.7/site-packages/sklearn/tree/tree.py\u001b[0m in \u001b[0;36mfit\u001b[0;34m(self, X, y, sample_weight, check_input, X_idx_sorted)\u001b[0m\n\u001b[1;32m   1155\u001b[0m             \u001b[0msample_weight\u001b[0m\u001b[0;34m=\u001b[0m\u001b[0msample_weight\u001b[0m\u001b[0;34m,\u001b[0m\u001b[0;34m\u001b[0m\u001b[0;34m\u001b[0m\u001b[0m\n\u001b[1;32m   1156\u001b[0m             \u001b[0mcheck_input\u001b[0m\u001b[0;34m=\u001b[0m\u001b[0mcheck_input\u001b[0m\u001b[0;34m,\u001b[0m\u001b[0;34m\u001b[0m\u001b[0;34m\u001b[0m\u001b[0m\n\u001b[0;32m-> 1157\u001b[0;31m             X_idx_sorted=X_idx_sorted)\n\u001b[0m\u001b[1;32m   1158\u001b[0m         \u001b[0;32mreturn\u001b[0m \u001b[0mself\u001b[0m\u001b[0;34m\u001b[0m\u001b[0;34m\u001b[0m\u001b[0m\n\u001b[1;32m   1159\u001b[0m \u001b[0;34m\u001b[0m\u001b[0m\n",
      "\u001b[0;32m~/anaconda3/lib/python3.7/site-packages/sklearn/tree/tree.py\u001b[0m in \u001b[0;36mfit\u001b[0;34m(self, X, y, sample_weight, check_input, X_idx_sorted)\u001b[0m\n\u001b[1;32m    378\u001b[0m                                            min_impurity_split)\n\u001b[1;32m    379\u001b[0m \u001b[0;34m\u001b[0m\u001b[0m\n\u001b[0;32m--> 380\u001b[0;31m         \u001b[0mbuilder\u001b[0m\u001b[0;34m.\u001b[0m\u001b[0mbuild\u001b[0m\u001b[0;34m(\u001b[0m\u001b[0mself\u001b[0m\u001b[0;34m.\u001b[0m\u001b[0mtree_\u001b[0m\u001b[0;34m,\u001b[0m \u001b[0mX\u001b[0m\u001b[0;34m,\u001b[0m \u001b[0my\u001b[0m\u001b[0;34m,\u001b[0m \u001b[0msample_weight\u001b[0m\u001b[0;34m,\u001b[0m \u001b[0mX_idx_sorted\u001b[0m\u001b[0;34m)\u001b[0m\u001b[0;34m\u001b[0m\u001b[0;34m\u001b[0m\u001b[0m\n\u001b[0m\u001b[1;32m    381\u001b[0m \u001b[0;34m\u001b[0m\u001b[0m\n\u001b[1;32m    382\u001b[0m         \u001b[0;32mif\u001b[0m \u001b[0mself\u001b[0m\u001b[0;34m.\u001b[0m\u001b[0mn_outputs_\u001b[0m \u001b[0;34m==\u001b[0m \u001b[0;36m1\u001b[0m\u001b[0;34m:\u001b[0m\u001b[0;34m\u001b[0m\u001b[0;34m\u001b[0m\u001b[0m\n",
      "\u001b[0;31mKeyboardInterrupt\u001b[0m: "
     ]
    }
   ],
   "source": [
    "param_grid = [{\n",
    "    \"min_samples_leaf\" : range(1, 51, 10),\n",
    "    \"subsample\" : [i/10. for i in range(6,11)]\n",
    "}]\n",
    "\n",
    "GBM = GradientBoostingClassifier(n_estimators = 500,\n",
    "                                 max_depth=9,\n",
    "                                 min_samples_split=100,\n",
    "                                 max_features=\"sqrt\",\n",
    "                                 random_state = 40)\n",
    "\n",
    "clf = GridSearchCV(GBM, param_grid=param_grid,\n",
    "                  cv = 5, scoring=\"accuracy\")\n",
    "clf.fit(dtrain[predictors], dtrain['status_group'])\n",
    "clf.best_params_"
   ]
  },
  {
   "cell_type": "code",
   "execution_count": null,
   "metadata": {},
   "outputs": [],
   "source": []
  },
  {
   "cell_type": "code",
   "execution_count": null,
   "metadata": {},
   "outputs": [],
   "source": [
    "param_grid = [{\n",
    "    \"learning_rate\" : [.25, .2, .15, .1, .05, .005],\n",
    "    \"loss\" : [\"huber\", \"ls\"]\n",
    "}]\n",
    "\n",
    "GBM = GradientBoostingClassifier(n_estimators = 500,\n",
    "                                 max_depth=9,\n",
    "                                 min_samples_split=100,\n",
    "                                 max_features=\"sqrt\",\n",
    "                                 random_state = 40)\n",
    "\n",
    "clf = GridSearchCV(GBM, param_grid=param_grid,\n",
    "                  cv = 5, scoring=\"accuracy\")\n",
    "clf.fit(dtrain[predictors], dtrain['status_group'])\n",
    "clf.best_params_"
   ]
  },
  {
   "cell_type": "code",
   "execution_count": 87,
   "metadata": {},
   "outputs": [
    {
     "name": "stdout",
     "output_type": "stream",
     "text": [
      "\n",
      "Model Report\n",
      "\tAccuracy : 0.921549\n",
      "\tConfusion Matrix : \n",
      "[[31301   184   774]\n",
      " [ 1111  2979   227]\n",
      " [ 2241   123 20460]]\n",
      "\tCV Score: Mean = 0.8098 | Std = 0.003017 |\n",
      " \t\t Min = 0.8069 | Max = 0.815\n"
     ]
    },
    {
     "data": {
      "image/png": "[encoded data removed]",
      "text/plain": [
       "<Figure size 1080x720 with 1 Axes>"
      ]
     },
     "metadata": {
      "needs_background": "light"
     },
     "output_type": "display_data"
    }
   ],
   "source": [
    "modelfit(GBM, dtrain, predictors, 'status_group', objective = 'class', print_feat_imp=True)"
   ]
  },
  {
   "cell_type": "code",
   "execution_count": null,
   "metadata": {},
   "outputs": [],
   "source": []
  },
  {
   "cell_type": "markdown",
   "metadata": {},
   "source": [
    "#### Predictions"
   ]
  },
  {
   "cell_type": "code",
   "execution_count": null,
   "metadata": {},
   "outputs": [],
   "source": []
  },
  {
   "cell_type": "code",
   "execution_count": null,
   "metadata": {},
   "outputs": [],
   "source": []
  },
  {
   "cell_type": "markdown",
   "metadata": {
    "heading_collapsed": true
   },
   "source": [
    "### XGBoost"
   ]
  },
  {
   "cell_type": "markdown",
   "metadata": {
    "hidden": true
   },
   "source": [
    "#### Modeling with XGB"
   ]
  },
  {
   "cell_type": "code",
   "execution_count": 59,
   "metadata": {
    "hidden": true
   },
   "outputs": [],
   "source": [
    "XGB = XGBClassifier(learning_rate=0.1,\n",
    "                    n_estimators=1000,\n",
    "                    max_depth=5,\n",
    "                    min_child_weight=1,\n",
    "                    gamma = 0,\n",
    "                    subsample=0.8,\n",
    "                    colsample_bytree=0.8,\n",
    "                    nthread=4,\n",
    "                    scale_pos_weight=1,\n",
    "                    seed=27,\n",
    "                    objective=\"multi:softmax\",\n",
    "                    num_class = 3)"
   ]
  },
  {
   "cell_type": "code",
   "execution_count": 60,
   "metadata": {
    "hidden": true
   },
   "outputs": [
    {
     "data": {
      "text/plain": [
       "{'base_score': 0.5,\n",
       " 'booster': 'gbtree',\n",
       " 'colsample_bylevel': 1,\n",
       " 'colsample_bynode': 1,\n",
       " 'colsample_bytree': 0.8,\n",
       " 'gamma': 0,\n",
       " 'learning_rate': 0.1,\n",
       " 'max_delta_step': 0,\n",
       " 'max_depth': 5,\n",
       " 'min_child_weight': 1,\n",
       " 'missing': None,\n",
       " 'n_estimators': 1000,\n",
       " 'n_jobs': 1,\n",
       " 'nthread': 4,\n",
       " 'objective': 'multi:softmax',\n",
       " 'random_state': 0,\n",
       " 'reg_alpha': 0,\n",
       " 'reg_lambda': 1,\n",
       " 'scale_pos_weight': 1,\n",
       " 'seed': 27,\n",
       " 'silent': None,\n",
       " 'subsample': 0.8,\n",
       " 'verbosity': 1,\n",
       " 'num_class': 3}"
      ]
     },
     "execution_count": 60,
     "metadata": {},
     "output_type": "execute_result"
    }
   ],
   "source": [
    "XGB.get_params()"
   ]
  },
  {
   "cell_type": "code",
   "execution_count": 61,
   "metadata": {
    "hidden": true
   },
   "outputs": [
    {
     "name": "stdout",
     "output_type": "stream",
     "text": [
      "\n",
      "Model Report\n",
      "\tAccuracy : 0.873266\n",
      "\tConfusion Matrix : \n",
      "[[30734   230  1295]\n",
      " [ 1762  2133   422]\n",
      " [ 3672   147 19005]]\n",
      "\tCV Merror rate Training: Mean = 0.1643 | Std = 0.0009073 \n",
      " \t\t Min = 0.1167\n",
      "\tCV Merror rate Testing: Mean = 0.207 | Std = 0.003762 \n",
      " \t\t Min = 0.1947\n"
     ]
    },
    {
     "data": {
      "image/png": "[encoded data removed]",
      "text/plain": [
       "<Figure size 1080x720 with 1 Axes>"
      ]
     },
     "metadata": {
      "needs_background": "light"
     },
     "output_type": "display_data"
    }
   ],
   "source": [
    "modelfit_xgb(XGB, dtrain, predictors, 'status_group', objective = 'class', eval_metric=metrics.balanced_accuracy_score, early_stopping_rounds=None)"
   ]
  },
  {
   "cell_type": "code",
   "execution_count": 62,
   "metadata": {
    "hidden": true
   },
   "outputs": [
    {
     "name": "stdout",
     "output_type": "stream",
     "text": [
      "[0]\tvalidation_0-merror:0.279377\tvalidation_0-mlogloss:1.04116\tvalidation_1-merror:0.28367\tvalidation_1-mlogloss:1.04171\n"
     ]
    },
    {
     "name": "stderr",
     "output_type": "stream",
     "text": [
      "/home/anna/anaconda3/lib/python3.7/site-packages/sklearn/preprocessing/label.py:252: DataConversionWarning: A column-vector y was passed when a 1d array was expected. Please change the shape of y to (n_samples, ), for example using ravel().\n",
      "  y = column_or_1d(y, warn=True)\n"
     ]
    },
    {
     "name": "stdout",
     "output_type": "stream",
     "text": [
      "[1]\tvalidation_0-merror:0.277841\tvalidation_0-mlogloss:0.996056\tvalidation_1-merror:0.280303\tvalidation_1-mlogloss:0.997271\n",
      "[2]\tvalidation_0-merror:0.274979\tvalidation_0-mlogloss:0.957073\tvalidation_1-merror:0.277189\tvalidation_1-mlogloss:0.958852\n",
      "[3]\tvalidation_0-merror:0.273822\tvalidation_0-mlogloss:0.926696\tvalidation_1-merror:0.276263\tvalidation_1-mlogloss:0.928936\n",
      "[4]\tvalidation_0-merror:0.271633\tvalidation_0-mlogloss:0.896288\tvalidation_1-merror:0.27399\tvalidation_1-mlogloss:0.899065\n",
      "[5]\tvalidation_0-merror:0.270918\tvalidation_0-mlogloss:0.866647\tvalidation_1-merror:0.274158\tvalidation_1-mlogloss:0.869768\n",
      "[6]\tvalidation_0-merror:0.269465\tvalidation_0-mlogloss:0.840587\tvalidation_1-merror:0.271465\tvalidation_1-mlogloss:0.844127\n",
      "[7]\tvalidation_0-merror:0.26976\tvalidation_0-mlogloss:0.819345\tvalidation_1-merror:0.272054\tvalidation_1-mlogloss:0.82314\n",
      "[8]\tvalidation_0-merror:0.269928\tvalidation_0-mlogloss:0.798736\tvalidation_1-merror:0.273232\tvalidation_1-mlogloss:0.802952\n",
      "[9]\tvalidation_0-merror:0.268519\tvalidation_0-mlogloss:0.781736\tvalidation_1-merror:0.272054\tvalidation_1-mlogloss:0.786279\n",
      "[10]\tvalidation_0-merror:0.267466\tvalidation_0-mlogloss:0.766898\tvalidation_1-merror:0.270707\tvalidation_1-mlogloss:0.771808\n",
      "[11]\tvalidation_0-merror:0.26774\tvalidation_0-mlogloss:0.752179\tvalidation_1-merror:0.27138\tvalidation_1-mlogloss:0.757298\n",
      "[12]\tvalidation_0-merror:0.266582\tvalidation_0-mlogloss:0.738586\tvalidation_1-merror:0.269529\tvalidation_1-mlogloss:0.744021\n",
      "[13]\tvalidation_0-merror:0.26553\tvalidation_0-mlogloss:0.726277\tvalidation_1-merror:0.269529\tvalidation_1-mlogloss:0.731958\n",
      "[14]\tvalidation_0-merror:0.26532\tvalidation_0-mlogloss:0.715571\tvalidation_1-merror:0.269192\tvalidation_1-mlogloss:0.721525\n",
      "[15]\tvalidation_0-merror:0.264646\tvalidation_0-mlogloss:0.706524\tvalidation_1-merror:0.26835\tvalidation_1-mlogloss:0.712663\n",
      "[16]\tvalidation_0-merror:0.262668\tvalidation_0-mlogloss:0.697447\tvalidation_1-merror:0.267508\tvalidation_1-mlogloss:0.703956\n",
      "[17]\tvalidation_0-merror:0.26189\tvalidation_0-mlogloss:0.689184\tvalidation_1-merror:0.267003\tvalidation_1-mlogloss:0.695907\n",
      "[18]\tvalidation_0-merror:0.260838\tvalidation_0-mlogloss:0.681319\tvalidation_1-merror:0.265657\tvalidation_1-mlogloss:0.688296\n",
      "[19]\tvalidation_0-merror:0.259764\tvalidation_0-mlogloss:0.675029\tvalidation_1-merror:0.265741\tvalidation_1-mlogloss:0.682422\n",
      "[20]\tvalidation_0-merror:0.259091\tvalidation_0-mlogloss:0.66865\tvalidation_1-merror:0.264562\tvalidation_1-mlogloss:0.676236\n",
      "[21]\tvalidation_0-merror:0.258207\tvalidation_0-mlogloss:0.663143\tvalidation_1-merror:0.265152\tvalidation_1-mlogloss:0.671163\n",
      "[22]\tvalidation_0-merror:0.257471\tvalidation_0-mlogloss:0.657539\tvalidation_1-merror:0.264057\tvalidation_1-mlogloss:0.665828\n",
      "[23]\tvalidation_0-merror:0.257029\tvalidation_0-mlogloss:0.65202\tvalidation_1-merror:0.2633\tvalidation_1-mlogloss:0.660446\n",
      "[24]\tvalidation_0-merror:0.256082\tvalidation_0-mlogloss:0.64694\tvalidation_1-merror:0.262963\tvalidation_1-mlogloss:0.655631\n",
      "[25]\tvalidation_0-merror:0.255808\tvalidation_0-mlogloss:0.642469\tvalidation_1-merror:0.262121\tvalidation_1-mlogloss:0.651465\n",
      "[26]\tvalidation_0-merror:0.255829\tvalidation_0-mlogloss:0.638407\tvalidation_1-merror:0.262542\tvalidation_1-mlogloss:0.647685\n",
      "[27]\tvalidation_0-merror:0.254735\tvalidation_0-mlogloss:0.634654\tvalidation_1-merror:0.261869\tvalidation_1-mlogloss:0.64411\n",
      "[28]\tvalidation_0-merror:0.254398\tvalidation_0-mlogloss:0.630687\tvalidation_1-merror:0.2617\tvalidation_1-mlogloss:0.640462\n",
      "[29]\tvalidation_0-merror:0.254335\tvalidation_0-mlogloss:0.627519\tvalidation_1-merror:0.261279\tvalidation_1-mlogloss:0.637549\n",
      "[30]\tvalidation_0-merror:0.252967\tvalidation_0-mlogloss:0.624391\tvalidation_1-merror:0.260101\tvalidation_1-mlogloss:0.634748\n",
      "[31]\tvalidation_0-merror:0.252799\tvalidation_0-mlogloss:0.621656\tvalidation_1-merror:0.259848\tvalidation_1-mlogloss:0.632225\n",
      "[32]\tvalidation_0-merror:0.253114\tvalidation_0-mlogloss:0.618501\tvalidation_1-merror:0.259933\tvalidation_1-mlogloss:0.629192\n",
      "[33]\tvalidation_0-merror:0.252378\tvalidation_0-mlogloss:0.615717\tvalidation_1-merror:0.258838\tvalidation_1-mlogloss:0.62674\n",
      "[34]\tvalidation_0-merror:0.251789\tvalidation_0-mlogloss:0.613525\tvalidation_1-merror:0.258081\tvalidation_1-mlogloss:0.624828\n",
      "[35]\tvalidation_0-merror:0.25061\tvalidation_0-mlogloss:0.611067\tvalidation_1-merror:0.256734\tvalidation_1-mlogloss:0.62255\n",
      "[36]\tvalidation_0-merror:0.250631\tvalidation_0-mlogloss:0.608673\tvalidation_1-merror:0.256734\tvalidation_1-mlogloss:0.620311\n",
      "[37]\tvalidation_0-merror:0.249495\tvalidation_0-mlogloss:0.606543\tvalidation_1-merror:0.255892\tvalidation_1-mlogloss:0.618409\n",
      "[38]\tvalidation_0-merror:0.248948\tvalidation_0-mlogloss:0.604272\tvalidation_1-merror:0.255808\tvalidation_1-mlogloss:0.616486\n",
      "[39]\tvalidation_0-merror:0.248464\tvalidation_0-mlogloss:0.602022\tvalidation_1-merror:0.255976\tvalidation_1-mlogloss:0.614346\n",
      "[40]\tvalidation_0-merror:0.247769\tvalidation_0-mlogloss:0.599669\tvalidation_1-merror:0.255387\tvalidation_1-mlogloss:0.612301\n",
      "[41]\tvalidation_0-merror:0.247306\tvalidation_0-mlogloss:0.597756\tvalidation_1-merror:0.255303\tvalidation_1-mlogloss:0.610528\n",
      "[42]\tvalidation_0-merror:0.246864\tvalidation_0-mlogloss:0.595653\tvalidation_1-merror:0.254798\tvalidation_1-mlogloss:0.608516\n",
      "[43]\tvalidation_0-merror:0.246065\tvalidation_0-mlogloss:0.593711\tvalidation_1-merror:0.253535\tvalidation_1-mlogloss:0.606665\n",
      "[44]\tvalidation_0-merror:0.245391\tvalidation_0-mlogloss:0.592154\tvalidation_1-merror:0.252525\tvalidation_1-mlogloss:0.605343\n",
      "[45]\tvalidation_0-merror:0.245097\tvalidation_0-mlogloss:0.590445\tvalidation_1-merror:0.252104\tvalidation_1-mlogloss:0.603828\n",
      "[46]\tvalidation_0-merror:0.244844\tvalidation_0-mlogloss:0.588442\tvalidation_1-merror:0.252862\tvalidation_1-mlogloss:0.602231\n",
      "[47]\tvalidation_0-merror:0.244129\tvalidation_0-mlogloss:0.586792\tvalidation_1-merror:0.252189\tvalidation_1-mlogloss:0.600834\n",
      "[48]\tvalidation_0-merror:0.243813\tvalidation_0-mlogloss:0.584977\tvalidation_1-merror:0.251515\tvalidation_1-mlogloss:0.599202\n",
      "[49]\tvalidation_0-merror:0.242992\tvalidation_0-mlogloss:0.583155\tvalidation_1-merror:0.250421\tvalidation_1-mlogloss:0.597654\n",
      "[50]\tvalidation_0-merror:0.242887\tvalidation_0-mlogloss:0.581738\tvalidation_1-merror:0.250084\tvalidation_1-mlogloss:0.59637\n",
      "[51]\tvalidation_0-merror:0.242529\tvalidation_0-mlogloss:0.580179\tvalidation_1-merror:0.249832\tvalidation_1-mlogloss:0.595182\n",
      "[52]\tvalidation_0-merror:0.241835\tvalidation_0-mlogloss:0.578699\tvalidation_1-merror:0.249411\tvalidation_1-mlogloss:0.59391\n",
      "[53]\tvalidation_0-merror:0.241582\tvalidation_0-mlogloss:0.577205\tvalidation_1-merror:0.249411\tvalidation_1-mlogloss:0.592671\n",
      "[54]\tvalidation_0-merror:0.241372\tvalidation_0-mlogloss:0.575818\tvalidation_1-merror:0.248653\tvalidation_1-mlogloss:0.591408\n",
      "[55]\tvalidation_0-merror:0.240636\tvalidation_0-mlogloss:0.574353\tvalidation_1-merror:0.247896\tvalidation_1-mlogloss:0.590145\n",
      "[56]\tvalidation_0-merror:0.239962\tvalidation_0-mlogloss:0.573165\tvalidation_1-merror:0.247306\tvalidation_1-mlogloss:0.589206\n",
      "[57]\tvalidation_0-merror:0.23912\tvalidation_0-mlogloss:0.571562\tvalidation_1-merror:0.24638\tvalidation_1-mlogloss:0.587861\n",
      "[58]\tvalidation_0-merror:0.2383\tvalidation_0-mlogloss:0.569885\tvalidation_1-merror:0.245202\tvalidation_1-mlogloss:0.586488\n",
      "[59]\tvalidation_0-merror:0.238363\tvalidation_0-mlogloss:0.568722\tvalidation_1-merror:0.245286\tvalidation_1-mlogloss:0.585452\n",
      "[60]\tvalidation_0-merror:0.236806\tvalidation_0-mlogloss:0.567111\tvalidation_1-merror:0.243939\tvalidation_1-mlogloss:0.584132\n",
      "[61]\tvalidation_0-merror:0.236595\tvalidation_0-mlogloss:0.565775\tvalidation_1-merror:0.24335\tvalidation_1-mlogloss:0.582962\n",
      "[62]\tvalidation_0-merror:0.236111\tvalidation_0-mlogloss:0.564637\tvalidation_1-merror:0.244276\tvalidation_1-mlogloss:0.58215\n",
      "[63]\tvalidation_0-merror:0.235669\tvalidation_0-mlogloss:0.563693\tvalidation_1-merror:0.243687\tvalidation_1-mlogloss:0.581368\n",
      "[64]\tvalidation_0-merror:0.234975\tvalidation_0-mlogloss:0.562601\tvalidation_1-merror:0.244865\tvalidation_1-mlogloss:0.580535\n",
      "[65]\tvalidation_0-merror:0.234596\tvalidation_0-mlogloss:0.561658\tvalidation_1-merror:0.243013\tvalidation_1-mlogloss:0.579872\n",
      "[66]\tvalidation_0-merror:0.233628\tvalidation_0-mlogloss:0.560433\tvalidation_1-merror:0.243519\tvalidation_1-mlogloss:0.578847\n"
     ]
    },
    {
     "name": "stdout",
     "output_type": "stream",
     "text": [
      "[67]\tvalidation_0-merror:0.233123\tvalidation_0-mlogloss:0.559382\tvalidation_1-merror:0.24335\tvalidation_1-mlogloss:0.578005\n",
      "[68]\tvalidation_0-merror:0.233228\tvalidation_0-mlogloss:0.558542\tvalidation_1-merror:0.243266\tvalidation_1-mlogloss:0.577299\n",
      "[69]\tvalidation_0-merror:0.232513\tvalidation_0-mlogloss:0.557132\tvalidation_1-merror:0.242761\tvalidation_1-mlogloss:0.576269\n",
      "[70]\tvalidation_0-merror:0.23186\tvalidation_0-mlogloss:0.556217\tvalidation_1-merror:0.242003\tvalidation_1-mlogloss:0.575509\n",
      "[71]\tvalidation_0-merror:0.231923\tvalidation_0-mlogloss:0.554969\tvalidation_1-merror:0.241582\tvalidation_1-mlogloss:0.574462\n",
      "[72]\tvalidation_0-merror:0.231671\tvalidation_0-mlogloss:0.554192\tvalidation_1-merror:0.240909\tvalidation_1-mlogloss:0.573878\n",
      "[73]\tvalidation_0-merror:0.231292\tvalidation_0-mlogloss:0.553207\tvalidation_1-merror:0.241077\tvalidation_1-mlogloss:0.572962\n",
      "[74]\tvalidation_0-merror:0.231019\tvalidation_0-mlogloss:0.552512\tvalidation_1-merror:0.240404\tvalidation_1-mlogloss:0.572499\n",
      "[75]\tvalidation_0-merror:0.230029\tvalidation_0-mlogloss:0.551376\tvalidation_1-merror:0.239226\tvalidation_1-mlogloss:0.57154\n",
      "[76]\tvalidation_0-merror:0.229966\tvalidation_0-mlogloss:0.550482\tvalidation_1-merror:0.238889\tvalidation_1-mlogloss:0.570793\n",
      "[77]\tvalidation_0-merror:0.229398\tvalidation_0-mlogloss:0.549253\tvalidation_1-merror:0.23931\tvalidation_1-mlogloss:0.569846\n",
      "[78]\tvalidation_0-merror:0.228788\tvalidation_0-mlogloss:0.548385\tvalidation_1-merror:0.238468\tvalidation_1-mlogloss:0.569037\n",
      "[79]\tvalidation_0-merror:0.22843\tvalidation_0-mlogloss:0.547488\tvalidation_1-merror:0.238721\tvalidation_1-mlogloss:0.568298\n",
      "[80]\tvalidation_0-merror:0.227525\tvalidation_0-mlogloss:0.546473\tvalidation_1-merror:0.237458\tvalidation_1-mlogloss:0.567522\n",
      "[81]\tvalidation_0-merror:0.227483\tvalidation_0-mlogloss:0.545824\tvalidation_1-merror:0.236364\tvalidation_1-mlogloss:0.566912\n",
      "[82]\tvalidation_0-merror:0.226452\tvalidation_0-mlogloss:0.544954\tvalidation_1-merror:0.23569\tvalidation_1-mlogloss:0.566161\n",
      "[83]\tvalidation_0-merror:0.224642\tvalidation_0-mlogloss:0.543998\tvalidation_1-merror:0.234933\tvalidation_1-mlogloss:0.56544\n",
      "[84]\tvalidation_0-merror:0.224179\tvalidation_0-mlogloss:0.543211\tvalidation_1-merror:0.234343\tvalidation_1-mlogloss:0.564945\n",
      "[85]\tvalidation_0-merror:0.223464\tvalidation_0-mlogloss:0.542285\tvalidation_1-merror:0.234512\tvalidation_1-mlogloss:0.564243\n",
      "[86]\tvalidation_0-merror:0.222601\tvalidation_0-mlogloss:0.541269\tvalidation_1-merror:0.233838\tvalidation_1-mlogloss:0.563474\n",
      "[87]\tvalidation_0-merror:0.222264\tvalidation_0-mlogloss:0.540221\tvalidation_1-merror:0.23367\tvalidation_1-mlogloss:0.562655\n",
      "[88]\tvalidation_0-merror:0.221822\tvalidation_0-mlogloss:0.539257\tvalidation_1-merror:0.233418\tvalidation_1-mlogloss:0.561793\n",
      "[89]\tvalidation_0-merror:0.22138\tvalidation_0-mlogloss:0.53854\tvalidation_1-merror:0.233418\tvalidation_1-mlogloss:0.561287\n",
      "[90]\tvalidation_0-merror:0.221275\tvalidation_0-mlogloss:0.537553\tvalidation_1-merror:0.232912\tvalidation_1-mlogloss:0.560599\n",
      "[91]\tvalidation_0-merror:0.220665\tvalidation_0-mlogloss:0.5367\tvalidation_1-merror:0.232492\tvalidation_1-mlogloss:0.559986\n",
      "[92]\tvalidation_0-merror:0.219634\tvalidation_0-mlogloss:0.535975\tvalidation_1-merror:0.231145\tvalidation_1-mlogloss:0.559577\n",
      "[93]\tvalidation_0-merror:0.219381\tvalidation_0-mlogloss:0.535166\tvalidation_1-merror:0.231734\tvalidation_1-mlogloss:0.558982\n",
      "[94]\tvalidation_0-merror:0.219423\tvalidation_0-mlogloss:0.534563\tvalidation_1-merror:0.231566\tvalidation_1-mlogloss:0.558519\n",
      "[95]\tvalidation_0-merror:0.219171\tvalidation_0-mlogloss:0.533901\tvalidation_1-merror:0.230976\tvalidation_1-mlogloss:0.558019\n",
      "[96]\tvalidation_0-merror:0.218519\tvalidation_0-mlogloss:0.533308\tvalidation_1-merror:0.230724\tvalidation_1-mlogloss:0.557638\n",
      "[97]\tvalidation_0-merror:0.218035\tvalidation_0-mlogloss:0.532376\tvalidation_1-merror:0.230219\tvalidation_1-mlogloss:0.557037\n",
      "[98]\tvalidation_0-merror:0.21795\tvalidation_0-mlogloss:0.531692\tvalidation_1-merror:0.229798\tvalidation_1-mlogloss:0.556629\n",
      "[99]\tvalidation_0-merror:0.217003\tvalidation_0-mlogloss:0.531038\tvalidation_1-merror:0.229714\tvalidation_1-mlogloss:0.556202\n",
      "[100]\tvalidation_0-merror:0.216814\tvalidation_0-mlogloss:0.530008\tvalidation_1-merror:0.22904\tvalidation_1-mlogloss:0.55542\n",
      "[101]\tvalidation_0-merror:0.216688\tvalidation_0-mlogloss:0.529211\tvalidation_1-merror:0.228704\tvalidation_1-mlogloss:0.554856\n",
      "[102]\tvalidation_0-merror:0.216751\tvalidation_0-mlogloss:0.528405\tvalidation_1-merror:0.22862\tvalidation_1-mlogloss:0.554209\n",
      "[103]\tvalidation_0-merror:0.21612\tvalidation_0-mlogloss:0.52771\tvalidation_1-merror:0.228451\tvalidation_1-mlogloss:0.553702\n",
      "[104]\tvalidation_0-merror:0.215909\tvalidation_0-mlogloss:0.527016\tvalidation_1-merror:0.228114\tvalidation_1-mlogloss:0.553203\n",
      "[105]\tvalidation_0-merror:0.215678\tvalidation_0-mlogloss:0.526197\tvalidation_1-merror:0.227946\tvalidation_1-mlogloss:0.552615\n",
      "[106]\tvalidation_0-merror:0.215657\tvalidation_0-mlogloss:0.525595\tvalidation_1-merror:0.22803\tvalidation_1-mlogloss:0.552203\n",
      "[107]\tvalidation_0-merror:0.215614\tvalidation_0-mlogloss:0.524714\tvalidation_1-merror:0.227694\tvalidation_1-mlogloss:0.551549\n",
      "[108]\tvalidation_0-merror:0.21513\tvalidation_0-mlogloss:0.524059\tvalidation_1-merror:0.227273\tvalidation_1-mlogloss:0.551195\n",
      "[109]\tvalidation_0-merror:0.214941\tvalidation_0-mlogloss:0.523525\tvalidation_1-merror:0.226936\tvalidation_1-mlogloss:0.550805\n",
      "[110]\tvalidation_0-merror:0.214794\tvalidation_0-mlogloss:0.522878\tvalidation_1-merror:0.226936\tvalidation_1-mlogloss:0.550383\n",
      "[111]\tvalidation_0-merror:0.21452\tvalidation_0-mlogloss:0.522267\tvalidation_1-merror:0.225926\tvalidation_1-mlogloss:0.549987\n",
      "[112]\tvalidation_0-merror:0.214183\tvalidation_0-mlogloss:0.521874\tvalidation_1-merror:0.225758\tvalidation_1-mlogloss:0.549787\n",
      "[113]\tvalidation_0-merror:0.214141\tvalidation_0-mlogloss:0.521493\tvalidation_1-merror:0.225673\tvalidation_1-mlogloss:0.549565\n",
      "[114]\tvalidation_0-merror:0.213573\tvalidation_0-mlogloss:0.520784\tvalidation_1-merror:0.225842\tvalidation_1-mlogloss:0.548993\n",
      "[115]\tvalidation_0-merror:0.213089\tvalidation_0-mlogloss:0.519962\tvalidation_1-merror:0.225673\tvalidation_1-mlogloss:0.548415\n",
      "[116]\tvalidation_0-merror:0.213068\tvalidation_0-mlogloss:0.519149\tvalidation_1-merror:0.225253\tvalidation_1-mlogloss:0.547883\n",
      "[117]\tvalidation_0-merror:0.212774\tvalidation_0-mlogloss:0.518659\tvalidation_1-merror:0.224916\tvalidation_1-mlogloss:0.547598\n",
      "[118]\tvalidation_0-merror:0.212479\tvalidation_0-mlogloss:0.51812\tvalidation_1-merror:0.224495\tvalidation_1-mlogloss:0.547329\n",
      "[119]\tvalidation_0-merror:0.212079\tvalidation_0-mlogloss:0.517284\tvalidation_1-merror:0.224663\tvalidation_1-mlogloss:0.546741\n",
      "[120]\tvalidation_0-merror:0.212058\tvalidation_0-mlogloss:0.516992\tvalidation_1-merror:0.224747\tvalidation_1-mlogloss:0.546574\n",
      "[121]\tvalidation_0-merror:0.211848\tvalidation_0-mlogloss:0.516323\tvalidation_1-merror:0.224663\tvalidation_1-mlogloss:0.546135\n",
      "[122]\tvalidation_0-merror:0.211132\tvalidation_0-mlogloss:0.515461\tvalidation_1-merror:0.224579\tvalidation_1-mlogloss:0.545578\n",
      "[123]\tvalidation_0-merror:0.211048\tvalidation_0-mlogloss:0.514621\tvalidation_1-merror:0.224158\tvalidation_1-mlogloss:0.545028\n",
      "[124]\tvalidation_0-merror:0.210732\tvalidation_0-mlogloss:0.514112\tvalidation_1-merror:0.22399\tvalidation_1-mlogloss:0.544668\n",
      "[125]\tvalidation_0-merror:0.210396\tvalidation_0-mlogloss:0.513425\tvalidation_1-merror:0.223485\tvalidation_1-mlogloss:0.544177\n",
      "[126]\tvalidation_0-merror:0.209891\tvalidation_0-mlogloss:0.512909\tvalidation_1-merror:0.223064\tvalidation_1-mlogloss:0.543797\n",
      "[127]\tvalidation_0-merror:0.209428\tvalidation_0-mlogloss:0.512286\tvalidation_1-merror:0.22298\tvalidation_1-mlogloss:0.543407\n",
      "[128]\tvalidation_0-merror:0.209554\tvalidation_0-mlogloss:0.511817\tvalidation_1-merror:0.223822\tvalidation_1-mlogloss:0.543136\n",
      "[129]\tvalidation_0-merror:0.209196\tvalidation_0-mlogloss:0.511305\tvalidation_1-merror:0.223064\tvalidation_1-mlogloss:0.542777\n",
      "[130]\tvalidation_0-merror:0.209238\tvalidation_0-mlogloss:0.510642\tvalidation_1-merror:0.223401\tvalidation_1-mlogloss:0.542401\n",
      "[131]\tvalidation_0-merror:0.208754\tvalidation_0-mlogloss:0.51005\tvalidation_1-merror:0.221801\tvalidation_1-mlogloss:0.542033\n",
      "[132]\tvalidation_0-merror:0.208586\tvalidation_0-mlogloss:0.509406\tvalidation_1-merror:0.221128\tvalidation_1-mlogloss:0.541583\n"
     ]
    },
    {
     "name": "stdout",
     "output_type": "stream",
     "text": [
      "[133]\tvalidation_0-merror:0.208333\tvalidation_0-mlogloss:0.508886\tvalidation_1-merror:0.221128\tvalidation_1-mlogloss:0.541251\n",
      "[134]\tvalidation_0-merror:0.208165\tvalidation_0-mlogloss:0.508624\tvalidation_1-merror:0.22096\tvalidation_1-mlogloss:0.541053\n",
      "[135]\tvalidation_0-merror:0.208354\tvalidation_0-mlogloss:0.508257\tvalidation_1-merror:0.220875\tvalidation_1-mlogloss:0.540822\n",
      "[136]\tvalidation_0-merror:0.208291\tvalidation_0-mlogloss:0.507738\tvalidation_1-merror:0.220623\tvalidation_1-mlogloss:0.540555\n",
      "[137]\tvalidation_0-merror:0.207786\tvalidation_0-mlogloss:0.507346\tvalidation_1-merror:0.220707\tvalidation_1-mlogloss:0.540336\n",
      "[138]\tvalidation_0-merror:0.207618\tvalidation_0-mlogloss:0.506921\tvalidation_1-merror:0.22096\tvalidation_1-mlogloss:0.540153\n",
      "[139]\tvalidation_0-merror:0.207513\tvalidation_0-mlogloss:0.506404\tvalidation_1-merror:0.220202\tvalidation_1-mlogloss:0.539742\n",
      "[140]\tvalidation_0-merror:0.207239\tvalidation_0-mlogloss:0.50587\tvalidation_1-merror:0.220707\tvalidation_1-mlogloss:0.539362\n",
      "[141]\tvalidation_0-merror:0.206944\tvalidation_0-mlogloss:0.505337\tvalidation_1-merror:0.220286\tvalidation_1-mlogloss:0.539013\n",
      "[142]\tvalidation_0-merror:0.206692\tvalidation_0-mlogloss:0.505018\tvalidation_1-merror:0.219781\tvalidation_1-mlogloss:0.538772\n",
      "[143]\tvalidation_0-merror:0.206439\tvalidation_0-mlogloss:0.504549\tvalidation_1-merror:0.219949\tvalidation_1-mlogloss:0.538503\n",
      "[144]\tvalidation_0-merror:0.205808\tvalidation_0-mlogloss:0.503861\tvalidation_1-merror:0.219276\tvalidation_1-mlogloss:0.538175\n",
      "[145]\tvalidation_0-merror:0.205303\tvalidation_0-mlogloss:0.503118\tvalidation_1-merror:0.218771\tvalidation_1-mlogloss:0.537705\n",
      "[146]\tvalidation_0-merror:0.205177\tvalidation_0-mlogloss:0.502724\tvalidation_1-merror:0.219024\tvalidation_1-mlogloss:0.537505\n",
      "[147]\tvalidation_0-merror:0.20463\tvalidation_0-mlogloss:0.501995\tvalidation_1-merror:0.218603\tvalidation_1-mlogloss:0.537028\n",
      "[148]\tvalidation_0-merror:0.204272\tvalidation_0-mlogloss:0.501654\tvalidation_1-merror:0.218603\tvalidation_1-mlogloss:0.536881\n",
      "[149]\tvalidation_0-merror:0.204356\tvalidation_0-mlogloss:0.501435\tvalidation_1-merror:0.218687\tvalidation_1-mlogloss:0.536766\n",
      "[150]\tvalidation_0-merror:0.20423\tvalidation_0-mlogloss:0.500876\tvalidation_1-merror:0.219024\tvalidation_1-mlogloss:0.536464\n",
      "[151]\tvalidation_0-merror:0.204104\tvalidation_0-mlogloss:0.500584\tvalidation_1-merror:0.218687\tvalidation_1-mlogloss:0.536315\n",
      "[152]\tvalidation_0-merror:0.204061\tvalidation_0-mlogloss:0.500027\tvalidation_1-merror:0.218687\tvalidation_1-mlogloss:0.535972\n",
      "[153]\tvalidation_0-merror:0.203683\tvalidation_0-mlogloss:0.499427\tvalidation_1-merror:0.218434\tvalidation_1-mlogloss:0.535622\n",
      "[154]\tvalidation_0-merror:0.203409\tvalidation_0-mlogloss:0.498997\tvalidation_1-merror:0.218434\tvalidation_1-mlogloss:0.535381\n",
      "[155]\tvalidation_0-merror:0.203262\tvalidation_0-mlogloss:0.498467\tvalidation_1-merror:0.218182\tvalidation_1-mlogloss:0.534976\n",
      "[156]\tvalidation_0-merror:0.202925\tvalidation_0-mlogloss:0.497699\tvalidation_1-merror:0.217845\tvalidation_1-mlogloss:0.534402\n",
      "[157]\tvalidation_0-merror:0.202862\tvalidation_0-mlogloss:0.497395\tvalidation_1-merror:0.217677\tvalidation_1-mlogloss:0.534193\n",
      "[158]\tvalidation_0-merror:0.202546\tvalidation_0-mlogloss:0.496938\tvalidation_1-merror:0.217424\tvalidation_1-mlogloss:0.533954\n",
      "[159]\tvalidation_0-merror:0.202294\tvalidation_0-mlogloss:0.496486\tvalidation_1-merror:0.217172\tvalidation_1-mlogloss:0.533613\n",
      "[160]\tvalidation_0-merror:0.202168\tvalidation_0-mlogloss:0.495896\tvalidation_1-merror:0.216919\tvalidation_1-mlogloss:0.533267\n",
      "[161]\tvalidation_0-merror:0.201726\tvalidation_0-mlogloss:0.49534\tvalidation_1-merror:0.216667\tvalidation_1-mlogloss:0.532884\n",
      "[162]\tvalidation_0-merror:0.201831\tvalidation_0-mlogloss:0.494729\tvalidation_1-merror:0.216667\tvalidation_1-mlogloss:0.532572\n",
      "[163]\tvalidation_0-merror:0.201852\tvalidation_0-mlogloss:0.49437\tvalidation_1-merror:0.216835\tvalidation_1-mlogloss:0.532429\n",
      "[164]\tvalidation_0-merror:0.201641\tvalidation_0-mlogloss:0.493995\tvalidation_1-merror:0.216498\tvalidation_1-mlogloss:0.53223\n",
      "[165]\tvalidation_0-merror:0.201662\tvalidation_0-mlogloss:0.493748\tvalidation_1-merror:0.216414\tvalidation_1-mlogloss:0.532087\n",
      "[166]\tvalidation_0-merror:0.201641\tvalidation_0-mlogloss:0.493315\tvalidation_1-merror:0.216246\tvalidation_1-mlogloss:0.531799\n",
      "[167]\tvalidation_0-merror:0.201494\tvalidation_0-mlogloss:0.492888\tvalidation_1-merror:0.216246\tvalidation_1-mlogloss:0.531605\n",
      "[168]\tvalidation_0-merror:0.200905\tvalidation_0-mlogloss:0.492263\tvalidation_1-merror:0.215488\tvalidation_1-mlogloss:0.531176\n",
      "[169]\tvalidation_0-merror:0.200779\tvalidation_0-mlogloss:0.491743\tvalidation_1-merror:0.214731\tvalidation_1-mlogloss:0.530932\n",
      "[170]\tvalidation_0-merror:0.200484\tvalidation_0-mlogloss:0.491407\tvalidation_1-merror:0.214899\tvalidation_1-mlogloss:0.530832\n",
      "[171]\tvalidation_0-merror:0.200253\tvalidation_0-mlogloss:0.490982\tvalidation_1-merror:0.214899\tvalidation_1-mlogloss:0.530551\n",
      "[172]\tvalidation_0-merror:0.199411\tvalidation_0-mlogloss:0.49033\tvalidation_1-merror:0.214731\tvalidation_1-mlogloss:0.530111\n",
      "[173]\tvalidation_0-merror:0.199116\tvalidation_0-mlogloss:0.489923\tvalidation_1-merror:0.214394\tvalidation_1-mlogloss:0.529877\n",
      "[174]\tvalidation_0-merror:0.199074\tvalidation_0-mlogloss:0.489636\tvalidation_1-merror:0.214646\tvalidation_1-mlogloss:0.529828\n",
      "[175]\tvalidation_0-merror:0.198906\tvalidation_0-mlogloss:0.489116\tvalidation_1-merror:0.214226\tvalidation_1-mlogloss:0.529437\n",
      "[176]\tvalidation_0-merror:0.198611\tvalidation_0-mlogloss:0.488705\tvalidation_1-merror:0.214057\tvalidation_1-mlogloss:0.52915\n",
      "[177]\tvalidation_0-merror:0.198338\tvalidation_0-mlogloss:0.488363\tvalidation_1-merror:0.214057\tvalidation_1-mlogloss:0.528892\n",
      "[178]\tvalidation_0-merror:0.198148\tvalidation_0-mlogloss:0.488089\tvalidation_1-merror:0.213805\tvalidation_1-mlogloss:0.528738\n",
      "[179]\tvalidation_0-merror:0.198106\tvalidation_0-mlogloss:0.487639\tvalidation_1-merror:0.213805\tvalidation_1-mlogloss:0.528437\n",
      "[180]\tvalidation_0-merror:0.198106\tvalidation_0-mlogloss:0.487338\tvalidation_1-merror:0.213721\tvalidation_1-mlogloss:0.528332\n",
      "[181]\tvalidation_0-merror:0.198043\tvalidation_0-mlogloss:0.486899\tvalidation_1-merror:0.213721\tvalidation_1-mlogloss:0.528095\n",
      "[182]\tvalidation_0-merror:0.19779\tvalidation_0-mlogloss:0.486651\tvalidation_1-merror:0.213805\tvalidation_1-mlogloss:0.527958\n",
      "[183]\tvalidation_0-merror:0.197475\tvalidation_0-mlogloss:0.486171\tvalidation_1-merror:0.213636\tvalidation_1-mlogloss:0.527678\n",
      "[184]\tvalidation_0-merror:0.197391\tvalidation_0-mlogloss:0.485922\tvalidation_1-merror:0.213721\tvalidation_1-mlogloss:0.527602\n",
      "[185]\tvalidation_0-merror:0.197327\tvalidation_0-mlogloss:0.485407\tvalidation_1-merror:0.213552\tvalidation_1-mlogloss:0.527288\n",
      "[186]\tvalidation_0-merror:0.19697\tvalidation_0-mlogloss:0.48492\tvalidation_1-merror:0.213384\tvalidation_1-mlogloss:0.526944\n",
      "[187]\tvalidation_0-merror:0.196801\tvalidation_0-mlogloss:0.484408\tvalidation_1-merror:0.2133\tvalidation_1-mlogloss:0.526689\n",
      "[188]\tvalidation_0-merror:0.196338\tvalidation_0-mlogloss:0.483897\tvalidation_1-merror:0.213131\tvalidation_1-mlogloss:0.526309\n",
      "[189]\tvalidation_0-merror:0.196275\tvalidation_0-mlogloss:0.483415\tvalidation_1-merror:0.213889\tvalidation_1-mlogloss:0.526125\n",
      "[190]\tvalidation_0-merror:0.196486\tvalidation_0-mlogloss:0.483085\tvalidation_1-merror:0.213721\tvalidation_1-mlogloss:0.525977\n",
      "[191]\tvalidation_0-merror:0.196149\tvalidation_0-mlogloss:0.482642\tvalidation_1-merror:0.2133\tvalidation_1-mlogloss:0.525763\n",
      "[192]\tvalidation_0-merror:0.195833\tvalidation_0-mlogloss:0.482223\tvalidation_1-merror:0.213215\tvalidation_1-mlogloss:0.525526\n",
      "[193]\tvalidation_0-merror:0.195623\tvalidation_0-mlogloss:0.481829\tvalidation_1-merror:0.213805\tvalidation_1-mlogloss:0.525364\n",
      "[194]\tvalidation_0-merror:0.195433\tvalidation_0-mlogloss:0.481291\tvalidation_1-merror:0.213384\tvalidation_1-mlogloss:0.525154\n",
      "[195]\tvalidation_0-merror:0.195328\tvalidation_0-mlogloss:0.480924\tvalidation_1-merror:0.212374\tvalidation_1-mlogloss:0.524925\n",
      "[196]\tvalidation_0-merror:0.195202\tvalidation_0-mlogloss:0.480606\tvalidation_1-merror:0.212374\tvalidation_1-mlogloss:0.524819\n",
      "[197]\tvalidation_0-merror:0.195034\tvalidation_0-mlogloss:0.480191\tvalidation_1-merror:0.212121\tvalidation_1-mlogloss:0.52459\n",
      "[198]\tvalidation_0-merror:0.194655\tvalidation_0-mlogloss:0.47979\tvalidation_1-merror:0.212626\tvalidation_1-mlogloss:0.524344\n"
     ]
    },
    {
     "name": "stdout",
     "output_type": "stream",
     "text": [
      "[199]\tvalidation_0-merror:0.19455\tvalidation_0-mlogloss:0.479527\tvalidation_1-merror:0.212795\tvalidation_1-mlogloss:0.524248\n",
      "[200]\tvalidation_0-merror:0.194234\tvalidation_0-mlogloss:0.478967\tvalidation_1-merror:0.212795\tvalidation_1-mlogloss:0.523992\n",
      "[201]\tvalidation_0-merror:0.194003\tvalidation_0-mlogloss:0.478461\tvalidation_1-merror:0.212626\tvalidation_1-mlogloss:0.523714\n",
      "[202]\tvalidation_0-merror:0.193729\tvalidation_0-mlogloss:0.477889\tvalidation_1-merror:0.212374\tvalidation_1-mlogloss:0.523402\n",
      "[203]\tvalidation_0-merror:0.193203\tvalidation_0-mlogloss:0.477447\tvalidation_1-merror:0.212037\tvalidation_1-mlogloss:0.523256\n",
      "[204]\tvalidation_0-merror:0.193308\tvalidation_0-mlogloss:0.477083\tvalidation_1-merror:0.211953\tvalidation_1-mlogloss:0.523089\n",
      "[205]\tvalidation_0-merror:0.193245\tvalidation_0-mlogloss:0.476777\tvalidation_1-merror:0.211953\tvalidation_1-mlogloss:0.522987\n",
      "[206]\tvalidation_0-merror:0.193098\tvalidation_0-mlogloss:0.476295\tvalidation_1-merror:0.211785\tvalidation_1-mlogloss:0.52273\n",
      "[207]\tvalidation_0-merror:0.192698\tvalidation_0-mlogloss:0.475942\tvalidation_1-merror:0.211448\tvalidation_1-mlogloss:0.522468\n",
      "[208]\tvalidation_0-merror:0.192803\tvalidation_0-mlogloss:0.475711\tvalidation_1-merror:0.210606\tvalidation_1-mlogloss:0.522339\n",
      "[209]\tvalidation_0-merror:0.192677\tvalidation_0-mlogloss:0.475303\tvalidation_1-merror:0.210943\tvalidation_1-mlogloss:0.522142\n",
      "[210]\tvalidation_0-merror:0.192551\tvalidation_0-mlogloss:0.474824\tvalidation_1-merror:0.210859\tvalidation_1-mlogloss:0.522002\n",
      "[211]\tvalidation_0-merror:0.192277\tvalidation_0-mlogloss:0.474381\tvalidation_1-merror:0.211027\tvalidation_1-mlogloss:0.521734\n",
      "[212]\tvalidation_0-merror:0.192024\tvalidation_0-mlogloss:0.473947\tvalidation_1-merror:0.210438\tvalidation_1-mlogloss:0.521595\n",
      "[213]\tvalidation_0-merror:0.191898\tvalidation_0-mlogloss:0.473567\tvalidation_1-merror:0.210438\tvalidation_1-mlogloss:0.521369\n",
      "[214]\tvalidation_0-merror:0.191688\tvalidation_0-mlogloss:0.473382\tvalidation_1-merror:0.21069\tvalidation_1-mlogloss:0.521351\n",
      "[215]\tvalidation_0-merror:0.191141\tvalidation_0-mlogloss:0.473132\tvalidation_1-merror:0.210774\tvalidation_1-mlogloss:0.521211\n",
      "[216]\tvalidation_0-merror:0.191098\tvalidation_0-mlogloss:0.47256\tvalidation_1-merror:0.210859\tvalidation_1-mlogloss:0.520844\n",
      "[217]\tvalidation_0-merror:0.190993\tvalidation_0-mlogloss:0.472111\tvalidation_1-merror:0.210943\tvalidation_1-mlogloss:0.520648\n",
      "[218]\tvalidation_0-merror:0.190783\tvalidation_0-mlogloss:0.471636\tvalidation_1-merror:0.210522\tvalidation_1-mlogloss:0.520307\n",
      "[219]\tvalidation_0-merror:0.190425\tvalidation_0-mlogloss:0.471279\tvalidation_1-merror:0.210269\tvalidation_1-mlogloss:0.520017\n",
      "[220]\tvalidation_0-merror:0.190278\tvalidation_0-mlogloss:0.470996\tvalidation_1-merror:0.210269\tvalidation_1-mlogloss:0.519954\n",
      "[221]\tvalidation_0-merror:0.190109\tvalidation_0-mlogloss:0.470533\tvalidation_1-merror:0.210269\tvalidation_1-mlogloss:0.519684\n",
      "[222]\tvalidation_0-merror:0.190067\tvalidation_0-mlogloss:0.470237\tvalidation_1-merror:0.210185\tvalidation_1-mlogloss:0.519558\n",
      "[223]\tvalidation_0-merror:0.189962\tvalidation_0-mlogloss:0.469936\tvalidation_1-merror:0.210269\tvalidation_1-mlogloss:0.519455\n",
      "[224]\tvalidation_0-merror:0.189794\tvalidation_0-mlogloss:0.469505\tvalidation_1-merror:0.210438\tvalidation_1-mlogloss:0.519255\n",
      "[225]\tvalidation_0-merror:0.189625\tvalidation_0-mlogloss:0.469102\tvalidation_1-merror:0.210438\tvalidation_1-mlogloss:0.519029\n",
      "[226]\tvalidation_0-merror:0.189226\tvalidation_0-mlogloss:0.468816\tvalidation_1-merror:0.210438\tvalidation_1-mlogloss:0.518847\n",
      "[227]\tvalidation_0-merror:0.189226\tvalidation_0-mlogloss:0.468571\tvalidation_1-merror:0.210185\tvalidation_1-mlogloss:0.518769\n",
      "[228]\tvalidation_0-merror:0.188994\tvalidation_0-mlogloss:0.468323\tvalidation_1-merror:0.210101\tvalidation_1-mlogloss:0.518731\n",
      "[229]\tvalidation_0-merror:0.188973\tvalidation_0-mlogloss:0.46796\tvalidation_1-merror:0.210101\tvalidation_1-mlogloss:0.518539\n",
      "[230]\tvalidation_0-merror:0.188784\tvalidation_0-mlogloss:0.467478\tvalidation_1-merror:0.210017\tvalidation_1-mlogloss:0.51821\n",
      "[231]\tvalidation_0-merror:0.188699\tvalidation_0-mlogloss:0.467235\tvalidation_1-merror:0.209933\tvalidation_1-mlogloss:0.518068\n",
      "[232]\tvalidation_0-merror:0.1883\tvalidation_0-mlogloss:0.466782\tvalidation_1-merror:0.20968\tvalidation_1-mlogloss:0.517898\n",
      "[233]\tvalidation_0-merror:0.188363\tvalidation_0-mlogloss:0.466372\tvalidation_1-merror:0.209596\tvalidation_1-mlogloss:0.517709\n",
      "[234]\tvalidation_0-merror:0.188089\tvalidation_0-mlogloss:0.465855\tvalidation_1-merror:0.209764\tvalidation_1-mlogloss:0.517444\n",
      "[235]\tvalidation_0-merror:0.188005\tvalidation_0-mlogloss:0.465383\tvalidation_1-merror:0.209764\tvalidation_1-mlogloss:0.517219\n",
      "[236]\tvalidation_0-merror:0.187689\tvalidation_0-mlogloss:0.464867\tvalidation_1-merror:0.210017\tvalidation_1-mlogloss:0.516917\n",
      "[237]\tvalidation_0-merror:0.1875\tvalidation_0-mlogloss:0.464549\tvalidation_1-merror:0.210354\tvalidation_1-mlogloss:0.516737\n",
      "[238]\tvalidation_0-merror:0.187163\tvalidation_0-mlogloss:0.464197\tvalidation_1-merror:0.210269\tvalidation_1-mlogloss:0.516542\n",
      "[239]\tvalidation_0-merror:0.187332\tvalidation_0-mlogloss:0.463836\tvalidation_1-merror:0.210522\tvalidation_1-mlogloss:0.516379\n",
      "[240]\tvalidation_0-merror:0.187142\tvalidation_0-mlogloss:0.463375\tvalidation_1-merror:0.210606\tvalidation_1-mlogloss:0.516121\n",
      "[241]\tvalidation_0-merror:0.186742\tvalidation_0-mlogloss:0.463059\tvalidation_1-merror:0.209848\tvalidation_1-mlogloss:0.515984\n",
      "[242]\tvalidation_0-merror:0.186679\tvalidation_0-mlogloss:0.462773\tvalidation_1-merror:0.210017\tvalidation_1-mlogloss:0.515841\n",
      "[243]\tvalidation_0-merror:0.186574\tvalidation_0-mlogloss:0.462453\tvalidation_1-merror:0.209933\tvalidation_1-mlogloss:0.515737\n",
      "[244]\tvalidation_0-merror:0.186448\tvalidation_0-mlogloss:0.462226\tvalidation_1-merror:0.20968\tvalidation_1-mlogloss:0.515683\n",
      "[245]\tvalidation_0-merror:0.186322\tvalidation_0-mlogloss:0.46192\tvalidation_1-merror:0.210017\tvalidation_1-mlogloss:0.515509\n",
      "[246]\tvalidation_0-merror:0.186027\tvalidation_0-mlogloss:0.461427\tvalidation_1-merror:0.20968\tvalidation_1-mlogloss:0.515323\n",
      "[247]\tvalidation_0-merror:0.186195\tvalidation_0-mlogloss:0.461193\tvalidation_1-merror:0.209764\tvalidation_1-mlogloss:0.515264\n",
      "[248]\tvalidation_0-merror:0.185943\tvalidation_0-mlogloss:0.460815\tvalidation_1-merror:0.20968\tvalidation_1-mlogloss:0.515017\n",
      "[249]\tvalidation_0-merror:0.185901\tvalidation_0-mlogloss:0.460551\tvalidation_1-merror:0.209848\tvalidation_1-mlogloss:0.514981\n",
      "[250]\tvalidation_0-merror:0.185816\tvalidation_0-mlogloss:0.460225\tvalidation_1-merror:0.209596\tvalidation_1-mlogloss:0.514805\n",
      "[251]\tvalidation_0-merror:0.185438\tvalidation_0-mlogloss:0.459871\tvalidation_1-merror:0.209091\tvalidation_1-mlogloss:0.514597\n",
      "[252]\tvalidation_0-merror:0.185332\tvalidation_0-mlogloss:0.459582\tvalidation_1-merror:0.209175\tvalidation_1-mlogloss:0.514515\n",
      "[253]\tvalidation_0-merror:0.185248\tvalidation_0-mlogloss:0.459178\tvalidation_1-merror:0.208754\tvalidation_1-mlogloss:0.514395\n",
      "[254]\tvalidation_0-merror:0.185269\tvalidation_0-mlogloss:0.458859\tvalidation_1-merror:0.208586\tvalidation_1-mlogloss:0.51433\n",
      "[255]\tvalidation_0-merror:0.185038\tvalidation_0-mlogloss:0.458558\tvalidation_1-merror:0.208333\tvalidation_1-mlogloss:0.514181\n",
      "[256]\tvalidation_0-merror:0.184659\tvalidation_0-mlogloss:0.458213\tvalidation_1-merror:0.208923\tvalidation_1-mlogloss:0.514056\n",
      "[257]\tvalidation_0-merror:0.184638\tvalidation_0-mlogloss:0.457998\tvalidation_1-merror:0.208838\tvalidation_1-mlogloss:0.513984\n",
      "[258]\tvalidation_0-merror:0.184407\tvalidation_0-mlogloss:0.457534\tvalidation_1-merror:0.208923\tvalidation_1-mlogloss:0.513751\n",
      "[259]\tvalidation_0-merror:0.184512\tvalidation_0-mlogloss:0.457179\tvalidation_1-merror:0.208586\tvalidation_1-mlogloss:0.513566\n",
      "[260]\tvalidation_0-merror:0.184301\tvalidation_0-mlogloss:0.456747\tvalidation_1-merror:0.208923\tvalidation_1-mlogloss:0.513408\n",
      "[261]\tvalidation_0-merror:0.184091\tvalidation_0-mlogloss:0.456428\tvalidation_1-merror:0.208333\tvalidation_1-mlogloss:0.513381\n",
      "[262]\tvalidation_0-merror:0.183754\tvalidation_0-mlogloss:0.456151\tvalidation_1-merror:0.20867\tvalidation_1-mlogloss:0.513276\n",
      "[263]\tvalidation_0-merror:0.183502\tvalidation_0-mlogloss:0.455788\tvalidation_1-merror:0.208586\tvalidation_1-mlogloss:0.513101\n",
      "[264]\tvalidation_0-merror:0.183375\tvalidation_0-mlogloss:0.455588\tvalidation_1-merror:0.208418\tvalidation_1-mlogloss:0.513032\n"
     ]
    },
    {
     "name": "stdout",
     "output_type": "stream",
     "text": [
      "[265]\tvalidation_0-merror:0.182933\tvalidation_0-mlogloss:0.45528\tvalidation_1-merror:0.208081\tvalidation_1-mlogloss:0.512962\n",
      "[266]\tvalidation_0-merror:0.182807\tvalidation_0-mlogloss:0.454969\tvalidation_1-merror:0.208165\tvalidation_1-mlogloss:0.512756\n",
      "[267]\tvalidation_0-merror:0.182849\tvalidation_0-mlogloss:0.454767\tvalidation_1-merror:0.207744\tvalidation_1-mlogloss:0.512713\n",
      "[268]\tvalidation_0-merror:0.182744\tvalidation_0-mlogloss:0.454473\tvalidation_1-merror:0.207239\tvalidation_1-mlogloss:0.512546\n",
      "[269]\tvalidation_0-merror:0.182681\tvalidation_0-mlogloss:0.4543\tvalidation_1-merror:0.207492\tvalidation_1-mlogloss:0.512531\n",
      "[270]\tvalidation_0-merror:0.18266\tvalidation_0-mlogloss:0.453893\tvalidation_1-merror:0.207997\tvalidation_1-mlogloss:0.512432\n",
      "[271]\tvalidation_0-merror:0.182471\tvalidation_0-mlogloss:0.453638\tvalidation_1-merror:0.207997\tvalidation_1-mlogloss:0.512321\n",
      "[272]\tvalidation_0-merror:0.182365\tvalidation_0-mlogloss:0.453306\tvalidation_1-merror:0.207997\tvalidation_1-mlogloss:0.512139\n",
      "[273]\tvalidation_0-merror:0.181818\tvalidation_0-mlogloss:0.452922\tvalidation_1-merror:0.208081\tvalidation_1-mlogloss:0.511884\n",
      "[274]\tvalidation_0-merror:0.181734\tvalidation_0-mlogloss:0.452518\tvalidation_1-merror:0.207744\tvalidation_1-mlogloss:0.511749\n",
      "[275]\tvalidation_0-merror:0.181755\tvalidation_0-mlogloss:0.452288\tvalidation_1-merror:0.207912\tvalidation_1-mlogloss:0.511651\n",
      "[276]\tvalidation_0-merror:0.181481\tvalidation_0-mlogloss:0.451925\tvalidation_1-merror:0.207997\tvalidation_1-mlogloss:0.511499\n",
      "[277]\tvalidation_0-merror:0.18146\tvalidation_0-mlogloss:0.451604\tvalidation_1-merror:0.20766\tvalidation_1-mlogloss:0.511299\n",
      "[278]\tvalidation_0-merror:0.181124\tvalidation_0-mlogloss:0.451248\tvalidation_1-merror:0.207492\tvalidation_1-mlogloss:0.511164\n",
      "[279]\tvalidation_0-merror:0.180934\tvalidation_0-mlogloss:0.450959\tvalidation_1-merror:0.207155\tvalidation_1-mlogloss:0.511123\n",
      "[280]\tvalidation_0-merror:0.180787\tvalidation_0-mlogloss:0.450728\tvalidation_1-merror:0.207239\tvalidation_1-mlogloss:0.511034\n",
      "[281]\tvalidation_0-merror:0.180619\tvalidation_0-mlogloss:0.450479\tvalidation_1-merror:0.207239\tvalidation_1-mlogloss:0.510948\n",
      "[282]\tvalidation_0-merror:0.180471\tvalidation_0-mlogloss:0.450174\tvalidation_1-merror:0.207323\tvalidation_1-mlogloss:0.510868\n",
      "[283]\tvalidation_0-merror:0.180513\tvalidation_0-mlogloss:0.449874\tvalidation_1-merror:0.207407\tvalidation_1-mlogloss:0.510782\n",
      "[284]\tvalidation_0-merror:0.180156\tvalidation_0-mlogloss:0.449419\tvalidation_1-merror:0.207071\tvalidation_1-mlogloss:0.510633\n",
      "[285]\tvalidation_0-merror:0.179945\tvalidation_0-mlogloss:0.449254\tvalidation_1-merror:0.207155\tvalidation_1-mlogloss:0.51052\n",
      "[286]\tvalidation_0-merror:0.179924\tvalidation_0-mlogloss:0.449076\tvalidation_1-merror:0.207071\tvalidation_1-mlogloss:0.510467\n",
      "[287]\tvalidation_0-merror:0.179756\tvalidation_0-mlogloss:0.448827\tvalidation_1-merror:0.206818\tvalidation_1-mlogloss:0.510323\n",
      "[288]\tvalidation_0-merror:0.179756\tvalidation_0-mlogloss:0.448529\tvalidation_1-merror:0.20665\tvalidation_1-mlogloss:0.510198\n",
      "[289]\tvalidation_0-merror:0.17963\tvalidation_0-mlogloss:0.44825\tvalidation_1-merror:0.206566\tvalidation_1-mlogloss:0.510097\n",
      "[290]\tvalidation_0-merror:0.179503\tvalidation_0-mlogloss:0.447988\tvalidation_1-merror:0.206734\tvalidation_1-mlogloss:0.510065\n",
      "[291]\tvalidation_0-merror:0.179545\tvalidation_0-mlogloss:0.447723\tvalidation_1-merror:0.207071\tvalidation_1-mlogloss:0.51002\n",
      "[292]\tvalidation_0-merror:0.179461\tvalidation_0-mlogloss:0.4475\tvalidation_1-merror:0.206818\tvalidation_1-mlogloss:0.509927\n",
      "[293]\tvalidation_0-merror:0.179524\tvalidation_0-mlogloss:0.447126\tvalidation_1-merror:0.206734\tvalidation_1-mlogloss:0.509785\n",
      "[294]\tvalidation_0-merror:0.179314\tvalidation_0-mlogloss:0.446916\tvalidation_1-merror:0.206734\tvalidation_1-mlogloss:0.50976\n",
      "[295]\tvalidation_0-merror:0.179293\tvalidation_0-mlogloss:0.446631\tvalidation_1-merror:0.206902\tvalidation_1-mlogloss:0.509708\n",
      "[296]\tvalidation_0-merror:0.179167\tvalidation_0-mlogloss:0.446331\tvalidation_1-merror:0.20665\tvalidation_1-mlogloss:0.509517\n",
      "[297]\tvalidation_0-merror:0.179082\tvalidation_0-mlogloss:0.446079\tvalidation_1-merror:0.206313\tvalidation_1-mlogloss:0.509399\n",
      "[298]\tvalidation_0-merror:0.178956\tvalidation_0-mlogloss:0.44578\tvalidation_1-merror:0.206481\tvalidation_1-mlogloss:0.509319\n",
      "[299]\tvalidation_0-merror:0.178746\tvalidation_0-mlogloss:0.445588\tvalidation_1-merror:0.206397\tvalidation_1-mlogloss:0.509246\n",
      "[300]\tvalidation_0-merror:0.17843\tvalidation_0-mlogloss:0.445286\tvalidation_1-merror:0.206313\tvalidation_1-mlogloss:0.509137\n",
      "[301]\tvalidation_0-merror:0.178514\tvalidation_0-mlogloss:0.445088\tvalidation_1-merror:0.205892\tvalidation_1-mlogloss:0.509024\n",
      "[302]\tvalidation_0-merror:0.178241\tvalidation_0-mlogloss:0.444712\tvalidation_1-merror:0.205471\tvalidation_1-mlogloss:0.508823\n",
      "[303]\tvalidation_0-merror:0.178072\tvalidation_0-mlogloss:0.444337\tvalidation_1-merror:0.206061\tvalidation_1-mlogloss:0.508695\n",
      "[304]\tvalidation_0-merror:0.177925\tvalidation_0-mlogloss:0.44409\tvalidation_1-merror:0.205724\tvalidation_1-mlogloss:0.508599\n",
      "[305]\tvalidation_0-merror:0.17763\tvalidation_0-mlogloss:0.443692\tvalidation_1-merror:0.205556\tvalidation_1-mlogloss:0.508399\n",
      "[306]\tvalidation_0-merror:0.177525\tvalidation_0-mlogloss:0.443289\tvalidation_1-merror:0.205387\tvalidation_1-mlogloss:0.508114\n",
      "[307]\tvalidation_0-merror:0.177252\tvalidation_0-mlogloss:0.443059\tvalidation_1-merror:0.205135\tvalidation_1-mlogloss:0.508143\n",
      "[308]\tvalidation_0-merror:0.177104\tvalidation_0-mlogloss:0.442775\tvalidation_1-merror:0.205219\tvalidation_1-mlogloss:0.508003\n",
      "[309]\tvalidation_0-merror:0.17721\tvalidation_0-mlogloss:0.442447\tvalidation_1-merror:0.204798\tvalidation_1-mlogloss:0.507881\n",
      "[310]\tvalidation_0-merror:0.177231\tvalidation_0-mlogloss:0.44224\tvalidation_1-merror:0.205135\tvalidation_1-mlogloss:0.507848\n",
      "[311]\tvalidation_0-merror:0.177062\tvalidation_0-mlogloss:0.442036\tvalidation_1-merror:0.204714\tvalidation_1-mlogloss:0.507723\n",
      "[312]\tvalidation_0-merror:0.176873\tvalidation_0-mlogloss:0.441742\tvalidation_1-merror:0.204714\tvalidation_1-mlogloss:0.507616\n",
      "[313]\tvalidation_0-merror:0.176789\tvalidation_0-mlogloss:0.441325\tvalidation_1-merror:0.204714\tvalidation_1-mlogloss:0.507454\n",
      "[314]\tvalidation_0-merror:0.176662\tvalidation_0-mlogloss:0.440966\tvalidation_1-merror:0.204714\tvalidation_1-mlogloss:0.507198\n",
      "[315]\tvalidation_0-merror:0.17662\tvalidation_0-mlogloss:0.44074\tvalidation_1-merror:0.20463\tvalidation_1-mlogloss:0.507046\n",
      "[316]\tvalidation_0-merror:0.176515\tvalidation_0-mlogloss:0.440391\tvalidation_1-merror:0.204377\tvalidation_1-mlogloss:0.506948\n",
      "[317]\tvalidation_0-merror:0.176494\tvalidation_0-mlogloss:0.440131\tvalidation_1-merror:0.204545\tvalidation_1-mlogloss:0.506859\n",
      "[318]\tvalidation_0-merror:0.176389\tvalidation_0-mlogloss:0.439849\tvalidation_1-merror:0.20463\tvalidation_1-mlogloss:0.506816\n",
      "[319]\tvalidation_0-merror:0.176094\tvalidation_0-mlogloss:0.439499\tvalidation_1-merror:0.204966\tvalidation_1-mlogloss:0.506623\n",
      "[320]\tvalidation_0-merror:0.176115\tvalidation_0-mlogloss:0.439216\tvalidation_1-merror:0.204966\tvalidation_1-mlogloss:0.506513\n",
      "[321]\tvalidation_0-merror:0.176052\tvalidation_0-mlogloss:0.438854\tvalidation_1-merror:0.205471\tvalidation_1-mlogloss:0.506365\n",
      "[322]\tvalidation_0-merror:0.175779\tvalidation_0-mlogloss:0.438555\tvalidation_1-merror:0.205387\tvalidation_1-mlogloss:0.506253\n",
      "[323]\tvalidation_0-merror:0.175484\tvalidation_0-mlogloss:0.438267\tvalidation_1-merror:0.20564\tvalidation_1-mlogloss:0.506175\n",
      "[324]\tvalidation_0-merror:0.175358\tvalidation_0-mlogloss:0.438022\tvalidation_1-merror:0.20564\tvalidation_1-mlogloss:0.506111\n",
      "[325]\tvalidation_0-merror:0.175147\tvalidation_0-mlogloss:0.437758\tvalidation_1-merror:0.205219\tvalidation_1-mlogloss:0.506008\n",
      "[326]\tvalidation_0-merror:0.175084\tvalidation_0-mlogloss:0.43753\tvalidation_1-merror:0.205387\tvalidation_1-mlogloss:0.505915\n",
      "[327]\tvalidation_0-merror:0.175084\tvalidation_0-mlogloss:0.437356\tvalidation_1-merror:0.20505\tvalidation_1-mlogloss:0.505889\n",
      "[328]\tvalidation_0-merror:0.174979\tvalidation_0-mlogloss:0.437165\tvalidation_1-merror:0.204966\tvalidation_1-mlogloss:0.505884\n",
      "[329]\tvalidation_0-merror:0.174663\tvalidation_0-mlogloss:0.436966\tvalidation_1-merror:0.204882\tvalidation_1-mlogloss:0.505891\n",
      "[330]\tvalidation_0-merror:0.174474\tvalidation_0-mlogloss:0.436701\tvalidation_1-merror:0.205135\tvalidation_1-mlogloss:0.505879\n"
     ]
    },
    {
     "name": "stdout",
     "output_type": "stream",
     "text": [
      "[331]\tvalidation_0-merror:0.174558\tvalidation_0-mlogloss:0.436511\tvalidation_1-merror:0.205135\tvalidation_1-mlogloss:0.505853\n",
      "[332]\tvalidation_0-merror:0.174327\tvalidation_0-mlogloss:0.43617\tvalidation_1-merror:0.204545\tvalidation_1-mlogloss:0.505781\n",
      "[333]\tvalidation_0-merror:0.174116\tvalidation_0-mlogloss:0.435918\tvalidation_1-merror:0.204966\tvalidation_1-mlogloss:0.505763\n",
      "[334]\tvalidation_0-merror:0.174074\tvalidation_0-mlogloss:0.435722\tvalidation_1-merror:0.204798\tvalidation_1-mlogloss:0.505691\n",
      "[335]\tvalidation_0-merror:0.173927\tvalidation_0-mlogloss:0.435481\tvalidation_1-merror:0.20505\tvalidation_1-mlogloss:0.505591\n",
      "[336]\tvalidation_0-merror:0.173885\tvalidation_0-mlogloss:0.43529\tvalidation_1-merror:0.204882\tvalidation_1-mlogloss:0.505591\n",
      "[337]\tvalidation_0-merror:0.173737\tvalidation_0-mlogloss:0.435153\tvalidation_1-merror:0.204966\tvalidation_1-mlogloss:0.505576\n",
      "[338]\tvalidation_0-merror:0.173611\tvalidation_0-mlogloss:0.434884\tvalidation_1-merror:0.204798\tvalidation_1-mlogloss:0.505518\n",
      "[339]\tvalidation_0-merror:0.173611\tvalidation_0-mlogloss:0.434645\tvalidation_1-merror:0.204966\tvalidation_1-mlogloss:0.505465\n",
      "[340]\tvalidation_0-merror:0.173359\tvalidation_0-mlogloss:0.434339\tvalidation_1-merror:0.204798\tvalidation_1-mlogloss:0.50536\n",
      "[341]\tvalidation_0-merror:0.173359\tvalidation_0-mlogloss:0.434073\tvalidation_1-merror:0.204882\tvalidation_1-mlogloss:0.505258\n",
      "[342]\tvalidation_0-merror:0.173253\tvalidation_0-mlogloss:0.433813\tvalidation_1-merror:0.204714\tvalidation_1-mlogloss:0.505285\n",
      "[343]\tvalidation_0-merror:0.173253\tvalidation_0-mlogloss:0.433443\tvalidation_1-merror:0.204714\tvalidation_1-mlogloss:0.505168\n",
      "[344]\tvalidation_0-merror:0.172938\tvalidation_0-mlogloss:0.433209\tvalidation_1-merror:0.204461\tvalidation_1-mlogloss:0.505047\n",
      "[345]\tvalidation_0-merror:0.172643\tvalidation_0-mlogloss:0.432891\tvalidation_1-merror:0.204377\tvalidation_1-mlogloss:0.50485\n",
      "[346]\tvalidation_0-merror:0.172496\tvalidation_0-mlogloss:0.432681\tvalidation_1-merror:0.20463\tvalidation_1-mlogloss:0.504813\n",
      "[347]\tvalidation_0-merror:0.172664\tvalidation_0-mlogloss:0.432411\tvalidation_1-merror:0.204714\tvalidation_1-mlogloss:0.504666\n",
      "[348]\tvalidation_0-merror:0.172538\tvalidation_0-mlogloss:0.432162\tvalidation_1-merror:0.204545\tvalidation_1-mlogloss:0.504561\n",
      "[349]\tvalidation_0-merror:0.17237\tvalidation_0-mlogloss:0.431865\tvalidation_1-merror:0.204461\tvalidation_1-mlogloss:0.504434\n",
      "[350]\tvalidation_0-merror:0.172327\tvalidation_0-mlogloss:0.431683\tvalidation_1-merror:0.204209\tvalidation_1-mlogloss:0.504383\n",
      "[351]\tvalidation_0-merror:0.172138\tvalidation_0-mlogloss:0.431489\tvalidation_1-merror:0.203956\tvalidation_1-mlogloss:0.50432\n",
      "[352]\tvalidation_0-merror:0.17197\tvalidation_0-mlogloss:0.431192\tvalidation_1-merror:0.204209\tvalidation_1-mlogloss:0.504209\n",
      "[353]\tvalidation_0-merror:0.171759\tvalidation_0-mlogloss:0.430944\tvalidation_1-merror:0.204293\tvalidation_1-mlogloss:0.504182\n",
      "[354]\tvalidation_0-merror:0.171801\tvalidation_0-mlogloss:0.430648\tvalidation_1-merror:0.204377\tvalidation_1-mlogloss:0.504138\n",
      "[355]\tvalidation_0-merror:0.171738\tvalidation_0-mlogloss:0.430384\tvalidation_1-merror:0.203956\tvalidation_1-mlogloss:0.504014\n",
      "[356]\tvalidation_0-merror:0.171675\tvalidation_0-mlogloss:0.430094\tvalidation_1-merror:0.203872\tvalidation_1-mlogloss:0.504007\n",
      "[357]\tvalidation_0-merror:0.171444\tvalidation_0-mlogloss:0.429789\tvalidation_1-merror:0.203535\tvalidation_1-mlogloss:0.50387\n",
      "[358]\tvalidation_0-merror:0.171423\tvalidation_0-mlogloss:0.429653\tvalidation_1-merror:0.203367\tvalidation_1-mlogloss:0.503811\n",
      "[359]\tvalidation_0-merror:0.171317\tvalidation_0-mlogloss:0.429309\tvalidation_1-merror:0.202778\tvalidation_1-mlogloss:0.503671\n",
      "[360]\tvalidation_0-merror:0.171086\tvalidation_0-mlogloss:0.429057\tvalidation_1-merror:0.202862\tvalidation_1-mlogloss:0.503611\n",
      "[361]\tvalidation_0-merror:0.17096\tvalidation_0-mlogloss:0.428888\tvalidation_1-merror:0.202694\tvalidation_1-mlogloss:0.503606\n",
      "[362]\tvalidation_0-merror:0.171044\tvalidation_0-mlogloss:0.428595\tvalidation_1-merror:0.202946\tvalidation_1-mlogloss:0.503519\n",
      "[363]\tvalidation_0-merror:0.171002\tvalidation_0-mlogloss:0.428322\tvalidation_1-merror:0.202862\tvalidation_1-mlogloss:0.503487\n",
      "[364]\tvalidation_0-merror:0.170854\tvalidation_0-mlogloss:0.428011\tvalidation_1-merror:0.203199\tvalidation_1-mlogloss:0.503328\n",
      "[365]\tvalidation_0-merror:0.170896\tvalidation_0-mlogloss:0.427763\tvalidation_1-merror:0.202946\tvalidation_1-mlogloss:0.503229\n",
      "[366]\tvalidation_0-merror:0.170854\tvalidation_0-mlogloss:0.42752\tvalidation_1-merror:0.202946\tvalidation_1-mlogloss:0.503195\n",
      "[367]\tvalidation_0-merror:0.170581\tvalidation_0-mlogloss:0.427148\tvalidation_1-merror:0.203199\tvalidation_1-mlogloss:0.503075\n",
      "[368]\tvalidation_0-merror:0.170434\tvalidation_0-mlogloss:0.426799\tvalidation_1-merror:0.20303\tvalidation_1-mlogloss:0.502959\n",
      "[369]\tvalidation_0-merror:0.170328\tvalidation_0-mlogloss:0.426506\tvalidation_1-merror:0.202778\tvalidation_1-mlogloss:0.502827\n",
      "[370]\tvalidation_0-merror:0.170139\tvalidation_0-mlogloss:0.426139\tvalidation_1-merror:0.203114\tvalidation_1-mlogloss:0.502694\n",
      "[371]\tvalidation_0-merror:0.16995\tvalidation_0-mlogloss:0.425907\tvalidation_1-merror:0.203451\tvalidation_1-mlogloss:0.502599\n",
      "[372]\tvalidation_0-merror:0.16976\tvalidation_0-mlogloss:0.425712\tvalidation_1-merror:0.203283\tvalidation_1-mlogloss:0.502525\n",
      "[373]\tvalidation_0-merror:0.16976\tvalidation_0-mlogloss:0.425546\tvalidation_1-merror:0.203199\tvalidation_1-mlogloss:0.502504\n",
      "[374]\tvalidation_0-merror:0.16976\tvalidation_0-mlogloss:0.425269\tvalidation_1-merror:0.202946\tvalidation_1-mlogloss:0.502482\n",
      "[375]\tvalidation_0-merror:0.169802\tvalidation_0-mlogloss:0.42506\tvalidation_1-merror:0.20303\tvalidation_1-mlogloss:0.502458\n",
      "[376]\tvalidation_0-merror:0.169634\tvalidation_0-mlogloss:0.424853\tvalidation_1-merror:0.202946\tvalidation_1-mlogloss:0.502441\n",
      "[377]\tvalidation_0-merror:0.16936\tvalidation_0-mlogloss:0.424571\tvalidation_1-merror:0.20303\tvalidation_1-mlogloss:0.502352\n",
      "[378]\tvalidation_0-merror:0.169276\tvalidation_0-mlogloss:0.424333\tvalidation_1-merror:0.203283\tvalidation_1-mlogloss:0.502271\n",
      "[379]\tvalidation_0-merror:0.168981\tvalidation_0-mlogloss:0.42407\tvalidation_1-merror:0.203199\tvalidation_1-mlogloss:0.502207\n",
      "[380]\tvalidation_0-merror:0.168855\tvalidation_0-mlogloss:0.42382\tvalidation_1-merror:0.203114\tvalidation_1-mlogloss:0.502065\n",
      "[381]\tvalidation_0-merror:0.168792\tvalidation_0-mlogloss:0.423631\tvalidation_1-merror:0.203114\tvalidation_1-mlogloss:0.502048\n",
      "[382]\tvalidation_0-merror:0.168687\tvalidation_0-mlogloss:0.423393\tvalidation_1-merror:0.202778\tvalidation_1-mlogloss:0.501951\n",
      "[383]\tvalidation_0-merror:0.168476\tvalidation_0-mlogloss:0.423181\tvalidation_1-merror:0.202778\tvalidation_1-mlogloss:0.501883\n",
      "[384]\tvalidation_0-merror:0.168413\tvalidation_0-mlogloss:0.422921\tvalidation_1-merror:0.202694\tvalidation_1-mlogloss:0.501819\n",
      "[385]\tvalidation_0-merror:0.16835\tvalidation_0-mlogloss:0.422737\tvalidation_1-merror:0.202694\tvalidation_1-mlogloss:0.501797\n",
      "[386]\tvalidation_0-merror:0.168161\tvalidation_0-mlogloss:0.42249\tvalidation_1-merror:0.202441\tvalidation_1-mlogloss:0.501728\n",
      "[387]\tvalidation_0-merror:0.168077\tvalidation_0-mlogloss:0.422171\tvalidation_1-merror:0.202189\tvalidation_1-mlogloss:0.50162\n",
      "[388]\tvalidation_0-merror:0.16795\tvalidation_0-mlogloss:0.421909\tvalidation_1-merror:0.202441\tvalidation_1-mlogloss:0.501535\n",
      "[389]\tvalidation_0-merror:0.167929\tvalidation_0-mlogloss:0.42162\tvalidation_1-merror:0.202273\tvalidation_1-mlogloss:0.501463\n",
      "[390]\tvalidation_0-merror:0.167803\tvalidation_0-mlogloss:0.42148\tvalidation_1-merror:0.202189\tvalidation_1-mlogloss:0.501451\n",
      "[391]\tvalidation_0-merror:0.167551\tvalidation_0-mlogloss:0.42133\tvalidation_1-merror:0.202441\tvalidation_1-mlogloss:0.501417\n",
      "[392]\tvalidation_0-merror:0.167614\tvalidation_0-mlogloss:0.421164\tvalidation_1-merror:0.202273\tvalidation_1-mlogloss:0.501368\n",
      "[393]\tvalidation_0-merror:0.167593\tvalidation_0-mlogloss:0.420968\tvalidation_1-merror:0.202189\tvalidation_1-mlogloss:0.501298\n",
      "[394]\tvalidation_0-merror:0.167445\tvalidation_0-mlogloss:0.420797\tvalidation_1-merror:0.202441\tvalidation_1-mlogloss:0.501305\n",
      "[395]\tvalidation_0-merror:0.167466\tvalidation_0-mlogloss:0.420665\tvalidation_1-merror:0.202357\tvalidation_1-mlogloss:0.50125\n",
      "[396]\tvalidation_0-merror:0.167382\tvalidation_0-mlogloss:0.420432\tvalidation_1-merror:0.202189\tvalidation_1-mlogloss:0.501189\n"
     ]
    },
    {
     "name": "stdout",
     "output_type": "stream",
     "text": [
      "[397]\tvalidation_0-merror:0.167193\tvalidation_0-mlogloss:0.420213\tvalidation_1-merror:0.202104\tvalidation_1-mlogloss:0.501074\n",
      "[398]\tvalidation_0-merror:0.167298\tvalidation_0-mlogloss:0.419964\tvalidation_1-merror:0.201768\tvalidation_1-mlogloss:0.500981\n",
      "[399]\tvalidation_0-merror:0.167277\tvalidation_0-mlogloss:0.419711\tvalidation_1-merror:0.201768\tvalidation_1-mlogloss:0.500965\n",
      "[400]\tvalidation_0-merror:0.167214\tvalidation_0-mlogloss:0.419412\tvalidation_1-merror:0.201936\tvalidation_1-mlogloss:0.500933\n",
      "[401]\tvalidation_0-merror:0.167109\tvalidation_0-mlogloss:0.419192\tvalidation_1-merror:0.201852\tvalidation_1-mlogloss:0.500894\n",
      "[402]\tvalidation_0-merror:0.16694\tvalidation_0-mlogloss:0.419051\tvalidation_1-merror:0.201852\tvalidation_1-mlogloss:0.500892\n",
      "[403]\tvalidation_0-merror:0.167003\tvalidation_0-mlogloss:0.418837\tvalidation_1-merror:0.201515\tvalidation_1-mlogloss:0.50077\n",
      "[404]\tvalidation_0-merror:0.166856\tvalidation_0-mlogloss:0.418608\tvalidation_1-merror:0.201852\tvalidation_1-mlogloss:0.500688\n",
      "[405]\tvalidation_0-merror:0.166667\tvalidation_0-mlogloss:0.418353\tvalidation_1-merror:0.201852\tvalidation_1-mlogloss:0.500504\n",
      "[406]\tvalidation_0-merror:0.166582\tvalidation_0-mlogloss:0.418044\tvalidation_1-merror:0.201936\tvalidation_1-mlogloss:0.500418\n",
      "[407]\tvalidation_0-merror:0.166519\tvalidation_0-mlogloss:0.417854\tvalidation_1-merror:0.202104\tvalidation_1-mlogloss:0.500357\n",
      "[408]\tvalidation_0-merror:0.166267\tvalidation_0-mlogloss:0.417657\tvalidation_1-merror:0.201936\tvalidation_1-mlogloss:0.5003\n",
      "[409]\tvalidation_0-merror:0.165972\tvalidation_0-mlogloss:0.417411\tvalidation_1-merror:0.202357\tvalidation_1-mlogloss:0.500261\n",
      "[410]\tvalidation_0-merror:0.165888\tvalidation_0-mlogloss:0.417268\tvalidation_1-merror:0.20202\tvalidation_1-mlogloss:0.500247\n",
      "[411]\tvalidation_0-merror:0.165825\tvalidation_0-mlogloss:0.417113\tvalidation_1-merror:0.20202\tvalidation_1-mlogloss:0.500179\n",
      "[412]\tvalidation_0-merror:0.165678\tvalidation_0-mlogloss:0.416884\tvalidation_1-merror:0.20202\tvalidation_1-mlogloss:0.500027\n",
      "[413]\tvalidation_0-merror:0.16553\tvalidation_0-mlogloss:0.416685\tvalidation_1-merror:0.202104\tvalidation_1-mlogloss:0.499945\n",
      "[414]\tvalidation_0-merror:0.165425\tvalidation_0-mlogloss:0.416476\tvalidation_1-merror:0.201936\tvalidation_1-mlogloss:0.499901\n",
      "[415]\tvalidation_0-merror:0.165046\tvalidation_0-mlogloss:0.416216\tvalidation_1-merror:0.201852\tvalidation_1-mlogloss:0.499896\n",
      "[416]\tvalidation_0-merror:0.165004\tvalidation_0-mlogloss:0.41601\tvalidation_1-merror:0.202189\tvalidation_1-mlogloss:0.499794\n",
      "[417]\tvalidation_0-merror:0.165025\tvalidation_0-mlogloss:0.415895\tvalidation_1-merror:0.201684\tvalidation_1-mlogloss:0.499756\n",
      "[418]\tvalidation_0-merror:0.164752\tvalidation_0-mlogloss:0.415689\tvalidation_1-merror:0.20202\tvalidation_1-mlogloss:0.499669\n",
      "[419]\tvalidation_0-merror:0.164773\tvalidation_0-mlogloss:0.415393\tvalidation_1-merror:0.20202\tvalidation_1-mlogloss:0.499568\n",
      "[420]\tvalidation_0-merror:0.16452\tvalidation_0-mlogloss:0.415151\tvalidation_1-merror:0.20202\tvalidation_1-mlogloss:0.499433\n",
      "[421]\tvalidation_0-merror:0.164268\tvalidation_0-mlogloss:0.414887\tvalidation_1-merror:0.201936\tvalidation_1-mlogloss:0.499356\n",
      "[422]\tvalidation_0-merror:0.164015\tvalidation_0-mlogloss:0.414562\tvalidation_1-merror:0.202189\tvalidation_1-mlogloss:0.499163\n",
      "[423]\tvalidation_0-merror:0.163952\tvalidation_0-mlogloss:0.414373\tvalidation_1-merror:0.202189\tvalidation_1-mlogloss:0.499115\n",
      "[424]\tvalidation_0-merror:0.163931\tvalidation_0-mlogloss:0.414081\tvalidation_1-merror:0.202273\tvalidation_1-mlogloss:0.499028\n",
      "[425]\tvalidation_0-merror:0.163847\tvalidation_0-mlogloss:0.41387\tvalidation_1-merror:0.20202\tvalidation_1-mlogloss:0.499002\n",
      "[426]\tvalidation_0-merror:0.163742\tvalidation_0-mlogloss:0.413743\tvalidation_1-merror:0.201936\tvalidation_1-mlogloss:0.498905\n",
      "[427]\tvalidation_0-merror:0.163678\tvalidation_0-mlogloss:0.413505\tvalidation_1-merror:0.202189\tvalidation_1-mlogloss:0.498828\n",
      "[428]\tvalidation_0-merror:0.163721\tvalidation_0-mlogloss:0.413279\tvalidation_1-merror:0.202104\tvalidation_1-mlogloss:0.498759\n",
      "[429]\tvalidation_0-merror:0.163636\tvalidation_0-mlogloss:0.413123\tvalidation_1-merror:0.202273\tvalidation_1-mlogloss:0.498708\n",
      "[430]\tvalidation_0-merror:0.163489\tvalidation_0-mlogloss:0.412932\tvalidation_1-merror:0.201852\tvalidation_1-mlogloss:0.498635\n",
      "[431]\tvalidation_0-merror:0.163405\tvalidation_0-mlogloss:0.412786\tvalidation_1-merror:0.201936\tvalidation_1-mlogloss:0.498611\n",
      "[432]\tvalidation_0-merror:0.163237\tvalidation_0-mlogloss:0.412515\tvalidation_1-merror:0.202273\tvalidation_1-mlogloss:0.498555\n",
      "[433]\tvalidation_0-merror:0.163152\tvalidation_0-mlogloss:0.412265\tvalidation_1-merror:0.202189\tvalidation_1-mlogloss:0.498464\n",
      "[434]\tvalidation_0-merror:0.163237\tvalidation_0-mlogloss:0.41217\tvalidation_1-merror:0.202189\tvalidation_1-mlogloss:0.498438\n",
      "[435]\tvalidation_0-merror:0.163152\tvalidation_0-mlogloss:0.411936\tvalidation_1-merror:0.201684\tvalidation_1-mlogloss:0.498421\n",
      "[436]\tvalidation_0-merror:0.163047\tvalidation_0-mlogloss:0.41165\tvalidation_1-merror:0.201515\tvalidation_1-mlogloss:0.498276\n",
      "[437]\tvalidation_0-merror:0.162816\tvalidation_0-mlogloss:0.411408\tvalidation_1-merror:0.201684\tvalidation_1-mlogloss:0.498253\n",
      "[438]\tvalidation_0-merror:0.162816\tvalidation_0-mlogloss:0.411225\tvalidation_1-merror:0.201936\tvalidation_1-mlogloss:0.498191\n",
      "[439]\tvalidation_0-merror:0.162479\tvalidation_0-mlogloss:0.410987\tvalidation_1-merror:0.20202\tvalidation_1-mlogloss:0.498169\n",
      "[440]\tvalidation_0-merror:0.162416\tvalidation_0-mlogloss:0.410872\tvalidation_1-merror:0.20202\tvalidation_1-mlogloss:0.498164\n",
      "[441]\tvalidation_0-merror:0.162205\tvalidation_0-mlogloss:0.410688\tvalidation_1-merror:0.201768\tvalidation_1-mlogloss:0.498136\n",
      "[442]\tvalidation_0-merror:0.162121\tvalidation_0-mlogloss:0.410463\tvalidation_1-merror:0.201768\tvalidation_1-mlogloss:0.498073\n",
      "[443]\tvalidation_0-merror:0.161953\tvalidation_0-mlogloss:0.410311\tvalidation_1-merror:0.201515\tvalidation_1-mlogloss:0.49811\n",
      "[444]\tvalidation_0-merror:0.161869\tvalidation_0-mlogloss:0.410148\tvalidation_1-merror:0.201599\tvalidation_1-mlogloss:0.498043\n",
      "[445]\tvalidation_0-merror:0.161637\tvalidation_0-mlogloss:0.409873\tvalidation_1-merror:0.201599\tvalidation_1-mlogloss:0.497929\n",
      "[446]\tvalidation_0-merror:0.161469\tvalidation_0-mlogloss:0.409577\tvalidation_1-merror:0.201263\tvalidation_1-mlogloss:0.497797\n",
      "[447]\tvalidation_0-merror:0.161385\tvalidation_0-mlogloss:0.409395\tvalidation_1-merror:0.201178\tvalidation_1-mlogloss:0.497762\n",
      "[448]\tvalidation_0-merror:0.161174\tvalidation_0-mlogloss:0.409256\tvalidation_1-merror:0.200926\tvalidation_1-mlogloss:0.497716\n",
      "[449]\tvalidation_0-merror:0.161132\tvalidation_0-mlogloss:0.409008\tvalidation_1-merror:0.200842\tvalidation_1-mlogloss:0.497621\n",
      "[450]\tvalidation_0-merror:0.160943\tvalidation_0-mlogloss:0.408714\tvalidation_1-merror:0.200589\tvalidation_1-mlogloss:0.497392\n",
      "[451]\tvalidation_0-merror:0.161048\tvalidation_0-mlogloss:0.408465\tvalidation_1-merror:0.200253\tvalidation_1-mlogloss:0.497297\n",
      "[452]\tvalidation_0-merror:0.161006\tvalidation_0-mlogloss:0.408205\tvalidation_1-merror:0.200337\tvalidation_1-mlogloss:0.497178\n",
      "[453]\tvalidation_0-merror:0.160964\tvalidation_0-mlogloss:0.407953\tvalidation_1-merror:0.200337\tvalidation_1-mlogloss:0.497122\n",
      "[454]\tvalidation_0-merror:0.160732\tvalidation_0-mlogloss:0.407661\tvalidation_1-merror:0.2\tvalidation_1-mlogloss:0.497036\n",
      "[455]\tvalidation_0-merror:0.160774\tvalidation_0-mlogloss:0.407585\tvalidation_1-merror:0.200168\tvalidation_1-mlogloss:0.497037\n",
      "[456]\tvalidation_0-merror:0.160795\tvalidation_0-mlogloss:0.407383\tvalidation_1-merror:0.200168\tvalidation_1-mlogloss:0.496992\n",
      "[457]\tvalidation_0-merror:0.16069\tvalidation_0-mlogloss:0.407194\tvalidation_1-merror:0.200505\tvalidation_1-mlogloss:0.496935\n",
      "[458]\tvalidation_0-merror:0.160564\tvalidation_0-mlogloss:0.406985\tvalidation_1-merror:0.200337\tvalidation_1-mlogloss:0.496937\n",
      "[459]\tvalidation_0-merror:0.160585\tvalidation_0-mlogloss:0.406856\tvalidation_1-merror:0.200505\tvalidation_1-mlogloss:0.496974\n",
      "[460]\tvalidation_0-merror:0.160564\tvalidation_0-mlogloss:0.406642\tvalidation_1-merror:0.200673\tvalidation_1-mlogloss:0.496903\n",
      "[461]\tvalidation_0-merror:0.160501\tvalidation_0-mlogloss:0.40649\tvalidation_1-merror:0.200421\tvalidation_1-mlogloss:0.49691\n",
      "[462]\tvalidation_0-merror:0.160417\tvalidation_0-mlogloss:0.406342\tvalidation_1-merror:0.200589\tvalidation_1-mlogloss:0.496847\n"
     ]
    },
    {
     "name": "stdout",
     "output_type": "stream",
     "text": [
      "[463]\tvalidation_0-merror:0.160396\tvalidation_0-mlogloss:0.406174\tvalidation_1-merror:0.200505\tvalidation_1-mlogloss:0.496771\n",
      "[464]\tvalidation_0-merror:0.160311\tvalidation_0-mlogloss:0.406026\tvalidation_1-merror:0.200505\tvalidation_1-mlogloss:0.496736\n",
      "[465]\tvalidation_0-merror:0.160143\tvalidation_0-mlogloss:0.405854\tvalidation_1-merror:0.200421\tvalidation_1-mlogloss:0.496719\n",
      "[466]\tvalidation_0-merror:0.160038\tvalidation_0-mlogloss:0.405702\tvalidation_1-merror:0.200253\tvalidation_1-mlogloss:0.496693\n",
      "[467]\tvalidation_0-merror:0.159954\tvalidation_0-mlogloss:0.405458\tvalidation_1-merror:0.200337\tvalidation_1-mlogloss:0.49663\n",
      "[468]\tvalidation_0-merror:0.159848\tvalidation_0-mlogloss:0.405245\tvalidation_1-merror:0.200084\tvalidation_1-mlogloss:0.496616\n",
      "[469]\tvalidation_0-merror:0.159512\tvalidation_0-mlogloss:0.404964\tvalidation_1-merror:0.2\tvalidation_1-mlogloss:0.496526\n",
      "[470]\tvalidation_0-merror:0.159428\tvalidation_0-mlogloss:0.404788\tvalidation_1-merror:0.199832\tvalidation_1-mlogloss:0.496451\n",
      "[471]\tvalidation_0-merror:0.159407\tvalidation_0-mlogloss:0.404571\tvalidation_1-merror:0.200168\tvalidation_1-mlogloss:0.496396\n",
      "[472]\tvalidation_0-merror:0.159322\tvalidation_0-mlogloss:0.404277\tvalidation_1-merror:0.200421\tvalidation_1-mlogloss:0.496332\n",
      "[473]\tvalidation_0-merror:0.159259\tvalidation_0-mlogloss:0.40409\tvalidation_1-merror:0.199916\tvalidation_1-mlogloss:0.496313\n",
      "[474]\tvalidation_0-merror:0.159196\tvalidation_0-mlogloss:0.403885\tvalidation_1-merror:0.199747\tvalidation_1-mlogloss:0.496271\n",
      "[475]\tvalidation_0-merror:0.159049\tvalidation_0-mlogloss:0.403659\tvalidation_1-merror:0.199579\tvalidation_1-mlogloss:0.496196\n",
      "[476]\tvalidation_0-merror:0.159007\tvalidation_0-mlogloss:0.403395\tvalidation_1-merror:0.199327\tvalidation_1-mlogloss:0.496139\n",
      "[477]\tvalidation_0-merror:0.158902\tvalidation_0-mlogloss:0.40319\tvalidation_1-merror:0.199327\tvalidation_1-mlogloss:0.496134\n",
      "[478]\tvalidation_0-merror:0.158796\tvalidation_0-mlogloss:0.40298\tvalidation_1-merror:0.199074\tvalidation_1-mlogloss:0.496158\n",
      "[479]\tvalidation_0-merror:0.158733\tvalidation_0-mlogloss:0.402736\tvalidation_1-merror:0.199158\tvalidation_1-mlogloss:0.496088\n",
      "[480]\tvalidation_0-merror:0.158691\tvalidation_0-mlogloss:0.402527\tvalidation_1-merror:0.198906\tvalidation_1-mlogloss:0.496098\n",
      "[481]\tvalidation_0-merror:0.158439\tvalidation_0-mlogloss:0.402307\tvalidation_1-merror:0.198653\tvalidation_1-mlogloss:0.496038\n",
      "[482]\tvalidation_0-merror:0.158207\tvalidation_0-mlogloss:0.402099\tvalidation_1-merror:0.198485\tvalidation_1-mlogloss:0.495894\n",
      "[483]\tvalidation_0-merror:0.157997\tvalidation_0-mlogloss:0.401843\tvalidation_1-merror:0.198653\tvalidation_1-mlogloss:0.495812\n",
      "[484]\tvalidation_0-merror:0.157639\tvalidation_0-mlogloss:0.401607\tvalidation_1-merror:0.198653\tvalidation_1-mlogloss:0.495688\n",
      "[485]\tvalidation_0-merror:0.157597\tvalidation_0-mlogloss:0.401439\tvalidation_1-merror:0.198906\tvalidation_1-mlogloss:0.495708\n",
      "[486]\tvalidation_0-merror:0.157471\tvalidation_0-mlogloss:0.401293\tvalidation_1-merror:0.198737\tvalidation_1-mlogloss:0.495686\n",
      "[487]\tvalidation_0-merror:0.157407\tvalidation_0-mlogloss:0.401038\tvalidation_1-merror:0.198485\tvalidation_1-mlogloss:0.495621\n",
      "[488]\tvalidation_0-merror:0.157407\tvalidation_0-mlogloss:0.400831\tvalidation_1-merror:0.198485\tvalidation_1-mlogloss:0.495563\n",
      "[489]\tvalidation_0-merror:0.157407\tvalidation_0-mlogloss:0.400565\tvalidation_1-merror:0.198064\tvalidation_1-mlogloss:0.49541\n",
      "[490]\tvalidation_0-merror:0.157449\tvalidation_0-mlogloss:0.400447\tvalidation_1-merror:0.198064\tvalidation_1-mlogloss:0.495439\n",
      "[491]\tvalidation_0-merror:0.157239\tvalidation_0-mlogloss:0.400222\tvalidation_1-merror:0.198232\tvalidation_1-mlogloss:0.495333\n",
      "[492]\tvalidation_0-merror:0.157239\tvalidation_0-mlogloss:0.400016\tvalidation_1-merror:0.198316\tvalidation_1-mlogloss:0.495291\n",
      "[493]\tvalidation_0-merror:0.157239\tvalidation_0-mlogloss:0.399832\tvalidation_1-merror:0.198485\tvalidation_1-mlogloss:0.49526\n",
      "[494]\tvalidation_0-merror:0.157113\tvalidation_0-mlogloss:0.399631\tvalidation_1-merror:0.198316\tvalidation_1-mlogloss:0.495238\n",
      "[495]\tvalidation_0-merror:0.15726\tvalidation_0-mlogloss:0.39943\tvalidation_1-merror:0.198485\tvalidation_1-mlogloss:0.495193\n",
      "[496]\tvalidation_0-merror:0.156965\tvalidation_0-mlogloss:0.39918\tvalidation_1-merror:0.198653\tvalidation_1-mlogloss:0.495186\n",
      "[497]\tvalidation_0-merror:0.156818\tvalidation_0-mlogloss:0.398925\tvalidation_1-merror:0.198569\tvalidation_1-mlogloss:0.495121\n",
      "[498]\tvalidation_0-merror:0.156818\tvalidation_0-mlogloss:0.398673\tvalidation_1-merror:0.198148\tvalidation_1-mlogloss:0.495071\n",
      "[499]\tvalidation_0-merror:0.15665\tvalidation_0-mlogloss:0.398456\tvalidation_1-merror:0.197811\tvalidation_1-mlogloss:0.494945\n",
      "[500]\tvalidation_0-merror:0.15646\tvalidation_0-mlogloss:0.398213\tvalidation_1-merror:0.198316\tvalidation_1-mlogloss:0.494824\n",
      "[501]\tvalidation_0-merror:0.156439\tvalidation_0-mlogloss:0.398063\tvalidation_1-merror:0.198232\tvalidation_1-mlogloss:0.494836\n",
      "[502]\tvalidation_0-merror:0.156271\tvalidation_0-mlogloss:0.397859\tvalidation_1-merror:0.19798\tvalidation_1-mlogloss:0.4948\n",
      "[503]\tvalidation_0-merror:0.156208\tvalidation_0-mlogloss:0.39769\tvalidation_1-merror:0.198232\tvalidation_1-mlogloss:0.494745\n",
      "[504]\tvalidation_0-merror:0.156145\tvalidation_0-mlogloss:0.397464\tvalidation_1-merror:0.198653\tvalidation_1-mlogloss:0.494658\n",
      "[505]\tvalidation_0-merror:0.155934\tvalidation_0-mlogloss:0.397268\tvalidation_1-merror:0.198316\tvalidation_1-mlogloss:0.494628\n",
      "[506]\tvalidation_0-merror:0.155703\tvalidation_0-mlogloss:0.397109\tvalidation_1-merror:0.198401\tvalidation_1-mlogloss:0.494601\n",
      "[507]\tvalidation_0-merror:0.155661\tvalidation_0-mlogloss:0.396867\tvalidation_1-merror:0.198316\tvalidation_1-mlogloss:0.494567\n",
      "[508]\tvalidation_0-merror:0.155577\tvalidation_0-mlogloss:0.396633\tvalidation_1-merror:0.198148\tvalidation_1-mlogloss:0.494525\n",
      "[509]\tvalidation_0-merror:0.155619\tvalidation_0-mlogloss:0.396421\tvalidation_1-merror:0.197896\tvalidation_1-mlogloss:0.494474\n",
      "[510]\tvalidation_0-merror:0.155577\tvalidation_0-mlogloss:0.396261\tvalidation_1-merror:0.197811\tvalidation_1-mlogloss:0.494469\n",
      "[511]\tvalidation_0-merror:0.155556\tvalidation_0-mlogloss:0.395996\tvalidation_1-merror:0.197727\tvalidation_1-mlogloss:0.4944\n",
      "[512]\tvalidation_0-merror:0.155577\tvalidation_0-mlogloss:0.395739\tvalidation_1-merror:0.197811\tvalidation_1-mlogloss:0.494348\n",
      "[513]\tvalidation_0-merror:0.155135\tvalidation_0-mlogloss:0.395491\tvalidation_1-merror:0.198316\tvalidation_1-mlogloss:0.494271\n",
      "[514]\tvalidation_0-merror:0.155114\tvalidation_0-mlogloss:0.395324\tvalidation_1-merror:0.198232\tvalidation_1-mlogloss:0.494243\n",
      "[515]\tvalidation_0-merror:0.155051\tvalidation_0-mlogloss:0.395141\tvalidation_1-merror:0.197896\tvalidation_1-mlogloss:0.494234\n",
      "[516]\tvalidation_0-merror:0.154924\tvalidation_0-mlogloss:0.394947\tvalidation_1-merror:0.197896\tvalidation_1-mlogloss:0.494231\n",
      "[517]\tvalidation_0-merror:0.154735\tvalidation_0-mlogloss:0.394693\tvalidation_1-merror:0.198064\tvalidation_1-mlogloss:0.49419\n",
      "[518]\tvalidation_0-merror:0.154735\tvalidation_0-mlogloss:0.394509\tvalidation_1-merror:0.198401\tvalidation_1-mlogloss:0.494206\n",
      "[519]\tvalidation_0-merror:0.154651\tvalidation_0-mlogloss:0.394265\tvalidation_1-merror:0.198232\tvalidation_1-mlogloss:0.494126\n",
      "[520]\tvalidation_0-merror:0.154566\tvalidation_0-mlogloss:0.394114\tvalidation_1-merror:0.198653\tvalidation_1-mlogloss:0.494074\n",
      "[521]\tvalidation_0-merror:0.154503\tvalidation_0-mlogloss:0.393979\tvalidation_1-merror:0.198401\tvalidation_1-mlogloss:0.49405\n",
      "[522]\tvalidation_0-merror:0.154335\tvalidation_0-mlogloss:0.393712\tvalidation_1-merror:0.198232\tvalidation_1-mlogloss:0.494\n",
      "[523]\tvalidation_0-merror:0.154314\tvalidation_0-mlogloss:0.393501\tvalidation_1-merror:0.198064\tvalidation_1-mlogloss:0.493887\n",
      "[524]\tvalidation_0-merror:0.15423\tvalidation_0-mlogloss:0.393294\tvalidation_1-merror:0.197811\tvalidation_1-mlogloss:0.493823\n",
      "[525]\tvalidation_0-merror:0.154167\tvalidation_0-mlogloss:0.39304\tvalidation_1-merror:0.197559\tvalidation_1-mlogloss:0.493687\n",
      "[526]\tvalidation_0-merror:0.153956\tvalidation_0-mlogloss:0.392799\tvalidation_1-merror:0.197643\tvalidation_1-mlogloss:0.493682\n",
      "[527]\tvalidation_0-merror:0.153935\tvalidation_0-mlogloss:0.392636\tvalidation_1-merror:0.197306\tvalidation_1-mlogloss:0.493624\n",
      "[528]\tvalidation_0-merror:0.153746\tvalidation_0-mlogloss:0.392406\tvalidation_1-merror:0.197306\tvalidation_1-mlogloss:0.493609\n"
     ]
    },
    {
     "name": "stdout",
     "output_type": "stream",
     "text": [
      "[529]\tvalidation_0-merror:0.153598\tvalidation_0-mlogloss:0.392225\tvalidation_1-merror:0.197138\tvalidation_1-mlogloss:0.493547\n",
      "[530]\tvalidation_0-merror:0.153641\tvalidation_0-mlogloss:0.392011\tvalidation_1-merror:0.197222\tvalidation_1-mlogloss:0.493471\n",
      "[531]\tvalidation_0-merror:0.15362\tvalidation_0-mlogloss:0.3918\tvalidation_1-merror:0.197138\tvalidation_1-mlogloss:0.49345\n",
      "[532]\tvalidation_0-merror:0.153598\tvalidation_0-mlogloss:0.391664\tvalidation_1-merror:0.196886\tvalidation_1-mlogloss:0.493495\n",
      "[533]\tvalidation_0-merror:0.153346\tvalidation_0-mlogloss:0.391474\tvalidation_1-merror:0.197306\tvalidation_1-mlogloss:0.49344\n",
      "[534]\tvalidation_0-merror:0.153367\tvalidation_0-mlogloss:0.391266\tvalidation_1-merror:0.197054\tvalidation_1-mlogloss:0.493401\n",
      "[535]\tvalidation_0-merror:0.153199\tvalidation_0-mlogloss:0.391102\tvalidation_1-merror:0.197054\tvalidation_1-mlogloss:0.49334\n",
      "[536]\tvalidation_0-merror:0.153283\tvalidation_0-mlogloss:0.390882\tvalidation_1-merror:0.197222\tvalidation_1-mlogloss:0.493308\n",
      "[537]\tvalidation_0-merror:0.15322\tvalidation_0-mlogloss:0.390666\tvalidation_1-merror:0.197222\tvalidation_1-mlogloss:0.493247\n",
      "[538]\tvalidation_0-merror:0.153136\tvalidation_0-mlogloss:0.39048\tvalidation_1-merror:0.197475\tvalidation_1-mlogloss:0.493192\n",
      "[539]\tvalidation_0-merror:0.153136\tvalidation_0-mlogloss:0.390262\tvalidation_1-merror:0.197475\tvalidation_1-mlogloss:0.493107\n",
      "[540]\tvalidation_0-merror:0.152778\tvalidation_0-mlogloss:0.389993\tvalidation_1-merror:0.197391\tvalidation_1-mlogloss:0.493046\n",
      "[541]\tvalidation_0-merror:0.15263\tvalidation_0-mlogloss:0.389767\tvalidation_1-merror:0.197391\tvalidation_1-mlogloss:0.493017\n",
      "[542]\tvalidation_0-merror:0.152504\tvalidation_0-mlogloss:0.389601\tvalidation_1-merror:0.197222\tvalidation_1-mlogloss:0.492955\n",
      "[543]\tvalidation_0-merror:0.152399\tvalidation_0-mlogloss:0.389428\tvalidation_1-merror:0.197306\tvalidation_1-mlogloss:0.492866\n",
      "[544]\tvalidation_0-merror:0.152294\tvalidation_0-mlogloss:0.389211\tvalidation_1-merror:0.197138\tvalidation_1-mlogloss:0.492789\n",
      "[545]\tvalidation_0-merror:0.152252\tvalidation_0-mlogloss:0.389007\tvalidation_1-merror:0.197054\tvalidation_1-mlogloss:0.492774\n",
      "[546]\tvalidation_0-merror:0.152062\tvalidation_0-mlogloss:0.388795\tvalidation_1-merror:0.19697\tvalidation_1-mlogloss:0.492705\n",
      "[547]\tvalidation_0-merror:0.151978\tvalidation_0-mlogloss:0.388583\tvalidation_1-merror:0.197222\tvalidation_1-mlogloss:0.492678\n",
      "[548]\tvalidation_0-merror:0.151999\tvalidation_0-mlogloss:0.3884\tvalidation_1-merror:0.197306\tvalidation_1-mlogloss:0.492653\n",
      "[549]\tvalidation_0-merror:0.151978\tvalidation_0-mlogloss:0.388268\tvalidation_1-merror:0.196886\tvalidation_1-mlogloss:0.492659\n",
      "[550]\tvalidation_0-merror:0.151957\tvalidation_0-mlogloss:0.388094\tvalidation_1-merror:0.19697\tvalidation_1-mlogloss:0.492604\n",
      "[551]\tvalidation_0-merror:0.151852\tvalidation_0-mlogloss:0.387874\tvalidation_1-merror:0.197222\tvalidation_1-mlogloss:0.492499\n",
      "[552]\tvalidation_0-merror:0.151789\tvalidation_0-mlogloss:0.387732\tvalidation_1-merror:0.197391\tvalidation_1-mlogloss:0.492471\n",
      "[553]\tvalidation_0-merror:0.15162\tvalidation_0-mlogloss:0.387537\tvalidation_1-merror:0.197391\tvalidation_1-mlogloss:0.49247\n",
      "[554]\tvalidation_0-merror:0.151515\tvalidation_0-mlogloss:0.387294\tvalidation_1-merror:0.197643\tvalidation_1-mlogloss:0.492478\n",
      "[555]\tvalidation_0-merror:0.15162\tvalidation_0-mlogloss:0.387173\tvalidation_1-merror:0.197559\tvalidation_1-mlogloss:0.492421\n",
      "[556]\tvalidation_0-merror:0.151515\tvalidation_0-mlogloss:0.386953\tvalidation_1-merror:0.197643\tvalidation_1-mlogloss:0.49238\n",
      "[557]\tvalidation_0-merror:0.151452\tvalidation_0-mlogloss:0.386801\tvalidation_1-merror:0.197896\tvalidation_1-mlogloss:0.492344\n",
      "[558]\tvalidation_0-merror:0.151473\tvalidation_0-mlogloss:0.386627\tvalidation_1-merror:0.198064\tvalidation_1-mlogloss:0.492334\n",
      "[559]\tvalidation_0-merror:0.151242\tvalidation_0-mlogloss:0.386406\tvalidation_1-merror:0.198148\tvalidation_1-mlogloss:0.492262\n",
      "[560]\tvalidation_0-merror:0.151073\tvalidation_0-mlogloss:0.386288\tvalidation_1-merror:0.197896\tvalidation_1-mlogloss:0.492206\n",
      "[561]\tvalidation_0-merror:0.150989\tvalidation_0-mlogloss:0.386058\tvalidation_1-merror:0.198064\tvalidation_1-mlogloss:0.492195\n",
      "[562]\tvalidation_0-merror:0.150905\tvalidation_0-mlogloss:0.385894\tvalidation_1-merror:0.19798\tvalidation_1-mlogloss:0.492152\n",
      "[563]\tvalidation_0-merror:0.150884\tvalidation_0-mlogloss:0.385732\tvalidation_1-merror:0.19798\tvalidation_1-mlogloss:0.492186\n",
      "[564]\tvalidation_0-merror:0.150463\tvalidation_0-mlogloss:0.385575\tvalidation_1-merror:0.198148\tvalidation_1-mlogloss:0.492171\n",
      "[565]\tvalidation_0-merror:0.150547\tvalidation_0-mlogloss:0.385363\tvalidation_1-merror:0.198232\tvalidation_1-mlogloss:0.492126\n",
      "[566]\tvalidation_0-merror:0.150526\tvalidation_0-mlogloss:0.385127\tvalidation_1-merror:0.197896\tvalidation_1-mlogloss:0.49207\n",
      "[567]\tvalidation_0-merror:0.150568\tvalidation_0-mlogloss:0.384951\tvalidation_1-merror:0.198064\tvalidation_1-mlogloss:0.49199\n",
      "[568]\tvalidation_0-merror:0.150358\tvalidation_0-mlogloss:0.3848\tvalidation_1-merror:0.198401\tvalidation_1-mlogloss:0.492\n",
      "[569]\tvalidation_0-merror:0.15021\tvalidation_0-mlogloss:0.384617\tvalidation_1-merror:0.198148\tvalidation_1-mlogloss:0.491971\n",
      "[570]\tvalidation_0-merror:0.150147\tvalidation_0-mlogloss:0.384435\tvalidation_1-merror:0.198148\tvalidation_1-mlogloss:0.491956\n",
      "[571]\tvalidation_0-merror:0.150231\tvalidation_0-mlogloss:0.384238\tvalidation_1-merror:0.198064\tvalidation_1-mlogloss:0.491903\n",
      "[572]\tvalidation_0-merror:0.150084\tvalidation_0-mlogloss:0.384045\tvalidation_1-merror:0.198064\tvalidation_1-mlogloss:0.491871\n",
      "[573]\tvalidation_0-merror:0.149958\tvalidation_0-mlogloss:0.383844\tvalidation_1-merror:0.198148\tvalidation_1-mlogloss:0.491796\n",
      "[574]\tvalidation_0-merror:0.149874\tvalidation_0-mlogloss:0.38371\tvalidation_1-merror:0.198148\tvalidation_1-mlogloss:0.491814\n",
      "[575]\tvalidation_0-merror:0.149726\tvalidation_0-mlogloss:0.383593\tvalidation_1-merror:0.19798\tvalidation_1-mlogloss:0.491777\n",
      "[576]\tvalidation_0-merror:0.149621\tvalidation_0-mlogloss:0.38341\tvalidation_1-merror:0.198064\tvalidation_1-mlogloss:0.491782\n",
      "[577]\tvalidation_0-merror:0.149474\tvalidation_0-mlogloss:0.383236\tvalidation_1-merror:0.198064\tvalidation_1-mlogloss:0.491791\n",
      "[578]\tvalidation_0-merror:0.149495\tvalidation_0-mlogloss:0.383072\tvalidation_1-merror:0.198148\tvalidation_1-mlogloss:0.491799\n",
      "[579]\tvalidation_0-merror:0.149411\tvalidation_0-mlogloss:0.382859\tvalidation_1-merror:0.198148\tvalidation_1-mlogloss:0.491769\n",
      "[580]\tvalidation_0-merror:0.149263\tvalidation_0-mlogloss:0.382642\tvalidation_1-merror:0.198232\tvalidation_1-mlogloss:0.491678\n",
      "[581]\tvalidation_0-merror:0.14899\tvalidation_0-mlogloss:0.382433\tvalidation_1-merror:0.19798\tvalidation_1-mlogloss:0.491589\n",
      "[582]\tvalidation_0-merror:0.148885\tvalidation_0-mlogloss:0.382244\tvalidation_1-merror:0.197559\tvalidation_1-mlogloss:0.491563\n",
      "[583]\tvalidation_0-merror:0.148822\tvalidation_0-mlogloss:0.381981\tvalidation_1-merror:0.197475\tvalidation_1-mlogloss:0.491472\n",
      "[584]\tvalidation_0-merror:0.148843\tvalidation_0-mlogloss:0.381788\tvalidation_1-merror:0.197391\tvalidation_1-mlogloss:0.491437\n",
      "[585]\tvalidation_0-merror:0.148716\tvalidation_0-mlogloss:0.381647\tvalidation_1-merror:0.197475\tvalidation_1-mlogloss:0.491427\n",
      "[586]\tvalidation_0-merror:0.148464\tvalidation_0-mlogloss:0.381515\tvalidation_1-merror:0.197222\tvalidation_1-mlogloss:0.491416\n",
      "[587]\tvalidation_0-merror:0.148422\tvalidation_0-mlogloss:0.381356\tvalidation_1-merror:0.197306\tvalidation_1-mlogloss:0.491398\n",
      "[588]\tvalidation_0-merror:0.148232\tvalidation_0-mlogloss:0.381233\tvalidation_1-merror:0.197391\tvalidation_1-mlogloss:0.491421\n",
      "[589]\tvalidation_0-merror:0.148274\tvalidation_0-mlogloss:0.381029\tvalidation_1-merror:0.197138\tvalidation_1-mlogloss:0.491428\n",
      "[590]\tvalidation_0-merror:0.148317\tvalidation_0-mlogloss:0.380875\tvalidation_1-merror:0.196717\tvalidation_1-mlogloss:0.491417\n",
      "[591]\tvalidation_0-merror:0.148274\tvalidation_0-mlogloss:0.380705\tvalidation_1-merror:0.196633\tvalidation_1-mlogloss:0.491376\n",
      "[592]\tvalidation_0-merror:0.148085\tvalidation_0-mlogloss:0.38055\tvalidation_1-merror:0.197054\tvalidation_1-mlogloss:0.491336\n",
      "[593]\tvalidation_0-merror:0.147938\tvalidation_0-mlogloss:0.38039\tvalidation_1-merror:0.197054\tvalidation_1-mlogloss:0.491309\n",
      "[594]\tvalidation_0-merror:0.147727\tvalidation_0-mlogloss:0.380209\tvalidation_1-merror:0.197054\tvalidation_1-mlogloss:0.491247\n"
     ]
    },
    {
     "name": "stdout",
     "output_type": "stream",
     "text": [
      "[595]\tvalidation_0-merror:0.147917\tvalidation_0-mlogloss:0.379981\tvalidation_1-merror:0.197306\tvalidation_1-mlogloss:0.491125\n",
      "[596]\tvalidation_0-merror:0.147917\tvalidation_0-mlogloss:0.379848\tvalidation_1-merror:0.197222\tvalidation_1-mlogloss:0.491102\n",
      "[597]\tvalidation_0-merror:0.147769\tvalidation_0-mlogloss:0.379706\tvalidation_1-merror:0.197138\tvalidation_1-mlogloss:0.491049\n",
      "[598]\tvalidation_0-merror:0.147685\tvalidation_0-mlogloss:0.379521\tvalidation_1-merror:0.197391\tvalidation_1-mlogloss:0.491029\n",
      "[599]\tvalidation_0-merror:0.147601\tvalidation_0-mlogloss:0.379288\tvalidation_1-merror:0.197222\tvalidation_1-mlogloss:0.490956\n",
      "[600]\tvalidation_0-merror:0.147517\tvalidation_0-mlogloss:0.379135\tvalidation_1-merror:0.197475\tvalidation_1-mlogloss:0.49094\n",
      "[601]\tvalidation_0-merror:0.147517\tvalidation_0-mlogloss:0.379023\tvalidation_1-merror:0.197475\tvalidation_1-mlogloss:0.490961\n",
      "[602]\tvalidation_0-merror:0.147348\tvalidation_0-mlogloss:0.378887\tvalidation_1-merror:0.197306\tvalidation_1-mlogloss:0.49093\n",
      "[603]\tvalidation_0-merror:0.147306\tvalidation_0-mlogloss:0.378726\tvalidation_1-merror:0.197222\tvalidation_1-mlogloss:0.490887\n",
      "[604]\tvalidation_0-merror:0.14718\tvalidation_0-mlogloss:0.378573\tvalidation_1-merror:0.197054\tvalidation_1-mlogloss:0.490925\n",
      "[605]\tvalidation_0-merror:0.146822\tvalidation_0-mlogloss:0.37841\tvalidation_1-merror:0.196801\tvalidation_1-mlogloss:0.490813\n",
      "[606]\tvalidation_0-merror:0.146991\tvalidation_0-mlogloss:0.378245\tvalidation_1-merror:0.19697\tvalidation_1-mlogloss:0.49079\n",
      "[607]\tvalidation_0-merror:0.147075\tvalidation_0-mlogloss:0.378046\tvalidation_1-merror:0.19697\tvalidation_1-mlogloss:0.490786\n",
      "[608]\tvalidation_0-merror:0.146928\tvalidation_0-mlogloss:0.377887\tvalidation_1-merror:0.19697\tvalidation_1-mlogloss:0.490788\n",
      "[609]\tvalidation_0-merror:0.146759\tvalidation_0-mlogloss:0.377711\tvalidation_1-merror:0.196886\tvalidation_1-mlogloss:0.490798\n",
      "[610]\tvalidation_0-merror:0.146465\tvalidation_0-mlogloss:0.377561\tvalidation_1-merror:0.196886\tvalidation_1-mlogloss:0.490746\n",
      "[611]\tvalidation_0-merror:0.146065\tvalidation_0-mlogloss:0.377417\tvalidation_1-merror:0.197054\tvalidation_1-mlogloss:0.490732\n",
      "[612]\tvalidation_0-merror:0.146128\tvalidation_0-mlogloss:0.377299\tvalidation_1-merror:0.197138\tvalidation_1-mlogloss:0.490702\n",
      "[613]\tvalidation_0-merror:0.146023\tvalidation_0-mlogloss:0.377121\tvalidation_1-merror:0.197138\tvalidation_1-mlogloss:0.490639\n",
      "[614]\tvalidation_0-merror:0.146128\tvalidation_0-mlogloss:0.37696\tvalidation_1-merror:0.197054\tvalidation_1-mlogloss:0.490583\n",
      "[615]\tvalidation_0-merror:0.146044\tvalidation_0-mlogloss:0.376698\tvalidation_1-merror:0.196886\tvalidation_1-mlogloss:0.490448\n",
      "[616]\tvalidation_0-merror:0.145981\tvalidation_0-mlogloss:0.376533\tvalidation_1-merror:0.196886\tvalidation_1-mlogloss:0.490385\n",
      "[617]\tvalidation_0-merror:0.145707\tvalidation_0-mlogloss:0.376383\tvalidation_1-merror:0.196717\tvalidation_1-mlogloss:0.490375\n",
      "[618]\tvalidation_0-merror:0.145623\tvalidation_0-mlogloss:0.376212\tvalidation_1-merror:0.196801\tvalidation_1-mlogloss:0.490314\n",
      "[619]\tvalidation_0-merror:0.145539\tvalidation_0-mlogloss:0.375977\tvalidation_1-merror:0.19697\tvalidation_1-mlogloss:0.490217\n",
      "[620]\tvalidation_0-merror:0.145286\tvalidation_0-mlogloss:0.375786\tvalidation_1-merror:0.196465\tvalidation_1-mlogloss:0.490247\n",
      "[621]\tvalidation_0-merror:0.145412\tvalidation_0-mlogloss:0.37563\tvalidation_1-merror:0.197054\tvalidation_1-mlogloss:0.490276\n",
      "[622]\tvalidation_0-merror:0.145244\tvalidation_0-mlogloss:0.375469\tvalidation_1-merror:0.196886\tvalidation_1-mlogloss:0.49023\n",
      "[623]\tvalidation_0-merror:0.145244\tvalidation_0-mlogloss:0.375279\tvalidation_1-merror:0.19697\tvalidation_1-mlogloss:0.4902\n",
      "[624]\tvalidation_0-merror:0.145181\tvalidation_0-mlogloss:0.37509\tvalidation_1-merror:0.197138\tvalidation_1-mlogloss:0.490133\n",
      "[625]\tvalidation_0-merror:0.144992\tvalidation_0-mlogloss:0.374962\tvalidation_1-merror:0.197391\tvalidation_1-mlogloss:0.490134\n",
      "[626]\tvalidation_0-merror:0.144971\tvalidation_0-mlogloss:0.374781\tvalidation_1-merror:0.197138\tvalidation_1-mlogloss:0.490128\n",
      "[627]\tvalidation_0-merror:0.144886\tvalidation_0-mlogloss:0.374649\tvalidation_1-merror:0.197222\tvalidation_1-mlogloss:0.490059\n",
      "[628]\tvalidation_0-merror:0.144823\tvalidation_0-mlogloss:0.374497\tvalidation_1-merror:0.197054\tvalidation_1-mlogloss:0.490009\n",
      "[629]\tvalidation_0-merror:0.144655\tvalidation_0-mlogloss:0.374253\tvalidation_1-merror:0.197054\tvalidation_1-mlogloss:0.489928\n",
      "[630]\tvalidation_0-merror:0.144381\tvalidation_0-mlogloss:0.37412\tvalidation_1-merror:0.197138\tvalidation_1-mlogloss:0.48993\n",
      "[631]\tvalidation_0-merror:0.144423\tvalidation_0-mlogloss:0.373923\tvalidation_1-merror:0.197138\tvalidation_1-mlogloss:0.489911\n",
      "[632]\tvalidation_0-merror:0.144339\tvalidation_0-mlogloss:0.373797\tvalidation_1-merror:0.197222\tvalidation_1-mlogloss:0.489877\n",
      "[633]\tvalidation_0-merror:0.144066\tvalidation_0-mlogloss:0.373567\tvalidation_1-merror:0.197222\tvalidation_1-mlogloss:0.489885\n",
      "[634]\tvalidation_0-merror:0.143897\tvalidation_0-mlogloss:0.373357\tvalidation_1-merror:0.197222\tvalidation_1-mlogloss:0.489927\n",
      "[635]\tvalidation_0-merror:0.143855\tvalidation_0-mlogloss:0.373208\tvalidation_1-merror:0.197138\tvalidation_1-mlogloss:0.489872\n",
      "[636]\tvalidation_0-merror:0.144003\tvalidation_0-mlogloss:0.373036\tvalidation_1-merror:0.197054\tvalidation_1-mlogloss:0.489816\n",
      "[637]\tvalidation_0-merror:0.14375\tvalidation_0-mlogloss:0.372915\tvalidation_1-merror:0.19697\tvalidation_1-mlogloss:0.489793\n",
      "[638]\tvalidation_0-merror:0.143876\tvalidation_0-mlogloss:0.37272\tvalidation_1-merror:0.197054\tvalidation_1-mlogloss:0.489731\n",
      "[639]\tvalidation_0-merror:0.143792\tvalidation_0-mlogloss:0.372481\tvalidation_1-merror:0.196886\tvalidation_1-mlogloss:0.489682\n",
      "[640]\tvalidation_0-merror:0.143603\tvalidation_0-mlogloss:0.372247\tvalidation_1-merror:0.196886\tvalidation_1-mlogloss:0.489657\n",
      "[641]\tvalidation_0-merror:0.143519\tvalidation_0-mlogloss:0.372078\tvalidation_1-merror:0.197054\tvalidation_1-mlogloss:0.489551\n",
      "[642]\tvalidation_0-merror:0.143413\tvalidation_0-mlogloss:0.371917\tvalidation_1-merror:0.197054\tvalidation_1-mlogloss:0.489468\n",
      "[643]\tvalidation_0-merror:0.143266\tvalidation_0-mlogloss:0.371663\tvalidation_1-merror:0.19697\tvalidation_1-mlogloss:0.489404\n",
      "[644]\tvalidation_0-merror:0.143035\tvalidation_0-mlogloss:0.37146\tvalidation_1-merror:0.19697\tvalidation_1-mlogloss:0.489374\n",
      "[645]\tvalidation_0-merror:0.142929\tvalidation_0-mlogloss:0.371266\tvalidation_1-merror:0.196886\tvalidation_1-mlogloss:0.489277\n",
      "[646]\tvalidation_0-merror:0.142824\tvalidation_0-mlogloss:0.371118\tvalidation_1-merror:0.19697\tvalidation_1-mlogloss:0.489271\n",
      "[647]\tvalidation_0-merror:0.142677\tvalidation_0-mlogloss:0.370906\tvalidation_1-merror:0.196633\tvalidation_1-mlogloss:0.489172\n",
      "[648]\tvalidation_0-merror:0.142845\tvalidation_0-mlogloss:0.370764\tvalidation_1-merror:0.196801\tvalidation_1-mlogloss:0.489154\n",
      "[649]\tvalidation_0-merror:0.142635\tvalidation_0-mlogloss:0.370608\tvalidation_1-merror:0.196549\tvalidation_1-mlogloss:0.48912\n",
      "[650]\tvalidation_0-merror:0.14255\tvalidation_0-mlogloss:0.370445\tvalidation_1-merror:0.196465\tvalidation_1-mlogloss:0.489086\n",
      "[651]\tvalidation_0-merror:0.142319\tvalidation_0-mlogloss:0.370279\tvalidation_1-merror:0.196465\tvalidation_1-mlogloss:0.488986\n",
      "[652]\tvalidation_0-merror:0.142088\tvalidation_0-mlogloss:0.370108\tvalidation_1-merror:0.196549\tvalidation_1-mlogloss:0.488892\n",
      "[653]\tvalidation_0-merror:0.142003\tvalidation_0-mlogloss:0.369934\tvalidation_1-merror:0.196717\tvalidation_1-mlogloss:0.488911\n",
      "[654]\tvalidation_0-merror:0.141982\tvalidation_0-mlogloss:0.369794\tvalidation_1-merror:0.196801\tvalidation_1-mlogloss:0.488896\n",
      "[655]\tvalidation_0-merror:0.141856\tvalidation_0-mlogloss:0.369594\tvalidation_1-merror:0.196801\tvalidation_1-mlogloss:0.488941\n",
      "[656]\tvalidation_0-merror:0.141856\tvalidation_0-mlogloss:0.369476\tvalidation_1-merror:0.196633\tvalidation_1-mlogloss:0.488943\n",
      "[657]\tvalidation_0-merror:0.141772\tvalidation_0-mlogloss:0.369333\tvalidation_1-merror:0.196717\tvalidation_1-mlogloss:0.488916\n",
      "[658]\tvalidation_0-merror:0.141604\tvalidation_0-mlogloss:0.369179\tvalidation_1-merror:0.196465\tvalidation_1-mlogloss:0.488882\n",
      "[659]\tvalidation_0-merror:0.14154\tvalidation_0-mlogloss:0.36902\tvalidation_1-merror:0.196886\tvalidation_1-mlogloss:0.488847\n",
      "[660]\tvalidation_0-merror:0.14154\tvalidation_0-mlogloss:0.368909\tvalidation_1-merror:0.19697\tvalidation_1-mlogloss:0.488834\n"
     ]
    },
    {
     "name": "stdout",
     "output_type": "stream",
     "text": [
      "[661]\tvalidation_0-merror:0.141372\tvalidation_0-mlogloss:0.368715\tvalidation_1-merror:0.197138\tvalidation_1-mlogloss:0.488742\n",
      "[662]\tvalidation_0-merror:0.141246\tvalidation_0-mlogloss:0.36851\tvalidation_1-merror:0.197138\tvalidation_1-mlogloss:0.488692\n",
      "[663]\tvalidation_0-merror:0.141267\tvalidation_0-mlogloss:0.368377\tvalidation_1-merror:0.197222\tvalidation_1-mlogloss:0.488692\n",
      "[664]\tvalidation_0-merror:0.141309\tvalidation_0-mlogloss:0.368142\tvalidation_1-merror:0.197138\tvalidation_1-mlogloss:0.488669\n",
      "[665]\tvalidation_0-merror:0.141183\tvalidation_0-mlogloss:0.367917\tvalidation_1-merror:0.197306\tvalidation_1-mlogloss:0.488625\n",
      "[666]\tvalidation_0-merror:0.141035\tvalidation_0-mlogloss:0.367769\tvalidation_1-merror:0.197222\tvalidation_1-mlogloss:0.488585\n",
      "[667]\tvalidation_0-merror:0.140888\tvalidation_0-mlogloss:0.367565\tvalidation_1-merror:0.197054\tvalidation_1-mlogloss:0.488494\n",
      "[668]\tvalidation_0-merror:0.140783\tvalidation_0-mlogloss:0.367402\tvalidation_1-merror:0.197054\tvalidation_1-mlogloss:0.488441\n",
      "[669]\tvalidation_0-merror:0.140783\tvalidation_0-mlogloss:0.367264\tvalidation_1-merror:0.196633\tvalidation_1-mlogloss:0.488415\n",
      "[670]\tvalidation_0-merror:0.140762\tvalidation_0-mlogloss:0.367093\tvalidation_1-merror:0.196801\tvalidation_1-mlogloss:0.488413\n",
      "[671]\tvalidation_0-merror:0.14072\tvalidation_0-mlogloss:0.366979\tvalidation_1-merror:0.196886\tvalidation_1-mlogloss:0.488412\n",
      "[672]\tvalidation_0-merror:0.140867\tvalidation_0-mlogloss:0.36683\tvalidation_1-merror:0.196886\tvalidation_1-mlogloss:0.488379\n",
      "[673]\tvalidation_0-merror:0.140972\tvalidation_0-mlogloss:0.366699\tvalidation_1-merror:0.196801\tvalidation_1-mlogloss:0.488377\n",
      "[674]\tvalidation_0-merror:0.140804\tvalidation_0-mlogloss:0.36652\tvalidation_1-merror:0.196886\tvalidation_1-mlogloss:0.488399\n",
      "[675]\tvalidation_0-merror:0.140699\tvalidation_0-mlogloss:0.366364\tvalidation_1-merror:0.197138\tvalidation_1-mlogloss:0.488403\n",
      "[676]\tvalidation_0-merror:0.14053\tvalidation_0-mlogloss:0.366204\tvalidation_1-merror:0.197054\tvalidation_1-mlogloss:0.488411\n",
      "[677]\tvalidation_0-merror:0.140551\tvalidation_0-mlogloss:0.366001\tvalidation_1-merror:0.196801\tvalidation_1-mlogloss:0.48832\n",
      "[678]\tvalidation_0-merror:0.140446\tvalidation_0-mlogloss:0.365876\tvalidation_1-merror:0.196801\tvalidation_1-mlogloss:0.488332\n",
      "[679]\tvalidation_0-merror:0.14032\tvalidation_0-mlogloss:0.36572\tvalidation_1-merror:0.196801\tvalidation_1-mlogloss:0.488349\n",
      "[680]\tvalidation_0-merror:0.140404\tvalidation_0-mlogloss:0.365576\tvalidation_1-merror:0.196801\tvalidation_1-mlogloss:0.488301\n",
      "[681]\tvalidation_0-merror:0.140236\tvalidation_0-mlogloss:0.365419\tvalidation_1-merror:0.196801\tvalidation_1-mlogloss:0.488209\n",
      "[682]\tvalidation_0-merror:0.139983\tvalidation_0-mlogloss:0.36528\tvalidation_1-merror:0.196717\tvalidation_1-mlogloss:0.488216\n",
      "[683]\tvalidation_0-merror:0.140025\tvalidation_0-mlogloss:0.365108\tvalidation_1-merror:0.196801\tvalidation_1-mlogloss:0.488151\n",
      "[684]\tvalidation_0-merror:0.139878\tvalidation_0-mlogloss:0.36492\tvalidation_1-merror:0.196633\tvalidation_1-mlogloss:0.488107\n",
      "[685]\tvalidation_0-merror:0.139731\tvalidation_0-mlogloss:0.364739\tvalidation_1-merror:0.196633\tvalidation_1-mlogloss:0.488087\n",
      "[686]\tvalidation_0-merror:0.139668\tvalidation_0-mlogloss:0.364594\tvalidation_1-merror:0.196633\tvalidation_1-mlogloss:0.488017\n",
      "[687]\tvalidation_0-merror:0.13952\tvalidation_0-mlogloss:0.364445\tvalidation_1-merror:0.196801\tvalidation_1-mlogloss:0.487978\n",
      "[688]\tvalidation_0-merror:0.139352\tvalidation_0-mlogloss:0.364271\tvalidation_1-merror:0.196801\tvalidation_1-mlogloss:0.487959\n",
      "[689]\tvalidation_0-merror:0.139331\tvalidation_0-mlogloss:0.364141\tvalidation_1-merror:0.196801\tvalidation_1-mlogloss:0.487931\n",
      "[690]\tvalidation_0-merror:0.139141\tvalidation_0-mlogloss:0.363997\tvalidation_1-merror:0.196801\tvalidation_1-mlogloss:0.487885\n",
      "[691]\tvalidation_0-merror:0.139099\tvalidation_0-mlogloss:0.363838\tvalidation_1-merror:0.196549\tvalidation_1-mlogloss:0.4879\n",
      "[692]\tvalidation_0-merror:0.139057\tvalidation_0-mlogloss:0.363696\tvalidation_1-merror:0.196633\tvalidation_1-mlogloss:0.487817\n",
      "[693]\tvalidation_0-merror:0.139057\tvalidation_0-mlogloss:0.363481\tvalidation_1-merror:0.196886\tvalidation_1-mlogloss:0.487807\n",
      "[694]\tvalidation_0-merror:0.139036\tvalidation_0-mlogloss:0.363368\tvalidation_1-merror:0.196886\tvalidation_1-mlogloss:0.487818\n",
      "[695]\tvalidation_0-merror:0.13891\tvalidation_0-mlogloss:0.3632\tvalidation_1-merror:0.196886\tvalidation_1-mlogloss:0.487769\n",
      "[696]\tvalidation_0-merror:0.138678\tvalidation_0-mlogloss:0.363034\tvalidation_1-merror:0.19697\tvalidation_1-mlogloss:0.487742\n",
      "[697]\tvalidation_0-merror:0.138636\tvalidation_0-mlogloss:0.362821\tvalidation_1-merror:0.196886\tvalidation_1-mlogloss:0.487796\n",
      "[698]\tvalidation_0-merror:0.138426\tvalidation_0-mlogloss:0.36268\tvalidation_1-merror:0.196633\tvalidation_1-mlogloss:0.487797\n",
      "[699]\tvalidation_0-merror:0.138321\tvalidation_0-mlogloss:0.36251\tvalidation_1-merror:0.19697\tvalidation_1-mlogloss:0.487813\n",
      "[700]\tvalidation_0-merror:0.138258\tvalidation_0-mlogloss:0.362279\tvalidation_1-merror:0.19697\tvalidation_1-mlogloss:0.487699\n",
      "[701]\tvalidation_0-merror:0.138384\tvalidation_0-mlogloss:0.362072\tvalidation_1-merror:0.19697\tvalidation_1-mlogloss:0.487628\n",
      "[702]\tvalidation_0-merror:0.138447\tvalidation_0-mlogloss:0.361869\tvalidation_1-merror:0.196886\tvalidation_1-mlogloss:0.487622\n",
      "[703]\tvalidation_0-merror:0.138342\tvalidation_0-mlogloss:0.361703\tvalidation_1-merror:0.196886\tvalidation_1-mlogloss:0.487643\n",
      "[704]\tvalidation_0-merror:0.1383\tvalidation_0-mlogloss:0.36153\tvalidation_1-merror:0.19697\tvalidation_1-mlogloss:0.487676\n",
      "[705]\tvalidation_0-merror:0.138363\tvalidation_0-mlogloss:0.361338\tvalidation_1-merror:0.19697\tvalidation_1-mlogloss:0.487672\n",
      "[706]\tvalidation_0-merror:0.138194\tvalidation_0-mlogloss:0.361174\tvalidation_1-merror:0.196886\tvalidation_1-mlogloss:0.487636\n",
      "[707]\tvalidation_0-merror:0.138089\tvalidation_0-mlogloss:0.361042\tvalidation_1-merror:0.19697\tvalidation_1-mlogloss:0.487583\n",
      "[708]\tvalidation_0-merror:0.138047\tvalidation_0-mlogloss:0.360929\tvalidation_1-merror:0.197222\tvalidation_1-mlogloss:0.487592\n",
      "[709]\tvalidation_0-merror:0.138026\tvalidation_0-mlogloss:0.360728\tvalidation_1-merror:0.197054\tvalidation_1-mlogloss:0.487552\n",
      "[710]\tvalidation_0-merror:0.137795\tvalidation_0-mlogloss:0.360545\tvalidation_1-merror:0.197138\tvalidation_1-mlogloss:0.487556\n",
      "[711]\tvalidation_0-merror:0.137689\tvalidation_0-mlogloss:0.360393\tvalidation_1-merror:0.196886\tvalidation_1-mlogloss:0.487548\n",
      "[712]\tvalidation_0-merror:0.137647\tvalidation_0-mlogloss:0.360213\tvalidation_1-merror:0.196717\tvalidation_1-mlogloss:0.487545\n",
      "[713]\tvalidation_0-merror:0.137416\tvalidation_0-mlogloss:0.360114\tvalidation_1-merror:0.197054\tvalidation_1-mlogloss:0.48758\n",
      "[714]\tvalidation_0-merror:0.137395\tvalidation_0-mlogloss:0.359977\tvalidation_1-merror:0.19697\tvalidation_1-mlogloss:0.487551\n",
      "[715]\tvalidation_0-merror:0.137247\tvalidation_0-mlogloss:0.359887\tvalidation_1-merror:0.19697\tvalidation_1-mlogloss:0.487553\n",
      "[716]\tvalidation_0-merror:0.137142\tvalidation_0-mlogloss:0.359703\tvalidation_1-merror:0.196801\tvalidation_1-mlogloss:0.48756\n",
      "[717]\tvalidation_0-merror:0.137142\tvalidation_0-mlogloss:0.359546\tvalidation_1-merror:0.196633\tvalidation_1-mlogloss:0.48755\n",
      "[718]\tvalidation_0-merror:0.137163\tvalidation_0-mlogloss:0.359471\tvalidation_1-merror:0.196717\tvalidation_1-mlogloss:0.487547\n",
      "[719]\tvalidation_0-merror:0.137079\tvalidation_0-mlogloss:0.359387\tvalidation_1-merror:0.196549\tvalidation_1-mlogloss:0.487516\n",
      "[720]\tvalidation_0-merror:0.1371\tvalidation_0-mlogloss:0.35925\tvalidation_1-merror:0.196465\tvalidation_1-mlogloss:0.487473\n",
      "[721]\tvalidation_0-merror:0.137016\tvalidation_0-mlogloss:0.359064\tvalidation_1-merror:0.19638\tvalidation_1-mlogloss:0.487383\n",
      "[722]\tvalidation_0-merror:0.1371\tvalidation_0-mlogloss:0.358912\tvalidation_1-merror:0.196296\tvalidation_1-mlogloss:0.487372\n",
      "[723]\tvalidation_0-merror:0.136806\tvalidation_0-mlogloss:0.358727\tvalidation_1-merror:0.196296\tvalidation_1-mlogloss:0.487349\n",
      "[724]\tvalidation_0-merror:0.136742\tvalidation_0-mlogloss:0.358621\tvalidation_1-merror:0.196296\tvalidation_1-mlogloss:0.48734\n",
      "[725]\tvalidation_0-merror:0.136848\tvalidation_0-mlogloss:0.358519\tvalidation_1-merror:0.19596\tvalidation_1-mlogloss:0.487353\n",
      "[726]\tvalidation_0-merror:0.136742\tvalidation_0-mlogloss:0.358425\tvalidation_1-merror:0.196044\tvalidation_1-mlogloss:0.487322\n"
     ]
    },
    {
     "name": "stdout",
     "output_type": "stream",
     "text": [
      "[727]\tvalidation_0-merror:0.136742\tvalidation_0-mlogloss:0.358256\tvalidation_1-merror:0.19596\tvalidation_1-mlogloss:0.487228\n",
      "[728]\tvalidation_0-merror:0.136806\tvalidation_0-mlogloss:0.358106\tvalidation_1-merror:0.196128\tvalidation_1-mlogloss:0.487235\n",
      "[729]\tvalidation_0-merror:0.136553\tvalidation_0-mlogloss:0.357967\tvalidation_1-merror:0.196044\tvalidation_1-mlogloss:0.487266\n",
      "[730]\tvalidation_0-merror:0.136595\tvalidation_0-mlogloss:0.357876\tvalidation_1-merror:0.196128\tvalidation_1-mlogloss:0.487207\n",
      "[731]\tvalidation_0-merror:0.136427\tvalidation_0-mlogloss:0.357757\tvalidation_1-merror:0.196128\tvalidation_1-mlogloss:0.487179\n",
      "[732]\tvalidation_0-merror:0.136469\tvalidation_0-mlogloss:0.357584\tvalidation_1-merror:0.196465\tvalidation_1-mlogloss:0.487157\n",
      "[733]\tvalidation_0-merror:0.136448\tvalidation_0-mlogloss:0.357444\tvalidation_1-merror:0.196465\tvalidation_1-mlogloss:0.487171\n",
      "[734]\tvalidation_0-merror:0.136364\tvalidation_0-mlogloss:0.357263\tvalidation_1-merror:0.196212\tvalidation_1-mlogloss:0.487101\n",
      "[735]\tvalidation_0-merror:0.136174\tvalidation_0-mlogloss:0.357066\tvalidation_1-merror:0.196212\tvalidation_1-mlogloss:0.487044\n",
      "[736]\tvalidation_0-merror:0.136174\tvalidation_0-mlogloss:0.356894\tvalidation_1-merror:0.196128\tvalidation_1-mlogloss:0.487028\n",
      "[737]\tvalidation_0-merror:0.136006\tvalidation_0-mlogloss:0.356678\tvalidation_1-merror:0.196128\tvalidation_1-mlogloss:0.487002\n",
      "[738]\tvalidation_0-merror:0.135816\tvalidation_0-mlogloss:0.356505\tvalidation_1-merror:0.196212\tvalidation_1-mlogloss:0.48702\n",
      "[739]\tvalidation_0-merror:0.13569\tvalidation_0-mlogloss:0.356371\tvalidation_1-merror:0.196212\tvalidation_1-mlogloss:0.486946\n",
      "[740]\tvalidation_0-merror:0.135354\tvalidation_0-mlogloss:0.356213\tvalidation_1-merror:0.196212\tvalidation_1-mlogloss:0.486908\n",
      "[741]\tvalidation_0-merror:0.135332\tvalidation_0-mlogloss:0.356056\tvalidation_1-merror:0.195707\tvalidation_1-mlogloss:0.486872\n",
      "[742]\tvalidation_0-merror:0.135375\tvalidation_0-mlogloss:0.355947\tvalidation_1-merror:0.195791\tvalidation_1-mlogloss:0.486869\n",
      "[743]\tvalidation_0-merror:0.135248\tvalidation_0-mlogloss:0.355873\tvalidation_1-merror:0.195875\tvalidation_1-mlogloss:0.486829\n",
      "[744]\tvalidation_0-merror:0.135122\tvalidation_0-mlogloss:0.35567\tvalidation_1-merror:0.195875\tvalidation_1-mlogloss:0.486756\n",
      "[745]\tvalidation_0-merror:0.134954\tvalidation_0-mlogloss:0.355559\tvalidation_1-merror:0.195791\tvalidation_1-mlogloss:0.486742\n",
      "[746]\tvalidation_0-merror:0.134722\tvalidation_0-mlogloss:0.355376\tvalidation_1-merror:0.196044\tvalidation_1-mlogloss:0.486713\n",
      "[747]\tvalidation_0-merror:0.134722\tvalidation_0-mlogloss:0.355269\tvalidation_1-merror:0.195875\tvalidation_1-mlogloss:0.486729\n",
      "[748]\tvalidation_0-merror:0.134912\tvalidation_0-mlogloss:0.35513\tvalidation_1-merror:0.19596\tvalidation_1-mlogloss:0.486668\n",
      "[749]\tvalidation_0-merror:0.134827\tvalidation_0-mlogloss:0.354966\tvalidation_1-merror:0.195875\tvalidation_1-mlogloss:0.48663\n",
      "[750]\tvalidation_0-merror:0.134806\tvalidation_0-mlogloss:0.354788\tvalidation_1-merror:0.195791\tvalidation_1-mlogloss:0.486564\n",
      "[751]\tvalidation_0-merror:0.134575\tvalidation_0-mlogloss:0.354605\tvalidation_1-merror:0.195875\tvalidation_1-mlogloss:0.486494\n",
      "[752]\tvalidation_0-merror:0.134659\tvalidation_0-mlogloss:0.354528\tvalidation_1-merror:0.19596\tvalidation_1-mlogloss:0.486485\n",
      "[753]\tvalidation_0-merror:0.134764\tvalidation_0-mlogloss:0.354379\tvalidation_1-merror:0.19596\tvalidation_1-mlogloss:0.486465\n",
      "[754]\tvalidation_0-merror:0.134638\tvalidation_0-mlogloss:0.354246\tvalidation_1-merror:0.196044\tvalidation_1-mlogloss:0.486537\n",
      "[755]\tvalidation_0-merror:0.134638\tvalidation_0-mlogloss:0.354083\tvalidation_1-merror:0.196128\tvalidation_1-mlogloss:0.486529\n",
      "[756]\tvalidation_0-merror:0.134512\tvalidation_0-mlogloss:0.35391\tvalidation_1-merror:0.196128\tvalidation_1-mlogloss:0.486548\n",
      "[757]\tvalidation_0-merror:0.134407\tvalidation_0-mlogloss:0.353765\tvalidation_1-merror:0.196128\tvalidation_1-mlogloss:0.486529\n",
      "[758]\tvalidation_0-merror:0.134175\tvalidation_0-mlogloss:0.353633\tvalidation_1-merror:0.196212\tvalidation_1-mlogloss:0.486521\n",
      "[759]\tvalidation_0-merror:0.134301\tvalidation_0-mlogloss:0.353507\tvalidation_1-merror:0.196465\tvalidation_1-mlogloss:0.486534\n",
      "[760]\tvalidation_0-merror:0.13428\tvalidation_0-mlogloss:0.353339\tvalidation_1-merror:0.196465\tvalidation_1-mlogloss:0.486532\n",
      "[761]\tvalidation_0-merror:0.134007\tvalidation_0-mlogloss:0.353158\tvalidation_1-merror:0.196549\tvalidation_1-mlogloss:0.4865\n",
      "[762]\tvalidation_0-merror:0.13388\tvalidation_0-mlogloss:0.353058\tvalidation_1-merror:0.196549\tvalidation_1-mlogloss:0.486515\n",
      "[763]\tvalidation_0-merror:0.133754\tvalidation_0-mlogloss:0.3529\tvalidation_1-merror:0.19638\tvalidation_1-mlogloss:0.486511\n",
      "[764]\tvalidation_0-merror:0.133796\tvalidation_0-mlogloss:0.352727\tvalidation_1-merror:0.196212\tvalidation_1-mlogloss:0.486487\n",
      "[765]\tvalidation_0-merror:0.133712\tvalidation_0-mlogloss:0.352563\tvalidation_1-merror:0.196212\tvalidation_1-mlogloss:0.486472\n",
      "[766]\tvalidation_0-merror:0.133565\tvalidation_0-mlogloss:0.352411\tvalidation_1-merror:0.196128\tvalidation_1-mlogloss:0.486443\n",
      "[767]\tvalidation_0-merror:0.133502\tvalidation_0-mlogloss:0.352279\tvalidation_1-merror:0.196212\tvalidation_1-mlogloss:0.486437\n",
      "[768]\tvalidation_0-merror:0.133354\tvalidation_0-mlogloss:0.352145\tvalidation_1-merror:0.196044\tvalidation_1-mlogloss:0.486419\n",
      "[769]\tvalidation_0-merror:0.133123\tvalidation_0-mlogloss:0.352017\tvalidation_1-merror:0.19596\tvalidation_1-mlogloss:0.486378\n",
      "[770]\tvalidation_0-merror:0.133228\tvalidation_0-mlogloss:0.351902\tvalidation_1-merror:0.195791\tvalidation_1-mlogloss:0.486362\n",
      "[771]\tvalidation_0-merror:0.133165\tvalidation_0-mlogloss:0.351737\tvalidation_1-merror:0.195791\tvalidation_1-mlogloss:0.486318\n",
      "[772]\tvalidation_0-merror:0.133102\tvalidation_0-mlogloss:0.351626\tvalidation_1-merror:0.195791\tvalidation_1-mlogloss:0.486323\n",
      "[773]\tvalidation_0-merror:0.133039\tvalidation_0-mlogloss:0.351471\tvalidation_1-merror:0.195623\tvalidation_1-mlogloss:0.486312\n",
      "[774]\tvalidation_0-merror:0.132933\tvalidation_0-mlogloss:0.351289\tvalidation_1-merror:0.195539\tvalidation_1-mlogloss:0.486289\n",
      "[775]\tvalidation_0-merror:0.132765\tvalidation_0-mlogloss:0.351138\tvalidation_1-merror:0.195707\tvalidation_1-mlogloss:0.486284\n",
      "[776]\tvalidation_0-merror:0.132933\tvalidation_0-mlogloss:0.350936\tvalidation_1-merror:0.195875\tvalidation_1-mlogloss:0.486278\n",
      "[777]\tvalidation_0-merror:0.132786\tvalidation_0-mlogloss:0.350796\tvalidation_1-merror:0.19596\tvalidation_1-mlogloss:0.486267\n",
      "[778]\tvalidation_0-merror:0.132765\tvalidation_0-mlogloss:0.350637\tvalidation_1-merror:0.195791\tvalidation_1-mlogloss:0.48626\n",
      "[779]\tvalidation_0-merror:0.132618\tvalidation_0-mlogloss:0.350462\tvalidation_1-merror:0.195791\tvalidation_1-mlogloss:0.486259\n",
      "[780]\tvalidation_0-merror:0.132534\tvalidation_0-mlogloss:0.350355\tvalidation_1-merror:0.195875\tvalidation_1-mlogloss:0.486255\n",
      "[781]\tvalidation_0-merror:0.132471\tvalidation_0-mlogloss:0.35022\tvalidation_1-merror:0.195791\tvalidation_1-mlogloss:0.48619\n",
      "[782]\tvalidation_0-merror:0.132218\tvalidation_0-mlogloss:0.350045\tvalidation_1-merror:0.19596\tvalidation_1-mlogloss:0.486134\n",
      "[783]\tvalidation_0-merror:0.132281\tvalidation_0-mlogloss:0.349927\tvalidation_1-merror:0.19596\tvalidation_1-mlogloss:0.486166\n",
      "[784]\tvalidation_0-merror:0.132176\tvalidation_0-mlogloss:0.34976\tvalidation_1-merror:0.195791\tvalidation_1-mlogloss:0.486156\n",
      "[785]\tvalidation_0-merror:0.132029\tvalidation_0-mlogloss:0.349603\tvalidation_1-merror:0.195539\tvalidation_1-mlogloss:0.486137\n",
      "[786]\tvalidation_0-merror:0.131987\tvalidation_0-mlogloss:0.349416\tvalidation_1-merror:0.195623\tvalidation_1-mlogloss:0.48615\n",
      "[787]\tvalidation_0-merror:0.131923\tvalidation_0-mlogloss:0.349295\tvalidation_1-merror:0.195875\tvalidation_1-mlogloss:0.486115\n",
      "[788]\tvalidation_0-merror:0.131734\tvalidation_0-mlogloss:0.349113\tvalidation_1-merror:0.195875\tvalidation_1-mlogloss:0.486135\n",
      "[789]\tvalidation_0-merror:0.131818\tvalidation_0-mlogloss:0.348963\tvalidation_1-merror:0.195791\tvalidation_1-mlogloss:0.48611\n",
      "[790]\tvalidation_0-merror:0.131797\tvalidation_0-mlogloss:0.348833\tvalidation_1-merror:0.195623\tvalidation_1-mlogloss:0.486129\n",
      "[791]\tvalidation_0-merror:0.131713\tvalidation_0-mlogloss:0.348689\tvalidation_1-merror:0.195539\tvalidation_1-mlogloss:0.486104\n",
      "[792]\tvalidation_0-merror:0.131566\tvalidation_0-mlogloss:0.348562\tvalidation_1-merror:0.195707\tvalidation_1-mlogloss:0.486133\n"
     ]
    },
    {
     "name": "stdout",
     "output_type": "stream",
     "text": [
      "[793]\tvalidation_0-merror:0.131692\tvalidation_0-mlogloss:0.34838\tvalidation_1-merror:0.19596\tvalidation_1-mlogloss:0.486044\n",
      "[794]\tvalidation_0-merror:0.131524\tvalidation_0-mlogloss:0.348265\tvalidation_1-merror:0.19596\tvalidation_1-mlogloss:0.485992\n",
      "[795]\tvalidation_0-merror:0.131292\tvalidation_0-mlogloss:0.348054\tvalidation_1-merror:0.195791\tvalidation_1-mlogloss:0.485908\n",
      "[796]\tvalidation_0-merror:0.131187\tvalidation_0-mlogloss:0.347906\tvalidation_1-merror:0.195875\tvalidation_1-mlogloss:0.485935\n",
      "[797]\tvalidation_0-merror:0.131103\tvalidation_0-mlogloss:0.347758\tvalidation_1-merror:0.195875\tvalidation_1-mlogloss:0.485934\n",
      "[798]\tvalidation_0-merror:0.130829\tvalidation_0-mlogloss:0.347571\tvalidation_1-merror:0.195455\tvalidation_1-mlogloss:0.485906\n",
      "[799]\tvalidation_0-merror:0.13085\tvalidation_0-mlogloss:0.347445\tvalidation_1-merror:0.195539\tvalidation_1-mlogloss:0.485895\n",
      "[800]\tvalidation_0-merror:0.130892\tvalidation_0-mlogloss:0.347316\tvalidation_1-merror:0.195539\tvalidation_1-mlogloss:0.485876\n",
      "[801]\tvalidation_0-merror:0.130745\tvalidation_0-mlogloss:0.347132\tvalidation_1-merror:0.195202\tvalidation_1-mlogloss:0.485859\n",
      "[802]\tvalidation_0-merror:0.130577\tvalidation_0-mlogloss:0.346971\tvalidation_1-merror:0.195202\tvalidation_1-mlogloss:0.48581\n",
      "[803]\tvalidation_0-merror:0.130387\tvalidation_0-mlogloss:0.346819\tvalidation_1-merror:0.195286\tvalidation_1-mlogloss:0.48579\n",
      "[804]\tvalidation_0-merror:0.130261\tvalidation_0-mlogloss:0.346725\tvalidation_1-merror:0.19537\tvalidation_1-mlogloss:0.485771\n",
      "[805]\tvalidation_0-merror:0.130093\tvalidation_0-mlogloss:0.346558\tvalidation_1-merror:0.19537\tvalidation_1-mlogloss:0.485797\n",
      "[806]\tvalidation_0-merror:0.129966\tvalidation_0-mlogloss:0.346452\tvalidation_1-merror:0.195455\tvalidation_1-mlogloss:0.485812\n",
      "[807]\tvalidation_0-merror:0.130029\tvalidation_0-mlogloss:0.346306\tvalidation_1-merror:0.195707\tvalidation_1-mlogloss:0.485841\n",
      "[808]\tvalidation_0-merror:0.129798\tvalidation_0-mlogloss:0.346183\tvalidation_1-merror:0.195623\tvalidation_1-mlogloss:0.48583\n",
      "[809]\tvalidation_0-merror:0.129714\tvalidation_0-mlogloss:0.346026\tvalidation_1-merror:0.195539\tvalidation_1-mlogloss:0.48581\n",
      "[810]\tvalidation_0-merror:0.129651\tvalidation_0-mlogloss:0.345941\tvalidation_1-merror:0.195707\tvalidation_1-mlogloss:0.485813\n",
      "[811]\tvalidation_0-merror:0.129461\tvalidation_0-mlogloss:0.345801\tvalidation_1-merror:0.195875\tvalidation_1-mlogloss:0.485791\n",
      "[812]\tvalidation_0-merror:0.129188\tvalidation_0-mlogloss:0.345618\tvalidation_1-merror:0.195791\tvalidation_1-mlogloss:0.485752\n",
      "[813]\tvalidation_0-merror:0.129019\tvalidation_0-mlogloss:0.345503\tvalidation_1-merror:0.196044\tvalidation_1-mlogloss:0.48573\n",
      "[814]\tvalidation_0-merror:0.128935\tvalidation_0-mlogloss:0.345346\tvalidation_1-merror:0.196212\tvalidation_1-mlogloss:0.485678\n",
      "[815]\tvalidation_0-merror:0.128956\tvalidation_0-mlogloss:0.345219\tvalidation_1-merror:0.196465\tvalidation_1-mlogloss:0.485645\n",
      "[816]\tvalidation_0-merror:0.129019\tvalidation_0-mlogloss:0.345075\tvalidation_1-merror:0.196212\tvalidation_1-mlogloss:0.485592\n",
      "[817]\tvalidation_0-merror:0.128977\tvalidation_0-mlogloss:0.344925\tvalidation_1-merror:0.19596\tvalidation_1-mlogloss:0.485575\n",
      "[818]\tvalidation_0-merror:0.128914\tvalidation_0-mlogloss:0.344804\tvalidation_1-merror:0.196128\tvalidation_1-mlogloss:0.485558\n",
      "[819]\tvalidation_0-merror:0.128809\tvalidation_0-mlogloss:0.344656\tvalidation_1-merror:0.19596\tvalidation_1-mlogloss:0.48555\n",
      "[820]\tvalidation_0-merror:0.128683\tvalidation_0-mlogloss:0.344529\tvalidation_1-merror:0.195707\tvalidation_1-mlogloss:0.485522\n",
      "[821]\tvalidation_0-merror:0.128493\tvalidation_0-mlogloss:0.34437\tvalidation_1-merror:0.195875\tvalidation_1-mlogloss:0.485496\n",
      "[822]\tvalidation_0-merror:0.128577\tvalidation_0-mlogloss:0.344228\tvalidation_1-merror:0.195539\tvalidation_1-mlogloss:0.485466\n",
      "[823]\tvalidation_0-merror:0.128325\tvalidation_0-mlogloss:0.34409\tvalidation_1-merror:0.195791\tvalidation_1-mlogloss:0.485522\n",
      "[824]\tvalidation_0-merror:0.128283\tvalidation_0-mlogloss:0.343892\tvalidation_1-merror:0.195875\tvalidation_1-mlogloss:0.485549\n",
      "[825]\tvalidation_0-merror:0.128262\tvalidation_0-mlogloss:0.343815\tvalidation_1-merror:0.195875\tvalidation_1-mlogloss:0.485583\n",
      "[826]\tvalidation_0-merror:0.128262\tvalidation_0-mlogloss:0.343663\tvalidation_1-merror:0.196128\tvalidation_1-mlogloss:0.485585\n",
      "[827]\tvalidation_0-merror:0.128157\tvalidation_0-mlogloss:0.343484\tvalidation_1-merror:0.19596\tvalidation_1-mlogloss:0.485499\n",
      "[828]\tvalidation_0-merror:0.128093\tvalidation_0-mlogloss:0.343365\tvalidation_1-merror:0.195875\tvalidation_1-mlogloss:0.485507\n",
      "[829]\tvalidation_0-merror:0.128199\tvalidation_0-mlogloss:0.343271\tvalidation_1-merror:0.195623\tvalidation_1-mlogloss:0.485491\n",
      "[830]\tvalidation_0-merror:0.12803\tvalidation_0-mlogloss:0.343116\tvalidation_1-merror:0.195707\tvalidation_1-mlogloss:0.4854\n",
      "[831]\tvalidation_0-merror:0.127925\tvalidation_0-mlogloss:0.342982\tvalidation_1-merror:0.195875\tvalidation_1-mlogloss:0.485398\n",
      "[832]\tvalidation_0-merror:0.127757\tvalidation_0-mlogloss:0.342863\tvalidation_1-merror:0.195875\tvalidation_1-mlogloss:0.485399\n",
      "[833]\tvalidation_0-merror:0.128009\tvalidation_0-mlogloss:0.342765\tvalidation_1-merror:0.19596\tvalidation_1-mlogloss:0.485428\n",
      "[834]\tvalidation_0-merror:0.12782\tvalidation_0-mlogloss:0.342668\tvalidation_1-merror:0.195791\tvalidation_1-mlogloss:0.485446\n",
      "[835]\tvalidation_0-merror:0.127652\tvalidation_0-mlogloss:0.342514\tvalidation_1-merror:0.195202\tvalidation_1-mlogloss:0.485443\n",
      "[836]\tvalidation_0-merror:0.127652\tvalidation_0-mlogloss:0.342413\tvalidation_1-merror:0.19537\tvalidation_1-mlogloss:0.485472\n",
      "[837]\tvalidation_0-merror:0.127652\tvalidation_0-mlogloss:0.34229\tvalidation_1-merror:0.195623\tvalidation_1-mlogloss:0.485438\n",
      "[838]\tvalidation_0-merror:0.127462\tvalidation_0-mlogloss:0.342155\tvalidation_1-merror:0.195539\tvalidation_1-mlogloss:0.485396\n",
      "[839]\tvalidation_0-merror:0.127399\tvalidation_0-mlogloss:0.342008\tvalidation_1-merror:0.195791\tvalidation_1-mlogloss:0.485372\n",
      "[840]\tvalidation_0-merror:0.127378\tvalidation_0-mlogloss:0.341854\tvalidation_1-merror:0.195791\tvalidation_1-mlogloss:0.485389\n",
      "[841]\tvalidation_0-merror:0.127336\tvalidation_0-mlogloss:0.341753\tvalidation_1-merror:0.195539\tvalidation_1-mlogloss:0.485313\n",
      "[842]\tvalidation_0-merror:0.127399\tvalidation_0-mlogloss:0.341629\tvalidation_1-merror:0.19537\tvalidation_1-mlogloss:0.485228\n",
      "[843]\tvalidation_0-merror:0.127336\tvalidation_0-mlogloss:0.341493\tvalidation_1-merror:0.19537\tvalidation_1-mlogloss:0.485257\n",
      "[844]\tvalidation_0-merror:0.127315\tvalidation_0-mlogloss:0.341376\tvalidation_1-merror:0.195455\tvalidation_1-mlogloss:0.485219\n",
      "[845]\tvalidation_0-merror:0.127357\tvalidation_0-mlogloss:0.341209\tvalidation_1-merror:0.195202\tvalidation_1-mlogloss:0.485182\n",
      "[846]\tvalidation_0-merror:0.12721\tvalidation_0-mlogloss:0.341111\tvalidation_1-merror:0.195623\tvalidation_1-mlogloss:0.48518\n",
      "[847]\tvalidation_0-merror:0.127273\tvalidation_0-mlogloss:0.340939\tvalidation_1-merror:0.195791\tvalidation_1-mlogloss:0.485176\n",
      "[848]\tvalidation_0-merror:0.127336\tvalidation_0-mlogloss:0.340817\tvalidation_1-merror:0.195623\tvalidation_1-mlogloss:0.485106\n",
      "[849]\tvalidation_0-merror:0.127168\tvalidation_0-mlogloss:0.340732\tvalidation_1-merror:0.195707\tvalidation_1-mlogloss:0.485088\n",
      "[850]\tvalidation_0-merror:0.127062\tvalidation_0-mlogloss:0.340537\tvalidation_1-merror:0.19596\tvalidation_1-mlogloss:0.485048\n",
      "[851]\tvalidation_0-merror:0.127041\tvalidation_0-mlogloss:0.34037\tvalidation_1-merror:0.195791\tvalidation_1-mlogloss:0.485019\n",
      "[852]\tvalidation_0-merror:0.126936\tvalidation_0-mlogloss:0.340245\tvalidation_1-merror:0.196044\tvalidation_1-mlogloss:0.485042\n",
      "[853]\tvalidation_0-merror:0.126936\tvalidation_0-mlogloss:0.340093\tvalidation_1-merror:0.196128\tvalidation_1-mlogloss:0.48503\n",
      "[854]\tvalidation_0-merror:0.126726\tvalidation_0-mlogloss:0.339964\tvalidation_1-merror:0.195791\tvalidation_1-mlogloss:0.485028\n",
      "[855]\tvalidation_0-merror:0.126705\tvalidation_0-mlogloss:0.339842\tvalidation_1-merror:0.195707\tvalidation_1-mlogloss:0.485049\n",
      "[856]\tvalidation_0-merror:0.126726\tvalidation_0-mlogloss:0.339658\tvalidation_1-merror:0.19537\tvalidation_1-mlogloss:0.485025\n",
      "[857]\tvalidation_0-merror:0.126494\tvalidation_0-mlogloss:0.339498\tvalidation_1-merror:0.195539\tvalidation_1-mlogloss:0.484952\n",
      "[858]\tvalidation_0-merror:0.126536\tvalidation_0-mlogloss:0.339394\tvalidation_1-merror:0.19537\tvalidation_1-mlogloss:0.484932\n"
     ]
    },
    {
     "name": "stdout",
     "output_type": "stream",
     "text": [
      "[859]\tvalidation_0-merror:0.126536\tvalidation_0-mlogloss:0.339322\tvalidation_1-merror:0.19537\tvalidation_1-mlogloss:0.484926\n",
      "[860]\tvalidation_0-merror:0.126473\tvalidation_0-mlogloss:0.339134\tvalidation_1-merror:0.195286\tvalidation_1-mlogloss:0.48492\n",
      "[861]\tvalidation_0-merror:0.126305\tvalidation_0-mlogloss:0.338994\tvalidation_1-merror:0.195455\tvalidation_1-mlogloss:0.484914\n",
      "[862]\tvalidation_0-merror:0.126136\tvalidation_0-mlogloss:0.338882\tvalidation_1-merror:0.195455\tvalidation_1-mlogloss:0.484882\n",
      "[863]\tvalidation_0-merror:0.126284\tvalidation_0-mlogloss:0.338717\tvalidation_1-merror:0.195034\tvalidation_1-mlogloss:0.484873\n",
      "[864]\tvalidation_0-merror:0.126178\tvalidation_0-mlogloss:0.338537\tvalidation_1-merror:0.194949\tvalidation_1-mlogloss:0.484865\n",
      "[865]\tvalidation_0-merror:0.126178\tvalidation_0-mlogloss:0.338402\tvalidation_1-merror:0.194865\tvalidation_1-mlogloss:0.48486\n",
      "[866]\tvalidation_0-merror:0.126136\tvalidation_0-mlogloss:0.33828\tvalidation_1-merror:0.194865\tvalidation_1-mlogloss:0.484863\n",
      "[867]\tvalidation_0-merror:0.125947\tvalidation_0-mlogloss:0.338152\tvalidation_1-merror:0.195034\tvalidation_1-mlogloss:0.484873\n",
      "[868]\tvalidation_0-merror:0.126031\tvalidation_0-mlogloss:0.338014\tvalidation_1-merror:0.195034\tvalidation_1-mlogloss:0.484881\n",
      "[869]\tvalidation_0-merror:0.125926\tvalidation_0-mlogloss:0.337865\tvalidation_1-merror:0.194949\tvalidation_1-mlogloss:0.484855\n",
      "[870]\tvalidation_0-merror:0.125842\tvalidation_0-mlogloss:0.337736\tvalidation_1-merror:0.195286\tvalidation_1-mlogloss:0.484817\n",
      "[871]\tvalidation_0-merror:0.125737\tvalidation_0-mlogloss:0.337598\tvalidation_1-merror:0.195034\tvalidation_1-mlogloss:0.484796\n",
      "[872]\tvalidation_0-merror:0.125694\tvalidation_0-mlogloss:0.337515\tvalidation_1-merror:0.195118\tvalidation_1-mlogloss:0.484811\n",
      "[873]\tvalidation_0-merror:0.125652\tvalidation_0-mlogloss:0.337382\tvalidation_1-merror:0.195202\tvalidation_1-mlogloss:0.484782\n",
      "[874]\tvalidation_0-merror:0.125589\tvalidation_0-mlogloss:0.337226\tvalidation_1-merror:0.195202\tvalidation_1-mlogloss:0.484767\n",
      "[875]\tvalidation_0-merror:0.125758\tvalidation_0-mlogloss:0.337111\tvalidation_1-merror:0.194865\tvalidation_1-mlogloss:0.484774\n",
      "[876]\tvalidation_0-merror:0.125673\tvalidation_0-mlogloss:0.336962\tvalidation_1-merror:0.194781\tvalidation_1-mlogloss:0.484815\n",
      "[877]\tvalidation_0-merror:0.125715\tvalidation_0-mlogloss:0.336821\tvalidation_1-merror:0.195034\tvalidation_1-mlogloss:0.48477\n",
      "[878]\tvalidation_0-merror:0.125547\tvalidation_0-mlogloss:0.3367\tvalidation_1-merror:0.195286\tvalidation_1-mlogloss:0.484765\n",
      "[879]\tvalidation_0-merror:0.125526\tvalidation_0-mlogloss:0.336562\tvalidation_1-merror:0.195202\tvalidation_1-mlogloss:0.484793\n",
      "[880]\tvalidation_0-merror:0.125484\tvalidation_0-mlogloss:0.336419\tvalidation_1-merror:0.195286\tvalidation_1-mlogloss:0.484765\n",
      "[881]\tvalidation_0-merror:0.125463\tvalidation_0-mlogloss:0.336289\tvalidation_1-merror:0.195034\tvalidation_1-mlogloss:0.484767\n",
      "[882]\tvalidation_0-merror:0.1254\tvalidation_0-mlogloss:0.336154\tvalidation_1-merror:0.195034\tvalidation_1-mlogloss:0.484736\n",
      "[883]\tvalidation_0-merror:0.125358\tvalidation_0-mlogloss:0.33605\tvalidation_1-merror:0.195286\tvalidation_1-mlogloss:0.484726\n",
      "[884]\tvalidation_0-merror:0.125337\tvalidation_0-mlogloss:0.335934\tvalidation_1-merror:0.195455\tvalidation_1-mlogloss:0.484701\n",
      "[885]\tvalidation_0-merror:0.125189\tvalidation_0-mlogloss:0.335758\tvalidation_1-merror:0.19537\tvalidation_1-mlogloss:0.484689\n",
      "[886]\tvalidation_0-merror:0.125126\tvalidation_0-mlogloss:0.335579\tvalidation_1-merror:0.195539\tvalidation_1-mlogloss:0.484652\n",
      "[887]\tvalidation_0-merror:0.125063\tvalidation_0-mlogloss:0.335458\tvalidation_1-merror:0.195539\tvalidation_1-mlogloss:0.48465\n",
      "[888]\tvalidation_0-merror:0.125063\tvalidation_0-mlogloss:0.335363\tvalidation_1-merror:0.195623\tvalidation_1-mlogloss:0.484626\n",
      "[889]\tvalidation_0-merror:0.125042\tvalidation_0-mlogloss:0.335248\tvalidation_1-merror:0.195455\tvalidation_1-mlogloss:0.484636\n",
      "[890]\tvalidation_0-merror:0.124916\tvalidation_0-mlogloss:0.335064\tvalidation_1-merror:0.195286\tvalidation_1-mlogloss:0.484544\n",
      "[891]\tvalidation_0-merror:0.124832\tvalidation_0-mlogloss:0.334946\tvalidation_1-merror:0.195202\tvalidation_1-mlogloss:0.484536\n",
      "[892]\tvalidation_0-merror:0.124705\tvalidation_0-mlogloss:0.334822\tvalidation_1-merror:0.195286\tvalidation_1-mlogloss:0.484504\n",
      "[893]\tvalidation_0-merror:0.124579\tvalidation_0-mlogloss:0.334627\tvalidation_1-merror:0.19537\tvalidation_1-mlogloss:0.484482\n",
      "[894]\tvalidation_0-merror:0.1246\tvalidation_0-mlogloss:0.334528\tvalidation_1-merror:0.195455\tvalidation_1-mlogloss:0.484479\n",
      "[895]\tvalidation_0-merror:0.124621\tvalidation_0-mlogloss:0.334381\tvalidation_1-merror:0.195286\tvalidation_1-mlogloss:0.484457\n",
      "[896]\tvalidation_0-merror:0.124537\tvalidation_0-mlogloss:0.334232\tvalidation_1-merror:0.195034\tvalidation_1-mlogloss:0.484466\n",
      "[897]\tvalidation_0-merror:0.124179\tvalidation_0-mlogloss:0.334042\tvalidation_1-merror:0.194949\tvalidation_1-mlogloss:0.484449\n",
      "[898]\tvalidation_0-merror:0.123927\tvalidation_0-mlogloss:0.333918\tvalidation_1-merror:0.195707\tvalidation_1-mlogloss:0.484462\n",
      "[899]\tvalidation_0-merror:0.124179\tvalidation_0-mlogloss:0.333798\tvalidation_1-merror:0.195623\tvalidation_1-mlogloss:0.484481\n",
      "[900]\tvalidation_0-merror:0.124242\tvalidation_0-mlogloss:0.333617\tvalidation_1-merror:0.195455\tvalidation_1-mlogloss:0.484488\n",
      "[901]\tvalidation_0-merror:0.124095\tvalidation_0-mlogloss:0.333453\tvalidation_1-merror:0.195623\tvalidation_1-mlogloss:0.484404\n",
      "[902]\tvalidation_0-merror:0.124011\tvalidation_0-mlogloss:0.333347\tvalidation_1-merror:0.19537\tvalidation_1-mlogloss:0.484373\n",
      "[903]\tvalidation_0-merror:0.123969\tvalidation_0-mlogloss:0.333201\tvalidation_1-merror:0.195539\tvalidation_1-mlogloss:0.484326\n",
      "[904]\tvalidation_0-merror:0.123822\tvalidation_0-mlogloss:0.333089\tvalidation_1-merror:0.195623\tvalidation_1-mlogloss:0.484289\n",
      "[905]\tvalidation_0-merror:0.123632\tvalidation_0-mlogloss:0.332953\tvalidation_1-merror:0.195623\tvalidation_1-mlogloss:0.484256\n",
      "[906]\tvalidation_0-merror:0.12359\tvalidation_0-mlogloss:0.332774\tvalidation_1-merror:0.19537\tvalidation_1-mlogloss:0.484247\n",
      "[907]\tvalidation_0-merror:0.123611\tvalidation_0-mlogloss:0.332641\tvalidation_1-merror:0.195202\tvalidation_1-mlogloss:0.484257\n",
      "[908]\tvalidation_0-merror:0.123611\tvalidation_0-mlogloss:0.332522\tvalidation_1-merror:0.195202\tvalidation_1-mlogloss:0.484321\n",
      "[909]\tvalidation_0-merror:0.123485\tvalidation_0-mlogloss:0.332356\tvalidation_1-merror:0.195202\tvalidation_1-mlogloss:0.484278\n",
      "[910]\tvalidation_0-merror:0.123485\tvalidation_0-mlogloss:0.332236\tvalidation_1-merror:0.195202\tvalidation_1-mlogloss:0.484343\n",
      "[911]\tvalidation_0-merror:0.123359\tvalidation_0-mlogloss:0.332068\tvalidation_1-merror:0.194865\tvalidation_1-mlogloss:0.484304\n",
      "[912]\tvalidation_0-merror:0.123359\tvalidation_0-mlogloss:0.331963\tvalidation_1-merror:0.194865\tvalidation_1-mlogloss:0.484295\n",
      "[913]\tvalidation_0-merror:0.123316\tvalidation_0-mlogloss:0.331862\tvalidation_1-merror:0.194781\tvalidation_1-mlogloss:0.484309\n",
      "[914]\tvalidation_0-merror:0.123253\tvalidation_0-mlogloss:0.331705\tvalidation_1-merror:0.195118\tvalidation_1-mlogloss:0.484272\n",
      "[915]\tvalidation_0-merror:0.123127\tvalidation_0-mlogloss:0.331606\tvalidation_1-merror:0.195286\tvalidation_1-mlogloss:0.48434\n",
      "[916]\tvalidation_0-merror:0.123043\tvalidation_0-mlogloss:0.331471\tvalidation_1-merror:0.195286\tvalidation_1-mlogloss:0.484323\n",
      "[917]\tvalidation_0-merror:0.122832\tvalidation_0-mlogloss:0.331343\tvalidation_1-merror:0.195286\tvalidation_1-mlogloss:0.484306\n",
      "[918]\tvalidation_0-merror:0.122748\tvalidation_0-mlogloss:0.331219\tvalidation_1-merror:0.195118\tvalidation_1-mlogloss:0.484266\n",
      "[919]\tvalidation_0-merror:0.122938\tvalidation_0-mlogloss:0.331083\tvalidation_1-merror:0.194949\tvalidation_1-mlogloss:0.484229\n",
      "[920]\tvalidation_0-merror:0.123064\tvalidation_0-mlogloss:0.330947\tvalidation_1-merror:0.19537\tvalidation_1-mlogloss:0.484177\n",
      "[921]\tvalidation_0-merror:0.123064\tvalidation_0-mlogloss:0.330814\tvalidation_1-merror:0.19537\tvalidation_1-mlogloss:0.484225\n",
      "[922]\tvalidation_0-merror:0.122875\tvalidation_0-mlogloss:0.3307\tvalidation_1-merror:0.195202\tvalidation_1-mlogloss:0.484241\n",
      "[923]\tvalidation_0-merror:0.122748\tvalidation_0-mlogloss:0.330552\tvalidation_1-merror:0.195118\tvalidation_1-mlogloss:0.484203\n",
      "[924]\tvalidation_0-merror:0.122706\tvalidation_0-mlogloss:0.330455\tvalidation_1-merror:0.195034\tvalidation_1-mlogloss:0.484216\n"
     ]
    },
    {
     "name": "stdout",
     "output_type": "stream",
     "text": [
      "[925]\tvalidation_0-merror:0.122643\tvalidation_0-mlogloss:0.330348\tvalidation_1-merror:0.195118\tvalidation_1-mlogloss:0.484249\n",
      "[926]\tvalidation_0-merror:0.122496\tvalidation_0-mlogloss:0.330149\tvalidation_1-merror:0.194781\tvalidation_1-mlogloss:0.484152\n",
      "[927]\tvalidation_0-merror:0.122454\tvalidation_0-mlogloss:0.330016\tvalidation_1-merror:0.194949\tvalidation_1-mlogloss:0.484121\n",
      "[928]\tvalidation_0-merror:0.122496\tvalidation_0-mlogloss:0.329803\tvalidation_1-merror:0.194949\tvalidation_1-mlogloss:0.484039\n",
      "[929]\tvalidation_0-merror:0.122454\tvalidation_0-mlogloss:0.329661\tvalidation_1-merror:0.195118\tvalidation_1-mlogloss:0.48403\n",
      "[930]\tvalidation_0-merror:0.122327\tvalidation_0-mlogloss:0.32957\tvalidation_1-merror:0.195118\tvalidation_1-mlogloss:0.484018\n",
      "[931]\tvalidation_0-merror:0.122348\tvalidation_0-mlogloss:0.329437\tvalidation_1-merror:0.195118\tvalidation_1-mlogloss:0.484023\n",
      "[932]\tvalidation_0-merror:0.122201\tvalidation_0-mlogloss:0.329309\tvalidation_1-merror:0.195286\tvalidation_1-mlogloss:0.484051\n",
      "[933]\tvalidation_0-merror:0.122138\tvalidation_0-mlogloss:0.329234\tvalidation_1-merror:0.195455\tvalidation_1-mlogloss:0.484054\n",
      "[934]\tvalidation_0-merror:0.122159\tvalidation_0-mlogloss:0.329131\tvalidation_1-merror:0.195202\tvalidation_1-mlogloss:0.484058\n",
      "[935]\tvalidation_0-merror:0.121991\tvalidation_0-mlogloss:0.328978\tvalidation_1-merror:0.195202\tvalidation_1-mlogloss:0.484037\n",
      "[936]\tvalidation_0-merror:0.122033\tvalidation_0-mlogloss:0.328824\tvalidation_1-merror:0.195118\tvalidation_1-mlogloss:0.484015\n",
      "[937]\tvalidation_0-merror:0.121991\tvalidation_0-mlogloss:0.328699\tvalidation_1-merror:0.195286\tvalidation_1-mlogloss:0.483996\n",
      "[938]\tvalidation_0-merror:0.121928\tvalidation_0-mlogloss:0.328549\tvalidation_1-merror:0.195118\tvalidation_1-mlogloss:0.484012\n",
      "[939]\tvalidation_0-merror:0.12178\tvalidation_0-mlogloss:0.32845\tvalidation_1-merror:0.194865\tvalidation_1-mlogloss:0.484017\n",
      "[940]\tvalidation_0-merror:0.121738\tvalidation_0-mlogloss:0.328332\tvalidation_1-merror:0.194865\tvalidation_1-mlogloss:0.483981\n",
      "[941]\tvalidation_0-merror:0.121822\tvalidation_0-mlogloss:0.328181\tvalidation_1-merror:0.194613\tvalidation_1-mlogloss:0.483984\n",
      "[942]\tvalidation_0-merror:0.121675\tvalidation_0-mlogloss:0.328026\tvalidation_1-merror:0.194697\tvalidation_1-mlogloss:0.484047\n",
      "[943]\tvalidation_0-merror:0.121423\tvalidation_0-mlogloss:0.32791\tvalidation_1-merror:0.194865\tvalidation_1-mlogloss:0.484132\n",
      "[944]\tvalidation_0-merror:0.121549\tvalidation_0-mlogloss:0.327766\tvalidation_1-merror:0.194529\tvalidation_1-mlogloss:0.484117\n",
      "[945]\tvalidation_0-merror:0.121423\tvalidation_0-mlogloss:0.327637\tvalidation_1-merror:0.194529\tvalidation_1-mlogloss:0.484085\n",
      "[946]\tvalidation_0-merror:0.121444\tvalidation_0-mlogloss:0.327546\tvalidation_1-merror:0.194613\tvalidation_1-mlogloss:0.484057\n",
      "[947]\tvalidation_0-merror:0.121444\tvalidation_0-mlogloss:0.327421\tvalidation_1-merror:0.194781\tvalidation_1-mlogloss:0.484038\n",
      "[948]\tvalidation_0-merror:0.121402\tvalidation_0-mlogloss:0.327319\tvalidation_1-merror:0.194697\tvalidation_1-mlogloss:0.484025\n",
      "[949]\tvalidation_0-merror:0.121359\tvalidation_0-mlogloss:0.327148\tvalidation_1-merror:0.194865\tvalidation_1-mlogloss:0.484077\n",
      "[950]\tvalidation_0-merror:0.121423\tvalidation_0-mlogloss:0.327024\tvalidation_1-merror:0.194781\tvalidation_1-mlogloss:0.484041\n",
      "[951]\tvalidation_0-merror:0.121338\tvalidation_0-mlogloss:0.326926\tvalidation_1-merror:0.194865\tvalidation_1-mlogloss:0.484098\n",
      "[952]\tvalidation_0-merror:0.121233\tvalidation_0-mlogloss:0.32677\tvalidation_1-merror:0.194781\tvalidation_1-mlogloss:0.484104\n",
      "[953]\tvalidation_0-merror:0.121212\tvalidation_0-mlogloss:0.326655\tvalidation_1-merror:0.194697\tvalidation_1-mlogloss:0.48404\n",
      "[954]\tvalidation_0-merror:0.121086\tvalidation_0-mlogloss:0.326527\tvalidation_1-merror:0.194781\tvalidation_1-mlogloss:0.484048\n",
      "[955]\tvalidation_0-merror:0.120833\tvalidation_0-mlogloss:0.326393\tvalidation_1-merror:0.195202\tvalidation_1-mlogloss:0.484031\n",
      "[956]\tvalidation_0-merror:0.120728\tvalidation_0-mlogloss:0.326282\tvalidation_1-merror:0.195202\tvalidation_1-mlogloss:0.484041\n",
      "[957]\tvalidation_0-merror:0.120623\tvalidation_0-mlogloss:0.326108\tvalidation_1-merror:0.195202\tvalidation_1-mlogloss:0.483985\n",
      "[958]\tvalidation_0-merror:0.120497\tvalidation_0-mlogloss:0.325988\tvalidation_1-merror:0.194949\tvalidation_1-mlogloss:0.483924\n",
      "[959]\tvalidation_0-merror:0.120476\tvalidation_0-mlogloss:0.325818\tvalidation_1-merror:0.195539\tvalidation_1-mlogloss:0.483924\n",
      "[960]\tvalidation_0-merror:0.120307\tvalidation_0-mlogloss:0.325699\tvalidation_1-merror:0.195623\tvalidation_1-mlogloss:0.483917\n",
      "[961]\tvalidation_0-merror:0.120307\tvalidation_0-mlogloss:0.325602\tvalidation_1-merror:0.195539\tvalidation_1-mlogloss:0.483934\n",
      "[962]\tvalidation_0-merror:0.120181\tvalidation_0-mlogloss:0.325497\tvalidation_1-merror:0.195118\tvalidation_1-mlogloss:0.483888\n",
      "[963]\tvalidation_0-merror:0.120139\tvalidation_0-mlogloss:0.325372\tvalidation_1-merror:0.195118\tvalidation_1-mlogloss:0.48388\n",
      "[964]\tvalidation_0-merror:0.120139\tvalidation_0-mlogloss:0.325222\tvalidation_1-merror:0.195034\tvalidation_1-mlogloss:0.483855\n",
      "[965]\tvalidation_0-merror:0.120034\tvalidation_0-mlogloss:0.325094\tvalidation_1-merror:0.194781\tvalidation_1-mlogloss:0.483859\n",
      "[966]\tvalidation_0-merror:0.119971\tvalidation_0-mlogloss:0.324971\tvalidation_1-merror:0.194697\tvalidation_1-mlogloss:0.483823\n",
      "[967]\tvalidation_0-merror:0.119886\tvalidation_0-mlogloss:0.324835\tvalidation_1-merror:0.194781\tvalidation_1-mlogloss:0.483834\n",
      "[968]\tvalidation_0-merror:0.119781\tvalidation_0-mlogloss:0.3247\tvalidation_1-merror:0.194781\tvalidation_1-mlogloss:0.483815\n",
      "[969]\tvalidation_0-merror:0.119529\tvalidation_0-mlogloss:0.324552\tvalidation_1-merror:0.194529\tvalidation_1-mlogloss:0.483748\n",
      "[970]\tvalidation_0-merror:0.119529\tvalidation_0-mlogloss:0.324458\tvalidation_1-merror:0.194444\tvalidation_1-mlogloss:0.483726\n",
      "[971]\tvalidation_0-merror:0.119402\tvalidation_0-mlogloss:0.324353\tvalidation_1-merror:0.19436\tvalidation_1-mlogloss:0.48374\n",
      "[972]\tvalidation_0-merror:0.119402\tvalidation_0-mlogloss:0.324255\tvalidation_1-merror:0.194276\tvalidation_1-mlogloss:0.483735\n",
      "[973]\tvalidation_0-merror:0.119402\tvalidation_0-mlogloss:0.324121\tvalidation_1-merror:0.194108\tvalidation_1-mlogloss:0.483702\n",
      "[974]\tvalidation_0-merror:0.119381\tvalidation_0-mlogloss:0.324017\tvalidation_1-merror:0.193855\tvalidation_1-mlogloss:0.483713\n",
      "[975]\tvalidation_0-merror:0.119339\tvalidation_0-mlogloss:0.323933\tvalidation_1-merror:0.194024\tvalidation_1-mlogloss:0.483762\n",
      "[976]\tvalidation_0-merror:0.119339\tvalidation_0-mlogloss:0.323808\tvalidation_1-merror:0.194024\tvalidation_1-mlogloss:0.483755\n",
      "[977]\tvalidation_0-merror:0.119297\tvalidation_0-mlogloss:0.323702\tvalidation_1-merror:0.194108\tvalidation_1-mlogloss:0.483776\n",
      "[978]\tvalidation_0-merror:0.119234\tvalidation_0-mlogloss:0.323564\tvalidation_1-merror:0.194108\tvalidation_1-mlogloss:0.483731\n",
      "[979]\tvalidation_0-merror:0.119108\tvalidation_0-mlogloss:0.323453\tvalidation_1-merror:0.193687\tvalidation_1-mlogloss:0.483665\n",
      "[980]\tvalidation_0-merror:0.118939\tvalidation_0-mlogloss:0.32338\tvalidation_1-merror:0.193687\tvalidation_1-mlogloss:0.483661\n",
      "[981]\tvalidation_0-merror:0.118855\tvalidation_0-mlogloss:0.323256\tvalidation_1-merror:0.193771\tvalidation_1-mlogloss:0.483658\n",
      "[982]\tvalidation_0-merror:0.118876\tvalidation_0-mlogloss:0.323141\tvalidation_1-merror:0.193519\tvalidation_1-mlogloss:0.483659\n",
      "[983]\tvalidation_0-merror:0.118834\tvalidation_0-mlogloss:0.323047\tvalidation_1-merror:0.19335\tvalidation_1-mlogloss:0.483651\n",
      "[984]\tvalidation_0-merror:0.118771\tvalidation_0-mlogloss:0.322924\tvalidation_1-merror:0.19335\tvalidation_1-mlogloss:0.483654\n",
      "[985]\tvalidation_0-merror:0.118624\tvalidation_0-mlogloss:0.322755\tvalidation_1-merror:0.193098\tvalidation_1-mlogloss:0.483588\n",
      "[986]\tvalidation_0-merror:0.118519\tvalidation_0-mlogloss:0.322613\tvalidation_1-merror:0.193266\tvalidation_1-mlogloss:0.483565\n",
      "[987]\tvalidation_0-merror:0.118455\tvalidation_0-mlogloss:0.322479\tvalidation_1-merror:0.193182\tvalidation_1-mlogloss:0.483574\n",
      "[988]\tvalidation_0-merror:0.118434\tvalidation_0-mlogloss:0.322343\tvalidation_1-merror:0.193182\tvalidation_1-mlogloss:0.483565\n",
      "[989]\tvalidation_0-merror:0.118308\tvalidation_0-mlogloss:0.322208\tvalidation_1-merror:0.193266\tvalidation_1-mlogloss:0.483499\n",
      "[990]\tvalidation_0-merror:0.118392\tvalidation_0-mlogloss:0.322111\tvalidation_1-merror:0.19335\tvalidation_1-mlogloss:0.483455\n"
     ]
    },
    {
     "name": "stdout",
     "output_type": "stream",
     "text": [
      "[991]\tvalidation_0-merror:0.118119\tvalidation_0-mlogloss:0.322032\tvalidation_1-merror:0.19335\tvalidation_1-mlogloss:0.483423\n",
      "[992]\tvalidation_0-merror:0.117971\tvalidation_0-mlogloss:0.321879\tvalidation_1-merror:0.193603\tvalidation_1-mlogloss:0.483428\n",
      "[993]\tvalidation_0-merror:0.117887\tvalidation_0-mlogloss:0.321788\tvalidation_1-merror:0.193519\tvalidation_1-mlogloss:0.483402\n",
      "[994]\tvalidation_0-merror:0.117803\tvalidation_0-mlogloss:0.321647\tvalidation_1-merror:0.193434\tvalidation_1-mlogloss:0.483422\n",
      "[995]\tvalidation_0-merror:0.117614\tvalidation_0-mlogloss:0.321517\tvalidation_1-merror:0.19335\tvalidation_1-mlogloss:0.483483\n",
      "[996]\tvalidation_0-merror:0.117614\tvalidation_0-mlogloss:0.321399\tvalidation_1-merror:0.193434\tvalidation_1-mlogloss:0.483499\n",
      "[997]\tvalidation_0-merror:0.117424\tvalidation_0-mlogloss:0.321272\tvalidation_1-merror:0.193182\tvalidation_1-mlogloss:0.483478\n",
      "[998]\tvalidation_0-merror:0.117466\tvalidation_0-mlogloss:0.321204\tvalidation_1-merror:0.193182\tvalidation_1-mlogloss:0.483422\n",
      "[999]\tvalidation_0-merror:0.117445\tvalidation_0-mlogloss:0.32109\tvalidation_1-merror:0.19335\tvalidation_1-mlogloss:0.483413\n"
     ]
    },
    {
     "data": {
      "text/plain": [
       "XGBClassifier(base_score=0.5, booster='gbtree', colsample_bylevel=1,\n",
       "              colsample_bynode=1, colsample_bytree=0.8, gamma=0,\n",
       "              learning_rate=0.1, max_delta_step=0, max_depth=5,\n",
       "              min_child_weight=1, missing=None, n_estimators=1000, n_jobs=1,\n",
       "              nthread=4, num_class=3, objective='multi:softprob',\n",
       "              random_state=0, reg_alpha=0, reg_lambda=1, scale_pos_weight=1,\n",
       "              seed=27, silent=None, subsample=0.8, verbosity=1)"
      ]
     },
     "execution_count": 62,
     "metadata": {},
     "output_type": "execute_result"
    }
   ],
   "source": [
    "eval_set = [(X_train_split, y_train_split), (X_test_split, y_test_split)]\n",
    "XGB.fit(X_train_split, y_train_split.values.ravel(), eval_metric=[\"merror\", \"mlogloss\"], eval_set=eval_set)"
   ]
  },
  {
   "cell_type": "code",
   "execution_count": 85,
   "metadata": {
    "hidden": true
   },
   "outputs": [
    {
     "ename": "AttributeError",
     "evalue": "'XGBClassifier' object has no attribute 'evals_result_'",
     "output_type": "error",
     "traceback": [
      "\u001b[0;31m---------------------------------------------------------------------------\u001b[0m",
      "\u001b[0;31mAttributeError\u001b[0m                            Traceback (most recent call last)",
      "\u001b[0;32m<ipython-input-85-ba75520a01c9>\u001b[0m in \u001b[0;36m<module>\u001b[0;34m\u001b[0m\n\u001b[1;32m      1\u001b[0m \u001b[0;31m# retrieve performance metrics\u001b[0m\u001b[0;34m\u001b[0m\u001b[0;34m\u001b[0m\u001b[0;34m\u001b[0m\u001b[0m\n\u001b[0;32m----> 2\u001b[0;31m \u001b[0mresults\u001b[0m \u001b[0;34m=\u001b[0m \u001b[0mXGB\u001b[0m\u001b[0;34m.\u001b[0m\u001b[0mevals_result\u001b[0m\u001b[0;34m(\u001b[0m\u001b[0;34m)\u001b[0m\u001b[0;34m\u001b[0m\u001b[0;34m\u001b[0m\u001b[0m\n\u001b[0m\u001b[1;32m      3\u001b[0m \u001b[0mepochs\u001b[0m \u001b[0;34m=\u001b[0m \u001b[0mlen\u001b[0m\u001b[0;34m(\u001b[0m\u001b[0mresults\u001b[0m\u001b[0;34m[\u001b[0m\u001b[0;34m'validation_0'\u001b[0m\u001b[0;34m]\u001b[0m\u001b[0;34m[\u001b[0m\u001b[0;34m'merror'\u001b[0m\u001b[0;34m]\u001b[0m\u001b[0;34m)\u001b[0m\u001b[0;34m\u001b[0m\u001b[0;34m\u001b[0m\u001b[0m\n\u001b[1;32m      4\u001b[0m \u001b[0mx_axis\u001b[0m \u001b[0;34m=\u001b[0m \u001b[0mrange\u001b[0m\u001b[0;34m(\u001b[0m\u001b[0;36m0\u001b[0m\u001b[0;34m,\u001b[0m \u001b[0mepochs\u001b[0m\u001b[0;34m)\u001b[0m\u001b[0;34m\u001b[0m\u001b[0;34m\u001b[0m\u001b[0m\n",
      "\u001b[0;32m~/anaconda3/lib/python3.7/site-packages/xgboost/sklearn.py\u001b[0m in \u001b[0;36mevals_result\u001b[0;34m(self)\u001b[0m\n\u001b[1;32m    874\u001b[0m             'validation_1': {'logloss': ['0.41965', '0.17686']}}\n\u001b[1;32m    875\u001b[0m         \"\"\"\n\u001b[0;32m--> 876\u001b[0;31m         \u001b[0;32mif\u001b[0m \u001b[0mself\u001b[0m\u001b[0;34m.\u001b[0m\u001b[0mevals_result_\u001b[0m\u001b[0;34m:\u001b[0m\u001b[0;34m\u001b[0m\u001b[0;34m\u001b[0m\u001b[0m\n\u001b[0m\u001b[1;32m    877\u001b[0m             \u001b[0mevals_result\u001b[0m \u001b[0;34m=\u001b[0m \u001b[0mself\u001b[0m\u001b[0;34m.\u001b[0m\u001b[0mevals_result_\u001b[0m\u001b[0;34m\u001b[0m\u001b[0;34m\u001b[0m\u001b[0m\n\u001b[1;32m    878\u001b[0m         \u001b[0;32melse\u001b[0m\u001b[0;34m:\u001b[0m\u001b[0;34m\u001b[0m\u001b[0;34m\u001b[0m\u001b[0m\n",
      "\u001b[0;31mAttributeError\u001b[0m: 'XGBClassifier' object has no attribute 'evals_result_'"
     ]
    }
   ],
   "source": [
    "# retrieve performance metrics\n",
    "results = XGB.evals_result()\n",
    "epochs = len(results['validation_0']['merror'])\n",
    "x_axis = range(0, epochs)"
   ]
  },
  {
   "cell_type": "code",
   "execution_count": 82,
   "metadata": {
    "hidden": true
   },
   "outputs": [
    {
     "data": {
      "image/png": "[encoded data removed]",
      "text/plain": [
       "<Figure size 432x288 with 1 Axes>"
      ]
     },
     "metadata": {
      "needs_background": "light"
     },
     "output_type": "display_data"
    }
   ],
   "source": [
    "# plot mlogloss\n",
    "fig, ax = plt.subplots()\n",
    "ax.plot(x_axis, results['validation_0']['mlogloss'], label='Train')\n",
    "ax.plot(x_axis, results['validation_1']['mlogloss'], label='Test')\n",
    "ax.legend()\n",
    "plt.ylabel('Multiple Log Loss')\n",
    "plt.title('XGBoost Mutiple Log Loss')\n",
    "plt.show()"
   ]
  },
  {
   "cell_type": "code",
   "execution_count": 83,
   "metadata": {
    "hidden": true
   },
   "outputs": [
    {
     "data": {
      "text/plain": [
       "Text(0.5, 1.0, 'XGBoost Multiple Classification Error')"
      ]
     },
     "execution_count": 83,
     "metadata": {},
     "output_type": "execute_result"
    },
    {
     "data": {
      "image/png": "[encoded data removed]",
      "text/plain": [
       "<Figure size 432x288 with 1 Axes>"
      ]
     },
     "metadata": {
      "needs_background": "light"
     },
     "output_type": "display_data"
    }
   ],
   "source": [
    "# plot classification merror\n",
    "fig, ax = plt.subplots()\n",
    "ax.plot(x_axis, results['validation_0']['merror'], label='Train')\n",
    "ax.plot(x_axis, results['validation_1']['merror'], label='Test')\n",
    "ax.legend()\n",
    "plt.ylabel('Multiple Classification Error')\n",
    "plt.title('XGBoost Multiple Classification Error')"
   ]
  },
  {
   "cell_type": "code",
   "execution_count": 66,
   "metadata": {
    "hidden": true
   },
   "outputs": [
    {
     "data": {
      "text/plain": [
       "{'n_estimators': 650}"
      ]
     },
     "execution_count": 66,
     "metadata": {},
     "output_type": "execute_result"
    }
   ],
   "source": [
    "#Tuneing n_estimators\n",
    "param_grid = [{\n",
    "    \"n_estimators\" : [550, 600, 650]\n",
    "}]\n",
    "\n",
    "clf = GridSearchCV(XGB, param_grid=param_grid, scoring = \"accuracy\", cv = 5)\n",
    "clf.fit(dtrain[predictors], dtrain['status_group'])\n",
    "clf.best_params_"
   ]
  },
  {
   "cell_type": "code",
   "execution_count": 67,
   "metadata": {
    "hidden": true
   },
   "outputs": [
    {
     "data": {
      "text/plain": [
       "{'max_depth': 9, 'min_child_weight': 1}"
      ]
     },
     "execution_count": 67,
     "metadata": {},
     "output_type": "execute_result"
    }
   ],
   "source": [
    "#Tuneing max_depth, min_child_weight\n",
    "#Using n_estimators found above\n",
    "param_grid = [{\n",
    "    \"max_depth\" : range(3, 10, 2),\n",
    "    \"min_child_weight\" : range(1, 6, 2)\n",
    "}]\n",
    "\n",
    "#Filtering Warnings\n",
    "XGB = XGBClassifier(learning_rate=0.1,\n",
    "                    n_estimators=650,\n",
    "                    gamma = 0,\n",
    "                    subsample=0.8,\n",
    "                    colsample_bytree=0.8,\n",
    "                    nthread=4,\n",
    "                    scale_pos_weight=1,\n",
    "                    seed=27,\n",
    "                    objective=\"multi:softmax\",\n",
    "                    num_class = 3)\n",
    "\n",
    "clf = GridSearchCV(XGB, param_grid=param_grid, scoring = \"balanced_accuracy\", cv = 5)\n",
    "clf.fit(dtrain[predictors], dtrain['status_group'])\n",
    "clf.best_params_"
   ]
  },
  {
   "cell_type": "code",
   "execution_count": 68,
   "metadata": {
    "hidden": true
   },
   "outputs": [],
   "source": [
    "XGB = XGBClassifier(learning_rate=0.1,\n",
    "                    n_estimators=650,\n",
    "                    max_depth = 9,\n",
    "                    min_child_weight= 1,\n",
    "                    gamma = 0,\n",
    "                    subsample=0.8,\n",
    "                    colsample_bytree=0.8,\n",
    "                    nthread=4,\n",
    "                    scale_pos_weight=1,\n",
    "                    seed=27,\n",
    "                    objective=\"multi:softmax\",\n",
    "                    num_class = 3)"
   ]
  },
  {
   "cell_type": "code",
   "execution_count": 70,
   "metadata": {
    "hidden": true
   },
   "outputs": [
    {
     "name": "stdout",
     "output_type": "stream",
     "text": [
      "\n",
      "Model Report\n",
      "\tAccuracy : 0.910842\n",
      "\tConfusion Matrix : \n",
      "[[31362   172   725]\n",
      " [ 1340  2678   299]\n",
      " [ 2641   119 20064]]\n",
      "\tCV Merror rate Training: Mean = 0.13 | Std = 0.001252 \n",
      " \t\t Min = 0.07774\n",
      "\tCV Merror rate Testing: Mean = 0.1972 | Std = 0.00265 \n",
      " \t\t Min = 0.1875\n"
     ]
    },
    {
     "data": {
      "image/png": "[encoded data removed]",
      "text/plain": [
       "<Figure size 1080x720 with 1 Axes>"
      ]
     },
     "metadata": {
      "needs_background": "light"
     },
     "output_type": "display_data"
    }
   ],
   "source": [
    "modelfit_xgb(XGB, dtrain, predictors, 'status_group', objective = 'class', eval_metric=metrics.balanced_accuracy_score)"
   ]
  },
  {
   "cell_type": "markdown",
   "metadata": {
    "hidden": true
   },
   "source": [
    "#### Predictions"
   ]
  },
  {
   "cell_type": "code",
   "execution_count": 75,
   "metadata": {
    "hidden": true
   },
   "outputs": [],
   "source": [
    "le = LabelEncoder()"
   ]
  },
  {
   "cell_type": "code",
   "execution_count": 76,
   "metadata": {
    "hidden": true
   },
   "outputs": [
    {
     "data": {
      "text/plain": [
       "LabelEncoder()"
      ]
     },
     "execution_count": 76,
     "metadata": {},
     "output_type": "execute_result"
    }
   ],
   "source": [
    "le.fit(y_train['status_group'])"
   ]
  },
  {
   "cell_type": "markdown",
   "metadata": {
    "hidden": true
   },
   "source": [
    "**Pred 1**"
   ]
  },
  {
   "cell_type": "markdown",
   "metadata": {
    "hidden": true
   },
   "source": [
    "This first set of predictions is built using the XGB model with the following parameters:\n",
    "+ learning_rate=0.1\n",
    "+ n_estimators=1250\n",
    "+ max_depth=5\n",
    "+ min_child_weight=1\n",
    "+ gamma = 0\n",
    "+ subsample=0.8\n",
    "+ colsample_bytree=0.8\n",
    "+ nthread=4\n",
    "+ scale_pos_weight=1\n",
    "+ seed=27\n",
    "+ objective=\"multi:softmax\"\n",
    "+ num_class = 3"
   ]
  },
  {
   "cell_type": "code",
   "execution_count": null,
   "metadata": {
    "deletable": false,
    "editable": false,
    "hidden": true,
    "run_control": {
     "frozen": true
    }
   },
   "outputs": [],
   "source": [
    "XGB.fit(X_train[predictors], y_train['status_group'])"
   ]
  },
  {
   "cell_type": "code",
   "execution_count": null,
   "metadata": {
    "deletable": false,
    "editable": false,
    "hidden": true,
    "run_control": {
     "frozen": true
    }
   },
   "outputs": [],
   "source": [
    "preds = XGB.predict(Final_test.iloc[:, 1:])\n",
    "preds_df = pd.concat([Final_test['id'], pd.Series(preds, name = 'status_group')], axis = 1)\n",
    "preds_df.to_csv(\"Data/Preds/Pred_XGB_1.csv\", index = False)"
   ]
  },
  {
   "cell_type": "markdown",
   "metadata": {
    "hidden": true
   },
   "source": [
    "**Pred 2**"
   ]
  },
  {
   "cell_type": "markdown",
   "metadata": {
    "hidden": true
   },
   "source": [
    "This set of predictions is built using the XGB model with the following parameters:\n",
    "+ learning_rate=0.1\n",
    "+ n_estimators=1500\n",
    "+ max_depth = 7\n",
    "+ min_child_weight= 3\n",
    "+ gamma = 0\n",
    "+ subsample=0.8\n",
    "+ colsample_bytree=0.8\n",
    "+ nthread=4\n",
    "+ scale_pos_weight=1\n",
    "+ seed=27\n",
    "+ objective=\"multi:softmax\"\n",
    "+ num_class = 3"
   ]
  },
  {
   "cell_type": "code",
   "execution_count": null,
   "metadata": {
    "deletable": false,
    "editable": false,
    "hidden": true,
    "run_control": {
     "frozen": true
    }
   },
   "outputs": [],
   "source": [
    "XGB.fit(dtrain[predictors], dtrain['status_group'])"
   ]
  },
  {
   "cell_type": "code",
   "execution_count": null,
   "metadata": {
    "deletable": false,
    "editable": false,
    "hidden": true,
    "run_control": {
     "frozen": true
    }
   },
   "outputs": [],
   "source": [
    "preds = XGB.predict(Final_test.iloc[:, 1:])\n",
    "preds_df = pd.concat([Final_test['id'], pd.Series(preds, name = 'status_group')], axis = 1)\n",
    "preds_df.to_csv(\"Data/Preds/Pred_XGB_2.csv\", index = False)"
   ]
  },
  {
   "cell_type": "markdown",
   "metadata": {
    "hidden": true
   },
   "source": [
    "**Pred 3**"
   ]
  },
  {
   "cell_type": "markdown",
   "metadata": {
    "hidden": true
   },
   "source": [
    "This set of predictions is built using the XGB model with the following parameters:\n",
    "+ learning_rate=0.1\n",
    "+ n_estimators=650\n",
    "+ max_depth = 9\n",
    "+ min_child_weight= 1\n",
    "+ gamma = 0\n",
    "+ subsample=0.8\n",
    "+ colsample_bytree=0.8\n",
    "+ nthread=4\n",
    "+ scale_pos_weight=1\n",
    "+ seed=27\n",
    "+ objective=\"multi:softmax\"\n",
    "+ num_class = 3"
   ]
  },
  {
   "cell_type": "code",
   "execution_count": 73,
   "metadata": {
    "deletable": false,
    "editable": false,
    "hidden": true,
    "run_control": {
     "frozen": true
    }
   },
   "outputs": [
    {
     "data": {
      "text/plain": [
       "XGBClassifier(base_score=0.5, booster='gbtree', colsample_bylevel=1,\n",
       "              colsample_bynode=1, colsample_bytree=0.8, gamma=0,\n",
       "              learning_rate=0.1, max_delta_step=0, max_depth=9,\n",
       "              min_child_weight=1, missing=None, n_estimators=287, n_jobs=1,\n",
       "              nthread=4, num_class=3, objective='multi:softprob',\n",
       "              random_state=0, reg_alpha=0, reg_lambda=1, scale_pos_weight=1,\n",
       "              seed=27, silent=None, subsample=0.8, verbosity=1)"
      ]
     },
     "execution_count": 73,
     "metadata": {},
     "output_type": "execute_result"
    }
   ],
   "source": [
    "XGB.fit(dtrain[predictors], dtrain['status_group'])"
   ]
  },
  {
   "cell_type": "code",
   "execution_count": 80,
   "metadata": {
    "deletable": false,
    "editable": false,
    "hidden": true,
    "run_control": {
     "frozen": true
    }
   },
   "outputs": [],
   "source": [
    "preds = XGB.predict(Final_test.iloc[:, 1:])\n",
    "preds = le.inverse_transform(preds)\n",
    "preds_df = pd.concat([Final_test['id'], pd.Series(preds, name = 'status_group')], axis = 1)\n",
    "preds_df.to_csv(\"Data/Preds/Pred_XGB_3.csv\", index = False)"
   ]
  },
  {
   "cell_type": "code",
   "execution_count": null,
   "metadata": {
    "hidden": true
   },
   "outputs": [],
   "source": []
  },
  {
   "cell_type": "markdown",
   "metadata": {},
   "source": [
    "## Modeling Conclusion"
   ]
  },
  {
   "cell_type": "code",
   "execution_count": null,
   "metadata": {},
   "outputs": [],
   "source": []
  }
 ],
 "metadata": {
  "kernelspec": {
   "display_name": "Python 3",
   "language": "python",
   "name": "python3"
  },
  "language_info": {
   "codemirror_mode": {
    "name": "ipython",
    "version": 3
   },
   "file_extension": ".py",
   "mimetype": "text/x-python",
   "name": "python",
   "nbconvert_exporter": "python",
   "pygments_lexer": "ipython3",
   "version": "3.7.3"
  },
  "toc": {
   "base_numbering": 1,
   "nav_menu": {},
   "number_sections": true,
   "sideBar": true,
   "skip_h1_title": true,
   "title_cell": "Table of Contents",
   "title_sidebar": "Contents",
   "toc_cell": true,
   "toc_position": {},
   "toc_section_display": true,
   "toc_window_display": false
  },
  "varInspector": {
   "cols": {
    "lenName": 16,
    "lenType": 16,
    "lenVar": 40
   },
   "kernels_config": {
    "python": {
     "delete_cmd_postfix": "",
     "delete_cmd_prefix": "del ",
     "library": "var_list.py",
     "varRefreshCmd": "print(var_dic_list())"
    },
    "r": {
     "delete_cmd_postfix": ") ",
     "delete_cmd_prefix": "rm(",
     "library": "var_list.r",
     "varRefreshCmd": "cat(var_dic_list()) "
    }
   },
   "types_to_exclude": [
    "module",
    "function",
    "builtin_function_or_method",
    "instance",
    "_Feature"
   ],
   "window_display": false
  }
 },
 "nbformat": 4,
 "nbformat_minor": 2
}
